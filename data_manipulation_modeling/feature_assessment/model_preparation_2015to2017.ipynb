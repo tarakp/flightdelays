{
  "nbformat": 4,
  "nbformat_minor": 0,
  "metadata": {
    "kernel_info": {
      "name": "dev"
    },
    "kernelspec": {
      "name": "python3",
      "display_name": "Python 3.7.9 64-bit ('PythonDataV2': conda)"
    },
    "language_info": {
      "codemirror_mode": {
        "name": "ipython",
        "version": 3
      },
      "file_extension": ".py",
      "mimetype": "text/x-python",
      "name": "python",
      "nbconvert_exporter": "python",
      "pygments_lexer": "ipython3",
      "version": "3.7.9"
    },
    "nteract": {
      "version": "0.12.3"
    },
    "interpreter": {
      "hash": "7145387fd502c2a792381ef9ef58718f99f5f6cce2c67dc36e296264320f59ee"
    },
    "colab": {
      "name": "model_preparation_2015to2017.ipynb",
      "provenance": [],
      "include_colab_link": true
    }
  },
  "cells": [
    {
      "cell_type": "markdown",
      "metadata": {
        "id": "view-in-github",
        "colab_type": "text"
      },
      "source": [
        "<a href=\"https://colab.research.google.com/github/NicoleLund/flight_delay_prediction/blob/model_prep_210819/data_manipulation_modeling/feature_assessment/model_preparation_2015to2017.ipynb\" target=\"_parent\"><img src=\"https://colab.research.google.com/assets/colab-badge.svg\" alt=\"Open In Colab\"/></a>"
      ]
    },
    {
      "cell_type": "markdown",
      "metadata": {
        "id": "0G6gj1vRR48a"
      },
      "source": [
        "# model_preparation_2015to2017\n",
        "----\n",
        "\n",
        "Written in Google Colab\n",
        "\n",
        "By Nicole Lund \n",
        "\n",
        "This workbook investigates prepares 2017 flight performance for models."
      ]
    },
    {
      "cell_type": "code",
      "metadata": {
        "id": "byo9Yx__R48d"
      },
      "source": [
        "# Import Dependencies\n",
        "\n",
        "# Plotting\n",
        "%matplotlib inline\n",
        "import matplotlib.pyplot as plt\n",
        "\n",
        "# Data manipulation\n",
        "import numpy as np\n",
        "import pandas as pd\n",
        "from statistics import mean\n",
        "from operator import itemgetter\n",
        "from sklearn.model_selection import train_test_split\n",
        "from sklearn.preprocessing import LabelEncoder, MinMaxScaler, OneHotEncoder\n",
        "from tensorflow.keras.utils import to_categorical\n",
        "\n",
        "# Parameter Selection\n",
        "from sklearn import tree\n",
        "from sklearn.ensemble import RandomForestClassifier\n",
        "from sklearn.model_selection import GridSearchCV\n",
        "\n",
        "# Model Development\n",
        "from sklearn.linear_model import LinearRegression\n",
        "from sklearn.linear_model import LogisticRegression\n",
        "from sklearn.svm import SVC \n",
        "from tensorflow import keras\n",
        "from tensorflow.keras.models import Sequential\n",
        "from tensorflow.keras.layers import Dense\n",
        "from tensorflow.keras.layers import Dropout\n",
        "from tensorflow.keras.wrappers.scikit_learn import KerasClassifier\n",
        "\n",
        "# Model Metrics\n",
        "from sklearn.metrics import classification_report\n",
        "\n",
        "# Save/load files\n",
        "from tensorflow.keras.models import load_model\n",
        "import joblib\n",
        "from google.colab import files\n",
        "\n",
        "# # Ignore deprecation warnings\n",
        "# import warnings\n",
        "# warnings.simplefilter('ignore', FutureWarning)"
      ],
      "execution_count": 1,
      "outputs": []
    },
    {
      "cell_type": "code",
      "metadata": {
        "id": "8un601m2R48e"
      },
      "source": [
        "# Set the seed value for the notebook, so the results are reproducible\n",
        "from numpy.random import seed\n",
        "seed(1)"
      ],
      "execution_count": 2,
      "outputs": []
    },
    {
      "cell_type": "markdown",
      "metadata": {
        "id": "h2XPthEaR48e"
      },
      "source": [
        "# Read the clean CSV"
      ]
    },
    {
      "cell_type": "code",
      "metadata": {
        "id": "mm3X5XtRH3Rx"
      },
      "source": [
        "dtype_definition={ \\\n",
        "    'CRS_DEP_TIME': int, \\\n",
        "    # 'DEP_TIME': int, \\\n",
        "    # 'DEP_DELAY': int, \\\n",
        "    # 'TAXI_OUT': int, \\\n",
        "    # 'WHEELS_OFF': int, \\\n",
        "    # 'WHEELS_ON': int, \\\n",
        "    # 'TAXI_IN': int, \\\n",
        "    'CRS_ARR_TIME': int, \\\n",
        "    # 'ARR_TIME': int, \\\n",
        "    # 'ARR_DELAY': int, \\\n",
        "    'CANCELLED': int, \\\n",
        "    'CANCELLATION_CODE': str, \\\n",
        "    'DIVERTED': int, \\\n",
        "    'CRS_ELAPSED_TIME': int, \\\n",
        "    # 'ACTUAL_ELAPSED_TIME': int, \\\n",
        "    # 'AIR_TIME': int, \\\n",
        "    'DISTANCE': int, \\\n",
        "    # 'CARRIER_DELAY': int, \\\n",
        "    # 'WEATHER_DELAY': int, \\\n",
        "    # 'NAS_DELAY': int, \\\n",
        "    # 'SECURITY_DELAY': int, \\\n",
        "    # 'LATE_AIRCRAFT_DELAY': int, \\\n",
        "    'DELAY': int}"
      ],
      "execution_count": 40,
      "outputs": []
    },
    {
      "cell_type": "code",
      "metadata": {
        "id": "6sAlS5XWR48e"
      },
      "source": [
        "# Read the CSV file from AWS to Pandas Dataframe\n",
        "df_2015 = pd.read_csv(\"https://finalproject-3.s3.us-west-1.amazonaws.com/2015_TUS.csv\", dtype=dtype_definition)\n",
        "df_2016 = pd.read_csv(\"https://finalproject-3.s3.us-west-1.amazonaws.com/2016_TUS.csv\", dtype=dtype_definition)\n",
        "df_2017 = pd.read_csv(\"https://finalproject-3.s3.us-west-1.amazonaws.com/2017_TUS.csv\", dtype=dtype_definition)"
      ],
      "execution_count": 43,
      "outputs": []
    },
    {
      "cell_type": "code",
      "metadata": {
        "id": "k7VzsdLuKPcN"
      },
      "source": [
        "# Append DataFrames together\n",
        "df_1 = df_2015.append(df_2016)\n",
        "df = df_1.append(df_2017)"
      ],
      "execution_count": 44,
      "outputs": []
    },
    {
      "cell_type": "code",
      "metadata": {
        "colab": {
          "base_uri": "https://localhost:8080/"
        },
        "id": "yifvjJihGw76",
        "outputId": "4d052e29-a78d-425d-c8f2-da6a74206e3e"
      },
      "source": [
        "df.info()"
      ],
      "execution_count": 45,
      "outputs": [
        {
          "output_type": "stream",
          "text": [
            "<class 'pandas.core.frame.DataFrame'>\n",
            "Int64Index: 47917 entries, 0 to 15405\n",
            "Data columns (total 37 columns):\n",
            " #   Column               Non-Null Count  Dtype  \n",
            "---  ------               --------------  -----  \n",
            " 0   origin_city_name     47917 non-null  object \n",
            " 1   dest_city_name       47917 non-null  object \n",
            " 2   FL_DATE              47917 non-null  object \n",
            " 3   OP_CARRIER           47917 non-null  object \n",
            " 4   OP_CARRIER_FL_NUM    47917 non-null  int64  \n",
            " 5   ORIGIN               47917 non-null  object \n",
            " 6   DEST                 47917 non-null  object \n",
            " 7   CRS_DEP_TIME         47917 non-null  int64  \n",
            " 8   DEP_TIME             47538 non-null  float64\n",
            " 9   DEP_DELAY            47538 non-null  float64\n",
            " 10  TAXI_OUT             47516 non-null  float64\n",
            " 11  WHEELS_OFF           47516 non-null  float64\n",
            " 12  WHEELS_ON            47503 non-null  float64\n",
            " 13  TAXI_IN              47503 non-null  float64\n",
            " 14  CRS_ARR_TIME         47917 non-null  int64  \n",
            " 15  ARR_TIME             47503 non-null  float64\n",
            " 16  ARR_DELAY            47394 non-null  float64\n",
            " 17  CANCELLED            47917 non-null  int64  \n",
            " 18  CANCELLATION_CODE    405 non-null    object \n",
            " 19  DIVERTED             47917 non-null  int64  \n",
            " 20  CRS_ELAPSED_TIME     47917 non-null  int64  \n",
            " 21  ACTUAL_ELAPSED_TIME  47394 non-null  float64\n",
            " 22  AIR_TIME             47394 non-null  float64\n",
            " 23  DISTANCE             47917 non-null  int64  \n",
            " 24  CARRIER_DELAY        7449 non-null   float64\n",
            " 25  WEATHER_DELAY        7449 non-null   float64\n",
            " 26  NAS_DELAY            7449 non-null   float64\n",
            " 27  SECURITY_DELAY       7449 non-null   float64\n",
            " 28  LATE_AIRCRAFT_DELAY  7449 non-null   float64\n",
            " 29  CRS_DEP_HM           47917 non-null  object \n",
            " 30  DEP_TIME_HM          47538 non-null  object \n",
            " 31  WHEELS_OFF_HM        47516 non-null  object \n",
            " 32  WHEELS_ON_HM         47503 non-null  object \n",
            " 33  CRS_ARR_TIME_HM      47917 non-null  object \n",
            " 34  ARR_TIME_HM          47503 non-null  object \n",
            " 35  day_of_week          47917 non-null  object \n",
            " 36  DELAY                47917 non-null  int64  \n",
            "dtypes: float64(15), int64(8), object(14)\n",
            "memory usage: 13.9+ MB\n"
          ],
          "name": "stdout"
        }
      ]
    },
    {
      "cell_type": "markdown",
      "metadata": {
        "id": "4xVuJisFR48g"
      },
      "source": [
        "# Pre-processing"
      ]
    },
    {
      "cell_type": "code",
      "metadata": {
        "colab": {
          "base_uri": "https://localhost:8080/"
        },
        "id": "2mvarRxcR48g",
        "outputId": "8a25aba4-704a-4ebc-e690-cc5c7b9782c3"
      },
      "source": [
        "# Split dataframe into X and y\n",
        "# Define model variables\n",
        "\n",
        "# Model input\n",
        "X_categorical_df = df[['OP_CARRIER', 'day_of_week', 'DEST']]\n",
        "X_numeric_df = df[['OP_CARRIER_FL_NUM', 'CRS_DEP_TIME', 'CRS_ARR_TIME', 'DISTANCE']]\n",
        "X_numeric_df.DISTANCE = X_numeric_df.DISTANCE.astype(int)\n",
        "\n",
        "# Model output\n",
        "y_df = df[['CANCELLED', 'DIVERTED', 'DELAY']]\n",
        "y_df.CANCELLED = y_df.CANCELLED.astype(int)\n",
        "y_df.DIVERTED = y_df.DIVERTED.astype(int)"
      ],
      "execution_count": 46,
      "outputs": [
        {
          "output_type": "stream",
          "text": [
            "/usr/local/lib/python3.7/dist-packages/pandas/core/generic.py:5170: SettingWithCopyWarning: \n",
            "A value is trying to be set on a copy of a slice from a DataFrame.\n",
            "Try using .loc[row_indexer,col_indexer] = value instead\n",
            "\n",
            "See the caveats in the documentation: https://pandas.pydata.org/pandas-docs/stable/user_guide/indexing.html#returning-a-view-versus-a-copy\n",
            "  self[name] = value\n"
          ],
          "name": "stderr"
        }
      ]
    },
    {
      "cell_type": "code",
      "metadata": {
        "colab": {
          "base_uri": "https://localhost:8080/",
          "height": 326
        },
        "id": "CdNAGF5XVwQ6",
        "outputId": "c727831a-b58a-41a0-fa71-e1b2d1a9ee06"
      },
      "source": [
        "# Review model output\n",
        "print(y_df.info())\n",
        "y_df.head(3)"
      ],
      "execution_count": 47,
      "outputs": [
        {
          "output_type": "stream",
          "text": [
            "<class 'pandas.core.frame.DataFrame'>\n",
            "Int64Index: 47917 entries, 0 to 15405\n",
            "Data columns (total 3 columns):\n",
            " #   Column     Non-Null Count  Dtype\n",
            "---  ------     --------------  -----\n",
            " 0   CANCELLED  47917 non-null  int64\n",
            " 1   DIVERTED   47917 non-null  int64\n",
            " 2   DELAY      47917 non-null  int64\n",
            "dtypes: int64(3)\n",
            "memory usage: 1.5 MB\n",
            "None\n"
          ],
          "name": "stdout"
        },
        {
          "output_type": "execute_result",
          "data": {
            "text/html": [
              "<div>\n",
              "<style scoped>\n",
              "    .dataframe tbody tr th:only-of-type {\n",
              "        vertical-align: middle;\n",
              "    }\n",
              "\n",
              "    .dataframe tbody tr th {\n",
              "        vertical-align: top;\n",
              "    }\n",
              "\n",
              "    .dataframe thead th {\n",
              "        text-align: right;\n",
              "    }\n",
              "</style>\n",
              "<table border=\"1\" class=\"dataframe\">\n",
              "  <thead>\n",
              "    <tr style=\"text-align: right;\">\n",
              "      <th></th>\n",
              "      <th>CANCELLED</th>\n",
              "      <th>DIVERTED</th>\n",
              "      <th>DELAY</th>\n",
              "    </tr>\n",
              "  </thead>\n",
              "  <tbody>\n",
              "    <tr>\n",
              "      <th>0</th>\n",
              "      <td>0</td>\n",
              "      <td>0</td>\n",
              "      <td>0</td>\n",
              "    </tr>\n",
              "    <tr>\n",
              "      <th>1</th>\n",
              "      <td>0</td>\n",
              "      <td>0</td>\n",
              "      <td>0</td>\n",
              "    </tr>\n",
              "    <tr>\n",
              "      <th>2</th>\n",
              "      <td>0</td>\n",
              "      <td>0</td>\n",
              "      <td>0</td>\n",
              "    </tr>\n",
              "  </tbody>\n",
              "</table>\n",
              "</div>"
            ],
            "text/plain": [
              "   CANCELLED  DIVERTED  DELAY\n",
              "0          0         0      0\n",
              "1          0         0      0\n",
              "2          0         0      0"
            ]
          },
          "metadata": {},
          "execution_count": 47
        }
      ]
    },
    {
      "cell_type": "code",
      "metadata": {
        "colab": {
          "base_uri": "https://localhost:8080/",
          "height": 343
        },
        "id": "lQJv7IovUTMx",
        "outputId": "3a14f35e-5a15-4a88-fa9b-20e3ee8dbefe"
      },
      "source": [
        "# Review model numeric input\n",
        "print(X_numeric_df.info())\n",
        "X_numeric_df.head(3)"
      ],
      "execution_count": 48,
      "outputs": [
        {
          "output_type": "stream",
          "text": [
            "<class 'pandas.core.frame.DataFrame'>\n",
            "Int64Index: 47917 entries, 0 to 15405\n",
            "Data columns (total 4 columns):\n",
            " #   Column             Non-Null Count  Dtype\n",
            "---  ------             --------------  -----\n",
            " 0   OP_CARRIER_FL_NUM  47917 non-null  int64\n",
            " 1   CRS_DEP_TIME       47917 non-null  int64\n",
            " 2   CRS_ARR_TIME       47917 non-null  int64\n",
            " 3   DISTANCE           47917 non-null  int64\n",
            "dtypes: int64(4)\n",
            "memory usage: 1.8 MB\n",
            "None\n"
          ],
          "name": "stdout"
        },
        {
          "output_type": "execute_result",
          "data": {
            "text/html": [
              "<div>\n",
              "<style scoped>\n",
              "    .dataframe tbody tr th:only-of-type {\n",
              "        vertical-align: middle;\n",
              "    }\n",
              "\n",
              "    .dataframe tbody tr th {\n",
              "        vertical-align: top;\n",
              "    }\n",
              "\n",
              "    .dataframe thead th {\n",
              "        text-align: right;\n",
              "    }\n",
              "</style>\n",
              "<table border=\"1\" class=\"dataframe\">\n",
              "  <thead>\n",
              "    <tr style=\"text-align: right;\">\n",
              "      <th></th>\n",
              "      <th>OP_CARRIER_FL_NUM</th>\n",
              "      <th>CRS_DEP_TIME</th>\n",
              "      <th>CRS_ARR_TIME</th>\n",
              "      <th>DISTANCE</th>\n",
              "    </tr>\n",
              "  </thead>\n",
              "  <tbody>\n",
              "    <tr>\n",
              "      <th>0</th>\n",
              "      <td>1240</td>\n",
              "      <td>1358</td>\n",
              "      <td>1923</td>\n",
              "      <td>1541</td>\n",
              "    </tr>\n",
              "    <tr>\n",
              "      <th>1</th>\n",
              "      <td>1240</td>\n",
              "      <td>1358</td>\n",
              "      <td>1923</td>\n",
              "      <td>1541</td>\n",
              "    </tr>\n",
              "    <tr>\n",
              "      <th>2</th>\n",
              "      <td>1487</td>\n",
              "      <td>700</td>\n",
              "      <td>1221</td>\n",
              "      <td>1541</td>\n",
              "    </tr>\n",
              "  </tbody>\n",
              "</table>\n",
              "</div>"
            ],
            "text/plain": [
              "   OP_CARRIER_FL_NUM  CRS_DEP_TIME  CRS_ARR_TIME  DISTANCE\n",
              "0               1240          1358          1923      1541\n",
              "1               1240          1358          1923      1541\n",
              "2               1487           700          1221      1541"
            ]
          },
          "metadata": {},
          "execution_count": 48
        }
      ]
    },
    {
      "cell_type": "code",
      "metadata": {
        "colab": {
          "base_uri": "https://localhost:8080/",
          "height": 326
        },
        "id": "4s_93gLRdNWi",
        "outputId": "61f587c3-607f-4ee2-b736-902830cf1b1f"
      },
      "source": [
        "# Review model categorical input\n",
        "print(X_categorical_df.info())\n",
        "X_categorical_df.head(3)"
      ],
      "execution_count": 49,
      "outputs": [
        {
          "output_type": "stream",
          "text": [
            "<class 'pandas.core.frame.DataFrame'>\n",
            "Int64Index: 47917 entries, 0 to 15405\n",
            "Data columns (total 3 columns):\n",
            " #   Column       Non-Null Count  Dtype \n",
            "---  ------       --------------  ----- \n",
            " 0   OP_CARRIER   47917 non-null  object\n",
            " 1   day_of_week  47917 non-null  object\n",
            " 2   DEST         47917 non-null  object\n",
            "dtypes: object(3)\n",
            "memory usage: 1.5+ MB\n",
            "None\n"
          ],
          "name": "stdout"
        },
        {
          "output_type": "execute_result",
          "data": {
            "text/html": [
              "<div>\n",
              "<style scoped>\n",
              "    .dataframe tbody tr th:only-of-type {\n",
              "        vertical-align: middle;\n",
              "    }\n",
              "\n",
              "    .dataframe tbody tr th {\n",
              "        vertical-align: top;\n",
              "    }\n",
              "\n",
              "    .dataframe thead th {\n",
              "        text-align: right;\n",
              "    }\n",
              "</style>\n",
              "<table border=\"1\" class=\"dataframe\">\n",
              "  <thead>\n",
              "    <tr style=\"text-align: right;\">\n",
              "      <th></th>\n",
              "      <th>OP_CARRIER</th>\n",
              "      <th>day_of_week</th>\n",
              "      <th>DEST</th>\n",
              "    </tr>\n",
              "  </thead>\n",
              "  <tbody>\n",
              "    <tr>\n",
              "      <th>0</th>\n",
              "      <td>DL</td>\n",
              "      <td>Thursday</td>\n",
              "      <td>ATL</td>\n",
              "    </tr>\n",
              "    <tr>\n",
              "      <th>1</th>\n",
              "      <td>DL</td>\n",
              "      <td>Friday</td>\n",
              "      <td>ATL</td>\n",
              "    </tr>\n",
              "    <tr>\n",
              "      <th>2</th>\n",
              "      <td>DL</td>\n",
              "      <td>Friday</td>\n",
              "      <td>ATL</td>\n",
              "    </tr>\n",
              "  </tbody>\n",
              "</table>\n",
              "</div>"
            ],
            "text/plain": [
              "  OP_CARRIER day_of_week DEST\n",
              "0         DL    Thursday  ATL\n",
              "1         DL      Friday  ATL\n",
              "2         DL      Friday  ATL"
            ]
          },
          "metadata": {},
          "execution_count": 49
        }
      ]
    },
    {
      "cell_type": "code",
      "metadata": {
        "colab": {
          "base_uri": "https://localhost:8080/"
        },
        "id": "cgEJEqyQbY9X",
        "outputId": "4b33685a-59b5-4342-dfde-425f2ba909c8"
      },
      "source": [
        "# Get categories for one hot encoder\n",
        "carriers = pd.unique(X_categorical_df.OP_CARRIER)\n",
        "day = pd.unique(X_categorical_df.day_of_week)\n",
        "destination = pd.unique(X_categorical_df.DEST)\n",
        "print(carriers)\n",
        "print(day)\n",
        "print(destination)"
      ],
      "execution_count": 50,
      "outputs": [
        {
          "output_type": "stream",
          "text": [
            "['DL' 'OO' 'WN' 'EV' 'UA' 'AA' 'US' 'AS']\n",
            "['Thursday' 'Friday' 'Saturday' 'Sunday' 'Monday' 'Tuesday' 'Wednesday']\n",
            "['ATL' 'DEN' 'DFW' 'HOU' 'IAH' 'LAS' 'LAX' 'MDW' 'MSP' 'ORD' 'PDX' 'PHX'\n",
            " 'SAN' 'SEA' 'SFO' 'SLC' 'JFK' 'OAK' 'SJC']\n"
          ],
          "name": "stdout"
        }
      ]
    },
    {
      "cell_type": "code",
      "metadata": {
        "id": "q83aKPc4v4ti"
      },
      "source": [
        "column_names = ['DL', 'OO', 'WN', 'EV', 'UA', 'AA', 'US', 'AS', \\\n",
        " 'Thursday', 'Friday', 'Saturday', 'Sunday', 'Monday', 'Tuesday', 'Wednesday', \\\n",
        " 'ATL', 'DEN', 'DFW', 'HOU', 'IAH', 'LAS', 'LAX', 'MDW', 'MSP', 'ORD', 'PDX', 'PHX', \\\n",
        " 'SAN', 'SEA', 'SFO', 'SLC', 'JFK', 'OAK', 'SJC']"
      ],
      "execution_count": 51,
      "outputs": []
    },
    {
      "cell_type": "code",
      "metadata": {
        "colab": {
          "base_uri": "https://localhost:8080/"
        },
        "id": "Yvwq5SFIbvKd",
        "outputId": "bd726e0d-6c17-4e14-b657-637eded7e5a0"
      },
      "source": [
        "# One-hot-encode text object fields\n",
        "encoder = OneHotEncoder(categories=[carriers,day,destination])\n",
        "encoder.fit(X_categorical_df)\n",
        "X_encoded = encoder.transform(X_categorical_df)\n",
        "X_encoded.toarray()"
      ],
      "execution_count": 52,
      "outputs": [
        {
          "output_type": "execute_result",
          "data": {
            "text/plain": [
              "array([[1., 0., 0., ..., 0., 0., 0.],\n",
              "       [1., 0., 0., ..., 0., 0., 0.],\n",
              "       [1., 0., 0., ..., 0., 0., 0.],\n",
              "       ...,\n",
              "       [0., 1., 0., ..., 0., 0., 0.],\n",
              "       [0., 1., 0., ..., 0., 0., 0.],\n",
              "       [0., 1., 0., ..., 0., 0., 0.]])"
            ]
          },
          "metadata": {},
          "execution_count": 52
        }
      ]
    },
    {
      "cell_type": "code",
      "metadata": {
        "colab": {
          "base_uri": "https://localhost:8080/",
          "height": 162
        },
        "id": "9GMmBu_ug2zR",
        "outputId": "86872284-e0ee-4a9d-8372-6c33feddaa58"
      },
      "source": [
        "X_encoded_df = pd.DataFrame(X_encoded.toarray(), columns=column_names)\n",
        "X_encoded_df.head(3)"
      ],
      "execution_count": 53,
      "outputs": [
        {
          "output_type": "execute_result",
          "data": {
            "text/html": [
              "<div>\n",
              "<style scoped>\n",
              "    .dataframe tbody tr th:only-of-type {\n",
              "        vertical-align: middle;\n",
              "    }\n",
              "\n",
              "    .dataframe tbody tr th {\n",
              "        vertical-align: top;\n",
              "    }\n",
              "\n",
              "    .dataframe thead th {\n",
              "        text-align: right;\n",
              "    }\n",
              "</style>\n",
              "<table border=\"1\" class=\"dataframe\">\n",
              "  <thead>\n",
              "    <tr style=\"text-align: right;\">\n",
              "      <th></th>\n",
              "      <th>DL</th>\n",
              "      <th>OO</th>\n",
              "      <th>WN</th>\n",
              "      <th>EV</th>\n",
              "      <th>UA</th>\n",
              "      <th>AA</th>\n",
              "      <th>US</th>\n",
              "      <th>AS</th>\n",
              "      <th>Thursday</th>\n",
              "      <th>Friday</th>\n",
              "      <th>Saturday</th>\n",
              "      <th>Sunday</th>\n",
              "      <th>Monday</th>\n",
              "      <th>Tuesday</th>\n",
              "      <th>Wednesday</th>\n",
              "      <th>ATL</th>\n",
              "      <th>DEN</th>\n",
              "      <th>DFW</th>\n",
              "      <th>HOU</th>\n",
              "      <th>IAH</th>\n",
              "      <th>LAS</th>\n",
              "      <th>LAX</th>\n",
              "      <th>MDW</th>\n",
              "      <th>MSP</th>\n",
              "      <th>ORD</th>\n",
              "      <th>PDX</th>\n",
              "      <th>PHX</th>\n",
              "      <th>SAN</th>\n",
              "      <th>SEA</th>\n",
              "      <th>SFO</th>\n",
              "      <th>SLC</th>\n",
              "      <th>JFK</th>\n",
              "      <th>OAK</th>\n",
              "      <th>SJC</th>\n",
              "    </tr>\n",
              "  </thead>\n",
              "  <tbody>\n",
              "    <tr>\n",
              "      <th>0</th>\n",
              "      <td>1.0</td>\n",
              "      <td>0.0</td>\n",
              "      <td>0.0</td>\n",
              "      <td>0.0</td>\n",
              "      <td>0.0</td>\n",
              "      <td>0.0</td>\n",
              "      <td>0.0</td>\n",
              "      <td>0.0</td>\n",
              "      <td>1.0</td>\n",
              "      <td>0.0</td>\n",
              "      <td>0.0</td>\n",
              "      <td>0.0</td>\n",
              "      <td>0.0</td>\n",
              "      <td>0.0</td>\n",
              "      <td>0.0</td>\n",
              "      <td>1.0</td>\n",
              "      <td>0.0</td>\n",
              "      <td>0.0</td>\n",
              "      <td>0.0</td>\n",
              "      <td>0.0</td>\n",
              "      <td>0.0</td>\n",
              "      <td>0.0</td>\n",
              "      <td>0.0</td>\n",
              "      <td>0.0</td>\n",
              "      <td>0.0</td>\n",
              "      <td>0.0</td>\n",
              "      <td>0.0</td>\n",
              "      <td>0.0</td>\n",
              "      <td>0.0</td>\n",
              "      <td>0.0</td>\n",
              "      <td>0.0</td>\n",
              "      <td>0.0</td>\n",
              "      <td>0.0</td>\n",
              "      <td>0.0</td>\n",
              "    </tr>\n",
              "    <tr>\n",
              "      <th>1</th>\n",
              "      <td>1.0</td>\n",
              "      <td>0.0</td>\n",
              "      <td>0.0</td>\n",
              "      <td>0.0</td>\n",
              "      <td>0.0</td>\n",
              "      <td>0.0</td>\n",
              "      <td>0.0</td>\n",
              "      <td>0.0</td>\n",
              "      <td>0.0</td>\n",
              "      <td>1.0</td>\n",
              "      <td>0.0</td>\n",
              "      <td>0.0</td>\n",
              "      <td>0.0</td>\n",
              "      <td>0.0</td>\n",
              "      <td>0.0</td>\n",
              "      <td>1.0</td>\n",
              "      <td>0.0</td>\n",
              "      <td>0.0</td>\n",
              "      <td>0.0</td>\n",
              "      <td>0.0</td>\n",
              "      <td>0.0</td>\n",
              "      <td>0.0</td>\n",
              "      <td>0.0</td>\n",
              "      <td>0.0</td>\n",
              "      <td>0.0</td>\n",
              "      <td>0.0</td>\n",
              "      <td>0.0</td>\n",
              "      <td>0.0</td>\n",
              "      <td>0.0</td>\n",
              "      <td>0.0</td>\n",
              "      <td>0.0</td>\n",
              "      <td>0.0</td>\n",
              "      <td>0.0</td>\n",
              "      <td>0.0</td>\n",
              "    </tr>\n",
              "    <tr>\n",
              "      <th>2</th>\n",
              "      <td>1.0</td>\n",
              "      <td>0.0</td>\n",
              "      <td>0.0</td>\n",
              "      <td>0.0</td>\n",
              "      <td>0.0</td>\n",
              "      <td>0.0</td>\n",
              "      <td>0.0</td>\n",
              "      <td>0.0</td>\n",
              "      <td>0.0</td>\n",
              "      <td>1.0</td>\n",
              "      <td>0.0</td>\n",
              "      <td>0.0</td>\n",
              "      <td>0.0</td>\n",
              "      <td>0.0</td>\n",
              "      <td>0.0</td>\n",
              "      <td>1.0</td>\n",
              "      <td>0.0</td>\n",
              "      <td>0.0</td>\n",
              "      <td>0.0</td>\n",
              "      <td>0.0</td>\n",
              "      <td>0.0</td>\n",
              "      <td>0.0</td>\n",
              "      <td>0.0</td>\n",
              "      <td>0.0</td>\n",
              "      <td>0.0</td>\n",
              "      <td>0.0</td>\n",
              "      <td>0.0</td>\n",
              "      <td>0.0</td>\n",
              "      <td>0.0</td>\n",
              "      <td>0.0</td>\n",
              "      <td>0.0</td>\n",
              "      <td>0.0</td>\n",
              "      <td>0.0</td>\n",
              "      <td>0.0</td>\n",
              "    </tr>\n",
              "  </tbody>\n",
              "</table>\n",
              "</div>"
            ],
            "text/plain": [
              "    DL   OO   WN   EV   UA   AA   US  ...  SAN  SEA  SFO  SLC  JFK  OAK  SJC\n",
              "0  1.0  0.0  0.0  0.0  0.0  0.0  0.0  ...  0.0  0.0  0.0  0.0  0.0  0.0  0.0\n",
              "1  1.0  0.0  0.0  0.0  0.0  0.0  0.0  ...  0.0  0.0  0.0  0.0  0.0  0.0  0.0\n",
              "2  1.0  0.0  0.0  0.0  0.0  0.0  0.0  ...  0.0  0.0  0.0  0.0  0.0  0.0  0.0\n",
              "\n",
              "[3 rows x 34 columns]"
            ]
          },
          "metadata": {},
          "execution_count": 53
        }
      ]
    },
    {
      "cell_type": "code",
      "metadata": {
        "colab": {
          "base_uri": "https://localhost:8080/",
          "height": 162
        },
        "id": "zQ1s538wk09F",
        "outputId": "5cf71380-cde9-4a7e-9c0a-cfef89c3d750"
      },
      "source": [
        "X_df = X_numeric_df\n",
        "X_df = X_df.join(X_encoded_df)\n",
        "X_df.head(3)"
      ],
      "execution_count": 54,
      "outputs": [
        {
          "output_type": "execute_result",
          "data": {
            "text/html": [
              "<div>\n",
              "<style scoped>\n",
              "    .dataframe tbody tr th:only-of-type {\n",
              "        vertical-align: middle;\n",
              "    }\n",
              "\n",
              "    .dataframe tbody tr th {\n",
              "        vertical-align: top;\n",
              "    }\n",
              "\n",
              "    .dataframe thead th {\n",
              "        text-align: right;\n",
              "    }\n",
              "</style>\n",
              "<table border=\"1\" class=\"dataframe\">\n",
              "  <thead>\n",
              "    <tr style=\"text-align: right;\">\n",
              "      <th></th>\n",
              "      <th>OP_CARRIER_FL_NUM</th>\n",
              "      <th>CRS_DEP_TIME</th>\n",
              "      <th>CRS_ARR_TIME</th>\n",
              "      <th>DISTANCE</th>\n",
              "      <th>DL</th>\n",
              "      <th>OO</th>\n",
              "      <th>WN</th>\n",
              "      <th>EV</th>\n",
              "      <th>UA</th>\n",
              "      <th>AA</th>\n",
              "      <th>US</th>\n",
              "      <th>AS</th>\n",
              "      <th>Thursday</th>\n",
              "      <th>Friday</th>\n",
              "      <th>Saturday</th>\n",
              "      <th>Sunday</th>\n",
              "      <th>Monday</th>\n",
              "      <th>Tuesday</th>\n",
              "      <th>Wednesday</th>\n",
              "      <th>ATL</th>\n",
              "      <th>DEN</th>\n",
              "      <th>DFW</th>\n",
              "      <th>HOU</th>\n",
              "      <th>IAH</th>\n",
              "      <th>LAS</th>\n",
              "      <th>LAX</th>\n",
              "      <th>MDW</th>\n",
              "      <th>MSP</th>\n",
              "      <th>ORD</th>\n",
              "      <th>PDX</th>\n",
              "      <th>PHX</th>\n",
              "      <th>SAN</th>\n",
              "      <th>SEA</th>\n",
              "      <th>SFO</th>\n",
              "      <th>SLC</th>\n",
              "      <th>JFK</th>\n",
              "      <th>OAK</th>\n",
              "      <th>SJC</th>\n",
              "    </tr>\n",
              "  </thead>\n",
              "  <tbody>\n",
              "    <tr>\n",
              "      <th>0</th>\n",
              "      <td>1240</td>\n",
              "      <td>1358</td>\n",
              "      <td>1923</td>\n",
              "      <td>1541</td>\n",
              "      <td>1.0</td>\n",
              "      <td>0.0</td>\n",
              "      <td>0.0</td>\n",
              "      <td>0.0</td>\n",
              "      <td>0.0</td>\n",
              "      <td>0.0</td>\n",
              "      <td>0.0</td>\n",
              "      <td>0.0</td>\n",
              "      <td>1.0</td>\n",
              "      <td>0.0</td>\n",
              "      <td>0.0</td>\n",
              "      <td>0.0</td>\n",
              "      <td>0.0</td>\n",
              "      <td>0.0</td>\n",
              "      <td>0.0</td>\n",
              "      <td>1.0</td>\n",
              "      <td>0.0</td>\n",
              "      <td>0.0</td>\n",
              "      <td>0.0</td>\n",
              "      <td>0.0</td>\n",
              "      <td>0.0</td>\n",
              "      <td>0.0</td>\n",
              "      <td>0.0</td>\n",
              "      <td>0.0</td>\n",
              "      <td>0.0</td>\n",
              "      <td>0.0</td>\n",
              "      <td>0.0</td>\n",
              "      <td>0.0</td>\n",
              "      <td>0.0</td>\n",
              "      <td>0.0</td>\n",
              "      <td>0.0</td>\n",
              "      <td>0.0</td>\n",
              "      <td>0.0</td>\n",
              "      <td>0.0</td>\n",
              "    </tr>\n",
              "    <tr>\n",
              "      <th>0</th>\n",
              "      <td>1240</td>\n",
              "      <td>1425</td>\n",
              "      <td>1951</td>\n",
              "      <td>1541</td>\n",
              "      <td>1.0</td>\n",
              "      <td>0.0</td>\n",
              "      <td>0.0</td>\n",
              "      <td>0.0</td>\n",
              "      <td>0.0</td>\n",
              "      <td>0.0</td>\n",
              "      <td>0.0</td>\n",
              "      <td>0.0</td>\n",
              "      <td>1.0</td>\n",
              "      <td>0.0</td>\n",
              "      <td>0.0</td>\n",
              "      <td>0.0</td>\n",
              "      <td>0.0</td>\n",
              "      <td>0.0</td>\n",
              "      <td>0.0</td>\n",
              "      <td>1.0</td>\n",
              "      <td>0.0</td>\n",
              "      <td>0.0</td>\n",
              "      <td>0.0</td>\n",
              "      <td>0.0</td>\n",
              "      <td>0.0</td>\n",
              "      <td>0.0</td>\n",
              "      <td>0.0</td>\n",
              "      <td>0.0</td>\n",
              "      <td>0.0</td>\n",
              "      <td>0.0</td>\n",
              "      <td>0.0</td>\n",
              "      <td>0.0</td>\n",
              "      <td>0.0</td>\n",
              "      <td>0.0</td>\n",
              "      <td>0.0</td>\n",
              "      <td>0.0</td>\n",
              "      <td>0.0</td>\n",
              "      <td>0.0</td>\n",
              "    </tr>\n",
              "    <tr>\n",
              "      <th>0</th>\n",
              "      <td>2066</td>\n",
              "      <td>1430</td>\n",
              "      <td>2003</td>\n",
              "      <td>1541</td>\n",
              "      <td>1.0</td>\n",
              "      <td>0.0</td>\n",
              "      <td>0.0</td>\n",
              "      <td>0.0</td>\n",
              "      <td>0.0</td>\n",
              "      <td>0.0</td>\n",
              "      <td>0.0</td>\n",
              "      <td>0.0</td>\n",
              "      <td>1.0</td>\n",
              "      <td>0.0</td>\n",
              "      <td>0.0</td>\n",
              "      <td>0.0</td>\n",
              "      <td>0.0</td>\n",
              "      <td>0.0</td>\n",
              "      <td>0.0</td>\n",
              "      <td>1.0</td>\n",
              "      <td>0.0</td>\n",
              "      <td>0.0</td>\n",
              "      <td>0.0</td>\n",
              "      <td>0.0</td>\n",
              "      <td>0.0</td>\n",
              "      <td>0.0</td>\n",
              "      <td>0.0</td>\n",
              "      <td>0.0</td>\n",
              "      <td>0.0</td>\n",
              "      <td>0.0</td>\n",
              "      <td>0.0</td>\n",
              "      <td>0.0</td>\n",
              "      <td>0.0</td>\n",
              "      <td>0.0</td>\n",
              "      <td>0.0</td>\n",
              "      <td>0.0</td>\n",
              "      <td>0.0</td>\n",
              "      <td>0.0</td>\n",
              "    </tr>\n",
              "  </tbody>\n",
              "</table>\n",
              "</div>"
            ],
            "text/plain": [
              "   OP_CARRIER_FL_NUM  CRS_DEP_TIME  CRS_ARR_TIME  DISTANCE  ...  SLC  JFK  OAK  SJC\n",
              "0               1240          1358          1923      1541  ...  0.0  0.0  0.0  0.0\n",
              "0               1240          1425          1951      1541  ...  0.0  0.0  0.0  0.0\n",
              "0               2066          1430          2003      1541  ...  0.0  0.0  0.0  0.0\n",
              "\n",
              "[3 rows x 38 columns]"
            ]
          },
          "metadata": {},
          "execution_count": 54
        }
      ]
    },
    {
      "cell_type": "code",
      "metadata": {
        "id": "tgUzpL5CR48g"
      },
      "source": [
        "# Split X and y into training and testing groups\n",
        "X_train, X_test, y_train, y_test = train_test_split(\n",
        "    X_df, y_df, test_size=0.3, random_state=42)"
      ],
      "execution_count": 55,
      "outputs": []
    },
    {
      "cell_type": "code",
      "metadata": {
        "colab": {
          "base_uri": "https://localhost:8080/",
          "height": 223
        },
        "id": "WJo3R8jMR48h",
        "outputId": "b767daf7-1a25-4a4c-ffca-fdf1fc44d90f"
      },
      "source": [
        "# Display training data\n",
        "X_train.head()"
      ],
      "execution_count": 56,
      "outputs": [
        {
          "output_type": "execute_result",
          "data": {
            "text/html": [
              "<div>\n",
              "<style scoped>\n",
              "    .dataframe tbody tr th:only-of-type {\n",
              "        vertical-align: middle;\n",
              "    }\n",
              "\n",
              "    .dataframe tbody tr th {\n",
              "        vertical-align: top;\n",
              "    }\n",
              "\n",
              "    .dataframe thead th {\n",
              "        text-align: right;\n",
              "    }\n",
              "</style>\n",
              "<table border=\"1\" class=\"dataframe\">\n",
              "  <thead>\n",
              "    <tr style=\"text-align: right;\">\n",
              "      <th></th>\n",
              "      <th>OP_CARRIER_FL_NUM</th>\n",
              "      <th>CRS_DEP_TIME</th>\n",
              "      <th>CRS_ARR_TIME</th>\n",
              "      <th>DISTANCE</th>\n",
              "      <th>DL</th>\n",
              "      <th>OO</th>\n",
              "      <th>WN</th>\n",
              "      <th>EV</th>\n",
              "      <th>UA</th>\n",
              "      <th>AA</th>\n",
              "      <th>US</th>\n",
              "      <th>AS</th>\n",
              "      <th>Thursday</th>\n",
              "      <th>Friday</th>\n",
              "      <th>Saturday</th>\n",
              "      <th>Sunday</th>\n",
              "      <th>Monday</th>\n",
              "      <th>Tuesday</th>\n",
              "      <th>Wednesday</th>\n",
              "      <th>ATL</th>\n",
              "      <th>DEN</th>\n",
              "      <th>DFW</th>\n",
              "      <th>HOU</th>\n",
              "      <th>IAH</th>\n",
              "      <th>LAS</th>\n",
              "      <th>LAX</th>\n",
              "      <th>MDW</th>\n",
              "      <th>MSP</th>\n",
              "      <th>ORD</th>\n",
              "      <th>PDX</th>\n",
              "      <th>PHX</th>\n",
              "      <th>SAN</th>\n",
              "      <th>SEA</th>\n",
              "      <th>SFO</th>\n",
              "      <th>SLC</th>\n",
              "      <th>JFK</th>\n",
              "      <th>OAK</th>\n",
              "      <th>SJC</th>\n",
              "    </tr>\n",
              "  </thead>\n",
              "  <tbody>\n",
              "    <tr>\n",
              "      <th>15094</th>\n",
              "      <td>4769</td>\n",
              "      <td>1114</td>\n",
              "      <td>1405</td>\n",
              "      <td>601</td>\n",
              "      <td>0.0</td>\n",
              "      <td>1.0</td>\n",
              "      <td>0.0</td>\n",
              "      <td>0.0</td>\n",
              "      <td>0.0</td>\n",
              "      <td>0.0</td>\n",
              "      <td>0.0</td>\n",
              "      <td>0.0</td>\n",
              "      <td>1.0</td>\n",
              "      <td>0.0</td>\n",
              "      <td>0.0</td>\n",
              "      <td>0.0</td>\n",
              "      <td>0.0</td>\n",
              "      <td>0.0</td>\n",
              "      <td>0.0</td>\n",
              "      <td>0.0</td>\n",
              "      <td>0.0</td>\n",
              "      <td>0.0</td>\n",
              "      <td>0.0</td>\n",
              "      <td>0.0</td>\n",
              "      <td>0.0</td>\n",
              "      <td>0.0</td>\n",
              "      <td>0.0</td>\n",
              "      <td>0.0</td>\n",
              "      <td>0.0</td>\n",
              "      <td>0.0</td>\n",
              "      <td>0.0</td>\n",
              "      <td>0.0</td>\n",
              "      <td>0.0</td>\n",
              "      <td>1.0</td>\n",
              "      <td>0.0</td>\n",
              "      <td>0.0</td>\n",
              "      <td>0.0</td>\n",
              "      <td>0.0</td>\n",
              "    </tr>\n",
              "    <tr>\n",
              "      <th>6930</th>\n",
              "      <td>1973</td>\n",
              "      <td>1840</td>\n",
              "      <td>1955</td>\n",
              "      <td>365</td>\n",
              "      <td>0.0</td>\n",
              "      <td>0.0</td>\n",
              "      <td>1.0</td>\n",
              "      <td>0.0</td>\n",
              "      <td>0.0</td>\n",
              "      <td>0.0</td>\n",
              "      <td>0.0</td>\n",
              "      <td>0.0</td>\n",
              "      <td>1.0</td>\n",
              "      <td>0.0</td>\n",
              "      <td>0.0</td>\n",
              "      <td>0.0</td>\n",
              "      <td>0.0</td>\n",
              "      <td>0.0</td>\n",
              "      <td>0.0</td>\n",
              "      <td>0.0</td>\n",
              "      <td>0.0</td>\n",
              "      <td>0.0</td>\n",
              "      <td>0.0</td>\n",
              "      <td>0.0</td>\n",
              "      <td>1.0</td>\n",
              "      <td>0.0</td>\n",
              "      <td>0.0</td>\n",
              "      <td>0.0</td>\n",
              "      <td>0.0</td>\n",
              "      <td>0.0</td>\n",
              "      <td>0.0</td>\n",
              "      <td>0.0</td>\n",
              "      <td>0.0</td>\n",
              "      <td>0.0</td>\n",
              "      <td>0.0</td>\n",
              "      <td>0.0</td>\n",
              "      <td>0.0</td>\n",
              "      <td>0.0</td>\n",
              "    </tr>\n",
              "    <tr>\n",
              "      <th>7179</th>\n",
              "      <td>1334</td>\n",
              "      <td>630</td>\n",
              "      <td>705</td>\n",
              "      <td>451</td>\n",
              "      <td>0.0</td>\n",
              "      <td>0.0</td>\n",
              "      <td>1.0</td>\n",
              "      <td>0.0</td>\n",
              "      <td>0.0</td>\n",
              "      <td>0.0</td>\n",
              "      <td>0.0</td>\n",
              "      <td>0.0</td>\n",
              "      <td>0.0</td>\n",
              "      <td>1.0</td>\n",
              "      <td>0.0</td>\n",
              "      <td>0.0</td>\n",
              "      <td>0.0</td>\n",
              "      <td>0.0</td>\n",
              "      <td>0.0</td>\n",
              "      <td>0.0</td>\n",
              "      <td>0.0</td>\n",
              "      <td>0.0</td>\n",
              "      <td>0.0</td>\n",
              "      <td>0.0</td>\n",
              "      <td>1.0</td>\n",
              "      <td>0.0</td>\n",
              "      <td>0.0</td>\n",
              "      <td>0.0</td>\n",
              "      <td>0.0</td>\n",
              "      <td>0.0</td>\n",
              "      <td>0.0</td>\n",
              "      <td>0.0</td>\n",
              "      <td>0.0</td>\n",
              "      <td>0.0</td>\n",
              "      <td>0.0</td>\n",
              "      <td>0.0</td>\n",
              "      <td>0.0</td>\n",
              "      <td>0.0</td>\n",
              "    </tr>\n",
              "    <tr>\n",
              "      <th>1689</th>\n",
              "      <td>5479</td>\n",
              "      <td>800</td>\n",
              "      <td>1059</td>\n",
              "      <td>639</td>\n",
              "      <td>0.0</td>\n",
              "      <td>0.0</td>\n",
              "      <td>1.0</td>\n",
              "      <td>0.0</td>\n",
              "      <td>0.0</td>\n",
              "      <td>0.0</td>\n",
              "      <td>0.0</td>\n",
              "      <td>0.0</td>\n",
              "      <td>0.0</td>\n",
              "      <td>0.0</td>\n",
              "      <td>0.0</td>\n",
              "      <td>0.0</td>\n",
              "      <td>0.0</td>\n",
              "      <td>1.0</td>\n",
              "      <td>0.0</td>\n",
              "      <td>0.0</td>\n",
              "      <td>1.0</td>\n",
              "      <td>0.0</td>\n",
              "      <td>0.0</td>\n",
              "      <td>0.0</td>\n",
              "      <td>0.0</td>\n",
              "      <td>0.0</td>\n",
              "      <td>0.0</td>\n",
              "      <td>0.0</td>\n",
              "      <td>0.0</td>\n",
              "      <td>0.0</td>\n",
              "      <td>0.0</td>\n",
              "      <td>0.0</td>\n",
              "      <td>0.0</td>\n",
              "      <td>0.0</td>\n",
              "      <td>0.0</td>\n",
              "      <td>0.0</td>\n",
              "      <td>0.0</td>\n",
              "      <td>0.0</td>\n",
              "    </tr>\n",
              "    <tr>\n",
              "      <th>3251</th>\n",
              "      <td>2304</td>\n",
              "      <td>1355</td>\n",
              "      <td>1805</td>\n",
              "      <td>813</td>\n",
              "      <td>0.0</td>\n",
              "      <td>0.0</td>\n",
              "      <td>0.0</td>\n",
              "      <td>0.0</td>\n",
              "      <td>0.0</td>\n",
              "      <td>1.0</td>\n",
              "      <td>0.0</td>\n",
              "      <td>0.0</td>\n",
              "      <td>0.0</td>\n",
              "      <td>0.0</td>\n",
              "      <td>0.0</td>\n",
              "      <td>0.0</td>\n",
              "      <td>1.0</td>\n",
              "      <td>0.0</td>\n",
              "      <td>0.0</td>\n",
              "      <td>0.0</td>\n",
              "      <td>0.0</td>\n",
              "      <td>1.0</td>\n",
              "      <td>0.0</td>\n",
              "      <td>0.0</td>\n",
              "      <td>0.0</td>\n",
              "      <td>0.0</td>\n",
              "      <td>0.0</td>\n",
              "      <td>0.0</td>\n",
              "      <td>0.0</td>\n",
              "      <td>0.0</td>\n",
              "      <td>0.0</td>\n",
              "      <td>0.0</td>\n",
              "      <td>0.0</td>\n",
              "      <td>0.0</td>\n",
              "      <td>0.0</td>\n",
              "      <td>0.0</td>\n",
              "      <td>0.0</td>\n",
              "      <td>0.0</td>\n",
              "    </tr>\n",
              "  </tbody>\n",
              "</table>\n",
              "</div>"
            ],
            "text/plain": [
              "       OP_CARRIER_FL_NUM  CRS_DEP_TIME  CRS_ARR_TIME  ...  JFK  OAK  SJC\n",
              "15094               4769          1114          1405  ...  0.0  0.0  0.0\n",
              "6930                1973          1840          1955  ...  0.0  0.0  0.0\n",
              "7179                1334           630           705  ...  0.0  0.0  0.0\n",
              "1689                5479           800          1059  ...  0.0  0.0  0.0\n",
              "3251                2304          1355          1805  ...  0.0  0.0  0.0\n",
              "\n",
              "[5 rows x 38 columns]"
            ]
          },
          "metadata": {},
          "execution_count": 56
        }
      ]
    },
    {
      "cell_type": "code",
      "metadata": {
        "id": "ZVZTjs6RR48h"
      },
      "source": [
        "# Scale the data with MinMaxScaler\n",
        "X_scaler = MinMaxScaler().fit(X_train)\n",
        "X_train_scaled = X_scaler.transform(X_train)\n",
        "X_test_scaled = X_scaler.transform(X_test)"
      ],
      "execution_count": 57,
      "outputs": []
    },
    {
      "cell_type": "markdown",
      "metadata": {
        "id": "jMKWsiLJzkDf"
      },
      "source": [
        "# Save the output to csv files"
      ]
    },
    {
      "cell_type": "code",
      "metadata": {
        "colab": {
          "base_uri": "https://localhost:8080/",
          "height": 17
        },
        "id": "H5MRQG3qz4Ke",
        "outputId": "4fa45d9f-fb66-41da-f036-37223bd72395"
      },
      "source": [
        "X_train.to_csv('2015to2017_TUS_X_train.csv', index = False)\n",
        "files.download('2015to2017_TUS_X_train.csv')\n",
        "y_train.to_csv('2015to2017_TUS_y_train.csv', index = False)\n",
        "files.download('2015to2017_TUS_y_train.csv')\n",
        "X_test.to_csv('2015to2017_TUS_X_test.csv', index = False)\n",
        "files.download('2015to2017_TUS_X_test.csv')\n",
        "y_test.to_csv('2015to2017_TUS_y_test.csv', index = False)\n",
        "files.download('2015to2017_TUS_y_test.csv')"
      ],
      "execution_count": 58,
      "outputs": [
        {
          "output_type": "display_data",
          "data": {
            "application/javascript": [
              "\n",
              "    async function download(id, filename, size) {\n",
              "      if (!google.colab.kernel.accessAllowed) {\n",
              "        return;\n",
              "      }\n",
              "      const div = document.createElement('div');\n",
              "      const label = document.createElement('label');\n",
              "      label.textContent = `Downloading \"${filename}\": `;\n",
              "      div.appendChild(label);\n",
              "      const progress = document.createElement('progress');\n",
              "      progress.max = size;\n",
              "      div.appendChild(progress);\n",
              "      document.body.appendChild(div);\n",
              "\n",
              "      const buffers = [];\n",
              "      let downloaded = 0;\n",
              "\n",
              "      const channel = await google.colab.kernel.comms.open(id);\n",
              "      // Send a message to notify the kernel that we're ready.\n",
              "      channel.send({})\n",
              "\n",
              "      for await (const message of channel.messages) {\n",
              "        // Send a message to notify the kernel that we're ready.\n",
              "        channel.send({})\n",
              "        if (message.buffers) {\n",
              "          for (const buffer of message.buffers) {\n",
              "            buffers.push(buffer);\n",
              "            downloaded += buffer.byteLength;\n",
              "            progress.value = downloaded;\n",
              "          }\n",
              "        }\n",
              "      }\n",
              "      const blob = new Blob(buffers, {type: 'application/binary'});\n",
              "      const a = document.createElement('a');\n",
              "      a.href = window.URL.createObjectURL(blob);\n",
              "      a.download = filename;\n",
              "      div.appendChild(a);\n",
              "      a.click();\n",
              "      div.remove();\n",
              "    }\n",
              "  "
            ],
            "text/plain": [
              "<IPython.core.display.Javascript object>"
            ]
          },
          "metadata": {}
        },
        {
          "output_type": "display_data",
          "data": {
            "application/javascript": [
              "download(\"download_12688de7-d965-41b8-b203-5500aff8bbc4\", \"2015to2017_TUS_X_train.csv\", 5178244)"
            ],
            "text/plain": [
              "<IPython.core.display.Javascript object>"
            ]
          },
          "metadata": {}
        },
        {
          "output_type": "display_data",
          "data": {
            "application/javascript": [
              "\n",
              "    async function download(id, filename, size) {\n",
              "      if (!google.colab.kernel.accessAllowed) {\n",
              "        return;\n",
              "      }\n",
              "      const div = document.createElement('div');\n",
              "      const label = document.createElement('label');\n",
              "      label.textContent = `Downloading \"${filename}\": `;\n",
              "      div.appendChild(label);\n",
              "      const progress = document.createElement('progress');\n",
              "      progress.max = size;\n",
              "      div.appendChild(progress);\n",
              "      document.body.appendChild(div);\n",
              "\n",
              "      const buffers = [];\n",
              "      let downloaded = 0;\n",
              "\n",
              "      const channel = await google.colab.kernel.comms.open(id);\n",
              "      // Send a message to notify the kernel that we're ready.\n",
              "      channel.send({})\n",
              "\n",
              "      for await (const message of channel.messages) {\n",
              "        // Send a message to notify the kernel that we're ready.\n",
              "        channel.send({})\n",
              "        if (message.buffers) {\n",
              "          for (const buffer of message.buffers) {\n",
              "            buffers.push(buffer);\n",
              "            downloaded += buffer.byteLength;\n",
              "            progress.value = downloaded;\n",
              "          }\n",
              "        }\n",
              "      }\n",
              "      const blob = new Blob(buffers, {type: 'application/binary'});\n",
              "      const a = document.createElement('a');\n",
              "      a.href = window.URL.createObjectURL(blob);\n",
              "      a.download = filename;\n",
              "      div.appendChild(a);\n",
              "      a.click();\n",
              "      div.remove();\n",
              "    }\n",
              "  "
            ],
            "text/plain": [
              "<IPython.core.display.Javascript object>"
            ]
          },
          "metadata": {}
        },
        {
          "output_type": "display_data",
          "data": {
            "application/javascript": [
              "download(\"download_aa8da063-e402-460a-880f-45764926f123\", \"2015to2017_TUS_y_train.csv\", 201271)"
            ],
            "text/plain": [
              "<IPython.core.display.Javascript object>"
            ]
          },
          "metadata": {}
        },
        {
          "output_type": "display_data",
          "data": {
            "application/javascript": [
              "\n",
              "    async function download(id, filename, size) {\n",
              "      if (!google.colab.kernel.accessAllowed) {\n",
              "        return;\n",
              "      }\n",
              "      const div = document.createElement('div');\n",
              "      const label = document.createElement('label');\n",
              "      label.textContent = `Downloading \"${filename}\": `;\n",
              "      div.appendChild(label);\n",
              "      const progress = document.createElement('progress');\n",
              "      progress.max = size;\n",
              "      div.appendChild(progress);\n",
              "      document.body.appendChild(div);\n",
              "\n",
              "      const buffers = [];\n",
              "      let downloaded = 0;\n",
              "\n",
              "      const channel = await google.colab.kernel.comms.open(id);\n",
              "      // Send a message to notify the kernel that we're ready.\n",
              "      channel.send({})\n",
              "\n",
              "      for await (const message of channel.messages) {\n",
              "        // Send a message to notify the kernel that we're ready.\n",
              "        channel.send({})\n",
              "        if (message.buffers) {\n",
              "          for (const buffer of message.buffers) {\n",
              "            buffers.push(buffer);\n",
              "            downloaded += buffer.byteLength;\n",
              "            progress.value = downloaded;\n",
              "          }\n",
              "        }\n",
              "      }\n",
              "      const blob = new Blob(buffers, {type: 'application/binary'});\n",
              "      const a = document.createElement('a');\n",
              "      a.href = window.URL.createObjectURL(blob);\n",
              "      a.download = filename;\n",
              "      div.appendChild(a);\n",
              "      a.click();\n",
              "      div.remove();\n",
              "    }\n",
              "  "
            ],
            "text/plain": [
              "<IPython.core.display.Javascript object>"
            ]
          },
          "metadata": {}
        },
        {
          "output_type": "display_data",
          "data": {
            "application/javascript": [
              "download(\"download_50efef23-6b94-4585-b44e-7895399d217f\", \"2015to2017_TUS_X_test.csv\", 2219411)"
            ],
            "text/plain": [
              "<IPython.core.display.Javascript object>"
            ]
          },
          "metadata": {}
        },
        {
          "output_type": "display_data",
          "data": {
            "application/javascript": [
              "\n",
              "    async function download(id, filename, size) {\n",
              "      if (!google.colab.kernel.accessAllowed) {\n",
              "        return;\n",
              "      }\n",
              "      const div = document.createElement('div');\n",
              "      const label = document.createElement('label');\n",
              "      label.textContent = `Downloading \"${filename}\": `;\n",
              "      div.appendChild(label);\n",
              "      const progress = document.createElement('progress');\n",
              "      progress.max = size;\n",
              "      div.appendChild(progress);\n",
              "      document.body.appendChild(div);\n",
              "\n",
              "      const buffers = [];\n",
              "      let downloaded = 0;\n",
              "\n",
              "      const channel = await google.colab.kernel.comms.open(id);\n",
              "      // Send a message to notify the kernel that we're ready.\n",
              "      channel.send({})\n",
              "\n",
              "      for await (const message of channel.messages) {\n",
              "        // Send a message to notify the kernel that we're ready.\n",
              "        channel.send({})\n",
              "        if (message.buffers) {\n",
              "          for (const buffer of message.buffers) {\n",
              "            buffers.push(buffer);\n",
              "            downloaded += buffer.byteLength;\n",
              "            progress.value = downloaded;\n",
              "          }\n",
              "        }\n",
              "      }\n",
              "      const blob = new Blob(buffers, {type: 'application/binary'});\n",
              "      const a = document.createElement('a');\n",
              "      a.href = window.URL.createObjectURL(blob);\n",
              "      a.download = filename;\n",
              "      div.appendChild(a);\n",
              "      a.click();\n",
              "      div.remove();\n",
              "    }\n",
              "  "
            ],
            "text/plain": [
              "<IPython.core.display.Javascript object>"
            ]
          },
          "metadata": {}
        },
        {
          "output_type": "display_data",
          "data": {
            "application/javascript": [
              "download(\"download_9bfa3cda-6d37-496c-874b-7ff22d6ffbc5\", \"2015to2017_TUS_y_test.csv\", 86281)"
            ],
            "text/plain": [
              "<IPython.core.display.Javascript object>"
            ]
          },
          "metadata": {}
        }
      ]
    }
  ]
}