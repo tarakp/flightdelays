{
  "nbformat": 4,
  "nbformat_minor": 0,
  "metadata": {
    "colab": {
      "name": "feature_assessment.ipynb",
      "provenance": [],
      "authorship_tag": "ABX9TyMJAi0aGyPj8ZWbvlaRzFrA",
      "include_colab_link": true
    },
    "kernelspec": {
      "name": "python3",
      "display_name": "Python 3"
    },
    "language_info": {
      "name": "python"
    }
  },
  "cells": [
    {
      "cell_type": "markdown",
      "metadata": {
        "id": "view-in-github",
        "colab_type": "text"
      },
      "source": [
        "<a href=\"https://colab.research.google.com/github/NicoleLund/flight_delay_prediction/blob/nrl_210817/data_manipulation_modeling/feature_assessment/feature_assessment.ipynb\" target=\"_parent\"><img src=\"https://colab.research.google.com/assets/colab-badge.svg\" alt=\"Open In Colab\"/></a>"
      ]
    },
    {
      "cell_type": "markdown",
      "metadata": {
        "id": "33Cr3Yr87USW"
      },
      "source": [
        "feature_assessment.ipynb\n",
        "-----\n",
        "\n",
        "Written in Google Colab\n",
        "\n",
        "by Nicole Lund\n",
        "\n",
        "This workbook investigates the correlation between features in 2017 flight performance prior to building a model from the data."
      ]
    },
    {
      "cell_type": "code",
      "metadata": {
        "id": "MEb_cSzUdQ71"
      },
      "source": [
        "# Import dependencies\n",
        "import pandas as pd\n",
        "import datetime\n",
        "from datetime import timedelta\n",
        "import math"
      ],
      "execution_count": 32,
      "outputs": []
    },
    {
      "cell_type": "code",
      "metadata": {
        "colab": {
          "base_uri": "https://localhost:8080/",
          "height": 212
        },
        "id": "sIhTNZ9P9zT_",
        "outputId": "6b731462-4eb3-41de-8700-da50275ef5bb"
      },
      "source": [
        "# Read the CSV file from AWS to Pandas Dataframe\n",
        "url = \"https://finalproject-3.s3.us-west-1.amazonaws.com/2017_TUS.csv\"\n",
        "df = pd.read_csv(url)\n",
        "\n",
        "df.head(3)"
      ],
      "execution_count": 2,
      "outputs": [
        {
          "output_type": "execute_result",
          "data": {
            "text/html": [
              "<div>\n",
              "<style scoped>\n",
              "    .dataframe tbody tr th:only-of-type {\n",
              "        vertical-align: middle;\n",
              "    }\n",
              "\n",
              "    .dataframe tbody tr th {\n",
              "        vertical-align: top;\n",
              "    }\n",
              "\n",
              "    .dataframe thead th {\n",
              "        text-align: right;\n",
              "    }\n",
              "</style>\n",
              "<table border=\"1\" class=\"dataframe\">\n",
              "  <thead>\n",
              "    <tr style=\"text-align: right;\">\n",
              "      <th></th>\n",
              "      <th>origin_city_name</th>\n",
              "      <th>dest_city_name</th>\n",
              "      <th>FL_DATE</th>\n",
              "      <th>OP_CARRIER</th>\n",
              "      <th>OP_CARRIER_FL_NUM</th>\n",
              "      <th>ORIGIN</th>\n",
              "      <th>DEST</th>\n",
              "      <th>CRS_DEP_TIME</th>\n",
              "      <th>DEP_TIME</th>\n",
              "      <th>DEP_DELAY</th>\n",
              "      <th>TAXI_OUT</th>\n",
              "      <th>WHEELS_OFF</th>\n",
              "      <th>WHEELS_ON</th>\n",
              "      <th>TAXI_IN</th>\n",
              "      <th>CRS_ARR_TIME</th>\n",
              "      <th>ARR_TIME</th>\n",
              "      <th>ARR_DELAY</th>\n",
              "      <th>CANCELLED</th>\n",
              "      <th>CANCELLATION_CODE</th>\n",
              "      <th>DIVERTED</th>\n",
              "      <th>CRS_ELAPSED_TIME</th>\n",
              "      <th>ACTUAL_ELAPSED_TIME</th>\n",
              "      <th>AIR_TIME</th>\n",
              "      <th>DISTANCE</th>\n",
              "      <th>CARRIER_DELAY</th>\n",
              "      <th>WEATHER_DELAY</th>\n",
              "      <th>NAS_DELAY</th>\n",
              "      <th>SECURITY_DELAY</th>\n",
              "      <th>LATE_AIRCRAFT_DELAY</th>\n",
              "      <th>CRS_DEP_HM</th>\n",
              "      <th>DEP_TIME_HM</th>\n",
              "      <th>WHEELS_OFF_HM</th>\n",
              "      <th>WHEELS_ON_HM</th>\n",
              "      <th>CRS_ARR_TIME_HM</th>\n",
              "      <th>ARR_TIME_HM</th>\n",
              "      <th>day_of_week</th>\n",
              "      <th>DELAY</th>\n",
              "    </tr>\n",
              "  </thead>\n",
              "  <tbody>\n",
              "    <tr>\n",
              "      <th>0</th>\n",
              "      <td>TUCSON, ARIZONA, USA</td>\n",
              "      <td>ATLANTA, GEORGIA, USA</td>\n",
              "      <td>2017-01-01</td>\n",
              "      <td>DL</td>\n",
              "      <td>2066</td>\n",
              "      <td>TUS</td>\n",
              "      <td>ATL</td>\n",
              "      <td>1430</td>\n",
              "      <td>1459.0</td>\n",
              "      <td>29.0</td>\n",
              "      <td>10.0</td>\n",
              "      <td>1509.0</td>\n",
              "      <td>2011.0</td>\n",
              "      <td>17.0</td>\n",
              "      <td>2003</td>\n",
              "      <td>2028.0</td>\n",
              "      <td>25.0</td>\n",
              "      <td>0.0</td>\n",
              "      <td>NaN</td>\n",
              "      <td>0.0</td>\n",
              "      <td>213.0</td>\n",
              "      <td>209.0</td>\n",
              "      <td>182.0</td>\n",
              "      <td>1541.0</td>\n",
              "      <td>11.0</td>\n",
              "      <td>0.0</td>\n",
              "      <td>0.0</td>\n",
              "      <td>0.0</td>\n",
              "      <td>14.0</td>\n",
              "      <td>14:30</td>\n",
              "      <td>14:59</td>\n",
              "      <td>15:09</td>\n",
              "      <td>20:11</td>\n",
              "      <td>20:03</td>\n",
              "      <td>20:28</td>\n",
              "      <td>Sunday</td>\n",
              "      <td>0</td>\n",
              "    </tr>\n",
              "    <tr>\n",
              "      <th>1</th>\n",
              "      <td>TUCSON, ARIZONA, USA</td>\n",
              "      <td>ATLANTA, GEORGIA, USA</td>\n",
              "      <td>2017-01-02</td>\n",
              "      <td>DL</td>\n",
              "      <td>1127</td>\n",
              "      <td>TUS</td>\n",
              "      <td>ATL</td>\n",
              "      <td>600</td>\n",
              "      <td>637.0</td>\n",
              "      <td>37.0</td>\n",
              "      <td>10.0</td>\n",
              "      <td>647.0</td>\n",
              "      <td>1157.0</td>\n",
              "      <td>6.0</td>\n",
              "      <td>1129</td>\n",
              "      <td>1203.0</td>\n",
              "      <td>34.0</td>\n",
              "      <td>0.0</td>\n",
              "      <td>NaN</td>\n",
              "      <td>0.0</td>\n",
              "      <td>209.0</td>\n",
              "      <td>206.0</td>\n",
              "      <td>190.0</td>\n",
              "      <td>1541.0</td>\n",
              "      <td>34.0</td>\n",
              "      <td>0.0</td>\n",
              "      <td>0.0</td>\n",
              "      <td>0.0</td>\n",
              "      <td>0.0</td>\n",
              "      <td>06:00</td>\n",
              "      <td>06:37</td>\n",
              "      <td>06:47</td>\n",
              "      <td>11:57</td>\n",
              "      <td>11:29</td>\n",
              "      <td>12:03</td>\n",
              "      <td>Monday</td>\n",
              "      <td>1</td>\n",
              "    </tr>\n",
              "    <tr>\n",
              "      <th>2</th>\n",
              "      <td>TUCSON, ARIZONA, USA</td>\n",
              "      <td>ATLANTA, GEORGIA, USA</td>\n",
              "      <td>2017-01-02</td>\n",
              "      <td>DL</td>\n",
              "      <td>2066</td>\n",
              "      <td>TUS</td>\n",
              "      <td>ATL</td>\n",
              "      <td>1430</td>\n",
              "      <td>1447.0</td>\n",
              "      <td>17.0</td>\n",
              "      <td>10.0</td>\n",
              "      <td>1457.0</td>\n",
              "      <td>1943.0</td>\n",
              "      <td>9.0</td>\n",
              "      <td>2005</td>\n",
              "      <td>1952.0</td>\n",
              "      <td>-13.0</td>\n",
              "      <td>0.0</td>\n",
              "      <td>NaN</td>\n",
              "      <td>0.0</td>\n",
              "      <td>215.0</td>\n",
              "      <td>185.0</td>\n",
              "      <td>166.0</td>\n",
              "      <td>1541.0</td>\n",
              "      <td>NaN</td>\n",
              "      <td>NaN</td>\n",
              "      <td>NaN</td>\n",
              "      <td>NaN</td>\n",
              "      <td>NaN</td>\n",
              "      <td>14:30</td>\n",
              "      <td>14:47</td>\n",
              "      <td>14:57</td>\n",
              "      <td>19:43</td>\n",
              "      <td>20:05</td>\n",
              "      <td>19:52</td>\n",
              "      <td>Monday</td>\n",
              "      <td>0</td>\n",
              "    </tr>\n",
              "  </tbody>\n",
              "</table>\n",
              "</div>"
            ],
            "text/plain": [
              "                      origin_city_name  ... DELAY\n",
              "0  TUCSON, ARIZONA, USA                 ...     0\n",
              "1  TUCSON, ARIZONA, USA                 ...     1\n",
              "2  TUCSON, ARIZONA, USA                 ...     0\n",
              "\n",
              "[3 rows x 37 columns]"
            ]
          },
          "metadata": {},
          "execution_count": 2
        }
      ]
    },
    {
      "cell_type": "code",
      "metadata": {
        "id": "BoIjocwfKWfN",
        "colab": {
          "base_uri": "https://localhost:8080/"
        },
        "outputId": "4885b175-0781-4b5f-ddbf-038c1160560c"
      },
      "source": [
        "# Check for any international destinations\n",
        "df.dest_city_name.unique()"
      ],
      "execution_count": 19,
      "outputs": [
        {
          "output_type": "execute_result",
          "data": {
            "text/plain": [
              "array(['ATLANTA, GEORGIA, USA              ',\n",
              "       'DENVER, COLORADO, USA              ',\n",
              "       'DALLAS/FT.WORTH, TEXAS, USA        ',\n",
              "       'HOUSTON, TEXAS, USA                ',\n",
              "       'NEW YORK, NEW YORK, USA            ',\n",
              "       'LAS VEGAS, NEVADA, USA             ',\n",
              "       'LOS ANGELES, CALIFORNIA, USA       ',\n",
              "       'CHICAGO, ILLINOIS, USA             ',\n",
              "       'MINNEAPOLIS/ST.PAUL, MINNESOTA, USA',\n",
              "       'OAKLAND, CALIFORNIA, USA           ',\n",
              "       'PORTLAND, OREGON, USA              ',\n",
              "       'PHOENIX, ARIZONA, USA              ',\n",
              "       'SAN DIEGO, CALIFORNIA, USA         ',\n",
              "       'SEATTLE, WASHINGTON, USA           ',\n",
              "       'SAN FRANCISCO, CALIFORNIA, USA     ',\n",
              "       'SAN JOSE, CALIFORNIA, USA          ',\n",
              "       'SALT LAKE CITY, UTAH, USA          '], dtype=object)"
            ]
          },
          "metadata": {},
          "execution_count": 19
        }
      ]
    },
    {
      "cell_type": "code",
      "metadata": {
        "id": "JxqOyKU7PatQ",
        "outputId": "6eb169ec-698b-4036-bc7d-4c6ba2e884c3",
        "colab": {
          "base_uri": "https://localhost:8080/"
        }
      },
      "source": [
        "# Identify row to verify calculations with\n",
        "row = 0\n",
        "print(f'Flight path: {df.origin_city_name[row]} to {df.dest_city_name[row]}')"
      ],
      "execution_count": 56,
      "outputs": [
        {
          "output_type": "stream",
          "text": [
            "Flight path: TUCSON, ARIZONA, USA                to ATLANTA, GEORGIA, USA              \n"
          ],
          "name": "stdout"
        }
      ]
    },
    {
      "cell_type": "code",
      "metadata": {
        "colab": {
          "base_uri": "https://localhost:8080/"
        },
        "id": "w1tTP-QjKq42",
        "outputId": "b8e9643f-9b6e-4722-8ae0-23029b3edc6c"
      },
      "source": [
        "# Verify DEP_DELAY calculation\n",
        "# DEP_DELAY = DEP_TIME - CRS_DEP_HM\n",
        "print(f'Actual Departure Time: {df.DEP_TIME_HM[row]}')\n",
        "print(f'Scheduled Departure Time: {df.CRS_DEP_HM[row]}')\n",
        "print(f'Reported Departure Delay: {df.DEP_DELAY[row]}')"
      ],
      "execution_count": 48,
      "outputs": [
        {
          "output_type": "stream",
          "text": [
            "Actual Departure Time: 14:59\n",
            "Scheduled Departure Time: 14:30\n",
            "Reported Departure Delay: 29.0\n"
          ],
          "name": "stdout"
        }
      ]
    },
    {
      "cell_type": "code",
      "metadata": {
        "colab": {
          "base_uri": "https://localhost:8080/"
        },
        "id": "NX7z50ePWVoH",
        "outputId": "dc7679a9-5b0f-4c2c-b3c8-8a1e2676bd2d"
      },
      "source": [
        "# Verify TAXI_OUT calculation\n",
        "# TAXI_OUT = WHEELS_OFF - DEP_TIME\n",
        "print(f'WHEELS OFF time: {df.WHEELS_OFF_HM[row]}')\n",
        "print(f'Departure time: {df.DEP_TIME_HM[row]}')\n",
        "print(f'Taxi time: {df.TAXI_OUT[row]}')"
      ],
      "execution_count": 50,
      "outputs": [
        {
          "output_type": "stream",
          "text": [
            "WHEELS OFF time: 15:09\n",
            "Departure time: 14:59\n",
            "Taxi time: 10.0\n"
          ],
          "name": "stdout"
        }
      ]
    },
    {
      "cell_type": "code",
      "metadata": {
        "colab": {
          "base_uri": "https://localhost:8080/"
        },
        "id": "Nwttspp2Yifc",
        "outputId": "0893eb9b-4cbc-4e2d-e949-76e1cefaa0b0"
      },
      "source": [
        "# Verify TAXI_IN calculation\n",
        "# TAXI_IN = ARR_TIME - WHEELS_ON\n",
        "print(f'Arrival time: {df.ARR_TIME_HM[row]}')\n",
        "print(f'Wheels on time: {df.WHEELS_ON_HM[row]}')\n",
        "print(f'Taxi time: {df.TAXI_IN[row]}')"
      ],
      "execution_count": 51,
      "outputs": [
        {
          "output_type": "stream",
          "text": [
            "Arrival time: 20:28\n",
            "Wheels on time: 20:11\n",
            "Taxi time: 17.0\n"
          ],
          "name": "stdout"
        }
      ]
    },
    {
      "cell_type": "code",
      "metadata": {
        "colab": {
          "base_uri": "https://localhost:8080/"
        },
        "id": "kEHkgS1YXje7",
        "outputId": "8e14fd53-1d85-4c0a-e40e-f5e41fb76c80"
      },
      "source": [
        "# Verify AIR_TIME calculation\n",
        "# AIR_TIME = WHEELS_ON - WHEELS_OFF + time zone difference\n",
        "print(f'Wheels on time: {df.WHEELS_ON_HM[row]}')\n",
        "print(f'WHEELS OFF time: {df.WHEELS_OFF_HM[row]}')\n",
        "print(f'Air time: {df.AIR_TIME[row]}')\n",
        "print(f'Air time hours: {math.floor(df.AIR_TIME[row]/60)}')\n",
        "print(f'Air time minutes: {df.AIR_TIME[row] - 60*math.floor(df.AIR_TIME[row]/60)}')"
      ],
      "execution_count": 58,
      "outputs": [
        {
          "output_type": "stream",
          "text": [
            "Wheels on time: 20:11\n",
            "WHEELS OFF time: 15:09\n",
            "Air time: 182.0\n",
            "Air time hours: 3\n",
            "Air time minutes: 2.0\n"
          ],
          "name": "stdout"
        }
      ]
    },
    {
      "cell_type": "code",
      "metadata": {
        "colab": {
          "base_uri": "https://localhost:8080/"
        },
        "id": "DGyaOX3KGfvk",
        "outputId": "46fbb908-49ee-4b87-ee4e-62a21d4fbf4c"
      },
      "source": [
        "# Verify ACTUAL_ELAPSED_TIME calculation\n",
        "# ACTUAL_ELAPSED_TIME = TAXI_OUT + TAXI_IN + AIR_TIME\n",
        "print(f'Reported elapsed time: {df.ACTUAL_ELAPSED_TIME[row]}')\n",
        "actual_elapsed_time = df.TAXI_OUT[row]+df.TAXI_IN[row]+df.AIR_TIME[row]\n",
        "print(f'Calculated elapsed time: {actual_elapsed_time}')"
      ],
      "execution_count": 39,
      "outputs": [
        {
          "output_type": "stream",
          "text": [
            "Reported elapsed time: 209.0\n",
            "Calculated elapsed time: 209.0\n"
          ],
          "name": "stdout"
        }
      ]
    },
    {
      "cell_type": "code",
      "metadata": {
        "colab": {
          "base_uri": "https://localhost:8080/"
        },
        "id": "UgePFqcxY4wp",
        "outputId": "d80ea12e-ab1b-4d8c-97f1-da90c5365ecc"
      },
      "source": [
        "# Verify Arrival time calculation\n",
        "# ARR_TIME = DEP_TIME + ACTUAL_ELAPSED_TIME + time zone difference\n",
        "print(f'Departure time: {df.DEP_TIME_HM[row]}')\n",
        "print(f'Arrival time: {df.ARR_TIME_HM[row]}')\n",
        "print(f'Reported elapsed time: {df.ACTUAL_ELAPSED_TIME[row]}')\n",
        "print(f'Elapsed time hours: {math.floor(df.ACTUAL_ELAPSED_TIME[row]/60)}')\n",
        "print(f'Elapsed time minutes: {df.ACTUAL_ELAPSED_TIME[row] - 60*math.floor(df.ACTUAL_ELAPSED_TIME[row]/60)}')"
      ],
      "execution_count": 59,
      "outputs": [
        {
          "output_type": "stream",
          "text": [
            "Departure time: 14:59\n",
            "Arrival time: 20:28\n",
            "Reported elapsed time: 209.0\n",
            "Elapsed time hours: 3\n",
            "Elapsed time minutes: 29.0\n"
          ],
          "name": "stdout"
        }
      ]
    },
    {
      "cell_type": "code",
      "metadata": {
        "colab": {
          "base_uri": "https://localhost:8080/"
        },
        "id": "3yfdTjUMJbAe",
        "outputId": "8029bfa2-3382-4c0f-e43a-9ba8cc4ac0e5"
      },
      "source": [
        "# Verify ARR_DELAY calculation from subset delays\n",
        "# ARR_DELAY = CARRIER_DELAY + WEATHER_DELAY + NAS_DELAY + SECURITY_DELAY + LATE_AIRCRAFT_DELAY\n",
        "print(f'Reported Total Arrival Delay: {df.ARR_DELAY[row]}')\n",
        "arr_delay = df.CARRIER_DELAY[row]+df.WEATHER_DELAY[row] + df.NAS_DELAY[row] + df.SECURITY_DELAY[row] + df.LATE_AIRCRAFT_DELAY[row]\n",
        "print(f'Calculated Total Arrival Delay: {arr_delay}')"
      ],
      "execution_count": 41,
      "outputs": [
        {
          "output_type": "stream",
          "text": [
            "Reported Total Arrival Delay: 25.0\n",
            "Calculated Total Arrival Delay: 25.0\n"
          ],
          "name": "stdout"
        }
      ]
    },
    {
      "cell_type": "code",
      "metadata": {
        "colab": {
          "base_uri": "https://localhost:8080/"
        },
        "id": "D1Womt2obzpV",
        "outputId": "e4f365a6-da6b-4213-b2b9-db9870903c58"
      },
      "source": [
        "# Verify if ARR_DELAY is directly calculable from reported times\n",
        "# ARR_DELAY = ARR_TIME - CRS_ARR_HM = CRS_DEP_HM + DEP_DELAY + TAXI_OUT + AIR_TIME + TAXI_IN + time zone difference\n",
        "print(f'Scheduled Departure Time: {df.CRS_DEP_HM[row]}')\n",
        "transit_time = df.DEP_DELAY[row] + df.TAXI_OUT[row] + df.AIR_TIME[row] + df.TAXI_IN[row]\n",
        "print(f'Calculated Transit time: {transit_time}')\n",
        "print(f'Transit time hours: {math.floor(transit_time/60)}')\n",
        "print(f'Transit time minutes: {transit_time - 60*math.floor(transit_time/60)}')\n",
        "print('')\n",
        "print(f'Actual Arrival time: {df.ARR_TIME_HM[row]}')\n",
        "print(f'Scheduled Arrival Time: {df.CRS_ARR_TIME_HM[row]}')\n",
        "print(f'Arrival Delay: {df.ARR_DELAY[row]}')"
      ],
      "execution_count": 60,
      "outputs": [
        {
          "output_type": "stream",
          "text": [
            "Scheduled Departure Time: 14:30\n",
            "Calculated Transit time: 238.0\n",
            "Transit time hours: 3\n",
            "Transit time minutes: 58.0\n",
            "\n",
            "Actual Arrival time: 20:28\n",
            "Scheduled Arrival Time: 20:03\n",
            "Arrival Delay: 25.0\n"
          ],
          "name": "stdout"
        }
      ]
    },
    {
      "cell_type": "code",
      "metadata": {
        "colab": {
          "base_uri": "https://localhost:8080/",
          "height": 229
        },
        "id": "dK8j_kgMPSqR",
        "outputId": "0f0b282a-1abc-43f0-ab87-17bf76762958"
      },
      "source": [
        "# Review Diverted Values\n",
        "print(f'DIVERTED values: {df.DIVERTED.unique()}')\n",
        "diverted_df = df.loc[df.DIVERTED == 1]\n",
        "diverted_df.head(3)"
      ],
      "execution_count": 64,
      "outputs": [
        {
          "output_type": "stream",
          "text": [
            "DIVERTED values: [0. 1.]\n"
          ],
          "name": "stdout"
        },
        {
          "output_type": "execute_result",
          "data": {
            "text/html": [
              "<div>\n",
              "<style scoped>\n",
              "    .dataframe tbody tr th:only-of-type {\n",
              "        vertical-align: middle;\n",
              "    }\n",
              "\n",
              "    .dataframe tbody tr th {\n",
              "        vertical-align: top;\n",
              "    }\n",
              "\n",
              "    .dataframe thead th {\n",
              "        text-align: right;\n",
              "    }\n",
              "</style>\n",
              "<table border=\"1\" class=\"dataframe\">\n",
              "  <thead>\n",
              "    <tr style=\"text-align: right;\">\n",
              "      <th></th>\n",
              "      <th>origin_city_name</th>\n",
              "      <th>dest_city_name</th>\n",
              "      <th>FL_DATE</th>\n",
              "      <th>OP_CARRIER</th>\n",
              "      <th>OP_CARRIER_FL_NUM</th>\n",
              "      <th>ORIGIN</th>\n",
              "      <th>DEST</th>\n",
              "      <th>CRS_DEP_TIME</th>\n",
              "      <th>DEP_TIME</th>\n",
              "      <th>DEP_DELAY</th>\n",
              "      <th>TAXI_OUT</th>\n",
              "      <th>WHEELS_OFF</th>\n",
              "      <th>WHEELS_ON</th>\n",
              "      <th>TAXI_IN</th>\n",
              "      <th>CRS_ARR_TIME</th>\n",
              "      <th>ARR_TIME</th>\n",
              "      <th>ARR_DELAY</th>\n",
              "      <th>CANCELLED</th>\n",
              "      <th>CANCELLATION_CODE</th>\n",
              "      <th>DIVERTED</th>\n",
              "      <th>CRS_ELAPSED_TIME</th>\n",
              "      <th>ACTUAL_ELAPSED_TIME</th>\n",
              "      <th>AIR_TIME</th>\n",
              "      <th>DISTANCE</th>\n",
              "      <th>CARRIER_DELAY</th>\n",
              "      <th>WEATHER_DELAY</th>\n",
              "      <th>NAS_DELAY</th>\n",
              "      <th>SECURITY_DELAY</th>\n",
              "      <th>LATE_AIRCRAFT_DELAY</th>\n",
              "      <th>CRS_DEP_HM</th>\n",
              "      <th>DEP_TIME_HM</th>\n",
              "      <th>WHEELS_OFF_HM</th>\n",
              "      <th>WHEELS_ON_HM</th>\n",
              "      <th>CRS_ARR_TIME_HM</th>\n",
              "      <th>ARR_TIME_HM</th>\n",
              "      <th>day_of_week</th>\n",
              "      <th>DELAY</th>\n",
              "    </tr>\n",
              "  </thead>\n",
              "  <tbody>\n",
              "    <tr>\n",
              "      <th>51</th>\n",
              "      <td>TUCSON, ARIZONA, USA</td>\n",
              "      <td>ATLANTA, GEORGIA, USA</td>\n",
              "      <td>2017-01-29</td>\n",
              "      <td>DL</td>\n",
              "      <td>652</td>\n",
              "      <td>TUS</td>\n",
              "      <td>ATL</td>\n",
              "      <td>1451</td>\n",
              "      <td>1602.0</td>\n",
              "      <td>71.0</td>\n",
              "      <td>11.0</td>\n",
              "      <td>1613.0</td>\n",
              "      <td>123.0</td>\n",
              "      <td>11.0</td>\n",
              "      <td>2027</td>\n",
              "      <td>134.0</td>\n",
              "      <td>NaN</td>\n",
              "      <td>0.0</td>\n",
              "      <td>NaN</td>\n",
              "      <td>1.0</td>\n",
              "      <td>216.0</td>\n",
              "      <td>NaN</td>\n",
              "      <td>NaN</td>\n",
              "      <td>1541.0</td>\n",
              "      <td>NaN</td>\n",
              "      <td>NaN</td>\n",
              "      <td>NaN</td>\n",
              "      <td>NaN</td>\n",
              "      <td>NaN</td>\n",
              "      <td>14:51</td>\n",
              "      <td>16:02</td>\n",
              "      <td>16:13</td>\n",
              "      <td>12:03</td>\n",
              "      <td>20:27</td>\n",
              "      <td>13:04</td>\n",
              "      <td>Sunday</td>\n",
              "      <td>1</td>\n",
              "    </tr>\n",
              "    <tr>\n",
              "      <th>329</th>\n",
              "      <td>TUCSON, ARIZONA, USA</td>\n",
              "      <td>ATLANTA, GEORGIA, USA</td>\n",
              "      <td>2017-06-23</td>\n",
              "      <td>DL</td>\n",
              "      <td>1240</td>\n",
              "      <td>TUS</td>\n",
              "      <td>ATL</td>\n",
              "      <td>1225</td>\n",
              "      <td>1230.0</td>\n",
              "      <td>5.0</td>\n",
              "      <td>32.0</td>\n",
              "      <td>1302.0</td>\n",
              "      <td>127.0</td>\n",
              "      <td>8.0</td>\n",
              "      <td>1915</td>\n",
              "      <td>135.0</td>\n",
              "      <td>NaN</td>\n",
              "      <td>0.0</td>\n",
              "      <td>NaN</td>\n",
              "      <td>1.0</td>\n",
              "      <td>230.0</td>\n",
              "      <td>NaN</td>\n",
              "      <td>NaN</td>\n",
              "      <td>1541.0</td>\n",
              "      <td>NaN</td>\n",
              "      <td>NaN</td>\n",
              "      <td>NaN</td>\n",
              "      <td>NaN</td>\n",
              "      <td>NaN</td>\n",
              "      <td>12:25</td>\n",
              "      <td>12:30</td>\n",
              "      <td>13:02</td>\n",
              "      <td>12:07</td>\n",
              "      <td>19:15</td>\n",
              "      <td>13:05</td>\n",
              "      <td>Friday</td>\n",
              "      <td>1</td>\n",
              "    </tr>\n",
              "    <tr>\n",
              "      <th>362</th>\n",
              "      <td>TUCSON, ARIZONA, USA</td>\n",
              "      <td>ATLANTA, GEORGIA, USA</td>\n",
              "      <td>2017-07-11</td>\n",
              "      <td>DL</td>\n",
              "      <td>1240</td>\n",
              "      <td>TUS</td>\n",
              "      <td>ATL</td>\n",
              "      <td>1223</td>\n",
              "      <td>1232.0</td>\n",
              "      <td>9.0</td>\n",
              "      <td>10.0</td>\n",
              "      <td>1242.0</td>\n",
              "      <td>2000.0</td>\n",
              "      <td>21.0</td>\n",
              "      <td>1914</td>\n",
              "      <td>2021.0</td>\n",
              "      <td>NaN</td>\n",
              "      <td>0.0</td>\n",
              "      <td>NaN</td>\n",
              "      <td>1.0</td>\n",
              "      <td>231.0</td>\n",
              "      <td>NaN</td>\n",
              "      <td>NaN</td>\n",
              "      <td>1541.0</td>\n",
              "      <td>NaN</td>\n",
              "      <td>NaN</td>\n",
              "      <td>NaN</td>\n",
              "      <td>NaN</td>\n",
              "      <td>NaN</td>\n",
              "      <td>12:23</td>\n",
              "      <td>12:32</td>\n",
              "      <td>12:42</td>\n",
              "      <td>20:00</td>\n",
              "      <td>19:14</td>\n",
              "      <td>20:21</td>\n",
              "      <td>Tuesday</td>\n",
              "      <td>1</td>\n",
              "    </tr>\n",
              "  </tbody>\n",
              "</table>\n",
              "</div>"
            ],
            "text/plain": [
              "                        origin_city_name  ... DELAY\n",
              "51   TUCSON, ARIZONA, USA                 ...     1\n",
              "329  TUCSON, ARIZONA, USA                 ...     1\n",
              "362  TUCSON, ARIZONA, USA                 ...     1\n",
              "\n",
              "[3 rows x 37 columns]"
            ]
          },
          "metadata": {},
          "execution_count": 64
        }
      ]
    },
    {
      "cell_type": "code",
      "metadata": {
        "colab": {
          "base_uri": "https://localhost:8080/",
          "height": 229
        },
        "id": "HQd45jTSXYtE",
        "outputId": "47009ee6-5e8f-4c02-c848-13553379ce26"
      },
      "source": [
        "# Review Cancelled Values\n",
        "print(f'CANCELLED values: {df.CANCELLED.unique()}')\n",
        "cancelled_df = df.loc[df.CANCELLED == 1]\n",
        "cancelled_df.head(3)"
      ],
      "execution_count": 65,
      "outputs": [
        {
          "output_type": "stream",
          "text": [
            "CANCELLED values: [0. 1.]\n"
          ],
          "name": "stdout"
        },
        {
          "output_type": "execute_result",
          "data": {
            "text/html": [
              "<div>\n",
              "<style scoped>\n",
              "    .dataframe tbody tr th:only-of-type {\n",
              "        vertical-align: middle;\n",
              "    }\n",
              "\n",
              "    .dataframe tbody tr th {\n",
              "        vertical-align: top;\n",
              "    }\n",
              "\n",
              "    .dataframe thead th {\n",
              "        text-align: right;\n",
              "    }\n",
              "</style>\n",
              "<table border=\"1\" class=\"dataframe\">\n",
              "  <thead>\n",
              "    <tr style=\"text-align: right;\">\n",
              "      <th></th>\n",
              "      <th>origin_city_name</th>\n",
              "      <th>dest_city_name</th>\n",
              "      <th>FL_DATE</th>\n",
              "      <th>OP_CARRIER</th>\n",
              "      <th>OP_CARRIER_FL_NUM</th>\n",
              "      <th>ORIGIN</th>\n",
              "      <th>DEST</th>\n",
              "      <th>CRS_DEP_TIME</th>\n",
              "      <th>DEP_TIME</th>\n",
              "      <th>DEP_DELAY</th>\n",
              "      <th>TAXI_OUT</th>\n",
              "      <th>WHEELS_OFF</th>\n",
              "      <th>WHEELS_ON</th>\n",
              "      <th>TAXI_IN</th>\n",
              "      <th>CRS_ARR_TIME</th>\n",
              "      <th>ARR_TIME</th>\n",
              "      <th>ARR_DELAY</th>\n",
              "      <th>CANCELLED</th>\n",
              "      <th>CANCELLATION_CODE</th>\n",
              "      <th>DIVERTED</th>\n",
              "      <th>CRS_ELAPSED_TIME</th>\n",
              "      <th>ACTUAL_ELAPSED_TIME</th>\n",
              "      <th>AIR_TIME</th>\n",
              "      <th>DISTANCE</th>\n",
              "      <th>CARRIER_DELAY</th>\n",
              "      <th>WEATHER_DELAY</th>\n",
              "      <th>NAS_DELAY</th>\n",
              "      <th>SECURITY_DELAY</th>\n",
              "      <th>LATE_AIRCRAFT_DELAY</th>\n",
              "      <th>CRS_DEP_HM</th>\n",
              "      <th>DEP_TIME_HM</th>\n",
              "      <th>WHEELS_OFF_HM</th>\n",
              "      <th>WHEELS_ON_HM</th>\n",
              "      <th>CRS_ARR_TIME_HM</th>\n",
              "      <th>ARR_TIME_HM</th>\n",
              "      <th>day_of_week</th>\n",
              "      <th>DELAY</th>\n",
              "    </tr>\n",
              "  </thead>\n",
              "  <tbody>\n",
              "    <tr>\n",
              "      <th>41</th>\n",
              "      <td>TUCSON, ARIZONA, USA</td>\n",
              "      <td>ATLANTA, GEORGIA, USA</td>\n",
              "      <td>2017-01-23</td>\n",
              "      <td>DL</td>\n",
              "      <td>2636</td>\n",
              "      <td>TUS</td>\n",
              "      <td>ATL</td>\n",
              "      <td>700</td>\n",
              "      <td>NaN</td>\n",
              "      <td>NaN</td>\n",
              "      <td>NaN</td>\n",
              "      <td>NaN</td>\n",
              "      <td>NaN</td>\n",
              "      <td>NaN</td>\n",
              "      <td>1230</td>\n",
              "      <td>NaN</td>\n",
              "      <td>NaN</td>\n",
              "      <td>1.0</td>\n",
              "      <td>B</td>\n",
              "      <td>0.0</td>\n",
              "      <td>210.0</td>\n",
              "      <td>NaN</td>\n",
              "      <td>NaN</td>\n",
              "      <td>1541.0</td>\n",
              "      <td>NaN</td>\n",
              "      <td>NaN</td>\n",
              "      <td>NaN</td>\n",
              "      <td>NaN</td>\n",
              "      <td>NaN</td>\n",
              "      <td>07:00</td>\n",
              "      <td>NaN</td>\n",
              "      <td>NaN</td>\n",
              "      <td>NaN</td>\n",
              "      <td>12:30</td>\n",
              "      <td>NaN</td>\n",
              "      <td>Monday</td>\n",
              "      <td>1</td>\n",
              "    </tr>\n",
              "    <tr>\n",
              "      <th>172</th>\n",
              "      <td>TUCSON, ARIZONA, USA</td>\n",
              "      <td>ATLANTA, GEORGIA, USA</td>\n",
              "      <td>2017-04-05</td>\n",
              "      <td>DL</td>\n",
              "      <td>1240</td>\n",
              "      <td>TUS</td>\n",
              "      <td>ATL</td>\n",
              "      <td>1330</td>\n",
              "      <td>NaN</td>\n",
              "      <td>NaN</td>\n",
              "      <td>NaN</td>\n",
              "      <td>NaN</td>\n",
              "      <td>NaN</td>\n",
              "      <td>NaN</td>\n",
              "      <td>2012</td>\n",
              "      <td>NaN</td>\n",
              "      <td>NaN</td>\n",
              "      <td>1.0</td>\n",
              "      <td>A</td>\n",
              "      <td>0.0</td>\n",
              "      <td>222.0</td>\n",
              "      <td>NaN</td>\n",
              "      <td>NaN</td>\n",
              "      <td>1541.0</td>\n",
              "      <td>NaN</td>\n",
              "      <td>NaN</td>\n",
              "      <td>NaN</td>\n",
              "      <td>NaN</td>\n",
              "      <td>NaN</td>\n",
              "      <td>13:30</td>\n",
              "      <td>NaN</td>\n",
              "      <td>NaN</td>\n",
              "      <td>NaN</td>\n",
              "      <td>20:12</td>\n",
              "      <td>NaN</td>\n",
              "      <td>Wednesday</td>\n",
              "      <td>1</td>\n",
              "    </tr>\n",
              "    <tr>\n",
              "      <th>176</th>\n",
              "      <td>TUCSON, ARIZONA, USA</td>\n",
              "      <td>ATLANTA, GEORGIA, USA</td>\n",
              "      <td>2017-04-07</td>\n",
              "      <td>DL</td>\n",
              "      <td>1240</td>\n",
              "      <td>TUS</td>\n",
              "      <td>ATL</td>\n",
              "      <td>1330</td>\n",
              "      <td>NaN</td>\n",
              "      <td>NaN</td>\n",
              "      <td>NaN</td>\n",
              "      <td>NaN</td>\n",
              "      <td>NaN</td>\n",
              "      <td>NaN</td>\n",
              "      <td>2012</td>\n",
              "      <td>NaN</td>\n",
              "      <td>NaN</td>\n",
              "      <td>1.0</td>\n",
              "      <td>A</td>\n",
              "      <td>0.0</td>\n",
              "      <td>222.0</td>\n",
              "      <td>NaN</td>\n",
              "      <td>NaN</td>\n",
              "      <td>1541.0</td>\n",
              "      <td>NaN</td>\n",
              "      <td>NaN</td>\n",
              "      <td>NaN</td>\n",
              "      <td>NaN</td>\n",
              "      <td>NaN</td>\n",
              "      <td>13:30</td>\n",
              "      <td>NaN</td>\n",
              "      <td>NaN</td>\n",
              "      <td>NaN</td>\n",
              "      <td>20:12</td>\n",
              "      <td>NaN</td>\n",
              "      <td>Friday</td>\n",
              "      <td>1</td>\n",
              "    </tr>\n",
              "  </tbody>\n",
              "</table>\n",
              "</div>"
            ],
            "text/plain": [
              "                        origin_city_name  ... DELAY\n",
              "41   TUCSON, ARIZONA, USA                 ...     1\n",
              "172  TUCSON, ARIZONA, USA                 ...     1\n",
              "176  TUCSON, ARIZONA, USA                 ...     1\n",
              "\n",
              "[3 rows x 37 columns]"
            ]
          },
          "metadata": {},
          "execution_count": 65
        }
      ]
    },
    {
      "cell_type": "code",
      "metadata": {
        "colab": {
          "base_uri": "https://localhost:8080/"
        },
        "id": "ZLfZFiQCXiXk",
        "outputId": "14764d53-d391-4561-8160-83630caf60fd"
      },
      "source": [
        "# Review CANCELLATION_CODE Values\n",
        "codes = cancelled_df.CANCELLATION_CODE.unique()\n",
        "for code in codes:\n",
        "  num_found = cancelled_df.FL_DATE[cancelled_df.CANCELLATION_CODE == code].count()\n",
        "  print(f\"Cancellation Code {code}: {num_found}\")"
      ],
      "execution_count": 67,
      "outputs": [
        {
          "output_type": "stream",
          "text": [
            "Cancellation Code B: 61\n",
            "Cancellation Code A: 20\n",
            "Cancellation Code C: 10\n"
          ],
          "name": "stdout"
        }
      ]
    },
    {
      "cell_type": "markdown",
      "metadata": {
        "id": "wks94KiV-l84"
      },
      "source": [
        "## Logical assessment of features\n",
        "\n",
        "**Features to include in the model**\n",
        "\n",
        "X values, Values known by customer\n",
        "* 'OP_CARRIER': airline designation\n",
        "* 'OP_CARRIER_FL_NUM': flight number\n",
        "* 'day_of_week': flight day of the week\n",
        "* 'DEST': destination airport code\n",
        "* 'CRS_DEP_TIME': scheduled departure time \n",
        "* 'CRS_ARR_TIME': scheduled arrival time\n",
        "* 'DISTANCE': flight distance\n",
        "\n",
        "Y values, Values customer wants predicted\n",
        "* 'CANCELLED': flight cancelled, [0, 1]\n",
        "* 'DIVERTED': flight diverted, [0, 1]\n",
        "* 'DELAY': arrival time delay, [0, 1]\n",
        "  * 0 = Delayed <30 minutes\n",
        "  * 1 = Delayed >=30 minutes\n",
        "\n",
        "**Features not to include in the model due to irrelevance**\n",
        "* 'ORIGIN': departure city, filtered for TUS only\n",
        "* 'origin_city_name': departure city calculated from ORIGIN\n",
        "* 'dest_city_name': destination city calculated from DEST\n",
        "* 'FL_DATE': flight date provides day_of_week calculation\n",
        "* 'CANCELLATION_CODE': reason for cancellation\n",
        "* 'CARRIER_DELAY': arrival delay time due to carrier (minutes)\n",
        "* 'WEATHER_DELAY': arrival delay time due to weather (minutes)\n",
        "* 'NAS_DELAY': arrival delay time due to NAS (minutes)\n",
        "* 'SECURITY_DELAY': arrival delay time due to security (minutes)\n",
        "* 'LATE_AIRCRAFT_DELAY': arrival delay time due to aircraft (minutes)\n",
        "* 'CRS_ELAPSED_TIME': scheduled elapsed time (minutes)\n",
        "* 'WHEELS_OFF': actual wheels off time, DEP_TIME + TAXI_OUT\n",
        "* 'WHEELS_ON': actual wheels on time, ARR_TIME - TAXI_IN\n",
        "\n",
        "**Features not to include in the model due to they directly reveal Y values**\n",
        "* 'DEP_DELAY': departure delay time (minutes)\n",
        "* 'DEP_TIME': actual departure time, CRS_DEP_TIME + DEP_DELAY\n",
        "* 'TAXI_OUT': calculated time spent in taxi between departure time and wheels off (minutes)\n",
        "* 'TAXI_IN': calculated time spent in taxi between wheels on and arrival time\n",
        "* 'AIR_TIME': calculated time spent in the air (minutes)\n",
        "* 'ACTUAL_ELAPSED_TIME': TAXI_OUT + TAXI_IN + AIR_TIME (minutes)\n",
        "* 'ARR_TIME': actual arrival time, DEP_TIME + ACTUAL_ELAPSED_TIME + time zone difference\n",
        "* ARR_DELAY: actual arrival time delay (minutes)\n",
        "\n",
        "**Time features in human readable format**\n",
        "* 'CRS_DEP_HM', Scheduled departure time\n",
        "* 'DEP_TIME_HM', Actual departure time\n",
        "* 'WHEELS_OFF_HM', Wheels off time\n",
        "* 'WHEELS_ON_HM', Wheels on time\n",
        "* 'CRS_ARR_TIME_HM', Scheduled arrival time\n",
        "* 'ARR_TIME_HM', Actual arrival time"
      ]
    },
    {
      "cell_type": "code",
      "metadata": {
        "colab": {
          "base_uri": "https://localhost:8080/"
        },
        "id": "g1LeIhqF-WeM",
        "outputId": "6b17be83-ebc5-4293-84f0-793cdc62194c"
      },
      "source": [
        "# List all of the column headers\n",
        "df.columns"
      ],
      "execution_count": 20,
      "outputs": [
        {
          "output_type": "execute_result",
          "data": {
            "text/plain": [
              "Index(['origin_city_name', 'dest_city_name', 'FL_DATE', 'OP_CARRIER',\n",
              "       'OP_CARRIER_FL_NUM', 'ORIGIN', 'DEST', 'CRS_DEP_TIME', 'DEP_TIME',\n",
              "       'DEP_DELAY', 'TAXI_OUT', 'WHEELS_OFF', 'WHEELS_ON', 'TAXI_IN',\n",
              "       'CRS_ARR_TIME', 'ARR_TIME', 'ARR_DELAY', 'CANCELLED',\n",
              "       'CANCELLATION_CODE', 'DIVERTED', 'CRS_ELAPSED_TIME',\n",
              "       'ACTUAL_ELAPSED_TIME', 'AIR_TIME', 'DISTANCE', 'CARRIER_DELAY',\n",
              "       'WEATHER_DELAY', 'NAS_DELAY', 'SECURITY_DELAY', 'LATE_AIRCRAFT_DELAY',\n",
              "       'CRS_DEP_HM', 'DEP_TIME_HM', 'WHEELS_OFF_HM', 'WHEELS_ON_HM',\n",
              "       'CRS_ARR_TIME_HM', 'ARR_TIME_HM', 'day_of_week', 'DELAY'],\n",
              "      dtype='object')"
            ]
          },
          "metadata": {},
          "execution_count": 20
        }
      ]
    },
    {
      "cell_type": "markdown",
      "metadata": {
        "id": "NlNtCjK-OSKG"
      },
      "source": [
        "# Define model"
      ]
    },
    {
      "cell_type": "code",
      "metadata": {
        "id": "zwnqOUeo-jFm",
        "outputId": "59ee1132-d5ec-4efa-ecd4-de88718eba76",
        "colab": {
          "base_uri": "https://localhost:8080/"
        }
      },
      "source": [
        "# Define model variables\n",
        "\n",
        "# Model input\n",
        "X_df = df[['OP_CARRIER', 'OP_CARRIER_FL_NUM', 'day_of_week', 'DEST', 'CRS_DEP_TIME', 'CRS_ARR_TIME', 'DISTANCE']]\n",
        "X_df.DISTANCE = X_df.DISTANCE.astype(int)\n",
        "\n",
        "# Model output\n",
        "y_df = df[['CANCELLED', 'DIVERTED', 'DELAY']]\n",
        "y_df.CANCELLED = y_df.CANCELLED.astype(int)\n",
        "y_df.DIVERTED = y_df.DIVERTED.astype(int)"
      ],
      "execution_count": 101,
      "outputs": [
        {
          "output_type": "stream",
          "text": [
            "/usr/local/lib/python3.7/dist-packages/pandas/core/generic.py:5170: SettingWithCopyWarning: \n",
            "A value is trying to be set on a copy of a slice from a DataFrame.\n",
            "Try using .loc[row_indexer,col_indexer] = value instead\n",
            "\n",
            "See the caveats in the documentation: https://pandas.pydata.org/pandas-docs/stable/user_guide/indexing.html#returning-a-view-versus-a-copy\n",
            "  self[name] = value\n"
          ],
          "name": "stderr"
        }
      ]
    },
    {
      "cell_type": "code",
      "metadata": {
        "id": "CKWQoT3_MEjk",
        "outputId": "be63a36c-62ef-47c6-c14c-beb61463c489",
        "colab": {
          "base_uri": "https://localhost:8080/",
          "height": 394
        }
      },
      "source": [
        "# Review model input\n",
        "print(X_df.info())\n",
        "X_df.head(3)"
      ],
      "execution_count": 102,
      "outputs": [
        {
          "output_type": "stream",
          "text": [
            "<class 'pandas.core.frame.DataFrame'>\n",
            "RangeIndex: 15406 entries, 0 to 15405\n",
            "Data columns (total 7 columns):\n",
            " #   Column             Non-Null Count  Dtype \n",
            "---  ------             --------------  ----- \n",
            " 0   OP_CARRIER         15406 non-null  object\n",
            " 1   OP_CARRIER_FL_NUM  15406 non-null  int64 \n",
            " 2   day_of_week        15406 non-null  object\n",
            " 3   DEST               15406 non-null  object\n",
            " 4   CRS_DEP_TIME       15406 non-null  int64 \n",
            " 5   CRS_ARR_TIME       15406 non-null  int64 \n",
            " 6   DISTANCE           15406 non-null  int64 \n",
            "dtypes: int64(4), object(3)\n",
            "memory usage: 842.6+ KB\n",
            "None\n"
          ],
          "name": "stdout"
        },
        {
          "output_type": "execute_result",
          "data": {
            "text/html": [
              "<div>\n",
              "<style scoped>\n",
              "    .dataframe tbody tr th:only-of-type {\n",
              "        vertical-align: middle;\n",
              "    }\n",
              "\n",
              "    .dataframe tbody tr th {\n",
              "        vertical-align: top;\n",
              "    }\n",
              "\n",
              "    .dataframe thead th {\n",
              "        text-align: right;\n",
              "    }\n",
              "</style>\n",
              "<table border=\"1\" class=\"dataframe\">\n",
              "  <thead>\n",
              "    <tr style=\"text-align: right;\">\n",
              "      <th></th>\n",
              "      <th>OP_CARRIER</th>\n",
              "      <th>OP_CARRIER_FL_NUM</th>\n",
              "      <th>day_of_week</th>\n",
              "      <th>DEST</th>\n",
              "      <th>CRS_DEP_TIME</th>\n",
              "      <th>CRS_ARR_TIME</th>\n",
              "      <th>DISTANCE</th>\n",
              "    </tr>\n",
              "  </thead>\n",
              "  <tbody>\n",
              "    <tr>\n",
              "      <th>0</th>\n",
              "      <td>DL</td>\n",
              "      <td>2066</td>\n",
              "      <td>Sunday</td>\n",
              "      <td>ATL</td>\n",
              "      <td>1430</td>\n",
              "      <td>2003</td>\n",
              "      <td>1541</td>\n",
              "    </tr>\n",
              "    <tr>\n",
              "      <th>1</th>\n",
              "      <td>DL</td>\n",
              "      <td>1127</td>\n",
              "      <td>Monday</td>\n",
              "      <td>ATL</td>\n",
              "      <td>600</td>\n",
              "      <td>1129</td>\n",
              "      <td>1541</td>\n",
              "    </tr>\n",
              "    <tr>\n",
              "      <th>2</th>\n",
              "      <td>DL</td>\n",
              "      <td>2066</td>\n",
              "      <td>Monday</td>\n",
              "      <td>ATL</td>\n",
              "      <td>1430</td>\n",
              "      <td>2005</td>\n",
              "      <td>1541</td>\n",
              "    </tr>\n",
              "  </tbody>\n",
              "</table>\n",
              "</div>"
            ],
            "text/plain": [
              "  OP_CARRIER  OP_CARRIER_FL_NUM  ... CRS_ARR_TIME DISTANCE\n",
              "0         DL               2066  ...         2003     1541\n",
              "1         DL               1127  ...         1129     1541\n",
              "2         DL               2066  ...         2005     1541\n",
              "\n",
              "[3 rows x 7 columns]"
            ]
          },
          "metadata": {},
          "execution_count": 102
        }
      ]
    },
    {
      "cell_type": "code",
      "metadata": {
        "id": "m4s4gNpbMGgc",
        "outputId": "7eac9f3d-86fe-4497-e6a9-e8ffef31ef48",
        "colab": {
          "base_uri": "https://localhost:8080/",
          "height": 326
        }
      },
      "source": [
        "# Review model output\n",
        "print(y_df.info())\n",
        "y_df.head(3)"
      ],
      "execution_count": 103,
      "outputs": [
        {
          "output_type": "stream",
          "text": [
            "<class 'pandas.core.frame.DataFrame'>\n",
            "RangeIndex: 15406 entries, 0 to 15405\n",
            "Data columns (total 3 columns):\n",
            " #   Column     Non-Null Count  Dtype\n",
            "---  ------     --------------  -----\n",
            " 0   CANCELLED  15406 non-null  int64\n",
            " 1   DIVERTED   15406 non-null  int64\n",
            " 2   DELAY      15406 non-null  int64\n",
            "dtypes: int64(3)\n",
            "memory usage: 361.2 KB\n",
            "None\n"
          ],
          "name": "stdout"
        },
        {
          "output_type": "execute_result",
          "data": {
            "text/html": [
              "<div>\n",
              "<style scoped>\n",
              "    .dataframe tbody tr th:only-of-type {\n",
              "        vertical-align: middle;\n",
              "    }\n",
              "\n",
              "    .dataframe tbody tr th {\n",
              "        vertical-align: top;\n",
              "    }\n",
              "\n",
              "    .dataframe thead th {\n",
              "        text-align: right;\n",
              "    }\n",
              "</style>\n",
              "<table border=\"1\" class=\"dataframe\">\n",
              "  <thead>\n",
              "    <tr style=\"text-align: right;\">\n",
              "      <th></th>\n",
              "      <th>CANCELLED</th>\n",
              "      <th>DIVERTED</th>\n",
              "      <th>DELAY</th>\n",
              "    </tr>\n",
              "  </thead>\n",
              "  <tbody>\n",
              "    <tr>\n",
              "      <th>0</th>\n",
              "      <td>0</td>\n",
              "      <td>0</td>\n",
              "      <td>0</td>\n",
              "    </tr>\n",
              "    <tr>\n",
              "      <th>1</th>\n",
              "      <td>0</td>\n",
              "      <td>0</td>\n",
              "      <td>1</td>\n",
              "    </tr>\n",
              "    <tr>\n",
              "      <th>2</th>\n",
              "      <td>0</td>\n",
              "      <td>0</td>\n",
              "      <td>0</td>\n",
              "    </tr>\n",
              "  </tbody>\n",
              "</table>\n",
              "</div>"
            ],
            "text/plain": [
              "   CANCELLED  DIVERTED  DELAY\n",
              "0          0         0      0\n",
              "1          0         0      1\n",
              "2          0         0      0"
            ]
          },
          "metadata": {},
          "execution_count": 103
        }
      ]
    },
    {
      "cell_type": "code",
      "metadata": {
        "colab": {
          "base_uri": "https://localhost:8080/",
          "height": 172
        },
        "id": "1w404y2T9730",
        "outputId": "7576baa0-ddef-4520-8a0e-259045aa59e8"
      },
      "source": [
        "# Review correlation of numerical input values\n",
        "correlation_df = X_df.corr()\n",
        "correlation_df"
      ],
      "execution_count": 104,
      "outputs": [
        {
          "output_type": "execute_result",
          "data": {
            "text/html": [
              "<div>\n",
              "<style scoped>\n",
              "    .dataframe tbody tr th:only-of-type {\n",
              "        vertical-align: middle;\n",
              "    }\n",
              "\n",
              "    .dataframe tbody tr th {\n",
              "        vertical-align: top;\n",
              "    }\n",
              "\n",
              "    .dataframe thead th {\n",
              "        text-align: right;\n",
              "    }\n",
              "</style>\n",
              "<table border=\"1\" class=\"dataframe\">\n",
              "  <thead>\n",
              "    <tr style=\"text-align: right;\">\n",
              "      <th></th>\n",
              "      <th>OP_CARRIER_FL_NUM</th>\n",
              "      <th>CRS_DEP_TIME</th>\n",
              "      <th>CRS_ARR_TIME</th>\n",
              "      <th>DISTANCE</th>\n",
              "    </tr>\n",
              "  </thead>\n",
              "  <tbody>\n",
              "    <tr>\n",
              "      <th>OP_CARRIER_FL_NUM</th>\n",
              "      <td>1.000000</td>\n",
              "      <td>-0.066724</td>\n",
              "      <td>-0.195604</td>\n",
              "      <td>-0.285792</td>\n",
              "    </tr>\n",
              "    <tr>\n",
              "      <th>CRS_DEP_TIME</th>\n",
              "      <td>-0.066724</td>\n",
              "      <td>1.000000</td>\n",
              "      <td>0.912463</td>\n",
              "      <td>-0.163380</td>\n",
              "    </tr>\n",
              "    <tr>\n",
              "      <th>CRS_ARR_TIME</th>\n",
              "      <td>-0.195604</td>\n",
              "      <td>0.912463</td>\n",
              "      <td>1.000000</td>\n",
              "      <td>0.199614</td>\n",
              "    </tr>\n",
              "    <tr>\n",
              "      <th>DISTANCE</th>\n",
              "      <td>-0.285792</td>\n",
              "      <td>-0.163380</td>\n",
              "      <td>0.199614</td>\n",
              "      <td>1.000000</td>\n",
              "    </tr>\n",
              "  </tbody>\n",
              "</table>\n",
              "</div>"
            ],
            "text/plain": [
              "                   OP_CARRIER_FL_NUM  CRS_DEP_TIME  CRS_ARR_TIME  DISTANCE\n",
              "OP_CARRIER_FL_NUM           1.000000     -0.066724     -0.195604 -0.285792\n",
              "CRS_DEP_TIME               -0.066724      1.000000      0.912463 -0.163380\n",
              "CRS_ARR_TIME               -0.195604      0.912463      1.000000  0.199614\n",
              "DISTANCE                   -0.285792     -0.163380      0.199614  1.000000"
            ]
          },
          "metadata": {},
          "execution_count": 104
        }
      ]
    },
    {
      "cell_type": "markdown",
      "metadata": {
        "id": "-YJSTXxdPiZm"
      },
      "source": [
        "The Pearson correlation between CRS_DEP_TIME and CRS_ARR_TIME as might be suspected. Modeling efforts will need to evaluate if CRS_ARR_TIME should be removed."
      ]
    }
  ]
}