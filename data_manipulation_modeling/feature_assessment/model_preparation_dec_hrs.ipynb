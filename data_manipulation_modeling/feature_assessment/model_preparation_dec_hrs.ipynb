{
  "nbformat": 4,
  "nbformat_minor": 2,
  "metadata": {
    "kernel_info": {
      "name": "dev"
    },
    "kernelspec": {
      "name": "python3",
      "display_name": "Python 3.7.9 64-bit ('PythonDataV2': conda)"
    },
    "language_info": {
      "codemirror_mode": {
        "name": "ipython",
        "version": 3
      },
      "file_extension": ".py",
      "mimetype": "text/x-python",
      "name": "python",
      "nbconvert_exporter": "python",
      "pygments_lexer": "ipython3",
      "version": "3.7.9"
    },
    "nteract": {
      "version": "0.12.3"
    },
    "interpreter": {
      "hash": "7145387fd502c2a792381ef9ef58718f99f5f6cce2c67dc36e296264320f59ee"
    },
    "colab": {
      "name": "model_preparation.ipynb",
      "provenance": [],
      "include_colab_link": true
    }
  },
  "cells": [
    {
      "cell_type": "markdown",
      "source": [
        "<a href=\"https://colab.research.google.com/github/NicoleLund/flight_delay_prediction/blob/model_prep_210819/data_manipulation_modeling/feature_assessment/model_preparation.ipynb\" target=\"_parent\"><img src=\"https://colab.research.google.com/assets/colab-badge.svg\" alt=\"Open In Colab\"/></a>"
      ],
      "metadata": {
        "id": "view-in-github",
        "colab_type": "text"
      }
    },
    {
      "cell_type": "markdown",
      "source": [
        "# model_preparation_dec_hrs\r\n",
        "----\r\n",
        "\r\n",
        "Written in Jupyter Notebook, Python\r\n",
        "\r\n",
        "By Nicole Lund \r\n",
        "\r\n",
        "This workbook investigates prepares 2017 flight performance for models."
      ],
      "metadata": {
        "id": "0G6gj1vRR48a"
      }
    },
    {
      "cell_type": "code",
      "execution_count": 11,
      "source": [
        "# Import Dependencies\r\n",
        "\r\n",
        "# Plotting\r\n",
        "%matplotlib inline\r\n",
        "import matplotlib.pyplot as plt\r\n",
        "\r\n",
        "# Data manipulation\r\n",
        "import numpy as np\r\n",
        "import pandas as pd\r\n",
        "import math\r\n",
        "import datetime\r\n",
        "from statistics import mean\r\n",
        "from operator import itemgetter\r\n",
        "from sklearn.model_selection import train_test_split\r\n",
        "from sklearn.preprocessing import LabelEncoder, MinMaxScaler, OneHotEncoder\r\n",
        "from tensorflow.keras.utils import to_categorical\r\n",
        "\r\n",
        "# Parameter Selection\r\n",
        "from sklearn import tree\r\n",
        "from sklearn.ensemble import RandomForestClassifier\r\n",
        "from sklearn.model_selection import GridSearchCV\r\n",
        "\r\n",
        "# Model Development\r\n",
        "from sklearn.linear_model import LinearRegression\r\n",
        "from sklearn.linear_model import LogisticRegression\r\n",
        "from sklearn.svm import SVC \r\n",
        "from tensorflow import keras\r\n",
        "from tensorflow.keras.models import Sequential\r\n",
        "from tensorflow.keras.layers import Dense\r\n",
        "from tensorflow.keras.layers import Dropout\r\n",
        "from tensorflow.keras.wrappers.scikit_learn import KerasClassifier\r\n",
        "\r\n",
        "# Model Metrics\r\n",
        "from sklearn.metrics import classification_report\r\n",
        "\r\n",
        "# Save/load files\r\n",
        "from tensorflow.keras.models import load_model\r\n",
        "import joblib\r\n",
        "# from google.colab import files\r\n",
        "\r\n",
        "# # Ignore deprecation warnings\r\n",
        "# import warnings\r\n",
        "# warnings.simplefilter('ignore', FutureWarning)"
      ],
      "outputs": [],
      "metadata": {
        "id": "byo9Yx__R48d"
      }
    },
    {
      "cell_type": "code",
      "execution_count": 3,
      "source": [
        "# Set the seed value for the notebook, so the results are reproducible\r\n",
        "from numpy.random import seed\r\n",
        "seed(1)"
      ],
      "outputs": [],
      "metadata": {
        "id": "8un601m2R48e"
      }
    },
    {
      "cell_type": "markdown",
      "source": [
        "# Read the clean CSV"
      ],
      "metadata": {
        "id": "h2XPthEaR48e"
      }
    },
    {
      "cell_type": "code",
      "execution_count": 16,
      "source": [
        "# Import data\r\n",
        "# Read the CSV file from AWS to Pandas Dataframe\r\n",
        "url = \"https://raw.githubusercontent.com/NicoleLund/flight_delay_prediction/main/data_manipulation_modeling/data_clean/2017_TUS.csv\"\r\n",
        "df = pd.read_csv(url)\r\n",
        "\r\n",
        "df.head(3)"
      ],
      "outputs": [
        {
          "output_type": "execute_result",
          "data": {
            "text/plain": [
              "                      origin_city_name                       dest_city_name  \\\n",
              "0  TUCSON, ARIZONA, USA                 ATLANTA, GEORGIA, USA                 \n",
              "1  TUCSON, ARIZONA, USA                 ATLANTA, GEORGIA, USA                 \n",
              "2  TUCSON, ARIZONA, USA                 ATLANTA, GEORGIA, USA                 \n",
              "\n",
              "      FL_DATE OP_CARRIER  OP_CARRIER_FL_NUM ORIGIN DEST  CRS_DEP_TIME  \\\n",
              "0  2017-01-01         DL               2066    TUS  ATL          1430   \n",
              "1  2017-01-02         DL               1127    TUS  ATL           600   \n",
              "2  2017-01-02         DL               2066    TUS  ATL          1430   \n",
              "\n",
              "   DEP_TIME  DEP_DELAY  ...  SECURITY_DELAY  LATE_AIRCRAFT_DELAY  CRS_DEP_HM  \\\n",
              "0    1459.0       29.0  ...             0.0                 14.0       14:30   \n",
              "1     637.0       37.0  ...             0.0                  0.0       06:00   \n",
              "2    1447.0       17.0  ...             NaN                  NaN       14:30   \n",
              "\n",
              "   DEP_TIME_HM  WHEELS_OFF_HM  WHEELS_ON_HM  CRS_ARR_TIME_HM  ARR_TIME_HM  \\\n",
              "0        14:59          15:09         20:11            20:03        20:28   \n",
              "1        06:37          06:47         11:57            11:29        12:03   \n",
              "2        14:47          14:57         19:43            20:05        19:52   \n",
              "\n",
              "  day_of_week  DELAY  \n",
              "0      Sunday      0  \n",
              "1      Monday      1  \n",
              "2      Monday      0  \n",
              "\n",
              "[3 rows x 37 columns]"
            ],
            "text/html": [
              "<div>\n",
              "<style scoped>\n",
              "    .dataframe tbody tr th:only-of-type {\n",
              "        vertical-align: middle;\n",
              "    }\n",
              "\n",
              "    .dataframe tbody tr th {\n",
              "        vertical-align: top;\n",
              "    }\n",
              "\n",
              "    .dataframe thead th {\n",
              "        text-align: right;\n",
              "    }\n",
              "</style>\n",
              "<table border=\"1\" class=\"dataframe\">\n",
              "  <thead>\n",
              "    <tr style=\"text-align: right;\">\n",
              "      <th></th>\n",
              "      <th>origin_city_name</th>\n",
              "      <th>dest_city_name</th>\n",
              "      <th>FL_DATE</th>\n",
              "      <th>OP_CARRIER</th>\n",
              "      <th>OP_CARRIER_FL_NUM</th>\n",
              "      <th>ORIGIN</th>\n",
              "      <th>DEST</th>\n",
              "      <th>CRS_DEP_TIME</th>\n",
              "      <th>DEP_TIME</th>\n",
              "      <th>DEP_DELAY</th>\n",
              "      <th>...</th>\n",
              "      <th>SECURITY_DELAY</th>\n",
              "      <th>LATE_AIRCRAFT_DELAY</th>\n",
              "      <th>CRS_DEP_HM</th>\n",
              "      <th>DEP_TIME_HM</th>\n",
              "      <th>WHEELS_OFF_HM</th>\n",
              "      <th>WHEELS_ON_HM</th>\n",
              "      <th>CRS_ARR_TIME_HM</th>\n",
              "      <th>ARR_TIME_HM</th>\n",
              "      <th>day_of_week</th>\n",
              "      <th>DELAY</th>\n",
              "    </tr>\n",
              "  </thead>\n",
              "  <tbody>\n",
              "    <tr>\n",
              "      <th>0</th>\n",
              "      <td>TUCSON, ARIZONA, USA</td>\n",
              "      <td>ATLANTA, GEORGIA, USA</td>\n",
              "      <td>2017-01-01</td>\n",
              "      <td>DL</td>\n",
              "      <td>2066</td>\n",
              "      <td>TUS</td>\n",
              "      <td>ATL</td>\n",
              "      <td>1430</td>\n",
              "      <td>1459.0</td>\n",
              "      <td>29.0</td>\n",
              "      <td>...</td>\n",
              "      <td>0.0</td>\n",
              "      <td>14.0</td>\n",
              "      <td>14:30</td>\n",
              "      <td>14:59</td>\n",
              "      <td>15:09</td>\n",
              "      <td>20:11</td>\n",
              "      <td>20:03</td>\n",
              "      <td>20:28</td>\n",
              "      <td>Sunday</td>\n",
              "      <td>0</td>\n",
              "    </tr>\n",
              "    <tr>\n",
              "      <th>1</th>\n",
              "      <td>TUCSON, ARIZONA, USA</td>\n",
              "      <td>ATLANTA, GEORGIA, USA</td>\n",
              "      <td>2017-01-02</td>\n",
              "      <td>DL</td>\n",
              "      <td>1127</td>\n",
              "      <td>TUS</td>\n",
              "      <td>ATL</td>\n",
              "      <td>600</td>\n",
              "      <td>637.0</td>\n",
              "      <td>37.0</td>\n",
              "      <td>...</td>\n",
              "      <td>0.0</td>\n",
              "      <td>0.0</td>\n",
              "      <td>06:00</td>\n",
              "      <td>06:37</td>\n",
              "      <td>06:47</td>\n",
              "      <td>11:57</td>\n",
              "      <td>11:29</td>\n",
              "      <td>12:03</td>\n",
              "      <td>Monday</td>\n",
              "      <td>1</td>\n",
              "    </tr>\n",
              "    <tr>\n",
              "      <th>2</th>\n",
              "      <td>TUCSON, ARIZONA, USA</td>\n",
              "      <td>ATLANTA, GEORGIA, USA</td>\n",
              "      <td>2017-01-02</td>\n",
              "      <td>DL</td>\n",
              "      <td>2066</td>\n",
              "      <td>TUS</td>\n",
              "      <td>ATL</td>\n",
              "      <td>1430</td>\n",
              "      <td>1447.0</td>\n",
              "      <td>17.0</td>\n",
              "      <td>...</td>\n",
              "      <td>NaN</td>\n",
              "      <td>NaN</td>\n",
              "      <td>14:30</td>\n",
              "      <td>14:47</td>\n",
              "      <td>14:57</td>\n",
              "      <td>19:43</td>\n",
              "      <td>20:05</td>\n",
              "      <td>19:52</td>\n",
              "      <td>Monday</td>\n",
              "      <td>0</td>\n",
              "    </tr>\n",
              "  </tbody>\n",
              "</table>\n",
              "<p>3 rows × 37 columns</p>\n",
              "</div>"
            ]
          },
          "metadata": {},
          "execution_count": 16
        }
      ],
      "metadata": {
        "colab": {
          "base_uri": "https://localhost:8080/",
          "height": 212
        },
        "id": "6sAlS5XWR48e",
        "outputId": "bb91c46a-747a-4b02-de16-b60e29efc91b"
      }
    },
    {
      "cell_type": "markdown",
      "source": [
        "# Pre-processing"
      ],
      "metadata": {
        "id": "4xVuJisFR48g"
      }
    },
    {
      "cell_type": "code",
      "execution_count": 19,
      "source": [
        "def time_conv(mil_time):\r\n",
        "  hours = []\r\n",
        "  hh = []\r\n",
        "  mm = []\r\n",
        "  for time in mil_time:\r\n",
        "    if time == 2400:\r\n",
        "      time = 0\r\n",
        "    if math.isnan(time):\r\n",
        "      hours.append(time)\r\n",
        "      hh.append(time)\r\n",
        "      mm.append(time)\r\n",
        "    elif time < 59:\r\n",
        "      hour = int(datetime.datetime.strptime(str(int(time)), '%M').strftime('%H'))\r\n",
        "      minute = int(datetime.datetime.strptime(str(int(time)), '%M').strftime('%M'))\r\n",
        "      hours.append(hour + minute/60)  \r\n",
        "      hh.append(hour)  \r\n",
        "      mm.append(minute)  \r\n",
        "    else:\r\n",
        "      hour = int(datetime.datetime.strptime(str(int(time)), '%H%M').strftime('%H'))\r\n",
        "      minute = int(datetime.datetime.strptime(str(int(time)), '%H%M').strftime('%M'))\r\n",
        "      hours.append(hour + minute/60)  \r\n",
        "      hh.append(hour)  \r\n",
        "      mm.append(minute)\r\n",
        "  return hours, hh, mm"
      ],
      "outputs": [],
      "metadata": {}
    },
    {
      "cell_type": "code",
      "execution_count": 20,
      "source": [
        "df['CRS_DEP_hours'], df['CRS_DEP_HH'], df['CRS_DEP_MM'] = time_conv(df['CRS_DEP_TIME'])\r\n",
        "df['CRS_ARR_hours'], df['CRS_ARR_HH'], df['CRS_ARR_MM'] = time_conv(df['CRS_ARR_TIME'])"
      ],
      "outputs": [],
      "metadata": {}
    },
    {
      "cell_type": "code",
      "execution_count": 21,
      "source": [
        "df.head(3)"
      ],
      "outputs": [
        {
          "output_type": "execute_result",
          "data": {
            "text/plain": [
              "                      origin_city_name                       dest_city_name  \\\n",
              "0  TUCSON, ARIZONA, USA                 ATLANTA, GEORGIA, USA                 \n",
              "1  TUCSON, ARIZONA, USA                 ATLANTA, GEORGIA, USA                 \n",
              "2  TUCSON, ARIZONA, USA                 ATLANTA, GEORGIA, USA                 \n",
              "\n",
              "      FL_DATE OP_CARRIER  OP_CARRIER_FL_NUM ORIGIN DEST  CRS_DEP_TIME  \\\n",
              "0  2017-01-01         DL               2066    TUS  ATL          1430   \n",
              "1  2017-01-02         DL               1127    TUS  ATL           600   \n",
              "2  2017-01-02         DL               2066    TUS  ATL          1430   \n",
              "\n",
              "   DEP_TIME  DEP_DELAY  ...  CRS_ARR_TIME_HM  ARR_TIME_HM  day_of_week  DELAY  \\\n",
              "0    1459.0       29.0  ...            20:03        20:28       Sunday      0   \n",
              "1     637.0       37.0  ...            11:29        12:03       Monday      1   \n",
              "2    1447.0       17.0  ...            20:05        19:52       Monday      0   \n",
              "\n",
              "   CRS_DEP_hours  CRS_DEP_HH  CRS_DEP_MM  CRS_ARR_hours CRS_ARR_HH  CRS_ARR_MM  \n",
              "0           14.5          14          30      20.050000         20           3  \n",
              "1            6.0           6           0      11.483333         11          29  \n",
              "2           14.5          14          30      20.083333         20           5  \n",
              "\n",
              "[3 rows x 43 columns]"
            ],
            "text/html": [
              "<div>\n",
              "<style scoped>\n",
              "    .dataframe tbody tr th:only-of-type {\n",
              "        vertical-align: middle;\n",
              "    }\n",
              "\n",
              "    .dataframe tbody tr th {\n",
              "        vertical-align: top;\n",
              "    }\n",
              "\n",
              "    .dataframe thead th {\n",
              "        text-align: right;\n",
              "    }\n",
              "</style>\n",
              "<table border=\"1\" class=\"dataframe\">\n",
              "  <thead>\n",
              "    <tr style=\"text-align: right;\">\n",
              "      <th></th>\n",
              "      <th>origin_city_name</th>\n",
              "      <th>dest_city_name</th>\n",
              "      <th>FL_DATE</th>\n",
              "      <th>OP_CARRIER</th>\n",
              "      <th>OP_CARRIER_FL_NUM</th>\n",
              "      <th>ORIGIN</th>\n",
              "      <th>DEST</th>\n",
              "      <th>CRS_DEP_TIME</th>\n",
              "      <th>DEP_TIME</th>\n",
              "      <th>DEP_DELAY</th>\n",
              "      <th>...</th>\n",
              "      <th>CRS_ARR_TIME_HM</th>\n",
              "      <th>ARR_TIME_HM</th>\n",
              "      <th>day_of_week</th>\n",
              "      <th>DELAY</th>\n",
              "      <th>CRS_DEP_hours</th>\n",
              "      <th>CRS_DEP_HH</th>\n",
              "      <th>CRS_DEP_MM</th>\n",
              "      <th>CRS_ARR_hours</th>\n",
              "      <th>CRS_ARR_HH</th>\n",
              "      <th>CRS_ARR_MM</th>\n",
              "    </tr>\n",
              "  </thead>\n",
              "  <tbody>\n",
              "    <tr>\n",
              "      <th>0</th>\n",
              "      <td>TUCSON, ARIZONA, USA</td>\n",
              "      <td>ATLANTA, GEORGIA, USA</td>\n",
              "      <td>2017-01-01</td>\n",
              "      <td>DL</td>\n",
              "      <td>2066</td>\n",
              "      <td>TUS</td>\n",
              "      <td>ATL</td>\n",
              "      <td>1430</td>\n",
              "      <td>1459.0</td>\n",
              "      <td>29.0</td>\n",
              "      <td>...</td>\n",
              "      <td>20:03</td>\n",
              "      <td>20:28</td>\n",
              "      <td>Sunday</td>\n",
              "      <td>0</td>\n",
              "      <td>14.5</td>\n",
              "      <td>14</td>\n",
              "      <td>30</td>\n",
              "      <td>20.050000</td>\n",
              "      <td>20</td>\n",
              "      <td>3</td>\n",
              "    </tr>\n",
              "    <tr>\n",
              "      <th>1</th>\n",
              "      <td>TUCSON, ARIZONA, USA</td>\n",
              "      <td>ATLANTA, GEORGIA, USA</td>\n",
              "      <td>2017-01-02</td>\n",
              "      <td>DL</td>\n",
              "      <td>1127</td>\n",
              "      <td>TUS</td>\n",
              "      <td>ATL</td>\n",
              "      <td>600</td>\n",
              "      <td>637.0</td>\n",
              "      <td>37.0</td>\n",
              "      <td>...</td>\n",
              "      <td>11:29</td>\n",
              "      <td>12:03</td>\n",
              "      <td>Monday</td>\n",
              "      <td>1</td>\n",
              "      <td>6.0</td>\n",
              "      <td>6</td>\n",
              "      <td>0</td>\n",
              "      <td>11.483333</td>\n",
              "      <td>11</td>\n",
              "      <td>29</td>\n",
              "    </tr>\n",
              "    <tr>\n",
              "      <th>2</th>\n",
              "      <td>TUCSON, ARIZONA, USA</td>\n",
              "      <td>ATLANTA, GEORGIA, USA</td>\n",
              "      <td>2017-01-02</td>\n",
              "      <td>DL</td>\n",
              "      <td>2066</td>\n",
              "      <td>TUS</td>\n",
              "      <td>ATL</td>\n",
              "      <td>1430</td>\n",
              "      <td>1447.0</td>\n",
              "      <td>17.0</td>\n",
              "      <td>...</td>\n",
              "      <td>20:05</td>\n",
              "      <td>19:52</td>\n",
              "      <td>Monday</td>\n",
              "      <td>0</td>\n",
              "      <td>14.5</td>\n",
              "      <td>14</td>\n",
              "      <td>30</td>\n",
              "      <td>20.083333</td>\n",
              "      <td>20</td>\n",
              "      <td>5</td>\n",
              "    </tr>\n",
              "  </tbody>\n",
              "</table>\n",
              "<p>3 rows × 43 columns</p>\n",
              "</div>"
            ]
          },
          "metadata": {},
          "execution_count": 21
        }
      ],
      "metadata": {}
    },
    {
      "cell_type": "code",
      "execution_count": 22,
      "source": [
        "# Split dataframe into X and y\r\n",
        "# Define model variables\r\n",
        "\r\n",
        "# Model input\r\n",
        "X_categorical_df = df[['OP_CARRIER', 'day_of_week', 'DEST']]\r\n",
        "X_numeric_df = df[['OP_CARRIER_FL_NUM', 'CRS_DEP_hours', 'CRS_ARR_hours', 'DISTANCE']]\r\n",
        "X_numeric_df.DISTANCE = X_numeric_df.DISTANCE.astype(int)\r\n",
        "\r\n",
        "# Model output\r\n",
        "y_df = df[['CANCELLED', 'DIVERTED', 'DELAY']]\r\n",
        "y_df.CANCELLED = y_df.CANCELLED.astype(int)\r\n",
        "y_df.DIVERTED = y_df.DIVERTED.astype(int)"
      ],
      "outputs": [
        {
          "output_type": "stream",
          "name": "stderr",
          "text": [
            "C:\\Users\\nlund\\anaconda3\\envs\\PythonDataV2\\lib\\site-packages\\pandas\\core\\generic.py:5507: SettingWithCopyWarning: \n",
            "A value is trying to be set on a copy of a slice from a DataFrame.\n",
            "Try using .loc[row_indexer,col_indexer] = value instead\n",
            "\n",
            "See the caveats in the documentation: https://pandas.pydata.org/pandas-docs/stable/user_guide/indexing.html#returning-a-view-versus-a-copy\n",
            "  self[name] = value\n"
          ]
        }
      ],
      "metadata": {
        "colab": {
          "base_uri": "https://localhost:8080/"
        },
        "id": "2mvarRxcR48g",
        "outputId": "9907d413-a5b7-49f2-d1c3-ef82a3394d2f"
      }
    },
    {
      "cell_type": "code",
      "execution_count": 23,
      "source": [
        "# Review model output\r\n",
        "print(y_df.info())\r\n",
        "y_df.head(3)"
      ],
      "outputs": [
        {
          "output_type": "stream",
          "name": "stdout",
          "text": [
            "<class 'pandas.core.frame.DataFrame'>\n",
            "RangeIndex: 15406 entries, 0 to 15405\n",
            "Data columns (total 3 columns):\n",
            " #   Column     Non-Null Count  Dtype\n",
            "---  ------     --------------  -----\n",
            " 0   CANCELLED  15406 non-null  int32\n",
            " 1   DIVERTED   15406 non-null  int32\n",
            " 2   DELAY      15406 non-null  int64\n",
            "dtypes: int32(2), int64(1)\n",
            "memory usage: 240.8 KB\n",
            "None\n"
          ]
        },
        {
          "output_type": "execute_result",
          "data": {
            "text/plain": [
              "   CANCELLED  DIVERTED  DELAY\n",
              "0          0         0      0\n",
              "1          0         0      1\n",
              "2          0         0      0"
            ],
            "text/html": [
              "<div>\n",
              "<style scoped>\n",
              "    .dataframe tbody tr th:only-of-type {\n",
              "        vertical-align: middle;\n",
              "    }\n",
              "\n",
              "    .dataframe tbody tr th {\n",
              "        vertical-align: top;\n",
              "    }\n",
              "\n",
              "    .dataframe thead th {\n",
              "        text-align: right;\n",
              "    }\n",
              "</style>\n",
              "<table border=\"1\" class=\"dataframe\">\n",
              "  <thead>\n",
              "    <tr style=\"text-align: right;\">\n",
              "      <th></th>\n",
              "      <th>CANCELLED</th>\n",
              "      <th>DIVERTED</th>\n",
              "      <th>DELAY</th>\n",
              "    </tr>\n",
              "  </thead>\n",
              "  <tbody>\n",
              "    <tr>\n",
              "      <th>0</th>\n",
              "      <td>0</td>\n",
              "      <td>0</td>\n",
              "      <td>0</td>\n",
              "    </tr>\n",
              "    <tr>\n",
              "      <th>1</th>\n",
              "      <td>0</td>\n",
              "      <td>0</td>\n",
              "      <td>1</td>\n",
              "    </tr>\n",
              "    <tr>\n",
              "      <th>2</th>\n",
              "      <td>0</td>\n",
              "      <td>0</td>\n",
              "      <td>0</td>\n",
              "    </tr>\n",
              "  </tbody>\n",
              "</table>\n",
              "</div>"
            ]
          },
          "metadata": {},
          "execution_count": 23
        }
      ],
      "metadata": {
        "colab": {
          "base_uri": "https://localhost:8080/",
          "height": 326
        },
        "id": "CdNAGF5XVwQ6",
        "outputId": "7400c4ab-98fe-4849-ace0-7ca86e15891e"
      }
    },
    {
      "cell_type": "code",
      "execution_count": 24,
      "source": [
        "# Review model numeric input\r\n",
        "print(X_numeric_df.info())\r\n",
        "X_numeric_df.head(3)"
      ],
      "outputs": [
        {
          "output_type": "stream",
          "name": "stdout",
          "text": [
            "<class 'pandas.core.frame.DataFrame'>\n",
            "RangeIndex: 15406 entries, 0 to 15405\n",
            "Data columns (total 4 columns):\n",
            " #   Column             Non-Null Count  Dtype  \n",
            "---  ------             --------------  -----  \n",
            " 0   OP_CARRIER_FL_NUM  15406 non-null  int64  \n",
            " 1   CRS_DEP_hours      15406 non-null  float64\n",
            " 2   CRS_ARR_hours      15406 non-null  float64\n",
            " 3   DISTANCE           15406 non-null  int32  \n",
            "dtypes: float64(2), int32(1), int64(1)\n",
            "memory usage: 421.4 KB\n",
            "None\n"
          ]
        },
        {
          "output_type": "execute_result",
          "data": {
            "text/plain": [
              "   OP_CARRIER_FL_NUM  CRS_DEP_hours  CRS_ARR_hours  DISTANCE\n",
              "0               2066           14.5      20.050000      1541\n",
              "1               1127            6.0      11.483333      1541\n",
              "2               2066           14.5      20.083333      1541"
            ],
            "text/html": [
              "<div>\n",
              "<style scoped>\n",
              "    .dataframe tbody tr th:only-of-type {\n",
              "        vertical-align: middle;\n",
              "    }\n",
              "\n",
              "    .dataframe tbody tr th {\n",
              "        vertical-align: top;\n",
              "    }\n",
              "\n",
              "    .dataframe thead th {\n",
              "        text-align: right;\n",
              "    }\n",
              "</style>\n",
              "<table border=\"1\" class=\"dataframe\">\n",
              "  <thead>\n",
              "    <tr style=\"text-align: right;\">\n",
              "      <th></th>\n",
              "      <th>OP_CARRIER_FL_NUM</th>\n",
              "      <th>CRS_DEP_hours</th>\n",
              "      <th>CRS_ARR_hours</th>\n",
              "      <th>DISTANCE</th>\n",
              "    </tr>\n",
              "  </thead>\n",
              "  <tbody>\n",
              "    <tr>\n",
              "      <th>0</th>\n",
              "      <td>2066</td>\n",
              "      <td>14.5</td>\n",
              "      <td>20.050000</td>\n",
              "      <td>1541</td>\n",
              "    </tr>\n",
              "    <tr>\n",
              "      <th>1</th>\n",
              "      <td>1127</td>\n",
              "      <td>6.0</td>\n",
              "      <td>11.483333</td>\n",
              "      <td>1541</td>\n",
              "    </tr>\n",
              "    <tr>\n",
              "      <th>2</th>\n",
              "      <td>2066</td>\n",
              "      <td>14.5</td>\n",
              "      <td>20.083333</td>\n",
              "      <td>1541</td>\n",
              "    </tr>\n",
              "  </tbody>\n",
              "</table>\n",
              "</div>"
            ]
          },
          "metadata": {},
          "execution_count": 24
        }
      ],
      "metadata": {
        "colab": {
          "base_uri": "https://localhost:8080/",
          "height": 343
        },
        "id": "lQJv7IovUTMx",
        "outputId": "9e92179b-b3f9-404b-9c2e-6f5aa9516d98"
      }
    },
    {
      "cell_type": "code",
      "execution_count": 25,
      "source": [
        "# Review model categorical input\r\n",
        "print(X_categorical_df.info())\r\n",
        "X_categorical_df.head(3)"
      ],
      "outputs": [
        {
          "output_type": "stream",
          "name": "stdout",
          "text": [
            "<class 'pandas.core.frame.DataFrame'>\n",
            "RangeIndex: 15406 entries, 0 to 15405\n",
            "Data columns (total 3 columns):\n",
            " #   Column       Non-Null Count  Dtype \n",
            "---  ------       --------------  ----- \n",
            " 0   OP_CARRIER   15406 non-null  object\n",
            " 1   day_of_week  15406 non-null  object\n",
            " 2   DEST         15406 non-null  object\n",
            "dtypes: object(3)\n",
            "memory usage: 361.2+ KB\n",
            "None\n"
          ]
        },
        {
          "output_type": "execute_result",
          "data": {
            "text/plain": [
              "  OP_CARRIER day_of_week DEST\n",
              "0         DL      Sunday  ATL\n",
              "1         DL      Monday  ATL\n",
              "2         DL      Monday  ATL"
            ],
            "text/html": [
              "<div>\n",
              "<style scoped>\n",
              "    .dataframe tbody tr th:only-of-type {\n",
              "        vertical-align: middle;\n",
              "    }\n",
              "\n",
              "    .dataframe tbody tr th {\n",
              "        vertical-align: top;\n",
              "    }\n",
              "\n",
              "    .dataframe thead th {\n",
              "        text-align: right;\n",
              "    }\n",
              "</style>\n",
              "<table border=\"1\" class=\"dataframe\">\n",
              "  <thead>\n",
              "    <tr style=\"text-align: right;\">\n",
              "      <th></th>\n",
              "      <th>OP_CARRIER</th>\n",
              "      <th>day_of_week</th>\n",
              "      <th>DEST</th>\n",
              "    </tr>\n",
              "  </thead>\n",
              "  <tbody>\n",
              "    <tr>\n",
              "      <th>0</th>\n",
              "      <td>DL</td>\n",
              "      <td>Sunday</td>\n",
              "      <td>ATL</td>\n",
              "    </tr>\n",
              "    <tr>\n",
              "      <th>1</th>\n",
              "      <td>DL</td>\n",
              "      <td>Monday</td>\n",
              "      <td>ATL</td>\n",
              "    </tr>\n",
              "    <tr>\n",
              "      <th>2</th>\n",
              "      <td>DL</td>\n",
              "      <td>Monday</td>\n",
              "      <td>ATL</td>\n",
              "    </tr>\n",
              "  </tbody>\n",
              "</table>\n",
              "</div>"
            ]
          },
          "metadata": {},
          "execution_count": 25
        }
      ],
      "metadata": {
        "colab": {
          "base_uri": "https://localhost:8080/",
          "height": 326
        },
        "id": "4s_93gLRdNWi",
        "outputId": "6f757679-f1b0-48c6-8a92-f46b5cb1aa06"
      }
    },
    {
      "cell_type": "code",
      "execution_count": 26,
      "source": [
        "# Get categories for one hot encoder\r\n",
        "carriers = pd.unique(X_categorical_df.OP_CARRIER)\r\n",
        "day = pd.unique(X_categorical_df.day_of_week)\r\n",
        "destination = pd.unique(X_categorical_df.DEST)\r\n",
        "print(carriers)\r\n",
        "print(day)\r\n",
        "print(destination)"
      ],
      "outputs": [
        {
          "output_type": "stream",
          "name": "stdout",
          "text": [
            "['DL' 'OO' 'UA' 'WN' 'AA' 'EV' 'AS']\n",
            "['Sunday' 'Monday' 'Tuesday' 'Wednesday' 'Thursday' 'Friday' 'Saturday']\n",
            "['ATL' 'DEN' 'DFW' 'HOU' 'IAH' 'JFK' 'LAS' 'LAX' 'MDW' 'MSP' 'OAK' 'ORD'\n",
            " 'PDX' 'PHX' 'SAN' 'SEA' 'SFO' 'SJC' 'SLC']\n"
          ]
        }
      ],
      "metadata": {
        "colab": {
          "base_uri": "https://localhost:8080/"
        },
        "id": "cgEJEqyQbY9X",
        "outputId": "fec63662-582d-45f2-d37f-f6dc5c303e4e"
      }
    },
    {
      "cell_type": "code",
      "execution_count": 27,
      "source": [
        "column_names = ['DL', 'OO', 'UA', 'WN', 'AA', 'EV', 'AS', \\\r\n",
        " 'Sunday', 'Monday', 'Tuesday', 'Wednesday', \\\r\n",
        " 'Thursday', 'Friday', 'Saturday', 'ATL', 'DEN', \\\r\n",
        " 'DFW', 'HOU', 'IAH', 'JFK', 'LAS', 'LAX', 'MDW', \\\r\n",
        " 'MSP', 'OAK', 'ORD', 'PDX', 'PHX', 'SAN', 'SEA', 'SFO', 'SJC', 'SLC']"
      ],
      "outputs": [],
      "metadata": {
        "id": "q83aKPc4v4ti"
      }
    },
    {
      "cell_type": "code",
      "execution_count": 28,
      "source": [
        "# One-hot-encode text object fields\r\n",
        "encoder = OneHotEncoder(categories=[carriers,day,destination])\r\n",
        "encoder.fit(X_categorical_df)\r\n",
        "X_encoded = encoder.transform(X_categorical_df)\r\n",
        "X_encoded.toarray()"
      ],
      "outputs": [
        {
          "output_type": "execute_result",
          "data": {
            "text/plain": [
              "array([[1., 0., 0., ..., 0., 0., 0.],\n",
              "       [1., 0., 0., ..., 0., 0., 0.],\n",
              "       [1., 0., 0., ..., 0., 0., 0.],\n",
              "       ...,\n",
              "       [0., 1., 0., ..., 0., 0., 1.],\n",
              "       [0., 1., 0., ..., 0., 0., 1.],\n",
              "       [0., 1., 0., ..., 0., 0., 1.]])"
            ]
          },
          "metadata": {},
          "execution_count": 28
        }
      ],
      "metadata": {
        "colab": {
          "base_uri": "https://localhost:8080/"
        },
        "id": "Yvwq5SFIbvKd",
        "outputId": "2754a1dd-7ac4-4fbc-fe2d-6e691a3dbeba"
      }
    },
    {
      "cell_type": "code",
      "execution_count": 29,
      "source": [
        "X_encoded_df = pd.DataFrame(X_encoded.toarray(), columns=column_names)\r\n",
        "X_encoded_df.head(3)"
      ],
      "outputs": [
        {
          "output_type": "execute_result",
          "data": {
            "text/plain": [
              "    DL   OO   UA   WN   AA   EV   AS  Sunday  Monday  Tuesday  ...  MSP  OAK  \\\n",
              "0  1.0  0.0  0.0  0.0  0.0  0.0  0.0     1.0     0.0      0.0  ...  0.0  0.0   \n",
              "1  1.0  0.0  0.0  0.0  0.0  0.0  0.0     0.0     1.0      0.0  ...  0.0  0.0   \n",
              "2  1.0  0.0  0.0  0.0  0.0  0.0  0.0     0.0     1.0      0.0  ...  0.0  0.0   \n",
              "\n",
              "   ORD  PDX  PHX  SAN  SEA  SFO  SJC  SLC  \n",
              "0  0.0  0.0  0.0  0.0  0.0  0.0  0.0  0.0  \n",
              "1  0.0  0.0  0.0  0.0  0.0  0.0  0.0  0.0  \n",
              "2  0.0  0.0  0.0  0.0  0.0  0.0  0.0  0.0  \n",
              "\n",
              "[3 rows x 33 columns]"
            ],
            "text/html": [
              "<div>\n",
              "<style scoped>\n",
              "    .dataframe tbody tr th:only-of-type {\n",
              "        vertical-align: middle;\n",
              "    }\n",
              "\n",
              "    .dataframe tbody tr th {\n",
              "        vertical-align: top;\n",
              "    }\n",
              "\n",
              "    .dataframe thead th {\n",
              "        text-align: right;\n",
              "    }\n",
              "</style>\n",
              "<table border=\"1\" class=\"dataframe\">\n",
              "  <thead>\n",
              "    <tr style=\"text-align: right;\">\n",
              "      <th></th>\n",
              "      <th>DL</th>\n",
              "      <th>OO</th>\n",
              "      <th>UA</th>\n",
              "      <th>WN</th>\n",
              "      <th>AA</th>\n",
              "      <th>EV</th>\n",
              "      <th>AS</th>\n",
              "      <th>Sunday</th>\n",
              "      <th>Monday</th>\n",
              "      <th>Tuesday</th>\n",
              "      <th>...</th>\n",
              "      <th>MSP</th>\n",
              "      <th>OAK</th>\n",
              "      <th>ORD</th>\n",
              "      <th>PDX</th>\n",
              "      <th>PHX</th>\n",
              "      <th>SAN</th>\n",
              "      <th>SEA</th>\n",
              "      <th>SFO</th>\n",
              "      <th>SJC</th>\n",
              "      <th>SLC</th>\n",
              "    </tr>\n",
              "  </thead>\n",
              "  <tbody>\n",
              "    <tr>\n",
              "      <th>0</th>\n",
              "      <td>1.0</td>\n",
              "      <td>0.0</td>\n",
              "      <td>0.0</td>\n",
              "      <td>0.0</td>\n",
              "      <td>0.0</td>\n",
              "      <td>0.0</td>\n",
              "      <td>0.0</td>\n",
              "      <td>1.0</td>\n",
              "      <td>0.0</td>\n",
              "      <td>0.0</td>\n",
              "      <td>...</td>\n",
              "      <td>0.0</td>\n",
              "      <td>0.0</td>\n",
              "      <td>0.0</td>\n",
              "      <td>0.0</td>\n",
              "      <td>0.0</td>\n",
              "      <td>0.0</td>\n",
              "      <td>0.0</td>\n",
              "      <td>0.0</td>\n",
              "      <td>0.0</td>\n",
              "      <td>0.0</td>\n",
              "    </tr>\n",
              "    <tr>\n",
              "      <th>1</th>\n",
              "      <td>1.0</td>\n",
              "      <td>0.0</td>\n",
              "      <td>0.0</td>\n",
              "      <td>0.0</td>\n",
              "      <td>0.0</td>\n",
              "      <td>0.0</td>\n",
              "      <td>0.0</td>\n",
              "      <td>0.0</td>\n",
              "      <td>1.0</td>\n",
              "      <td>0.0</td>\n",
              "      <td>...</td>\n",
              "      <td>0.0</td>\n",
              "      <td>0.0</td>\n",
              "      <td>0.0</td>\n",
              "      <td>0.0</td>\n",
              "      <td>0.0</td>\n",
              "      <td>0.0</td>\n",
              "      <td>0.0</td>\n",
              "      <td>0.0</td>\n",
              "      <td>0.0</td>\n",
              "      <td>0.0</td>\n",
              "    </tr>\n",
              "    <tr>\n",
              "      <th>2</th>\n",
              "      <td>1.0</td>\n",
              "      <td>0.0</td>\n",
              "      <td>0.0</td>\n",
              "      <td>0.0</td>\n",
              "      <td>0.0</td>\n",
              "      <td>0.0</td>\n",
              "      <td>0.0</td>\n",
              "      <td>0.0</td>\n",
              "      <td>1.0</td>\n",
              "      <td>0.0</td>\n",
              "      <td>...</td>\n",
              "      <td>0.0</td>\n",
              "      <td>0.0</td>\n",
              "      <td>0.0</td>\n",
              "      <td>0.0</td>\n",
              "      <td>0.0</td>\n",
              "      <td>0.0</td>\n",
              "      <td>0.0</td>\n",
              "      <td>0.0</td>\n",
              "      <td>0.0</td>\n",
              "      <td>0.0</td>\n",
              "    </tr>\n",
              "  </tbody>\n",
              "</table>\n",
              "<p>3 rows × 33 columns</p>\n",
              "</div>"
            ]
          },
          "metadata": {},
          "execution_count": 29
        }
      ],
      "metadata": {
        "colab": {
          "base_uri": "https://localhost:8080/",
          "height": 162
        },
        "id": "9GMmBu_ug2zR",
        "outputId": "5760c163-d6a2-4f1e-d454-4bcbdbd482a2"
      }
    },
    {
      "cell_type": "code",
      "execution_count": 30,
      "source": [
        "X_df = X_numeric_df\r\n",
        "X_df = X_df.join(X_encoded_df)\r\n",
        "X_df.head(3)"
      ],
      "outputs": [
        {
          "output_type": "execute_result",
          "data": {
            "text/plain": [
              "   OP_CARRIER_FL_NUM  CRS_DEP_hours  CRS_ARR_hours  DISTANCE   DL   OO   UA  \\\n",
              "0               2066           14.5      20.050000      1541  1.0  0.0  0.0   \n",
              "1               1127            6.0      11.483333      1541  1.0  0.0  0.0   \n",
              "2               2066           14.5      20.083333      1541  1.0  0.0  0.0   \n",
              "\n",
              "    WN   AA   EV  ...  MSP  OAK  ORD  PDX  PHX  SAN  SEA  SFO  SJC  SLC  \n",
              "0  0.0  0.0  0.0  ...  0.0  0.0  0.0  0.0  0.0  0.0  0.0  0.0  0.0  0.0  \n",
              "1  0.0  0.0  0.0  ...  0.0  0.0  0.0  0.0  0.0  0.0  0.0  0.0  0.0  0.0  \n",
              "2  0.0  0.0  0.0  ...  0.0  0.0  0.0  0.0  0.0  0.0  0.0  0.0  0.0  0.0  \n",
              "\n",
              "[3 rows x 37 columns]"
            ],
            "text/html": [
              "<div>\n",
              "<style scoped>\n",
              "    .dataframe tbody tr th:only-of-type {\n",
              "        vertical-align: middle;\n",
              "    }\n",
              "\n",
              "    .dataframe tbody tr th {\n",
              "        vertical-align: top;\n",
              "    }\n",
              "\n",
              "    .dataframe thead th {\n",
              "        text-align: right;\n",
              "    }\n",
              "</style>\n",
              "<table border=\"1\" class=\"dataframe\">\n",
              "  <thead>\n",
              "    <tr style=\"text-align: right;\">\n",
              "      <th></th>\n",
              "      <th>OP_CARRIER_FL_NUM</th>\n",
              "      <th>CRS_DEP_hours</th>\n",
              "      <th>CRS_ARR_hours</th>\n",
              "      <th>DISTANCE</th>\n",
              "      <th>DL</th>\n",
              "      <th>OO</th>\n",
              "      <th>UA</th>\n",
              "      <th>WN</th>\n",
              "      <th>AA</th>\n",
              "      <th>EV</th>\n",
              "      <th>...</th>\n",
              "      <th>MSP</th>\n",
              "      <th>OAK</th>\n",
              "      <th>ORD</th>\n",
              "      <th>PDX</th>\n",
              "      <th>PHX</th>\n",
              "      <th>SAN</th>\n",
              "      <th>SEA</th>\n",
              "      <th>SFO</th>\n",
              "      <th>SJC</th>\n",
              "      <th>SLC</th>\n",
              "    </tr>\n",
              "  </thead>\n",
              "  <tbody>\n",
              "    <tr>\n",
              "      <th>0</th>\n",
              "      <td>2066</td>\n",
              "      <td>14.5</td>\n",
              "      <td>20.050000</td>\n",
              "      <td>1541</td>\n",
              "      <td>1.0</td>\n",
              "      <td>0.0</td>\n",
              "      <td>0.0</td>\n",
              "      <td>0.0</td>\n",
              "      <td>0.0</td>\n",
              "      <td>0.0</td>\n",
              "      <td>...</td>\n",
              "      <td>0.0</td>\n",
              "      <td>0.0</td>\n",
              "      <td>0.0</td>\n",
              "      <td>0.0</td>\n",
              "      <td>0.0</td>\n",
              "      <td>0.0</td>\n",
              "      <td>0.0</td>\n",
              "      <td>0.0</td>\n",
              "      <td>0.0</td>\n",
              "      <td>0.0</td>\n",
              "    </tr>\n",
              "    <tr>\n",
              "      <th>1</th>\n",
              "      <td>1127</td>\n",
              "      <td>6.0</td>\n",
              "      <td>11.483333</td>\n",
              "      <td>1541</td>\n",
              "      <td>1.0</td>\n",
              "      <td>0.0</td>\n",
              "      <td>0.0</td>\n",
              "      <td>0.0</td>\n",
              "      <td>0.0</td>\n",
              "      <td>0.0</td>\n",
              "      <td>...</td>\n",
              "      <td>0.0</td>\n",
              "      <td>0.0</td>\n",
              "      <td>0.0</td>\n",
              "      <td>0.0</td>\n",
              "      <td>0.0</td>\n",
              "      <td>0.0</td>\n",
              "      <td>0.0</td>\n",
              "      <td>0.0</td>\n",
              "      <td>0.0</td>\n",
              "      <td>0.0</td>\n",
              "    </tr>\n",
              "    <tr>\n",
              "      <th>2</th>\n",
              "      <td>2066</td>\n",
              "      <td>14.5</td>\n",
              "      <td>20.083333</td>\n",
              "      <td>1541</td>\n",
              "      <td>1.0</td>\n",
              "      <td>0.0</td>\n",
              "      <td>0.0</td>\n",
              "      <td>0.0</td>\n",
              "      <td>0.0</td>\n",
              "      <td>0.0</td>\n",
              "      <td>...</td>\n",
              "      <td>0.0</td>\n",
              "      <td>0.0</td>\n",
              "      <td>0.0</td>\n",
              "      <td>0.0</td>\n",
              "      <td>0.0</td>\n",
              "      <td>0.0</td>\n",
              "      <td>0.0</td>\n",
              "      <td>0.0</td>\n",
              "      <td>0.0</td>\n",
              "      <td>0.0</td>\n",
              "    </tr>\n",
              "  </tbody>\n",
              "</table>\n",
              "<p>3 rows × 37 columns</p>\n",
              "</div>"
            ]
          },
          "metadata": {},
          "execution_count": 30
        }
      ],
      "metadata": {
        "colab": {
          "base_uri": "https://localhost:8080/",
          "height": 162
        },
        "id": "zQ1s538wk09F",
        "outputId": "18bb0edb-82ca-4284-e132-b643fe59442c"
      }
    },
    {
      "cell_type": "code",
      "execution_count": 31,
      "source": [
        "# Split X and y into training and testing groups\r\n",
        "X_train, X_test, y_train, y_test = train_test_split(\r\n",
        "    X_df, y_df, test_size=0.3, random_state=42)"
      ],
      "outputs": [],
      "metadata": {
        "id": "tgUzpL5CR48g"
      }
    },
    {
      "cell_type": "code",
      "execution_count": 32,
      "source": [
        "# Display training data\r\n",
        "X_train.head()"
      ],
      "outputs": [
        {
          "output_type": "execute_result",
          "data": {
            "text/plain": [
              "       OP_CARRIER_FL_NUM  CRS_DEP_hours  CRS_ARR_hours  DISTANCE   DL   OO  \\\n",
              "10939               5538      11.333333      16.783333      1437  0.0  1.0   \n",
              "10779               5538      12.316667      16.833333      1437  0.0  1.0   \n",
              "10092               2068      16.416667      20.666667      1440  0.0  0.0   \n",
              "8774                1251       5.083333       6.583333       451  0.0  0.0   \n",
              "14968               4769      11.500000      14.350000       601  0.0  1.0   \n",
              "\n",
              "        UA   WN   AA   EV  ...  MSP  OAK  ORD  PDX  PHX  SAN  SEA  SFO  SJC  \\\n",
              "10939  0.0  0.0  0.0  0.0  ...  0.0  0.0  1.0  0.0  0.0  0.0  0.0  0.0  0.0   \n",
              "10779  0.0  0.0  0.0  0.0  ...  0.0  0.0  1.0  0.0  0.0  0.0  0.0  0.0  0.0   \n",
              "10092  0.0  1.0  0.0  0.0  ...  0.0  0.0  0.0  0.0  0.0  0.0  0.0  0.0  0.0   \n",
              "8774   0.0  1.0  0.0  0.0  ...  0.0  0.0  0.0  0.0  0.0  0.0  0.0  0.0  0.0   \n",
              "14968  0.0  0.0  0.0  0.0  ...  0.0  0.0  0.0  0.0  0.0  0.0  0.0  0.0  0.0   \n",
              "\n",
              "       SLC  \n",
              "10939  0.0  \n",
              "10779  0.0  \n",
              "10092  0.0  \n",
              "8774   0.0  \n",
              "14968  1.0  \n",
              "\n",
              "[5 rows x 37 columns]"
            ],
            "text/html": [
              "<div>\n",
              "<style scoped>\n",
              "    .dataframe tbody tr th:only-of-type {\n",
              "        vertical-align: middle;\n",
              "    }\n",
              "\n",
              "    .dataframe tbody tr th {\n",
              "        vertical-align: top;\n",
              "    }\n",
              "\n",
              "    .dataframe thead th {\n",
              "        text-align: right;\n",
              "    }\n",
              "</style>\n",
              "<table border=\"1\" class=\"dataframe\">\n",
              "  <thead>\n",
              "    <tr style=\"text-align: right;\">\n",
              "      <th></th>\n",
              "      <th>OP_CARRIER_FL_NUM</th>\n",
              "      <th>CRS_DEP_hours</th>\n",
              "      <th>CRS_ARR_hours</th>\n",
              "      <th>DISTANCE</th>\n",
              "      <th>DL</th>\n",
              "      <th>OO</th>\n",
              "      <th>UA</th>\n",
              "      <th>WN</th>\n",
              "      <th>AA</th>\n",
              "      <th>EV</th>\n",
              "      <th>...</th>\n",
              "      <th>MSP</th>\n",
              "      <th>OAK</th>\n",
              "      <th>ORD</th>\n",
              "      <th>PDX</th>\n",
              "      <th>PHX</th>\n",
              "      <th>SAN</th>\n",
              "      <th>SEA</th>\n",
              "      <th>SFO</th>\n",
              "      <th>SJC</th>\n",
              "      <th>SLC</th>\n",
              "    </tr>\n",
              "  </thead>\n",
              "  <tbody>\n",
              "    <tr>\n",
              "      <th>10939</th>\n",
              "      <td>5538</td>\n",
              "      <td>11.333333</td>\n",
              "      <td>16.783333</td>\n",
              "      <td>1437</td>\n",
              "      <td>0.0</td>\n",
              "      <td>1.0</td>\n",
              "      <td>0.0</td>\n",
              "      <td>0.0</td>\n",
              "      <td>0.0</td>\n",
              "      <td>0.0</td>\n",
              "      <td>...</td>\n",
              "      <td>0.0</td>\n",
              "      <td>0.0</td>\n",
              "      <td>1.0</td>\n",
              "      <td>0.0</td>\n",
              "      <td>0.0</td>\n",
              "      <td>0.0</td>\n",
              "      <td>0.0</td>\n",
              "      <td>0.0</td>\n",
              "      <td>0.0</td>\n",
              "      <td>0.0</td>\n",
              "    </tr>\n",
              "    <tr>\n",
              "      <th>10779</th>\n",
              "      <td>5538</td>\n",
              "      <td>12.316667</td>\n",
              "      <td>16.833333</td>\n",
              "      <td>1437</td>\n",
              "      <td>0.0</td>\n",
              "      <td>1.0</td>\n",
              "      <td>0.0</td>\n",
              "      <td>0.0</td>\n",
              "      <td>0.0</td>\n",
              "      <td>0.0</td>\n",
              "      <td>...</td>\n",
              "      <td>0.0</td>\n",
              "      <td>0.0</td>\n",
              "      <td>1.0</td>\n",
              "      <td>0.0</td>\n",
              "      <td>0.0</td>\n",
              "      <td>0.0</td>\n",
              "      <td>0.0</td>\n",
              "      <td>0.0</td>\n",
              "      <td>0.0</td>\n",
              "      <td>0.0</td>\n",
              "    </tr>\n",
              "    <tr>\n",
              "      <th>10092</th>\n",
              "      <td>2068</td>\n",
              "      <td>16.416667</td>\n",
              "      <td>20.666667</td>\n",
              "      <td>1440</td>\n",
              "      <td>0.0</td>\n",
              "      <td>0.0</td>\n",
              "      <td>0.0</td>\n",
              "      <td>1.0</td>\n",
              "      <td>0.0</td>\n",
              "      <td>0.0</td>\n",
              "      <td>...</td>\n",
              "      <td>0.0</td>\n",
              "      <td>0.0</td>\n",
              "      <td>0.0</td>\n",
              "      <td>0.0</td>\n",
              "      <td>0.0</td>\n",
              "      <td>0.0</td>\n",
              "      <td>0.0</td>\n",
              "      <td>0.0</td>\n",
              "      <td>0.0</td>\n",
              "      <td>0.0</td>\n",
              "    </tr>\n",
              "    <tr>\n",
              "      <th>8774</th>\n",
              "      <td>1251</td>\n",
              "      <td>5.083333</td>\n",
              "      <td>6.583333</td>\n",
              "      <td>451</td>\n",
              "      <td>0.0</td>\n",
              "      <td>0.0</td>\n",
              "      <td>0.0</td>\n",
              "      <td>1.0</td>\n",
              "      <td>0.0</td>\n",
              "      <td>0.0</td>\n",
              "      <td>...</td>\n",
              "      <td>0.0</td>\n",
              "      <td>0.0</td>\n",
              "      <td>0.0</td>\n",
              "      <td>0.0</td>\n",
              "      <td>0.0</td>\n",
              "      <td>0.0</td>\n",
              "      <td>0.0</td>\n",
              "      <td>0.0</td>\n",
              "      <td>0.0</td>\n",
              "      <td>0.0</td>\n",
              "    </tr>\n",
              "    <tr>\n",
              "      <th>14968</th>\n",
              "      <td>4769</td>\n",
              "      <td>11.500000</td>\n",
              "      <td>14.350000</td>\n",
              "      <td>601</td>\n",
              "      <td>0.0</td>\n",
              "      <td>1.0</td>\n",
              "      <td>0.0</td>\n",
              "      <td>0.0</td>\n",
              "      <td>0.0</td>\n",
              "      <td>0.0</td>\n",
              "      <td>...</td>\n",
              "      <td>0.0</td>\n",
              "      <td>0.0</td>\n",
              "      <td>0.0</td>\n",
              "      <td>0.0</td>\n",
              "      <td>0.0</td>\n",
              "      <td>0.0</td>\n",
              "      <td>0.0</td>\n",
              "      <td>0.0</td>\n",
              "      <td>0.0</td>\n",
              "      <td>1.0</td>\n",
              "    </tr>\n",
              "  </tbody>\n",
              "</table>\n",
              "<p>5 rows × 37 columns</p>\n",
              "</div>"
            ]
          },
          "metadata": {},
          "execution_count": 32
        }
      ],
      "metadata": {
        "colab": {
          "base_uri": "https://localhost:8080/",
          "height": 223
        },
        "id": "WJo3R8jMR48h",
        "outputId": "4dec594c-f3db-4683-c1b1-c07e177c134f"
      }
    },
    {
      "cell_type": "code",
      "execution_count": 33,
      "source": [
        "# Scale the data with MinMaxScaler\r\n",
        "X_scaler = MinMaxScaler().fit(X_train)\r\n",
        "X_train_scaled = X_scaler.transform(X_train)\r\n",
        "X_test_scaled = X_scaler.transform(X_test)"
      ],
      "outputs": [],
      "metadata": {
        "id": "ZVZTjs6RR48h"
      }
    },
    {
      "cell_type": "markdown",
      "source": [
        "# Save the output to csv files"
      ],
      "metadata": {
        "id": "jMKWsiLJzkDf"
      }
    },
    {
      "cell_type": "code",
      "execution_count": 107,
      "source": [
        "X_train.to_csv('2017_TUS_X_train_dec_hrs.csv', index = False)\r\n",
        "# files.download('2017_TUS_X_train_dec_hrs.csv')\r\n",
        "y_train.to_csv('2017_TUS_y_train_dec_hrs.csv', index = False)\r\n",
        "# files.download('2017_TUS_y_train_dec_hrs.csv')\r\n",
        "X_test.to_csv('2017_TUS_X_test_dec_hrs.csv', index = False)\r\n",
        "# files.download('2017_TUS_X_test_dec_hrs.csv')\r\n",
        "y_test.to_csv('2017_TUS_y_test_dec_hrs.csv', index = False)\r\n",
        "# files.download('2017_TUS_y_test_dec_hrs.csv')"
      ],
      "outputs": [
        {
          "output_type": "display_data",
          "data": {
            "text/plain": [
              "<IPython.core.display.Javascript object>"
            ],
            "application/javascript": "\n    async function download(id, filename, size) {\n      if (!google.colab.kernel.accessAllowed) {\n        return;\n      }\n      const div = document.createElement('div');\n      const label = document.createElement('label');\n      label.textContent = `Downloading \"${filename}\": `;\n      div.appendChild(label);\n      const progress = document.createElement('progress');\n      progress.max = size;\n      div.appendChild(progress);\n      document.body.appendChild(div);\n\n      const buffers = [];\n      let downloaded = 0;\n\n      const channel = await google.colab.kernel.comms.open(id);\n      // Send a message to notify the kernel that we're ready.\n      channel.send({})\n\n      for await (const message of channel.messages) {\n        // Send a message to notify the kernel that we're ready.\n        channel.send({})\n        if (message.buffers) {\n          for (const buffer of message.buffers) {\n            buffers.push(buffer);\n            downloaded += buffer.byteLength;\n            progress.value = downloaded;\n          }\n        }\n      }\n      const blob = new Blob(buffers, {type: 'application/binary'});\n      const a = document.createElement('a');\n      a.href = window.URL.createObjectURL(blob);\n      a.download = filename;\n      div.appendChild(a);\n      a.click();\n      div.remove();\n    }\n  "
          },
          "metadata": {}
        },
        {
          "output_type": "display_data",
          "data": {
            "text/plain": [
              "<IPython.core.display.Javascript object>"
            ],
            "application/javascript": "download(\"download_41ba8780-d6f8-47a3-8b26-ef44dfabb81a\", \"2017_TUS_X_train.csv\", 1621714)"
          },
          "metadata": {}
        },
        {
          "output_type": "display_data",
          "data": {
            "text/plain": [
              "<IPython.core.display.Javascript object>"
            ],
            "application/javascript": "\n    async function download(id, filename, size) {\n      if (!google.colab.kernel.accessAllowed) {\n        return;\n      }\n      const div = document.createElement('div');\n      const label = document.createElement('label');\n      label.textContent = `Downloading \"${filename}\": `;\n      div.appendChild(label);\n      const progress = document.createElement('progress');\n      progress.max = size;\n      div.appendChild(progress);\n      document.body.appendChild(div);\n\n      const buffers = [];\n      let downloaded = 0;\n\n      const channel = await google.colab.kernel.comms.open(id);\n      // Send a message to notify the kernel that we're ready.\n      channel.send({})\n\n      for await (const message of channel.messages) {\n        // Send a message to notify the kernel that we're ready.\n        channel.send({})\n        if (message.buffers) {\n          for (const buffer of message.buffers) {\n            buffers.push(buffer);\n            downloaded += buffer.byteLength;\n            progress.value = downloaded;\n          }\n        }\n      }\n      const blob = new Blob(buffers, {type: 'application/binary'});\n      const a = document.createElement('a');\n      a.href = window.URL.createObjectURL(blob);\n      a.download = filename;\n      div.appendChild(a);\n      a.click();\n      div.remove();\n    }\n  "
          },
          "metadata": {}
        },
        {
          "output_type": "display_data",
          "data": {
            "text/plain": [
              "<IPython.core.display.Javascript object>"
            ],
            "application/javascript": "download(\"download_673e5506-f9f7-46b4-b72e-5acbf92455dd\", \"2017_TUS_y_train.csv\", 64729)"
          },
          "metadata": {}
        },
        {
          "output_type": "display_data",
          "data": {
            "text/plain": [
              "<IPython.core.display.Javascript object>"
            ],
            "application/javascript": "\n    async function download(id, filename, size) {\n      if (!google.colab.kernel.accessAllowed) {\n        return;\n      }\n      const div = document.createElement('div');\n      const label = document.createElement('label');\n      label.textContent = `Downloading \"${filename}\": `;\n      div.appendChild(label);\n      const progress = document.createElement('progress');\n      progress.max = size;\n      div.appendChild(progress);\n      document.body.appendChild(div);\n\n      const buffers = [];\n      let downloaded = 0;\n\n      const channel = await google.colab.kernel.comms.open(id);\n      // Send a message to notify the kernel that we're ready.\n      channel.send({})\n\n      for await (const message of channel.messages) {\n        // Send a message to notify the kernel that we're ready.\n        channel.send({})\n        if (message.buffers) {\n          for (const buffer of message.buffers) {\n            buffers.push(buffer);\n            downloaded += buffer.byteLength;\n            progress.value = downloaded;\n          }\n        }\n      }\n      const blob = new Blob(buffers, {type: 'application/binary'});\n      const a = document.createElement('a');\n      a.href = window.URL.createObjectURL(blob);\n      a.download = filename;\n      div.appendChild(a);\n      a.click();\n      div.remove();\n    }\n  "
          },
          "metadata": {}
        },
        {
          "output_type": "display_data",
          "data": {
            "text/plain": [
              "<IPython.core.display.Javascript object>"
            ],
            "application/javascript": "download(\"download_1353daee-fdf6-442c-9921-ed65c014c15b\", \"2017_TUS_X_test.csv\", 695278)"
          },
          "metadata": {}
        },
        {
          "output_type": "display_data",
          "data": {
            "text/plain": [
              "<IPython.core.display.Javascript object>"
            ],
            "application/javascript": "\n    async function download(id, filename, size) {\n      if (!google.colab.kernel.accessAllowed) {\n        return;\n      }\n      const div = document.createElement('div');\n      const label = document.createElement('label');\n      label.textContent = `Downloading \"${filename}\": `;\n      div.appendChild(label);\n      const progress = document.createElement('progress');\n      progress.max = size;\n      div.appendChild(progress);\n      document.body.appendChild(div);\n\n      const buffers = [];\n      let downloaded = 0;\n\n      const channel = await google.colab.kernel.comms.open(id);\n      // Send a message to notify the kernel that we're ready.\n      channel.send({})\n\n      for await (const message of channel.messages) {\n        // Send a message to notify the kernel that we're ready.\n        channel.send({})\n        if (message.buffers) {\n          for (const buffer of message.buffers) {\n            buffers.push(buffer);\n            downloaded += buffer.byteLength;\n            progress.value = downloaded;\n          }\n        }\n      }\n      const blob = new Blob(buffers, {type: 'application/binary'});\n      const a = document.createElement('a');\n      a.href = window.URL.createObjectURL(blob);\n      a.download = filename;\n      div.appendChild(a);\n      a.click();\n      div.remove();\n    }\n  "
          },
          "metadata": {}
        },
        {
          "output_type": "display_data",
          "data": {
            "text/plain": [
              "<IPython.core.display.Javascript object>"
            ],
            "application/javascript": "download(\"download_4d928574-2a5d-4bc6-90cd-c3b68976bff1\", \"2017_TUS_y_test.csv\", 27757)"
          },
          "metadata": {}
        }
      ],
      "metadata": {
        "colab": {
          "base_uri": "https://localhost:8080/",
          "height": 17
        },
        "id": "H5MRQG3qz4Ke",
        "outputId": "3c2c4838-3ae5-4f53-a521-d62fffcd4274"
      }
    }
  ]
}