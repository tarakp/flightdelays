{
  "nbformat": 4,
  "nbformat_minor": 2,
  "metadata": {
    "kernel_info": {
      "name": "dev"
    },
    "kernelspec": {
      "name": "python3",
      "display_name": "Python 3.7.9 64-bit ('PythonDataV2': conda)"
    },
    "language_info": {
      "codemirror_mode": {
        "name": "ipython",
        "version": 3
      },
      "file_extension": ".py",
      "mimetype": "text/x-python",
      "name": "python",
      "nbconvert_exporter": "python",
      "pygments_lexer": "ipython3",
      "version": "3.7.9"
    },
    "nteract": {
      "version": "0.12.3"
    },
    "interpreter": {
      "hash": "7145387fd502c2a792381ef9ef58718f99f5f6cce2c67dc36e296264320f59ee"
    },
    "colab": {
      "name": "random_forest_model.ipynb",
      "provenance": []
    }
  },
  "cells": [
    {
      "cell_type": "markdown",
      "source": [
        "# random_forest_model\n",
        "----\n",
        "\n",
        "Written in the Python 3.7.9 Environment with the following package versions\n",
        "\n",
        "    * joblib 1.0.1\n",
        "    * numpy 1.19.5\n",
        "    * pandas 1.3.1\n",
        "    * scikit-learn 0.24.2\n",
        "    * tensorflow 2.5.0\n",
        "\n",
        "By Nicole Lund\n",
        "\n",
        "This workbook builds a model from 2017 flight performance and predicts 2018 performance."
      ],
      "metadata": {
        "id": "0G6gj1vRR48a"
      }
    },
    {
      "cell_type": "code",
      "execution_count": 1,
      "source": [
        "# Import Dependencies\r\n",
        "\r\n",
        "# Plotting\r\n",
        "%matplotlib inline\r\n",
        "import matplotlib.pyplot as plt\r\n",
        "\r\n",
        "# Data manipulation\r\n",
        "import numpy as np\r\n",
        "import pandas as pd\r\n",
        "import math\r\n",
        "import datetime\r\n",
        "from statistics import mean\r\n",
        "from operator import itemgetter\r\n",
        "from sklearn.model_selection import train_test_split\r\n",
        "from sklearn.preprocessing import LabelEncoder, MinMaxScaler, OneHotEncoder\r\n",
        "from tensorflow.keras.utils import to_categorical\r\n",
        "\r\n",
        "# Parameter Selection\r\n",
        "from sklearn import tree\r\n",
        "from sklearn.ensemble import RandomForestClassifier\r\n",
        "from sklearn.model_selection import GridSearchCV\r\n",
        "\r\n",
        "# Model Development\r\n",
        "from sklearn.linear_model import LinearRegression\r\n",
        "from sklearn.linear_model import LogisticRegression\r\n",
        "from sklearn.svm import SVC \r\n",
        "from tensorflow import keras\r\n",
        "from tensorflow.keras.models import Sequential\r\n",
        "from tensorflow.keras.layers import Dense\r\n",
        "from tensorflow.keras.layers import Dropout\r\n",
        "from tensorflow.keras.wrappers.scikit_learn import KerasClassifier\r\n",
        "\r\n",
        "# Model Metrics\r\n",
        "from sklearn.metrics import classification_report\r\n",
        "\r\n",
        "# Save/load files\r\n",
        "from tensorflow.keras.models import load_model\r\n",
        "import joblib\r\n",
        "# from google.colab import files\r\n",
        "\r\n",
        "# # Ignore deprecation warnings\r\n",
        "# import warnings\r\n",
        "# warnings.simplefilter('ignore', FutureWarning)"
      ],
      "outputs": [],
      "metadata": {
        "id": "byo9Yx__R48d"
      }
    },
    {
      "cell_type": "code",
      "execution_count": 2,
      "source": [
        "# Set the seed value for the notebook, so the results are reproducible\r\n",
        "from numpy.random import seed\r\n",
        "seed(1)"
      ],
      "outputs": [],
      "metadata": {
        "id": "8un601m2R48e"
      }
    },
    {
      "cell_type": "markdown",
      "source": [
        "# Read the clean CSV"
      ],
      "metadata": {
        "id": "h2XPthEaR48e"
      }
    },
    {
      "cell_type": "code",
      "execution_count": 3,
      "source": [
        "# Import data\r\n",
        "# Read the CSV file from Github to Pandas Dataframe\r\n",
        "url = \"https://raw.githubusercontent.com/NicoleLund/flight_delay_prediction/main/data_manipulation_modeling/data_clean/2017_TUS.csv\"\r\n",
        "df = pd.read_csv(url)\r\n",
        "\r\n",
        "df.head(3)"
      ],
      "outputs": [
        {
          "output_type": "execute_result",
          "data": {
            "text/plain": [
              "                      origin_city_name                       dest_city_name  \\\n",
              "0  TUCSON, ARIZONA, USA                 ATLANTA, GEORGIA, USA                 \n",
              "1  TUCSON, ARIZONA, USA                 ATLANTA, GEORGIA, USA                 \n",
              "2  TUCSON, ARIZONA, USA                 ATLANTA, GEORGIA, USA                 \n",
              "\n",
              "      FL_DATE OP_CARRIER  OP_CARRIER_FL_NUM ORIGIN DEST  CRS_DEP_TIME  \\\n",
              "0  2017-01-01         DL               2066    TUS  ATL          1430   \n",
              "1  2017-01-02         DL               1127    TUS  ATL           600   \n",
              "2  2017-01-02         DL               2066    TUS  ATL          1430   \n",
              "\n",
              "   DEP_TIME  DEP_DELAY  ...  SECURITY_DELAY  LATE_AIRCRAFT_DELAY  CRS_DEP_HM  \\\n",
              "0    1459.0       29.0  ...             0.0                 14.0       14:30   \n",
              "1     637.0       37.0  ...             0.0                  0.0       06:00   \n",
              "2    1447.0       17.0  ...             NaN                  NaN       14:30   \n",
              "\n",
              "   DEP_TIME_HM  WHEELS_OFF_HM  WHEELS_ON_HM  CRS_ARR_TIME_HM  ARR_TIME_HM  \\\n",
              "0        14:59          15:09         20:11            20:03        20:28   \n",
              "1        06:37          06:47         11:57            11:29        12:03   \n",
              "2        14:47          14:57         19:43            20:05        19:52   \n",
              "\n",
              "  day_of_week  DELAY  \n",
              "0      Sunday      0  \n",
              "1      Monday      1  \n",
              "2      Monday      0  \n",
              "\n",
              "[3 rows x 37 columns]"
            ],
            "text/html": [
              "<div>\n",
              "<style scoped>\n",
              "    .dataframe tbody tr th:only-of-type {\n",
              "        vertical-align: middle;\n",
              "    }\n",
              "\n",
              "    .dataframe tbody tr th {\n",
              "        vertical-align: top;\n",
              "    }\n",
              "\n",
              "    .dataframe thead th {\n",
              "        text-align: right;\n",
              "    }\n",
              "</style>\n",
              "<table border=\"1\" class=\"dataframe\">\n",
              "  <thead>\n",
              "    <tr style=\"text-align: right;\">\n",
              "      <th></th>\n",
              "      <th>origin_city_name</th>\n",
              "      <th>dest_city_name</th>\n",
              "      <th>FL_DATE</th>\n",
              "      <th>OP_CARRIER</th>\n",
              "      <th>OP_CARRIER_FL_NUM</th>\n",
              "      <th>ORIGIN</th>\n",
              "      <th>DEST</th>\n",
              "      <th>CRS_DEP_TIME</th>\n",
              "      <th>DEP_TIME</th>\n",
              "      <th>DEP_DELAY</th>\n",
              "      <th>...</th>\n",
              "      <th>SECURITY_DELAY</th>\n",
              "      <th>LATE_AIRCRAFT_DELAY</th>\n",
              "      <th>CRS_DEP_HM</th>\n",
              "      <th>DEP_TIME_HM</th>\n",
              "      <th>WHEELS_OFF_HM</th>\n",
              "      <th>WHEELS_ON_HM</th>\n",
              "      <th>CRS_ARR_TIME_HM</th>\n",
              "      <th>ARR_TIME_HM</th>\n",
              "      <th>day_of_week</th>\n",
              "      <th>DELAY</th>\n",
              "    </tr>\n",
              "  </thead>\n",
              "  <tbody>\n",
              "    <tr>\n",
              "      <th>0</th>\n",
              "      <td>TUCSON, ARIZONA, USA</td>\n",
              "      <td>ATLANTA, GEORGIA, USA</td>\n",
              "      <td>2017-01-01</td>\n",
              "      <td>DL</td>\n",
              "      <td>2066</td>\n",
              "      <td>TUS</td>\n",
              "      <td>ATL</td>\n",
              "      <td>1430</td>\n",
              "      <td>1459.0</td>\n",
              "      <td>29.0</td>\n",
              "      <td>...</td>\n",
              "      <td>0.0</td>\n",
              "      <td>14.0</td>\n",
              "      <td>14:30</td>\n",
              "      <td>14:59</td>\n",
              "      <td>15:09</td>\n",
              "      <td>20:11</td>\n",
              "      <td>20:03</td>\n",
              "      <td>20:28</td>\n",
              "      <td>Sunday</td>\n",
              "      <td>0</td>\n",
              "    </tr>\n",
              "    <tr>\n",
              "      <th>1</th>\n",
              "      <td>TUCSON, ARIZONA, USA</td>\n",
              "      <td>ATLANTA, GEORGIA, USA</td>\n",
              "      <td>2017-01-02</td>\n",
              "      <td>DL</td>\n",
              "      <td>1127</td>\n",
              "      <td>TUS</td>\n",
              "      <td>ATL</td>\n",
              "      <td>600</td>\n",
              "      <td>637.0</td>\n",
              "      <td>37.0</td>\n",
              "      <td>...</td>\n",
              "      <td>0.0</td>\n",
              "      <td>0.0</td>\n",
              "      <td>06:00</td>\n",
              "      <td>06:37</td>\n",
              "      <td>06:47</td>\n",
              "      <td>11:57</td>\n",
              "      <td>11:29</td>\n",
              "      <td>12:03</td>\n",
              "      <td>Monday</td>\n",
              "      <td>1</td>\n",
              "    </tr>\n",
              "    <tr>\n",
              "      <th>2</th>\n",
              "      <td>TUCSON, ARIZONA, USA</td>\n",
              "      <td>ATLANTA, GEORGIA, USA</td>\n",
              "      <td>2017-01-02</td>\n",
              "      <td>DL</td>\n",
              "      <td>2066</td>\n",
              "      <td>TUS</td>\n",
              "      <td>ATL</td>\n",
              "      <td>1430</td>\n",
              "      <td>1447.0</td>\n",
              "      <td>17.0</td>\n",
              "      <td>...</td>\n",
              "      <td>NaN</td>\n",
              "      <td>NaN</td>\n",
              "      <td>14:30</td>\n",
              "      <td>14:47</td>\n",
              "      <td>14:57</td>\n",
              "      <td>19:43</td>\n",
              "      <td>20:05</td>\n",
              "      <td>19:52</td>\n",
              "      <td>Monday</td>\n",
              "      <td>0</td>\n",
              "    </tr>\n",
              "  </tbody>\n",
              "</table>\n",
              "<p>3 rows × 37 columns</p>\n",
              "</div>"
            ]
          },
          "metadata": {},
          "execution_count": 3
        }
      ],
      "metadata": {
        "colab": {
          "base_uri": "https://localhost:8080/",
          "height": 213
        },
        "id": "6sAlS5XWR48e",
        "outputId": "2a4a0b18-7f5b-4a50-b90a-67135cf4dc7b"
      }
    },
    {
      "cell_type": "markdown",
      "source": [
        "# Additional Data Formatting"
      ],
      "metadata": {
        "id": "4xVuJisFR48g"
      }
    },
    {
      "cell_type": "code",
      "execution_count": 4,
      "source": [
        "# Convert the time fields into decimal hour\r\n",
        "\r\n",
        "def time_conv(mil_time):\r\n",
        "  hours = []\r\n",
        "  for time in mil_time:\r\n",
        "    if time == 2400:\r\n",
        "      time = 0\r\n",
        "    if math.isnan(time):\r\n",
        "      hours.append(time)\r\n",
        "    elif time < 59:\r\n",
        "      hour = int(datetime.datetime.strptime(str(int(time)), '%M').strftime('%H'))\r\n",
        "      minute = int(datetime.datetime.strptime(str(int(time)), '%M').strftime('%M'))\r\n",
        "      hours.append(hour + minute/60)  \r\n",
        "    else:\r\n",
        "      hour = int(datetime.datetime.strptime(str(int(time)), '%H%M').strftime('%H'))\r\n",
        "      minute = int(datetime.datetime.strptime(str(int(time)), '%H%M').strftime('%M'))\r\n",
        "      hours.append(hour + minute/60)  \r\n",
        "  return hours"
      ],
      "outputs": [],
      "metadata": {
        "id": "M07O7sX_esdt"
      }
    },
    {
      "cell_type": "code",
      "execution_count": 5,
      "source": [
        "df['CRS_DEP_hours'] = time_conv(df['CRS_DEP_TIME'])\r\n",
        "df['CRS_ARR_hours'] = time_conv(df['CRS_ARR_TIME'])"
      ],
      "outputs": [],
      "metadata": {
        "id": "V6Sp0zw3esdt"
      }
    },
    {
      "cell_type": "code",
      "execution_count": 6,
      "source": [
        "# Split dataframe into X and y\r\n",
        "# Define model variables\r\n",
        "\r\n",
        "# Model input\r\n",
        "X_categorical_df = df[['OP_CARRIER', 'day_of_week', 'DEST']]\r\n",
        "X_numeric_df = df[['OP_CARRIER_FL_NUM', 'CRS_DEP_hours', 'CRS_ARR_hours', 'DISTANCE']]\r\n",
        "X_numeric_df.DISTANCE = X_numeric_df.DISTANCE.astype(int)\r\n",
        "\r\n",
        "# Model output\r\n",
        "y_df = df[['CANCELLED', 'DIVERTED', 'DELAY']]\r\n",
        "y_df.CANCELLED = y_df.CANCELLED.astype(int)\r\n",
        "y_df.DIVERTED = y_df.DIVERTED.astype(int)"
      ],
      "outputs": [
        {
          "output_type": "stream",
          "name": "stderr",
          "text": [
            "C:\\Users\\nlund\\anaconda3\\envs\\PythonDataV2\\lib\\site-packages\\pandas\\core\\generic.py:5507: SettingWithCopyWarning: \n",
            "A value is trying to be set on a copy of a slice from a DataFrame.\n",
            "Try using .loc[row_indexer,col_indexer] = value instead\n",
            "\n",
            "See the caveats in the documentation: https://pandas.pydata.org/pandas-docs/stable/user_guide/indexing.html#returning-a-view-versus-a-copy\n",
            "  self[name] = value\n"
          ]
        }
      ],
      "metadata": {
        "colab": {
          "base_uri": "https://localhost:8080/"
        },
        "id": "2mvarRxcR48g",
        "outputId": "0630b131-4915-41e1-9b8e-eaff9991dba3"
      }
    },
    {
      "cell_type": "code",
      "execution_count": 7,
      "source": [
        "# Review model output\r\n",
        "print(y_df.info())\r\n",
        "y_df.head(3)"
      ],
      "outputs": [
        {
          "output_type": "stream",
          "name": "stdout",
          "text": [
            "<class 'pandas.core.frame.DataFrame'>\n",
            "RangeIndex: 15406 entries, 0 to 15405\n",
            "Data columns (total 3 columns):\n",
            " #   Column     Non-Null Count  Dtype\n",
            "---  ------     --------------  -----\n",
            " 0   CANCELLED  15406 non-null  int32\n",
            " 1   DIVERTED   15406 non-null  int32\n",
            " 2   DELAY      15406 non-null  int64\n",
            "dtypes: int32(2), int64(1)\n",
            "memory usage: 240.8 KB\n",
            "None\n"
          ]
        },
        {
          "output_type": "execute_result",
          "data": {
            "text/plain": [
              "   CANCELLED  DIVERTED  DELAY\n",
              "0          0         0      0\n",
              "1          0         0      1\n",
              "2          0         0      0"
            ],
            "text/html": [
              "<div>\n",
              "<style scoped>\n",
              "    .dataframe tbody tr th:only-of-type {\n",
              "        vertical-align: middle;\n",
              "    }\n",
              "\n",
              "    .dataframe tbody tr th {\n",
              "        vertical-align: top;\n",
              "    }\n",
              "\n",
              "    .dataframe thead th {\n",
              "        text-align: right;\n",
              "    }\n",
              "</style>\n",
              "<table border=\"1\" class=\"dataframe\">\n",
              "  <thead>\n",
              "    <tr style=\"text-align: right;\">\n",
              "      <th></th>\n",
              "      <th>CANCELLED</th>\n",
              "      <th>DIVERTED</th>\n",
              "      <th>DELAY</th>\n",
              "    </tr>\n",
              "  </thead>\n",
              "  <tbody>\n",
              "    <tr>\n",
              "      <th>0</th>\n",
              "      <td>0</td>\n",
              "      <td>0</td>\n",
              "      <td>0</td>\n",
              "    </tr>\n",
              "    <tr>\n",
              "      <th>1</th>\n",
              "      <td>0</td>\n",
              "      <td>0</td>\n",
              "      <td>1</td>\n",
              "    </tr>\n",
              "    <tr>\n",
              "      <th>2</th>\n",
              "      <td>0</td>\n",
              "      <td>0</td>\n",
              "      <td>0</td>\n",
              "    </tr>\n",
              "  </tbody>\n",
              "</table>\n",
              "</div>"
            ]
          },
          "metadata": {},
          "execution_count": 7
        }
      ],
      "metadata": {
        "colab": {
          "base_uri": "https://localhost:8080/",
          "height": 329
        },
        "id": "CdNAGF5XVwQ6",
        "outputId": "7f76b4f5-f8ec-4de3-9a92-9887c0ee8ffc"
      }
    },
    {
      "cell_type": "code",
      "execution_count": 8,
      "source": [
        "# Review model numeric input\r\n",
        "print(X_numeric_df.info())\r\n",
        "X_numeric_df.head(3)"
      ],
      "outputs": [
        {
          "output_type": "stream",
          "name": "stdout",
          "text": [
            "<class 'pandas.core.frame.DataFrame'>\n",
            "RangeIndex: 15406 entries, 0 to 15405\n",
            "Data columns (total 4 columns):\n",
            " #   Column             Non-Null Count  Dtype  \n",
            "---  ------             --------------  -----  \n",
            " 0   OP_CARRIER_FL_NUM  15406 non-null  int64  \n",
            " 1   CRS_DEP_hours      15406 non-null  float64\n",
            " 2   CRS_ARR_hours      15406 non-null  float64\n",
            " 3   DISTANCE           15406 non-null  int32  \n",
            "dtypes: float64(2), int32(1), int64(1)\n",
            "memory usage: 421.4 KB\n",
            "None\n"
          ]
        },
        {
          "output_type": "execute_result",
          "data": {
            "text/plain": [
              "   OP_CARRIER_FL_NUM  CRS_DEP_hours  CRS_ARR_hours  DISTANCE\n",
              "0               2066           14.5      20.050000      1541\n",
              "1               1127            6.0      11.483333      1541\n",
              "2               2066           14.5      20.083333      1541"
            ],
            "text/html": [
              "<div>\n",
              "<style scoped>\n",
              "    .dataframe tbody tr th:only-of-type {\n",
              "        vertical-align: middle;\n",
              "    }\n",
              "\n",
              "    .dataframe tbody tr th {\n",
              "        vertical-align: top;\n",
              "    }\n",
              "\n",
              "    .dataframe thead th {\n",
              "        text-align: right;\n",
              "    }\n",
              "</style>\n",
              "<table border=\"1\" class=\"dataframe\">\n",
              "  <thead>\n",
              "    <tr style=\"text-align: right;\">\n",
              "      <th></th>\n",
              "      <th>OP_CARRIER_FL_NUM</th>\n",
              "      <th>CRS_DEP_hours</th>\n",
              "      <th>CRS_ARR_hours</th>\n",
              "      <th>DISTANCE</th>\n",
              "    </tr>\n",
              "  </thead>\n",
              "  <tbody>\n",
              "    <tr>\n",
              "      <th>0</th>\n",
              "      <td>2066</td>\n",
              "      <td>14.5</td>\n",
              "      <td>20.050000</td>\n",
              "      <td>1541</td>\n",
              "    </tr>\n",
              "    <tr>\n",
              "      <th>1</th>\n",
              "      <td>1127</td>\n",
              "      <td>6.0</td>\n",
              "      <td>11.483333</td>\n",
              "      <td>1541</td>\n",
              "    </tr>\n",
              "    <tr>\n",
              "      <th>2</th>\n",
              "      <td>2066</td>\n",
              "      <td>14.5</td>\n",
              "      <td>20.083333</td>\n",
              "      <td>1541</td>\n",
              "    </tr>\n",
              "  </tbody>\n",
              "</table>\n",
              "</div>"
            ]
          },
          "metadata": {},
          "execution_count": 8
        }
      ],
      "metadata": {
        "colab": {
          "base_uri": "https://localhost:8080/",
          "height": 346
        },
        "id": "lQJv7IovUTMx",
        "outputId": "f56919bd-3ec6-4221-e516-34077ddc3420"
      }
    },
    {
      "cell_type": "code",
      "execution_count": 9,
      "source": [
        "# Review model categorical input\r\n",
        "print(X_categorical_df.info())\r\n",
        "X_categorical_df.head(3)"
      ],
      "outputs": [
        {
          "output_type": "stream",
          "name": "stdout",
          "text": [
            "<class 'pandas.core.frame.DataFrame'>\n",
            "RangeIndex: 15406 entries, 0 to 15405\n",
            "Data columns (total 3 columns):\n",
            " #   Column       Non-Null Count  Dtype \n",
            "---  ------       --------------  ----- \n",
            " 0   OP_CARRIER   15406 non-null  object\n",
            " 1   day_of_week  15406 non-null  object\n",
            " 2   DEST         15406 non-null  object\n",
            "dtypes: object(3)\n",
            "memory usage: 361.2+ KB\n",
            "None\n"
          ]
        },
        {
          "output_type": "execute_result",
          "data": {
            "text/plain": [
              "  OP_CARRIER day_of_week DEST\n",
              "0         DL      Sunday  ATL\n",
              "1         DL      Monday  ATL\n",
              "2         DL      Monday  ATL"
            ],
            "text/html": [
              "<div>\n",
              "<style scoped>\n",
              "    .dataframe tbody tr th:only-of-type {\n",
              "        vertical-align: middle;\n",
              "    }\n",
              "\n",
              "    .dataframe tbody tr th {\n",
              "        vertical-align: top;\n",
              "    }\n",
              "\n",
              "    .dataframe thead th {\n",
              "        text-align: right;\n",
              "    }\n",
              "</style>\n",
              "<table border=\"1\" class=\"dataframe\">\n",
              "  <thead>\n",
              "    <tr style=\"text-align: right;\">\n",
              "      <th></th>\n",
              "      <th>OP_CARRIER</th>\n",
              "      <th>day_of_week</th>\n",
              "      <th>DEST</th>\n",
              "    </tr>\n",
              "  </thead>\n",
              "  <tbody>\n",
              "    <tr>\n",
              "      <th>0</th>\n",
              "      <td>DL</td>\n",
              "      <td>Sunday</td>\n",
              "      <td>ATL</td>\n",
              "    </tr>\n",
              "    <tr>\n",
              "      <th>1</th>\n",
              "      <td>DL</td>\n",
              "      <td>Monday</td>\n",
              "      <td>ATL</td>\n",
              "    </tr>\n",
              "    <tr>\n",
              "      <th>2</th>\n",
              "      <td>DL</td>\n",
              "      <td>Monday</td>\n",
              "      <td>ATL</td>\n",
              "    </tr>\n",
              "  </tbody>\n",
              "</table>\n",
              "</div>"
            ]
          },
          "metadata": {},
          "execution_count": 9
        }
      ],
      "metadata": {
        "colab": {
          "base_uri": "https://localhost:8080/",
          "height": 329
        },
        "id": "4s_93gLRdNWi",
        "outputId": "252d3402-544c-4947-a509-ddbce9540665"
      }
    },
    {
      "cell_type": "markdown",
      "source": [
        "# One-hot encode categorical values"
      ],
      "metadata": {
        "id": "0z2q7RuAesdv"
      }
    },
    {
      "cell_type": "code",
      "execution_count": 10,
      "source": [
        "# View categories for one hot encoder\r\n",
        "carriers = pd.unique(X_categorical_df.OP_CARRIER)\r\n",
        "day = pd.unique(X_categorical_df.day_of_week)\r\n",
        "destination = pd.unique(X_categorical_df.DEST)\r\n",
        "print(carriers)\r\n",
        "print(day)\r\n",
        "print(destination)"
      ],
      "outputs": [
        {
          "output_type": "stream",
          "name": "stdout",
          "text": [
            "['DL' 'OO' 'UA' 'WN' 'AA' 'EV' 'AS']\n",
            "['Sunday' 'Monday' 'Tuesday' 'Wednesday' 'Thursday' 'Friday' 'Saturday']\n",
            "['ATL' 'DEN' 'DFW' 'HOU' 'IAH' 'JFK' 'LAS' 'LAX' 'MDW' 'MSP' 'OAK' 'ORD'\n",
            " 'PDX' 'PHX' 'SAN' 'SEA' 'SFO' 'SJC' 'SLC']\n"
          ]
        }
      ],
      "metadata": {
        "colab": {
          "base_uri": "https://localhost:8080/"
        },
        "id": "cgEJEqyQbY9X",
        "outputId": "9997284f-8674-42d9-a813-1b9819ed3910"
      }
    },
    {
      "cell_type": "code",
      "execution_count": 11,
      "source": [
        "# Force 2017 Categorical transformation to include Carriers 'YV', 'F9', 'G4'\r\n",
        "# and Destinations 'PVU', 'CLT', 'BLI'\r\n",
        "X_categorical_df.loc[len(X_categorical_df.index)] = ['YV','Sunday','PVU']\r\n",
        "X_categorical_df.loc[len(X_categorical_df.index)] = ['F9','Sunday','CLT']\r\n",
        "X_categorical_df.loc[len(X_categorical_df.index)] = ['G4','Sunday','BLI']\r\n",
        "X_categorical_df.tail(5)"
      ],
      "outputs": [
        {
          "output_type": "stream",
          "name": "stderr",
          "text": [
            "C:\\Users\\nlund\\anaconda3\\envs\\PythonDataV2\\lib\\site-packages\\pandas\\core\\indexing.py:723: SettingWithCopyWarning: \n",
            "A value is trying to be set on a copy of a slice from a DataFrame\n",
            "\n",
            "See the caveats in the documentation: https://pandas.pydata.org/pandas-docs/stable/user_guide/indexing.html#returning-a-view-versus-a-copy\n",
            "  iloc._setitem_with_indexer(indexer, value, self.name)\n"
          ]
        },
        {
          "output_type": "execute_result",
          "data": {
            "text/plain": [
              "      OP_CARRIER day_of_week DEST\n",
              "15404         OO      Sunday  SLC\n",
              "15405         OO      Sunday  SLC\n",
              "15406         YV      Sunday  PVU\n",
              "15407         F9      Sunday  CLT\n",
              "15408         G4      Sunday  BLI"
            ],
            "text/html": [
              "<div>\n",
              "<style scoped>\n",
              "    .dataframe tbody tr th:only-of-type {\n",
              "        vertical-align: middle;\n",
              "    }\n",
              "\n",
              "    .dataframe tbody tr th {\n",
              "        vertical-align: top;\n",
              "    }\n",
              "\n",
              "    .dataframe thead th {\n",
              "        text-align: right;\n",
              "    }\n",
              "</style>\n",
              "<table border=\"1\" class=\"dataframe\">\n",
              "  <thead>\n",
              "    <tr style=\"text-align: right;\">\n",
              "      <th></th>\n",
              "      <th>OP_CARRIER</th>\n",
              "      <th>day_of_week</th>\n",
              "      <th>DEST</th>\n",
              "    </tr>\n",
              "  </thead>\n",
              "  <tbody>\n",
              "    <tr>\n",
              "      <th>15404</th>\n",
              "      <td>OO</td>\n",
              "      <td>Sunday</td>\n",
              "      <td>SLC</td>\n",
              "    </tr>\n",
              "    <tr>\n",
              "      <th>15405</th>\n",
              "      <td>OO</td>\n",
              "      <td>Sunday</td>\n",
              "      <td>SLC</td>\n",
              "    </tr>\n",
              "    <tr>\n",
              "      <th>15406</th>\n",
              "      <td>YV</td>\n",
              "      <td>Sunday</td>\n",
              "      <td>PVU</td>\n",
              "    </tr>\n",
              "    <tr>\n",
              "      <th>15407</th>\n",
              "      <td>F9</td>\n",
              "      <td>Sunday</td>\n",
              "      <td>CLT</td>\n",
              "    </tr>\n",
              "    <tr>\n",
              "      <th>15408</th>\n",
              "      <td>G4</td>\n",
              "      <td>Sunday</td>\n",
              "      <td>BLI</td>\n",
              "    </tr>\n",
              "  </tbody>\n",
              "</table>\n",
              "</div>"
            ]
          },
          "metadata": {},
          "execution_count": 11
        }
      ],
      "metadata": {
        "colab": {
          "base_uri": "https://localhost:8080/",
          "height": 289
        },
        "id": "UX5RQGxpesdv",
        "outputId": "85d5cdf4-2404-4eb7-f4f4-4bf9b46acedf"
      }
    },
    {
      "cell_type": "code",
      "execution_count": 12,
      "source": [
        "# Verify categories for one hot encoder including 'YV', 'F9', 'G4', 'PVU', 'CLT', 'BLI'\r\n",
        "carriers = pd.unique(X_categorical_df.OP_CARRIER)\r\n",
        "day = pd.unique(X_categorical_df.day_of_week)\r\n",
        "destination = pd.unique(X_categorical_df.DEST)\r\n",
        "print(carriers)\r\n",
        "print(day)\r\n",
        "print(destination)"
      ],
      "outputs": [
        {
          "output_type": "stream",
          "name": "stdout",
          "text": [
            "['DL' 'OO' 'UA' 'WN' 'AA' 'EV' 'AS' 'YV' 'F9' 'G4']\n",
            "['Sunday' 'Monday' 'Tuesday' 'Wednesday' 'Thursday' 'Friday' 'Saturday']\n",
            "['ATL' 'DEN' 'DFW' 'HOU' 'IAH' 'JFK' 'LAS' 'LAX' 'MDW' 'MSP' 'OAK' 'ORD'\n",
            " 'PDX' 'PHX' 'SAN' 'SEA' 'SFO' 'SJC' 'SLC' 'PVU' 'CLT' 'BLI']\n"
          ]
        }
      ],
      "metadata": {
        "colab": {
          "base_uri": "https://localhost:8080/"
        },
        "id": "o2Ui_6FEesdv",
        "outputId": "64efb2b8-6632-49b1-919a-4733b3a1ff48"
      }
    },
    {
      "cell_type": "code",
      "execution_count": 13,
      "source": [
        "# Define categorical column names\r\n",
        "# Note: 'YV', 'F9', 'G4' are present in the 2018 data and needs 0-filled columns in the model\r\n",
        "column_names = ['DL', 'OO', 'UA', 'WN', 'AA', 'EV', 'AS', 'YV', 'F9', 'G4', \\\r\n",
        " 'Sunday', 'Monday', 'Tuesday', 'Wednesday', \\\r\n",
        " 'Thursday', 'Friday', 'Saturday', 'ATL', 'DEN', \\\r\n",
        " 'DFW', 'HOU', 'IAH', 'JFK', 'LAS', 'LAX', 'MDW', \\\r\n",
        " 'MSP', 'OAK', 'ORD', 'PDX', 'PHX', 'SAN', 'SEA', 'SFO', 'SJC', 'SLC','PVU', 'CLT', 'BLI']"
      ],
      "outputs": [],
      "metadata": {
        "id": "q83aKPc4v4ti"
      }
    },
    {
      "cell_type": "code",
      "execution_count": 14,
      "source": [
        "# One-hot-encode categorical fields\r\n",
        "encoder = OneHotEncoder(categories=[carriers,day,destination])\r\n",
        "encoder.fit(X_categorical_df)\r\n",
        "X_encoded = encoder.transform(X_categorical_df)\r\n",
        "X_encoded.toarray()"
      ],
      "outputs": [
        {
          "output_type": "execute_result",
          "data": {
            "text/plain": [
              "array([[1., 0., 0., ..., 0., 0., 0.],\n",
              "       [1., 0., 0., ..., 0., 0., 0.],\n",
              "       [1., 0., 0., ..., 0., 0., 0.],\n",
              "       ...,\n",
              "       [0., 0., 0., ..., 1., 0., 0.],\n",
              "       [0., 0., 0., ..., 0., 1., 0.],\n",
              "       [0., 0., 0., ..., 0., 0., 1.]])"
            ]
          },
          "metadata": {},
          "execution_count": 14
        }
      ],
      "metadata": {
        "colab": {
          "base_uri": "https://localhost:8080/"
        },
        "id": "Yvwq5SFIbvKd",
        "outputId": "79ae3a30-7c27-41af-9005-3ea296370338"
      }
    },
    {
      "cell_type": "code",
      "execution_count": 15,
      "source": [
        "# Create encoded DataFrame of Categorical Fields\r\n",
        "X_encoded_df = pd.DataFrame(X_encoded.toarray(), columns=column_names).astype(int)\r\n",
        "X_encoded_df.tail(5)"
      ],
      "outputs": [
        {
          "output_type": "execute_result",
          "data": {
            "text/plain": [
              "       DL  OO  UA  WN  AA  EV  AS  YV  F9  G4  ...  PDX  PHX  SAN  SEA  SFO  \\\n",
              "15404   0   1   0   0   0   0   0   0   0   0  ...    0    0    0    0    0   \n",
              "15405   0   1   0   0   0   0   0   0   0   0  ...    0    0    0    0    0   \n",
              "15406   0   0   0   0   0   0   0   1   0   0  ...    0    0    0    0    0   \n",
              "15407   0   0   0   0   0   0   0   0   1   0  ...    0    0    0    0    0   \n",
              "15408   0   0   0   0   0   0   0   0   0   1  ...    0    0    0    0    0   \n",
              "\n",
              "       SJC  SLC  PVU  CLT  BLI  \n",
              "15404    0    1    0    0    0  \n",
              "15405    0    1    0    0    0  \n",
              "15406    0    0    1    0    0  \n",
              "15407    0    0    0    1    0  \n",
              "15408    0    0    0    0    1  \n",
              "\n",
              "[5 rows x 39 columns]"
            ],
            "text/html": [
              "<div>\n",
              "<style scoped>\n",
              "    .dataframe tbody tr th:only-of-type {\n",
              "        vertical-align: middle;\n",
              "    }\n",
              "\n",
              "    .dataframe tbody tr th {\n",
              "        vertical-align: top;\n",
              "    }\n",
              "\n",
              "    .dataframe thead th {\n",
              "        text-align: right;\n",
              "    }\n",
              "</style>\n",
              "<table border=\"1\" class=\"dataframe\">\n",
              "  <thead>\n",
              "    <tr style=\"text-align: right;\">\n",
              "      <th></th>\n",
              "      <th>DL</th>\n",
              "      <th>OO</th>\n",
              "      <th>UA</th>\n",
              "      <th>WN</th>\n",
              "      <th>AA</th>\n",
              "      <th>EV</th>\n",
              "      <th>AS</th>\n",
              "      <th>YV</th>\n",
              "      <th>F9</th>\n",
              "      <th>G4</th>\n",
              "      <th>...</th>\n",
              "      <th>PDX</th>\n",
              "      <th>PHX</th>\n",
              "      <th>SAN</th>\n",
              "      <th>SEA</th>\n",
              "      <th>SFO</th>\n",
              "      <th>SJC</th>\n",
              "      <th>SLC</th>\n",
              "      <th>PVU</th>\n",
              "      <th>CLT</th>\n",
              "      <th>BLI</th>\n",
              "    </tr>\n",
              "  </thead>\n",
              "  <tbody>\n",
              "    <tr>\n",
              "      <th>15404</th>\n",
              "      <td>0</td>\n",
              "      <td>1</td>\n",
              "      <td>0</td>\n",
              "      <td>0</td>\n",
              "      <td>0</td>\n",
              "      <td>0</td>\n",
              "      <td>0</td>\n",
              "      <td>0</td>\n",
              "      <td>0</td>\n",
              "      <td>0</td>\n",
              "      <td>...</td>\n",
              "      <td>0</td>\n",
              "      <td>0</td>\n",
              "      <td>0</td>\n",
              "      <td>0</td>\n",
              "      <td>0</td>\n",
              "      <td>0</td>\n",
              "      <td>1</td>\n",
              "      <td>0</td>\n",
              "      <td>0</td>\n",
              "      <td>0</td>\n",
              "    </tr>\n",
              "    <tr>\n",
              "      <th>15405</th>\n",
              "      <td>0</td>\n",
              "      <td>1</td>\n",
              "      <td>0</td>\n",
              "      <td>0</td>\n",
              "      <td>0</td>\n",
              "      <td>0</td>\n",
              "      <td>0</td>\n",
              "      <td>0</td>\n",
              "      <td>0</td>\n",
              "      <td>0</td>\n",
              "      <td>...</td>\n",
              "      <td>0</td>\n",
              "      <td>0</td>\n",
              "      <td>0</td>\n",
              "      <td>0</td>\n",
              "      <td>0</td>\n",
              "      <td>0</td>\n",
              "      <td>1</td>\n",
              "      <td>0</td>\n",
              "      <td>0</td>\n",
              "      <td>0</td>\n",
              "    </tr>\n",
              "    <tr>\n",
              "      <th>15406</th>\n",
              "      <td>0</td>\n",
              "      <td>0</td>\n",
              "      <td>0</td>\n",
              "      <td>0</td>\n",
              "      <td>0</td>\n",
              "      <td>0</td>\n",
              "      <td>0</td>\n",
              "      <td>1</td>\n",
              "      <td>0</td>\n",
              "      <td>0</td>\n",
              "      <td>...</td>\n",
              "      <td>0</td>\n",
              "      <td>0</td>\n",
              "      <td>0</td>\n",
              "      <td>0</td>\n",
              "      <td>0</td>\n",
              "      <td>0</td>\n",
              "      <td>0</td>\n",
              "      <td>1</td>\n",
              "      <td>0</td>\n",
              "      <td>0</td>\n",
              "    </tr>\n",
              "    <tr>\n",
              "      <th>15407</th>\n",
              "      <td>0</td>\n",
              "      <td>0</td>\n",
              "      <td>0</td>\n",
              "      <td>0</td>\n",
              "      <td>0</td>\n",
              "      <td>0</td>\n",
              "      <td>0</td>\n",
              "      <td>0</td>\n",
              "      <td>1</td>\n",
              "      <td>0</td>\n",
              "      <td>...</td>\n",
              "      <td>0</td>\n",
              "      <td>0</td>\n",
              "      <td>0</td>\n",
              "      <td>0</td>\n",
              "      <td>0</td>\n",
              "      <td>0</td>\n",
              "      <td>0</td>\n",
              "      <td>0</td>\n",
              "      <td>1</td>\n",
              "      <td>0</td>\n",
              "    </tr>\n",
              "    <tr>\n",
              "      <th>15408</th>\n",
              "      <td>0</td>\n",
              "      <td>0</td>\n",
              "      <td>0</td>\n",
              "      <td>0</td>\n",
              "      <td>0</td>\n",
              "      <td>0</td>\n",
              "      <td>0</td>\n",
              "      <td>0</td>\n",
              "      <td>0</td>\n",
              "      <td>1</td>\n",
              "      <td>...</td>\n",
              "      <td>0</td>\n",
              "      <td>0</td>\n",
              "      <td>0</td>\n",
              "      <td>0</td>\n",
              "      <td>0</td>\n",
              "      <td>0</td>\n",
              "      <td>0</td>\n",
              "      <td>0</td>\n",
              "      <td>0</td>\n",
              "      <td>1</td>\n",
              "    </tr>\n",
              "  </tbody>\n",
              "</table>\n",
              "<p>5 rows × 39 columns</p>\n",
              "</div>"
            ]
          },
          "metadata": {},
          "execution_count": 15
        }
      ],
      "metadata": {
        "colab": {
          "base_uri": "https://localhost:8080/",
          "height": 204
        },
        "id": "9GMmBu_ug2zR",
        "outputId": "dfe263a4-50b6-4960-ae66-7b26e4c5e16c"
      }
    },
    {
      "cell_type": "code",
      "execution_count": 16,
      "source": [
        "# Remove last 3 rows for forced data\r\n",
        "X_encoded_df = X_encoded_df.drop([len(X_encoded_df.index)-1], axis=0)\r\n",
        "X_encoded_df = X_encoded_df.drop([len(X_encoded_df.index)-1], axis=0)\r\n",
        "X_encoded_df = X_encoded_df.drop([len(X_encoded_df.index)-1], axis=0)\r\n",
        "X_encoded_df.tail(5)"
      ],
      "outputs": [
        {
          "output_type": "execute_result",
          "data": {
            "text/plain": [
              "       DL  OO  UA  WN  AA  EV  AS  YV  F9  G4  ...  PDX  PHX  SAN  SEA  SFO  \\\n",
              "15401   0   1   0   0   0   0   0   0   0   0  ...    0    0    0    0    0   \n",
              "15402   0   1   0   0   0   0   0   0   0   0  ...    0    0    0    0    0   \n",
              "15403   0   1   0   0   0   0   0   0   0   0  ...    0    0    0    0    0   \n",
              "15404   0   1   0   0   0   0   0   0   0   0  ...    0    0    0    0    0   \n",
              "15405   0   1   0   0   0   0   0   0   0   0  ...    0    0    0    0    0   \n",
              "\n",
              "       SJC  SLC  PVU  CLT  BLI  \n",
              "15401    0    1    0    0    0  \n",
              "15402    0    1    0    0    0  \n",
              "15403    0    1    0    0    0  \n",
              "15404    0    1    0    0    0  \n",
              "15405    0    1    0    0    0  \n",
              "\n",
              "[5 rows x 39 columns]"
            ],
            "text/html": [
              "<div>\n",
              "<style scoped>\n",
              "    .dataframe tbody tr th:only-of-type {\n",
              "        vertical-align: middle;\n",
              "    }\n",
              "\n",
              "    .dataframe tbody tr th {\n",
              "        vertical-align: top;\n",
              "    }\n",
              "\n",
              "    .dataframe thead th {\n",
              "        text-align: right;\n",
              "    }\n",
              "</style>\n",
              "<table border=\"1\" class=\"dataframe\">\n",
              "  <thead>\n",
              "    <tr style=\"text-align: right;\">\n",
              "      <th></th>\n",
              "      <th>DL</th>\n",
              "      <th>OO</th>\n",
              "      <th>UA</th>\n",
              "      <th>WN</th>\n",
              "      <th>AA</th>\n",
              "      <th>EV</th>\n",
              "      <th>AS</th>\n",
              "      <th>YV</th>\n",
              "      <th>F9</th>\n",
              "      <th>G4</th>\n",
              "      <th>...</th>\n",
              "      <th>PDX</th>\n",
              "      <th>PHX</th>\n",
              "      <th>SAN</th>\n",
              "      <th>SEA</th>\n",
              "      <th>SFO</th>\n",
              "      <th>SJC</th>\n",
              "      <th>SLC</th>\n",
              "      <th>PVU</th>\n",
              "      <th>CLT</th>\n",
              "      <th>BLI</th>\n",
              "    </tr>\n",
              "  </thead>\n",
              "  <tbody>\n",
              "    <tr>\n",
              "      <th>15401</th>\n",
              "      <td>0</td>\n",
              "      <td>1</td>\n",
              "      <td>0</td>\n",
              "      <td>0</td>\n",
              "      <td>0</td>\n",
              "      <td>0</td>\n",
              "      <td>0</td>\n",
              "      <td>0</td>\n",
              "      <td>0</td>\n",
              "      <td>0</td>\n",
              "      <td>...</td>\n",
              "      <td>0</td>\n",
              "      <td>0</td>\n",
              "      <td>0</td>\n",
              "      <td>0</td>\n",
              "      <td>0</td>\n",
              "      <td>0</td>\n",
              "      <td>1</td>\n",
              "      <td>0</td>\n",
              "      <td>0</td>\n",
              "      <td>0</td>\n",
              "    </tr>\n",
              "    <tr>\n",
              "      <th>15402</th>\n",
              "      <td>0</td>\n",
              "      <td>1</td>\n",
              "      <td>0</td>\n",
              "      <td>0</td>\n",
              "      <td>0</td>\n",
              "      <td>0</td>\n",
              "      <td>0</td>\n",
              "      <td>0</td>\n",
              "      <td>0</td>\n",
              "      <td>0</td>\n",
              "      <td>...</td>\n",
              "      <td>0</td>\n",
              "      <td>0</td>\n",
              "      <td>0</td>\n",
              "      <td>0</td>\n",
              "      <td>0</td>\n",
              "      <td>0</td>\n",
              "      <td>1</td>\n",
              "      <td>0</td>\n",
              "      <td>0</td>\n",
              "      <td>0</td>\n",
              "    </tr>\n",
              "    <tr>\n",
              "      <th>15403</th>\n",
              "      <td>0</td>\n",
              "      <td>1</td>\n",
              "      <td>0</td>\n",
              "      <td>0</td>\n",
              "      <td>0</td>\n",
              "      <td>0</td>\n",
              "      <td>0</td>\n",
              "      <td>0</td>\n",
              "      <td>0</td>\n",
              "      <td>0</td>\n",
              "      <td>...</td>\n",
              "      <td>0</td>\n",
              "      <td>0</td>\n",
              "      <td>0</td>\n",
              "      <td>0</td>\n",
              "      <td>0</td>\n",
              "      <td>0</td>\n",
              "      <td>1</td>\n",
              "      <td>0</td>\n",
              "      <td>0</td>\n",
              "      <td>0</td>\n",
              "    </tr>\n",
              "    <tr>\n",
              "      <th>15404</th>\n",
              "      <td>0</td>\n",
              "      <td>1</td>\n",
              "      <td>0</td>\n",
              "      <td>0</td>\n",
              "      <td>0</td>\n",
              "      <td>0</td>\n",
              "      <td>0</td>\n",
              "      <td>0</td>\n",
              "      <td>0</td>\n",
              "      <td>0</td>\n",
              "      <td>...</td>\n",
              "      <td>0</td>\n",
              "      <td>0</td>\n",
              "      <td>0</td>\n",
              "      <td>0</td>\n",
              "      <td>0</td>\n",
              "      <td>0</td>\n",
              "      <td>1</td>\n",
              "      <td>0</td>\n",
              "      <td>0</td>\n",
              "      <td>0</td>\n",
              "    </tr>\n",
              "    <tr>\n",
              "      <th>15405</th>\n",
              "      <td>0</td>\n",
              "      <td>1</td>\n",
              "      <td>0</td>\n",
              "      <td>0</td>\n",
              "      <td>0</td>\n",
              "      <td>0</td>\n",
              "      <td>0</td>\n",
              "      <td>0</td>\n",
              "      <td>0</td>\n",
              "      <td>0</td>\n",
              "      <td>...</td>\n",
              "      <td>0</td>\n",
              "      <td>0</td>\n",
              "      <td>0</td>\n",
              "      <td>0</td>\n",
              "      <td>0</td>\n",
              "      <td>0</td>\n",
              "      <td>1</td>\n",
              "      <td>0</td>\n",
              "      <td>0</td>\n",
              "      <td>0</td>\n",
              "    </tr>\n",
              "  </tbody>\n",
              "</table>\n",
              "<p>5 rows × 39 columns</p>\n",
              "</div>"
            ]
          },
          "metadata": {},
          "execution_count": 16
        }
      ],
      "metadata": {
        "colab": {
          "base_uri": "https://localhost:8080/",
          "height": 204
        },
        "id": "EKVOjFODesdx",
        "outputId": "a03d0057-97e8-43e8-e8b4-94f67af9da8f"
      }
    },
    {
      "cell_type": "code",
      "execution_count": 17,
      "source": [
        "# Join encoded data to original DataFrame\r\n",
        "encoded_df = df\r\n",
        "encoded_df = encoded_df.join(X_encoded_df)\r\n",
        "encoded_df.head(3)"
      ],
      "outputs": [
        {
          "output_type": "execute_result",
          "data": {
            "text/plain": [
              "                      origin_city_name                       dest_city_name  \\\n",
              "0  TUCSON, ARIZONA, USA                 ATLANTA, GEORGIA, USA                 \n",
              "1  TUCSON, ARIZONA, USA                 ATLANTA, GEORGIA, USA                 \n",
              "2  TUCSON, ARIZONA, USA                 ATLANTA, GEORGIA, USA                 \n",
              "\n",
              "      FL_DATE OP_CARRIER  OP_CARRIER_FL_NUM ORIGIN DEST  CRS_DEP_TIME  \\\n",
              "0  2017-01-01         DL               2066    TUS  ATL          1430   \n",
              "1  2017-01-02         DL               1127    TUS  ATL           600   \n",
              "2  2017-01-02         DL               2066    TUS  ATL          1430   \n",
              "\n",
              "   DEP_TIME  DEP_DELAY  ...  PDX  PHX  SAN  SEA  SFO  SJC  SLC  PVU CLT  BLI  \n",
              "0    1459.0       29.0  ...    0    0    0    0    0    0    0    0   0    0  \n",
              "1     637.0       37.0  ...    0    0    0    0    0    0    0    0   0    0  \n",
              "2    1447.0       17.0  ...    0    0    0    0    0    0    0    0   0    0  \n",
              "\n",
              "[3 rows x 78 columns]"
            ],
            "text/html": [
              "<div>\n",
              "<style scoped>\n",
              "    .dataframe tbody tr th:only-of-type {\n",
              "        vertical-align: middle;\n",
              "    }\n",
              "\n",
              "    .dataframe tbody tr th {\n",
              "        vertical-align: top;\n",
              "    }\n",
              "\n",
              "    .dataframe thead th {\n",
              "        text-align: right;\n",
              "    }\n",
              "</style>\n",
              "<table border=\"1\" class=\"dataframe\">\n",
              "  <thead>\n",
              "    <tr style=\"text-align: right;\">\n",
              "      <th></th>\n",
              "      <th>origin_city_name</th>\n",
              "      <th>dest_city_name</th>\n",
              "      <th>FL_DATE</th>\n",
              "      <th>OP_CARRIER</th>\n",
              "      <th>OP_CARRIER_FL_NUM</th>\n",
              "      <th>ORIGIN</th>\n",
              "      <th>DEST</th>\n",
              "      <th>CRS_DEP_TIME</th>\n",
              "      <th>DEP_TIME</th>\n",
              "      <th>DEP_DELAY</th>\n",
              "      <th>...</th>\n",
              "      <th>PDX</th>\n",
              "      <th>PHX</th>\n",
              "      <th>SAN</th>\n",
              "      <th>SEA</th>\n",
              "      <th>SFO</th>\n",
              "      <th>SJC</th>\n",
              "      <th>SLC</th>\n",
              "      <th>PVU</th>\n",
              "      <th>CLT</th>\n",
              "      <th>BLI</th>\n",
              "    </tr>\n",
              "  </thead>\n",
              "  <tbody>\n",
              "    <tr>\n",
              "      <th>0</th>\n",
              "      <td>TUCSON, ARIZONA, USA</td>\n",
              "      <td>ATLANTA, GEORGIA, USA</td>\n",
              "      <td>2017-01-01</td>\n",
              "      <td>DL</td>\n",
              "      <td>2066</td>\n",
              "      <td>TUS</td>\n",
              "      <td>ATL</td>\n",
              "      <td>1430</td>\n",
              "      <td>1459.0</td>\n",
              "      <td>29.0</td>\n",
              "      <td>...</td>\n",
              "      <td>0</td>\n",
              "      <td>0</td>\n",
              "      <td>0</td>\n",
              "      <td>0</td>\n",
              "      <td>0</td>\n",
              "      <td>0</td>\n",
              "      <td>0</td>\n",
              "      <td>0</td>\n",
              "      <td>0</td>\n",
              "      <td>0</td>\n",
              "    </tr>\n",
              "    <tr>\n",
              "      <th>1</th>\n",
              "      <td>TUCSON, ARIZONA, USA</td>\n",
              "      <td>ATLANTA, GEORGIA, USA</td>\n",
              "      <td>2017-01-02</td>\n",
              "      <td>DL</td>\n",
              "      <td>1127</td>\n",
              "      <td>TUS</td>\n",
              "      <td>ATL</td>\n",
              "      <td>600</td>\n",
              "      <td>637.0</td>\n",
              "      <td>37.0</td>\n",
              "      <td>...</td>\n",
              "      <td>0</td>\n",
              "      <td>0</td>\n",
              "      <td>0</td>\n",
              "      <td>0</td>\n",
              "      <td>0</td>\n",
              "      <td>0</td>\n",
              "      <td>0</td>\n",
              "      <td>0</td>\n",
              "      <td>0</td>\n",
              "      <td>0</td>\n",
              "    </tr>\n",
              "    <tr>\n",
              "      <th>2</th>\n",
              "      <td>TUCSON, ARIZONA, USA</td>\n",
              "      <td>ATLANTA, GEORGIA, USA</td>\n",
              "      <td>2017-01-02</td>\n",
              "      <td>DL</td>\n",
              "      <td>2066</td>\n",
              "      <td>TUS</td>\n",
              "      <td>ATL</td>\n",
              "      <td>1430</td>\n",
              "      <td>1447.0</td>\n",
              "      <td>17.0</td>\n",
              "      <td>...</td>\n",
              "      <td>0</td>\n",
              "      <td>0</td>\n",
              "      <td>0</td>\n",
              "      <td>0</td>\n",
              "      <td>0</td>\n",
              "      <td>0</td>\n",
              "      <td>0</td>\n",
              "      <td>0</td>\n",
              "      <td>0</td>\n",
              "      <td>0</td>\n",
              "    </tr>\n",
              "  </tbody>\n",
              "</table>\n",
              "<p>3 rows × 78 columns</p>\n",
              "</div>"
            ]
          },
          "metadata": {},
          "execution_count": 17
        }
      ],
      "metadata": {
        "colab": {
          "base_uri": "https://localhost:8080/",
          "height": 213
        },
        "id": "e_nlkauJesdx",
        "outputId": "56d9d1bb-9cc7-4b2c-d449-16578984656e"
      }
    },
    {
      "cell_type": "code",
      "execution_count": 18,
      "source": [
        "# Join encoded data to X\r\n",
        "X_df = X_numeric_df\r\n",
        "X_df = X_df.join(X_encoded_df)\r\n",
        "X_df.head(3)"
      ],
      "outputs": [
        {
          "output_type": "execute_result",
          "data": {
            "text/plain": [
              "   OP_CARRIER_FL_NUM  CRS_DEP_hours  CRS_ARR_hours  DISTANCE  DL  OO  UA  WN  \\\n",
              "0               2066           14.5      20.050000      1541   1   0   0   0   \n",
              "1               1127            6.0      11.483333      1541   1   0   0   0   \n",
              "2               2066           14.5      20.083333      1541   1   0   0   0   \n",
              "\n",
              "   AA  EV  ...  PDX  PHX  SAN  SEA  SFO  SJC  SLC  PVU  CLT  BLI  \n",
              "0   0   0  ...    0    0    0    0    0    0    0    0    0    0  \n",
              "1   0   0  ...    0    0    0    0    0    0    0    0    0    0  \n",
              "2   0   0  ...    0    0    0    0    0    0    0    0    0    0  \n",
              "\n",
              "[3 rows x 43 columns]"
            ],
            "text/html": [
              "<div>\n",
              "<style scoped>\n",
              "    .dataframe tbody tr th:only-of-type {\n",
              "        vertical-align: middle;\n",
              "    }\n",
              "\n",
              "    .dataframe tbody tr th {\n",
              "        vertical-align: top;\n",
              "    }\n",
              "\n",
              "    .dataframe thead th {\n",
              "        text-align: right;\n",
              "    }\n",
              "</style>\n",
              "<table border=\"1\" class=\"dataframe\">\n",
              "  <thead>\n",
              "    <tr style=\"text-align: right;\">\n",
              "      <th></th>\n",
              "      <th>OP_CARRIER_FL_NUM</th>\n",
              "      <th>CRS_DEP_hours</th>\n",
              "      <th>CRS_ARR_hours</th>\n",
              "      <th>DISTANCE</th>\n",
              "      <th>DL</th>\n",
              "      <th>OO</th>\n",
              "      <th>UA</th>\n",
              "      <th>WN</th>\n",
              "      <th>AA</th>\n",
              "      <th>EV</th>\n",
              "      <th>...</th>\n",
              "      <th>PDX</th>\n",
              "      <th>PHX</th>\n",
              "      <th>SAN</th>\n",
              "      <th>SEA</th>\n",
              "      <th>SFO</th>\n",
              "      <th>SJC</th>\n",
              "      <th>SLC</th>\n",
              "      <th>PVU</th>\n",
              "      <th>CLT</th>\n",
              "      <th>BLI</th>\n",
              "    </tr>\n",
              "  </thead>\n",
              "  <tbody>\n",
              "    <tr>\n",
              "      <th>0</th>\n",
              "      <td>2066</td>\n",
              "      <td>14.5</td>\n",
              "      <td>20.050000</td>\n",
              "      <td>1541</td>\n",
              "      <td>1</td>\n",
              "      <td>0</td>\n",
              "      <td>0</td>\n",
              "      <td>0</td>\n",
              "      <td>0</td>\n",
              "      <td>0</td>\n",
              "      <td>...</td>\n",
              "      <td>0</td>\n",
              "      <td>0</td>\n",
              "      <td>0</td>\n",
              "      <td>0</td>\n",
              "      <td>0</td>\n",
              "      <td>0</td>\n",
              "      <td>0</td>\n",
              "      <td>0</td>\n",
              "      <td>0</td>\n",
              "      <td>0</td>\n",
              "    </tr>\n",
              "    <tr>\n",
              "      <th>1</th>\n",
              "      <td>1127</td>\n",
              "      <td>6.0</td>\n",
              "      <td>11.483333</td>\n",
              "      <td>1541</td>\n",
              "      <td>1</td>\n",
              "      <td>0</td>\n",
              "      <td>0</td>\n",
              "      <td>0</td>\n",
              "      <td>0</td>\n",
              "      <td>0</td>\n",
              "      <td>...</td>\n",
              "      <td>0</td>\n",
              "      <td>0</td>\n",
              "      <td>0</td>\n",
              "      <td>0</td>\n",
              "      <td>0</td>\n",
              "      <td>0</td>\n",
              "      <td>0</td>\n",
              "      <td>0</td>\n",
              "      <td>0</td>\n",
              "      <td>0</td>\n",
              "    </tr>\n",
              "    <tr>\n",
              "      <th>2</th>\n",
              "      <td>2066</td>\n",
              "      <td>14.5</td>\n",
              "      <td>20.083333</td>\n",
              "      <td>1541</td>\n",
              "      <td>1</td>\n",
              "      <td>0</td>\n",
              "      <td>0</td>\n",
              "      <td>0</td>\n",
              "      <td>0</td>\n",
              "      <td>0</td>\n",
              "      <td>...</td>\n",
              "      <td>0</td>\n",
              "      <td>0</td>\n",
              "      <td>0</td>\n",
              "      <td>0</td>\n",
              "      <td>0</td>\n",
              "      <td>0</td>\n",
              "      <td>0</td>\n",
              "      <td>0</td>\n",
              "      <td>0</td>\n",
              "      <td>0</td>\n",
              "    </tr>\n",
              "  </tbody>\n",
              "</table>\n",
              "<p>3 rows × 43 columns</p>\n",
              "</div>"
            ]
          },
          "metadata": {},
          "execution_count": 18
        }
      ],
      "metadata": {
        "colab": {
          "base_uri": "https://localhost:8080/",
          "height": 162
        },
        "id": "zQ1s538wk09F",
        "outputId": "23fbe287-d369-446d-e9f8-633b99e1566e"
      }
    },
    {
      "cell_type": "markdown",
      "source": [
        "# Model Pre-Processing"
      ],
      "metadata": {
        "id": "ytW5uyKkesdy"
      }
    },
    {
      "cell_type": "code",
      "execution_count": 19,
      "source": [
        "# Split X and y into training and testing groups\r\n",
        "X_train, X_test, y_train, y_test = train_test_split(\r\n",
        "    X_df, y_df, test_size=0.3, random_state=42)"
      ],
      "outputs": [],
      "metadata": {
        "id": "tgUzpL5CR48g"
      }
    },
    {
      "cell_type": "code",
      "execution_count": 20,
      "source": [
        "# Display training data\r\n",
        "X_train.head(3)"
      ],
      "outputs": [
        {
          "output_type": "execute_result",
          "data": {
            "text/plain": [
              "       OP_CARRIER_FL_NUM  CRS_DEP_hours  CRS_ARR_hours  DISTANCE  DL  OO  UA  \\\n",
              "10939               5538      11.333333      16.783333      1437   0   1   0   \n",
              "10779               5538      12.316667      16.833333      1437   0   1   0   \n",
              "10092               2068      16.416667      20.666667      1440   0   0   0   \n",
              "\n",
              "       WN  AA  EV  ...  PDX  PHX  SAN  SEA  SFO  SJC  SLC  PVU  CLT  BLI  \n",
              "10939   0   0   0  ...    0    0    0    0    0    0    0    0    0    0  \n",
              "10779   0   0   0  ...    0    0    0    0    0    0    0    0    0    0  \n",
              "10092   1   0   0  ...    0    0    0    0    0    0    0    0    0    0  \n",
              "\n",
              "[3 rows x 43 columns]"
            ],
            "text/html": [
              "<div>\n",
              "<style scoped>\n",
              "    .dataframe tbody tr th:only-of-type {\n",
              "        vertical-align: middle;\n",
              "    }\n",
              "\n",
              "    .dataframe tbody tr th {\n",
              "        vertical-align: top;\n",
              "    }\n",
              "\n",
              "    .dataframe thead th {\n",
              "        text-align: right;\n",
              "    }\n",
              "</style>\n",
              "<table border=\"1\" class=\"dataframe\">\n",
              "  <thead>\n",
              "    <tr style=\"text-align: right;\">\n",
              "      <th></th>\n",
              "      <th>OP_CARRIER_FL_NUM</th>\n",
              "      <th>CRS_DEP_hours</th>\n",
              "      <th>CRS_ARR_hours</th>\n",
              "      <th>DISTANCE</th>\n",
              "      <th>DL</th>\n",
              "      <th>OO</th>\n",
              "      <th>UA</th>\n",
              "      <th>WN</th>\n",
              "      <th>AA</th>\n",
              "      <th>EV</th>\n",
              "      <th>...</th>\n",
              "      <th>PDX</th>\n",
              "      <th>PHX</th>\n",
              "      <th>SAN</th>\n",
              "      <th>SEA</th>\n",
              "      <th>SFO</th>\n",
              "      <th>SJC</th>\n",
              "      <th>SLC</th>\n",
              "      <th>PVU</th>\n",
              "      <th>CLT</th>\n",
              "      <th>BLI</th>\n",
              "    </tr>\n",
              "  </thead>\n",
              "  <tbody>\n",
              "    <tr>\n",
              "      <th>10939</th>\n",
              "      <td>5538</td>\n",
              "      <td>11.333333</td>\n",
              "      <td>16.783333</td>\n",
              "      <td>1437</td>\n",
              "      <td>0</td>\n",
              "      <td>1</td>\n",
              "      <td>0</td>\n",
              "      <td>0</td>\n",
              "      <td>0</td>\n",
              "      <td>0</td>\n",
              "      <td>...</td>\n",
              "      <td>0</td>\n",
              "      <td>0</td>\n",
              "      <td>0</td>\n",
              "      <td>0</td>\n",
              "      <td>0</td>\n",
              "      <td>0</td>\n",
              "      <td>0</td>\n",
              "      <td>0</td>\n",
              "      <td>0</td>\n",
              "      <td>0</td>\n",
              "    </tr>\n",
              "    <tr>\n",
              "      <th>10779</th>\n",
              "      <td>5538</td>\n",
              "      <td>12.316667</td>\n",
              "      <td>16.833333</td>\n",
              "      <td>1437</td>\n",
              "      <td>0</td>\n",
              "      <td>1</td>\n",
              "      <td>0</td>\n",
              "      <td>0</td>\n",
              "      <td>0</td>\n",
              "      <td>0</td>\n",
              "      <td>...</td>\n",
              "      <td>0</td>\n",
              "      <td>0</td>\n",
              "      <td>0</td>\n",
              "      <td>0</td>\n",
              "      <td>0</td>\n",
              "      <td>0</td>\n",
              "      <td>0</td>\n",
              "      <td>0</td>\n",
              "      <td>0</td>\n",
              "      <td>0</td>\n",
              "    </tr>\n",
              "    <tr>\n",
              "      <th>10092</th>\n",
              "      <td>2068</td>\n",
              "      <td>16.416667</td>\n",
              "      <td>20.666667</td>\n",
              "      <td>1440</td>\n",
              "      <td>0</td>\n",
              "      <td>0</td>\n",
              "      <td>0</td>\n",
              "      <td>1</td>\n",
              "      <td>0</td>\n",
              "      <td>0</td>\n",
              "      <td>...</td>\n",
              "      <td>0</td>\n",
              "      <td>0</td>\n",
              "      <td>0</td>\n",
              "      <td>0</td>\n",
              "      <td>0</td>\n",
              "      <td>0</td>\n",
              "      <td>0</td>\n",
              "      <td>0</td>\n",
              "      <td>0</td>\n",
              "      <td>0</td>\n",
              "    </tr>\n",
              "  </tbody>\n",
              "</table>\n",
              "<p>3 rows × 43 columns</p>\n",
              "</div>"
            ]
          },
          "metadata": {},
          "execution_count": 20
        }
      ],
      "metadata": {
        "colab": {
          "base_uri": "https://localhost:8080/",
          "height": 162
        },
        "id": "WJo3R8jMR48h",
        "outputId": "51b38d35-f44f-4a34-ffee-f60374ff51ea"
      }
    },
    {
      "cell_type": "code",
      "execution_count": 21,
      "source": [
        "# Scale the data with MinMaxScaler\r\n",
        "X_scaler = MinMaxScaler().fit(X_train)\r\n",
        "X_train_scaled = X_scaler.transform(X_train)\r\n",
        "X_test_scaled = X_scaler.transform(X_test)"
      ],
      "outputs": [],
      "metadata": {
        "id": "ZVZTjs6RR48h"
      }
    },
    {
      "cell_type": "markdown",
      "source": [
        "# Random Forest Modeling"
      ],
      "metadata": {
        "id": "fo4BJNnLesdy"
      }
    },
    {
      "cell_type": "code",
      "execution_count": 22,
      "source": [
        "# Hyperparamter tuning\r\n",
        "model = RandomForestClassifier(n_jobs=-1) \r\n",
        "\r\n",
        "param_grid = { \r\n",
        "    'n_estimators': [100, 1000, 5000],\r\n",
        "    'max_features': ['auto', 'sqrt', 'log2']\r\n",
        "}\r\n",
        "\r\n",
        "grid = GridSearchCV(estimator=model, param_grid=param_grid, scoring='accuracy')\r\n",
        "grid.fit(X_train, y_train)\r\n",
        "grid.best_params_"
      ],
      "outputs": [
        {
          "output_type": "execute_result",
          "data": {
            "text/plain": [
              "{'max_features': 'log2', 'n_estimators': 5000}"
            ]
          },
          "metadata": {},
          "execution_count": 22
        }
      ],
      "metadata": {
        "colab": {
          "base_uri": "https://localhost:8080/"
        },
        "id": "COHMmyCBesdy",
        "outputId": "960b2962-87af-4239-ef46-4027c3849af5"
      }
    },
    {
      "cell_type": "code",
      "execution_count": 23,
      "source": [
        "# Save the grid\r\n",
        "joblib.dump(grid, 'random_forest_grid_v1.sav')\r\n",
        "# files.download('random_forest_grid_v1.sav')"
      ],
      "outputs": [
        {
          "output_type": "execute_result",
          "data": {
            "text/plain": [
              "['random_forest_grid_v1.sav']"
            ]
          },
          "metadata": {},
          "execution_count": 23
        }
      ],
      "metadata": {
        "colab": {
          "base_uri": "https://localhost:8080/",
          "height": 34
        },
        "id": "b5BBABt4esdz",
        "outputId": "af0646a3-b52f-42d4-f3d3-1978c06b3e2f"
      }
    },
    {
      "cell_type": "code",
      "execution_count": 48,
      "source": [
        "# Build final model\r\n",
        "best_model = RandomForestClassifier(n_estimators=5000, max_features= 'log2', n_jobs=-1) \r\n",
        "best_model.fit(X_train, y_train)"
      ],
      "outputs": [
        {
          "output_type": "execute_result",
          "data": {
            "text/plain": [
              "RandomForestClassifier(max_features='log2', n_estimators=5000, n_jobs=-1)"
            ]
          },
          "metadata": {},
          "execution_count": 48
        }
      ],
      "metadata": {
        "colab": {
          "base_uri": "https://localhost:8080/"
        },
        "id": "7m8EOXm8esdz",
        "outputId": "5a118e3d-6cb1-4a90-feee-9582c31e0f11"
      }
    },
    {
      "cell_type": "code",
      "execution_count": 49,
      "source": [
        "# Save the model\r\n",
        "joblib.dump(best_model, 'random_forest_model_v1.sav')\r\n",
        "# files.download('random_forest_model_v1.sav')"
      ],
      "outputs": [
        {
          "output_type": "execute_result",
          "data": {
            "text/plain": [
              "['random_forest_model_v1.sav']"
            ]
          },
          "metadata": {},
          "execution_count": 49
        }
      ],
      "metadata": {
        "colab": {
          "base_uri": "https://localhost:8080/",
          "height": 34
        },
        "id": "3dzT9tmaesd0",
        "outputId": "519daf9d-6e10-4082-d765-d5897cbd7686"
      }
    },
    {
      "cell_type": "markdown",
      "source": [
        "# Score the model"
      ],
      "metadata": {
        "id": "JDQmf-yMesd0"
      }
    },
    {
      "cell_type": "code",
      "execution_count": 50,
      "source": [
        "print(f'Random Forest Score: {best_model.score(X_test, y_test)}')"
      ],
      "outputs": [
        {
          "output_type": "stream",
          "name": "stdout",
          "text": [
            "Random Forest Score: 0.8684552141929901\n"
          ]
        }
      ],
      "metadata": {
        "colab": {
          "base_uri": "https://localhost:8080/"
        },
        "id": "GC1bazZVesd0",
        "outputId": "13dc7155-d382-4088-a6f2-58a375a534f3"
      }
    },
    {
      "cell_type": "code",
      "execution_count": 51,
      "source": [
        "predictions = best_model.predict(X_test)\r\n",
        "results_cancelled = pd.DataFrame({ \\\r\n",
        "            \"CANCELLED\": y_test.CANCELLED,\"CANCELLED_PREDICT\": predictions[:,0]})\r\n",
        "results_diverted = pd.DataFrame({ \\\r\n",
        "            \"DIVERTED\": y_test.DIVERTED,\"DIVERTED_PREDICT\": predictions[:,1]})\r\n",
        "results_delayed = pd.DataFrame({ \\\r\n",
        "            \"DELAY\": y_test.DELAY, \"DELAY_PREDICT\": predictions[:,2]})"
      ],
      "outputs": [],
      "metadata": {
        "id": "iWsEhg5qesd0"
      }
    },
    {
      "cell_type": "code",
      "execution_count": 52,
      "source": [
        "print(classification_report(y_test.CANCELLED, predictions[:,0]))\r\n",
        "results_cancelled.apply(pd.value_counts)"
      ],
      "outputs": [
        {
          "output_type": "stream",
          "name": "stdout",
          "text": [
            "              precision    recall  f1-score   support\n",
            "\n",
            "           0       0.99      1.00      1.00      4590\n",
            "           1       0.00      0.00      0.00        32\n",
            "\n",
            "    accuracy                           0.99      4622\n",
            "   macro avg       0.50      0.50      0.50      4622\n",
            "weighted avg       0.99      0.99      0.99      4622\n",
            "\n"
          ]
        },
        {
          "output_type": "stream",
          "name": "stderr",
          "text": [
            "C:\\Users\\nlund\\anaconda3\\envs\\PythonDataV2\\lib\\site-packages\\sklearn\\metrics\\_classification.py:1248: UndefinedMetricWarning: Precision and F-score are ill-defined and being set to 0.0 in labels with no predicted samples. Use `zero_division` parameter to control this behavior.\n",
            "  _warn_prf(average, modifier, msg_start, len(result))\n",
            "C:\\Users\\nlund\\anaconda3\\envs\\PythonDataV2\\lib\\site-packages\\sklearn\\metrics\\_classification.py:1248: UndefinedMetricWarning: Precision and F-score are ill-defined and being set to 0.0 in labels with no predicted samples. Use `zero_division` parameter to control this behavior.\n",
            "  _warn_prf(average, modifier, msg_start, len(result))\n",
            "C:\\Users\\nlund\\anaconda3\\envs\\PythonDataV2\\lib\\site-packages\\sklearn\\metrics\\_classification.py:1248: UndefinedMetricWarning: Precision and F-score are ill-defined and being set to 0.0 in labels with no predicted samples. Use `zero_division` parameter to control this behavior.\n",
            "  _warn_prf(average, modifier, msg_start, len(result))\n"
          ]
        },
        {
          "output_type": "execute_result",
          "data": {
            "text/plain": [
              "   CANCELLED  CANCELLED_PREDICT\n",
              "0       4590             4622.0\n",
              "1         32                NaN"
            ],
            "text/html": [
              "<div>\n",
              "<style scoped>\n",
              "    .dataframe tbody tr th:only-of-type {\n",
              "        vertical-align: middle;\n",
              "    }\n",
              "\n",
              "    .dataframe tbody tr th {\n",
              "        vertical-align: top;\n",
              "    }\n",
              "\n",
              "    .dataframe thead th {\n",
              "        text-align: right;\n",
              "    }\n",
              "</style>\n",
              "<table border=\"1\" class=\"dataframe\">\n",
              "  <thead>\n",
              "    <tr style=\"text-align: right;\">\n",
              "      <th></th>\n",
              "      <th>CANCELLED</th>\n",
              "      <th>CANCELLED_PREDICT</th>\n",
              "    </tr>\n",
              "  </thead>\n",
              "  <tbody>\n",
              "    <tr>\n",
              "      <th>0</th>\n",
              "      <td>4590</td>\n",
              "      <td>4622.0</td>\n",
              "    </tr>\n",
              "    <tr>\n",
              "      <th>1</th>\n",
              "      <td>32</td>\n",
              "      <td>NaN</td>\n",
              "    </tr>\n",
              "  </tbody>\n",
              "</table>\n",
              "</div>"
            ]
          },
          "metadata": {},
          "execution_count": 52
        }
      ],
      "metadata": {
        "colab": {
          "base_uri": "https://localhost:8080/",
          "height": 318
        },
        "id": "0cFKBgQ_esd0",
        "outputId": "ce12fd5f-2ae1-49ea-a5b8-c9b3c3a19095"
      }
    },
    {
      "cell_type": "code",
      "execution_count": 53,
      "source": [
        "print(classification_report(y_test.DIVERTED, predictions[:,1]))\r\n",
        "results_diverted.apply(pd.value_counts)"
      ],
      "outputs": [
        {
          "output_type": "stream",
          "name": "stdout",
          "text": [
            "              precision    recall  f1-score   support\n",
            "\n",
            "           0       1.00      1.00      1.00      4613\n",
            "           1       0.00      0.00      0.00         9\n",
            "\n",
            "    accuracy                           1.00      4622\n",
            "   macro avg       0.50      0.50      0.50      4622\n",
            "weighted avg       1.00      1.00      1.00      4622\n",
            "\n"
          ]
        },
        {
          "output_type": "execute_result",
          "data": {
            "text/plain": [
              "   DIVERTED  DIVERTED_PREDICT\n",
              "0      4613              4621\n",
              "1         9                 1"
            ],
            "text/html": [
              "<div>\n",
              "<style scoped>\n",
              "    .dataframe tbody tr th:only-of-type {\n",
              "        vertical-align: middle;\n",
              "    }\n",
              "\n",
              "    .dataframe tbody tr th {\n",
              "        vertical-align: top;\n",
              "    }\n",
              "\n",
              "    .dataframe thead th {\n",
              "        text-align: right;\n",
              "    }\n",
              "</style>\n",
              "<table border=\"1\" class=\"dataframe\">\n",
              "  <thead>\n",
              "    <tr style=\"text-align: right;\">\n",
              "      <th></th>\n",
              "      <th>DIVERTED</th>\n",
              "      <th>DIVERTED_PREDICT</th>\n",
              "    </tr>\n",
              "  </thead>\n",
              "  <tbody>\n",
              "    <tr>\n",
              "      <th>0</th>\n",
              "      <td>4613</td>\n",
              "      <td>4621</td>\n",
              "    </tr>\n",
              "    <tr>\n",
              "      <th>1</th>\n",
              "      <td>9</td>\n",
              "      <td>1</td>\n",
              "    </tr>\n",
              "  </tbody>\n",
              "</table>\n",
              "</div>"
            ]
          },
          "metadata": {},
          "execution_count": 53
        }
      ],
      "metadata": {
        "colab": {
          "base_uri": "https://localhost:8080/",
          "height": 264
        },
        "id": "CG9uKo-nesd0",
        "outputId": "9b6e5304-7ac8-4b69-f42f-bf7aa61f1734"
      }
    },
    {
      "cell_type": "code",
      "execution_count": 54,
      "source": [
        "print(classification_report(y_test.DELAY, predictions[:,2]))\r\n",
        "results_delayed.apply(pd.value_counts)"
      ],
      "outputs": [
        {
          "output_type": "stream",
          "name": "stdout",
          "text": [
            "              precision    recall  f1-score   support\n",
            "\n",
            "           0       0.89      0.97      0.93      4087\n",
            "           1       0.29      0.10      0.14       535\n",
            "\n",
            "    accuracy                           0.87      4622\n",
            "   macro avg       0.59      0.53      0.54      4622\n",
            "weighted avg       0.82      0.87      0.84      4622\n",
            "\n"
          ]
        },
        {
          "output_type": "execute_result",
          "data": {
            "text/plain": [
              "   DELAY  DELAY_PREDICT\n",
              "0   4087           4448\n",
              "1    535            174"
            ],
            "text/html": [
              "<div>\n",
              "<style scoped>\n",
              "    .dataframe tbody tr th:only-of-type {\n",
              "        vertical-align: middle;\n",
              "    }\n",
              "\n",
              "    .dataframe tbody tr th {\n",
              "        vertical-align: top;\n",
              "    }\n",
              "\n",
              "    .dataframe thead th {\n",
              "        text-align: right;\n",
              "    }\n",
              "</style>\n",
              "<table border=\"1\" class=\"dataframe\">\n",
              "  <thead>\n",
              "    <tr style=\"text-align: right;\">\n",
              "      <th></th>\n",
              "      <th>DELAY</th>\n",
              "      <th>DELAY_PREDICT</th>\n",
              "    </tr>\n",
              "  </thead>\n",
              "  <tbody>\n",
              "    <tr>\n",
              "      <th>0</th>\n",
              "      <td>4087</td>\n",
              "      <td>4448</td>\n",
              "    </tr>\n",
              "    <tr>\n",
              "      <th>1</th>\n",
              "      <td>535</td>\n",
              "      <td>174</td>\n",
              "    </tr>\n",
              "  </tbody>\n",
              "</table>\n",
              "</div>"
            ]
          },
          "metadata": {},
          "execution_count": 54
        }
      ],
      "metadata": {
        "colab": {
          "base_uri": "https://localhost:8080/",
          "height": 264
        },
        "id": "SwbgS-3resd0",
        "outputId": "0907ff2e-edfc-4f5d-f19f-3b00c1a97fdf"
      }
    },
    {
      "cell_type": "markdown",
      "source": [
        "# Review Feature Importance"
      ],
      "metadata": {
        "id": "Bc8YfxB2esd1"
      }
    },
    {
      "cell_type": "code",
      "execution_count": 55,
      "source": [
        "# Sort the features by their importance\r\n",
        "rf_feature_sort = sorted(zip(X_train.columns,best_model.feature_importances_),key=itemgetter(1), reverse=False)\r\n",
        "# rf_feature_sort"
      ],
      "outputs": [],
      "metadata": {
        "id": "9Ow_YoTOesd1"
      }
    },
    {
      "cell_type": "code",
      "execution_count": 56,
      "source": [
        "# Plot Random Forest Feature Importance\r\n",
        "fig = plt.figure(figsize=[12,12])\r\n",
        "plt.barh(*zip(* (rf_feature_sort)))\r\n",
        "plt.xlabel('Feature Importance')\r\n",
        "plt.ylabel('Feature Name')\r\n",
        "plt.title('Random Forest Features')\r\n",
        "plt.show()"
      ],
      "outputs": [
        {
          "output_type": "display_data",
          "data": {
            "text/plain": [
              "<Figure size 864x864 with 1 Axes>"
            ],
            "image/svg+xml": "<?xml version=\"1.0\" encoding=\"utf-8\" standalone=\"no\"?>\r\n<!DOCTYPE svg PUBLIC \"-//W3C//DTD SVG 1.1//EN\"\r\n  \"http://www.w3.org/Graphics/SVG/1.1/DTD/svg11.dtd\">\r\n<svg height=\"712.194375pt\" version=\"1.1\" viewBox=\"0 0 812.26875 712.194375\" width=\"812.26875pt\" xmlns=\"http://www.w3.org/2000/svg\" xmlns:xlink=\"http://www.w3.org/1999/xlink\">\r\n <metadata>\r\n  <rdf:RDF xmlns:cc=\"http://creativecommons.org/ns#\" xmlns:dc=\"http://purl.org/dc/elements/1.1/\" xmlns:rdf=\"http://www.w3.org/1999/02/22-rdf-syntax-ns#\">\r\n   <cc:Work>\r\n    <dc:type rdf:resource=\"http://purl.org/dc/dcmitype/StillImage\"/>\r\n    <dc:date>2021-08-23T17:53:03.067255</dc:date>\r\n    <dc:format>image/svg+xml</dc:format>\r\n    <dc:creator>\r\n     <cc:Agent>\r\n      <dc:title>Matplotlib v3.4.2, https://matplotlib.org/</dc:title>\r\n     </cc:Agent>\r\n    </dc:creator>\r\n   </cc:Work>\r\n  </rdf:RDF>\r\n </metadata>\r\n <defs>\r\n  <style type=\"text/css\">*{stroke-linecap:butt;stroke-linejoin:round;}</style>\r\n </defs>\r\n <g id=\"figure_1\">\r\n  <g id=\"patch_1\">\r\n   <path d=\"M 0 712.194375 \r\nL 812.26875 712.194375 \r\nL 812.26875 0 \r\nL 0 0 \r\nz\r\n\" style=\"fill:none;\"/>\r\n  </g>\r\n  <g id=\"axes_1\">\r\n   <g id=\"patch_2\">\r\n    <path d=\"M 135.46875 674.638125 \r\nL 805.06875 674.638125 \r\nL 805.06875 22.318125 \r\nL 135.46875 22.318125 \r\nz\r\n\" style=\"fill:#ffffff;\"/>\r\n   </g>\r\n   <g id=\"patch_3\">\r\n    <path clip-path=\"url(#p96a32419c2)\" d=\"M 135.46875 644.987216 \r\nL 135.46875 644.987216 \r\nL 135.46875 633.902764 \r\nL 135.46875 633.902764 \r\nz\r\n\" style=\"fill:#1f77b4;\"/>\r\n   </g>\r\n   <g id=\"patch_4\">\r\n    <path clip-path=\"url(#p96a32419c2)\" d=\"M 135.46875 631.131651 \r\nL 135.46875 631.131651 \r\nL 135.46875 620.047199 \r\nL 135.46875 620.047199 \r\nz\r\n\" style=\"fill:#1f77b4;\"/>\r\n   </g>\r\n   <g id=\"patch_5\">\r\n    <path clip-path=\"url(#p96a32419c2)\" d=\"M 135.46875 617.276086 \r\nL 135.46875 617.276086 \r\nL 135.46875 606.191634 \r\nL 135.46875 606.191634 \r\nz\r\n\" style=\"fill:#1f77b4;\"/>\r\n   </g>\r\n   <g id=\"patch_6\">\r\n    <path clip-path=\"url(#p96a32419c2)\" d=\"M 135.46875 603.420521 \r\nL 135.46875 603.420521 \r\nL 135.46875 592.336069 \r\nL 135.46875 592.336069 \r\nz\r\n\" style=\"fill:#1f77b4;\"/>\r\n   </g>\r\n   <g id=\"patch_7\">\r\n    <path clip-path=\"url(#p96a32419c2)\" d=\"M 135.46875 589.564956 \r\nL 135.46875 589.564956 \r\nL 135.46875 578.480504 \r\nL 135.46875 578.480504 \r\nz\r\n\" style=\"fill:#1f77b4;\"/>\r\n   </g>\r\n   <g id=\"patch_8\">\r\n    <path clip-path=\"url(#p96a32419c2)\" d=\"M 135.46875 575.709391 \r\nL 135.46875 575.709391 \r\nL 135.46875 564.624939 \r\nL 135.46875 564.624939 \r\nz\r\n\" style=\"fill:#1f77b4;\"/>\r\n   </g>\r\n   <g id=\"patch_9\">\r\n    <path clip-path=\"url(#p96a32419c2)\" d=\"M 135.46875 561.853826 \r\nL 136.056533 561.853826 \r\nL 136.056533 550.769374 \r\nL 135.46875 550.769374 \r\nz\r\n\" style=\"fill:#1f77b4;\"/>\r\n   </g>\r\n   <g id=\"patch_10\">\r\n    <path clip-path=\"url(#p96a32419c2)\" d=\"M 135.46875 547.998261 \r\nL 136.142789 547.998261 \r\nL 136.142789 536.913809 \r\nL 135.46875 536.913809 \r\nz\r\n\" style=\"fill:#1f77b4;\"/>\r\n   </g>\r\n   <g id=\"patch_11\">\r\n    <path clip-path=\"url(#p96a32419c2)\" d=\"M 135.46875 534.142696 \r\nL 136.38332 534.142696 \r\nL 136.38332 523.058244 \r\nL 135.46875 523.058244 \r\nz\r\n\" style=\"fill:#1f77b4;\"/>\r\n   </g>\r\n   <g id=\"patch_12\">\r\n    <path clip-path=\"url(#p96a32419c2)\" d=\"M 135.46875 520.287131 \r\nL 136.658252 520.287131 \r\nL 136.658252 509.202679 \r\nL 135.46875 509.202679 \r\nz\r\n\" style=\"fill:#1f77b4;\"/>\r\n   </g>\r\n   <g id=\"patch_13\">\r\n    <path clip-path=\"url(#p96a32419c2)\" d=\"M 135.46875 506.431566 \r\nL 136.720374 506.431566 \r\nL 136.720374 495.347114 \r\nL 135.46875 495.347114 \r\nz\r\n\" style=\"fill:#1f77b4;\"/>\r\n   </g>\r\n   <g id=\"patch_14\">\r\n    <path clip-path=\"url(#p96a32419c2)\" d=\"M 135.46875 492.576001 \r\nL 136.789183 492.576001 \r\nL 136.789183 481.491549 \r\nL 135.46875 481.491549 \r\nz\r\n\" style=\"fill:#1f77b4;\"/>\r\n   </g>\r\n   <g id=\"patch_15\">\r\n    <path clip-path=\"url(#p96a32419c2)\" d=\"M 135.46875 478.720436 \r\nL 137.018511 478.720436 \r\nL 137.018511 467.635984 \r\nL 135.46875 467.635984 \r\nz\r\n\" style=\"fill:#1f77b4;\"/>\r\n   </g>\r\n   <g id=\"patch_16\">\r\n    <path clip-path=\"url(#p96a32419c2)\" d=\"M 135.46875 464.864871 \r\nL 137.148935 464.864871 \r\nL 137.148935 453.780419 \r\nL 135.46875 453.780419 \r\nz\r\n\" style=\"fill:#1f77b4;\"/>\r\n   </g>\r\n   <g id=\"patch_17\">\r\n    <path clip-path=\"url(#p96a32419c2)\" d=\"M 135.46875 451.009306 \r\nL 137.491625 451.009306 \r\nL 137.491625 439.924854 \r\nL 135.46875 439.924854 \r\nz\r\n\" style=\"fill:#1f77b4;\"/>\r\n   </g>\r\n   <g id=\"patch_18\">\r\n    <path clip-path=\"url(#p96a32419c2)\" d=\"M 135.46875 437.153741 \r\nL 137.85993 437.153741 \r\nL 137.85993 426.069289 \r\nL 135.46875 426.069289 \r\nz\r\n\" style=\"fill:#1f77b4;\"/>\r\n   </g>\r\n   <g id=\"patch_19\">\r\n    <path clip-path=\"url(#p96a32419c2)\" d=\"M 135.46875 423.298176 \r\nL 138.078236 423.298176 \r\nL 138.078236 412.213724 \r\nL 135.46875 412.213724 \r\nz\r\n\" style=\"fill:#1f77b4;\"/>\r\n   </g>\r\n   <g id=\"patch_20\">\r\n    <path clip-path=\"url(#p96a32419c2)\" d=\"M 135.46875 409.442611 \r\nL 138.158271 409.442611 \r\nL 138.158271 398.358159 \r\nL 135.46875 398.358159 \r\nz\r\n\" style=\"fill:#1f77b4;\"/>\r\n   </g>\r\n   <g id=\"patch_21\">\r\n    <path clip-path=\"url(#p96a32419c2)\" d=\"M 135.46875 395.587046 \r\nL 138.458086 395.587046 \r\nL 138.458086 384.502594 \r\nL 135.46875 384.502594 \r\nz\r\n\" style=\"fill:#1f77b4;\"/>\r\n   </g>\r\n   <g id=\"patch_22\">\r\n    <path clip-path=\"url(#p96a32419c2)\" d=\"M 135.46875 381.731481 \r\nL 138.71744 381.731481 \r\nL 138.71744 370.647029 \r\nL 135.46875 370.647029 \r\nz\r\n\" style=\"fill:#1f77b4;\"/>\r\n   </g>\r\n   <g id=\"patch_23\">\r\n    <path clip-path=\"url(#p96a32419c2)\" d=\"M 135.46875 367.875916 \r\nL 139.018025 367.875916 \r\nL 139.018025 356.791464 \r\nL 135.46875 356.791464 \r\nz\r\n\" style=\"fill:#1f77b4;\"/>\r\n   </g>\r\n   <g id=\"patch_24\">\r\n    <path clip-path=\"url(#p96a32419c2)\" d=\"M 135.46875 354.020351 \r\nL 139.023623 354.020351 \r\nL 139.023623 342.935899 \r\nL 135.46875 342.935899 \r\nz\r\n\" style=\"fill:#1f77b4;\"/>\r\n   </g>\r\n   <g id=\"patch_25\">\r\n    <path clip-path=\"url(#p96a32419c2)\" d=\"M 135.46875 340.164786 \r\nL 140.169153 340.164786 \r\nL 140.169153 329.080334 \r\nL 135.46875 329.080334 \r\nz\r\n\" style=\"fill:#1f77b4;\"/>\r\n   </g>\r\n   <g id=\"patch_26\">\r\n    <path clip-path=\"url(#p96a32419c2)\" d=\"M 135.46875 326.309221 \r\nL 140.262835 326.309221 \r\nL 140.262835 315.224769 \r\nL 135.46875 315.224769 \r\nz\r\n\" style=\"fill:#1f77b4;\"/>\r\n   </g>\r\n   <g id=\"patch_27\">\r\n    <path clip-path=\"url(#p96a32419c2)\" d=\"M 135.46875 312.453656 \r\nL 140.535034 312.453656 \r\nL 140.535034 301.369204 \r\nL 135.46875 301.369204 \r\nz\r\n\" style=\"fill:#1f77b4;\"/>\r\n   </g>\r\n   <g id=\"patch_28\">\r\n    <path clip-path=\"url(#p96a32419c2)\" d=\"M 135.46875 298.598091 \r\nL 140.669547 298.598091 \r\nL 140.669547 287.513639 \r\nL 135.46875 287.513639 \r\nz\r\n\" style=\"fill:#1f77b4;\"/>\r\n   </g>\r\n   <g id=\"patch_29\">\r\n    <path clip-path=\"url(#p96a32419c2)\" d=\"M 135.46875 284.742526 \r\nL 140.906186 284.742526 \r\nL 140.906186 273.658074 \r\nL 135.46875 273.658074 \r\nz\r\n\" style=\"fill:#1f77b4;\"/>\r\n   </g>\r\n   <g id=\"patch_30\">\r\n    <path clip-path=\"url(#p96a32419c2)\" d=\"M 135.46875 270.886961 \r\nL 146.004731 270.886961 \r\nL 146.004731 259.802509 \r\nL 135.46875 259.802509 \r\nz\r\n\" style=\"fill:#1f77b4;\"/>\r\n   </g>\r\n   <g id=\"patch_31\">\r\n    <path clip-path=\"url(#p96a32419c2)\" d=\"M 135.46875 257.031396 \r\nL 146.95003 257.031396 \r\nL 146.95003 245.946944 \r\nL 135.46875 245.946944 \r\nz\r\n\" style=\"fill:#1f77b4;\"/>\r\n   </g>\r\n   <g id=\"patch_32\">\r\n    <path clip-path=\"url(#p96a32419c2)\" d=\"M 135.46875 243.175831 \r\nL 151.69375 243.175831 \r\nL 151.69375 232.091379 \r\nL 135.46875 232.091379 \r\nz\r\n\" style=\"fill:#1f77b4;\"/>\r\n   </g>\r\n   <g id=\"patch_33\">\r\n    <path clip-path=\"url(#p96a32419c2)\" d=\"M 135.46875 229.320266 \r\nL 157.605028 229.320266 \r\nL 157.605028 218.235814 \r\nL 135.46875 218.235814 \r\nz\r\n\" style=\"fill:#1f77b4;\"/>\r\n   </g>\r\n   <g id=\"patch_34\">\r\n    <path clip-path=\"url(#p96a32419c2)\" d=\"M 135.46875 215.464701 \r\nL 177.636961 215.464701 \r\nL 177.636961 204.380249 \r\nL 135.46875 204.380249 \r\nz\r\n\" style=\"fill:#1f77b4;\"/>\r\n   </g>\r\n   <g id=\"patch_35\">\r\n    <path clip-path=\"url(#p96a32419c2)\" d=\"M 135.46875 201.609136 \r\nL 182.217264 201.609136 \r\nL 182.217264 190.524684 \r\nL 135.46875 190.524684 \r\nz\r\n\" style=\"fill:#1f77b4;\"/>\r\n   </g>\r\n   <g id=\"patch_36\">\r\n    <path clip-path=\"url(#p96a32419c2)\" d=\"M 135.46875 187.753571 \r\nL 182.369522 187.753571 \r\nL 182.369522 176.669119 \r\nL 135.46875 176.669119 \r\nz\r\n\" style=\"fill:#1f77b4;\"/>\r\n   </g>\r\n   <g id=\"patch_37\">\r\n    <path clip-path=\"url(#p96a32419c2)\" d=\"M 135.46875 173.898006 \r\nL 182.446059 173.898006 \r\nL 182.446059 162.813554 \r\nL 135.46875 162.813554 \r\nz\r\n\" style=\"fill:#1f77b4;\"/>\r\n   </g>\r\n   <g id=\"patch_38\">\r\n    <path clip-path=\"url(#p96a32419c2)\" d=\"M 135.46875 160.042441 \r\nL 185.42544 160.042441 \r\nL 185.42544 148.957989 \r\nL 135.46875 148.957989 \r\nz\r\n\" style=\"fill:#1f77b4;\"/>\r\n   </g>\r\n   <g id=\"patch_39\">\r\n    <path clip-path=\"url(#p96a32419c2)\" d=\"M 135.46875 146.186876 \r\nL 189.316303 146.186876 \r\nL 189.316303 135.102424 \r\nL 135.46875 135.102424 \r\nz\r\n\" style=\"fill:#1f77b4;\"/>\r\n   </g>\r\n   <g id=\"patch_40\">\r\n    <path clip-path=\"url(#p96a32419c2)\" d=\"M 135.46875 132.331311 \r\nL 189.785537 132.331311 \r\nL 189.785537 121.246859 \r\nL 135.46875 121.246859 \r\nz\r\n\" style=\"fill:#1f77b4;\"/>\r\n   </g>\r\n   <g id=\"patch_41\">\r\n    <path clip-path=\"url(#p96a32419c2)\" d=\"M 135.46875 118.475746 \r\nL 191.751822 118.475746 \r\nL 191.751822 107.391294 \r\nL 135.46875 107.391294 \r\nz\r\n\" style=\"fill:#1f77b4;\"/>\r\n   </g>\r\n   <g id=\"patch_42\">\r\n    <path clip-path=\"url(#p96a32419c2)\" d=\"M 135.46875 104.620181 \r\nL 191.905085 104.620181 \r\nL 191.905085 93.535729 \r\nL 135.46875 93.535729 \r\nz\r\n\" style=\"fill:#1f77b4;\"/>\r\n   </g>\r\n   <g id=\"patch_43\">\r\n    <path clip-path=\"url(#p96a32419c2)\" d=\"M 135.46875 90.764616 \r\nL 456.833462 90.764616 \r\nL 456.833462 79.680164 \r\nL 135.46875 79.680164 \r\nz\r\n\" style=\"fill:#1f77b4;\"/>\r\n   </g>\r\n   <g id=\"patch_44\">\r\n    <path clip-path=\"url(#p96a32419c2)\" d=\"M 135.46875 76.909051 \r\nL 698.110153 76.909051 \r\nL 698.110153 65.824599 \r\nL 135.46875 65.824599 \r\nz\r\n\" style=\"fill:#1f77b4;\"/>\r\n   </g>\r\n   <g id=\"patch_45\">\r\n    <path clip-path=\"url(#p96a32419c2)\" d=\"M 135.46875 63.053486 \r\nL 773.183036 63.053486 \r\nL 773.183036 51.969034 \r\nL 135.46875 51.969034 \r\nz\r\n\" style=\"fill:#1f77b4;\"/>\r\n   </g>\r\n   <g id=\"matplotlib.axis_1\">\r\n    <g id=\"xtick_1\">\r\n     <g id=\"line2d_1\">\r\n      <defs>\r\n       <path d=\"M 0 0 \r\nL 0 3.5 \r\n\" id=\"m1053ea5ff4\" style=\"stroke:#000000;stroke-width:0.8;\"/>\r\n      </defs>\r\n      <g>\r\n       <use style=\"stroke:#000000;stroke-width:0.8;\" x=\"135.46875\" xlink:href=\"#m1053ea5ff4\" y=\"674.638125\"/>\r\n      </g>\r\n     </g>\r\n     <g id=\"text_1\">\r\n      <!-- 0.00 -->\r\n      <g transform=\"translate(124.335938 689.236562)scale(0.1 -0.1)\">\r\n       <defs>\r\n        <path d=\"M 2034 4250 \r\nQ 1547 4250 1301 3770 \r\nQ 1056 3291 1056 2328 \r\nQ 1056 1369 1301 889 \r\nQ 1547 409 2034 409 \r\nQ 2525 409 2770 889 \r\nQ 3016 1369 3016 2328 \r\nQ 3016 3291 2770 3770 \r\nQ 2525 4250 2034 4250 \r\nz\r\nM 2034 4750 \r\nQ 2819 4750 3233 4129 \r\nQ 3647 3509 3647 2328 \r\nQ 3647 1150 3233 529 \r\nQ 2819 -91 2034 -91 \r\nQ 1250 -91 836 529 \r\nQ 422 1150 422 2328 \r\nQ 422 3509 836 4129 \r\nQ 1250 4750 2034 4750 \r\nz\r\n\" id=\"DejaVuSans-30\" transform=\"scale(0.015625)\"/>\r\n        <path d=\"M 684 794 \r\nL 1344 794 \r\nL 1344 0 \r\nL 684 0 \r\nL 684 794 \r\nz\r\n\" id=\"DejaVuSans-2e\" transform=\"scale(0.015625)\"/>\r\n       </defs>\r\n       <use xlink:href=\"#DejaVuSans-30\"/>\r\n       <use x=\"63.623047\" xlink:href=\"#DejaVuSans-2e\"/>\r\n       <use x=\"95.410156\" xlink:href=\"#DejaVuSans-30\"/>\r\n       <use x=\"159.033203\" xlink:href=\"#DejaVuSans-30\"/>\r\n      </g>\r\n     </g>\r\n    </g>\r\n    <g id=\"xtick_2\">\r\n     <g id=\"line2d_2\">\r\n      <g>\r\n       <use style=\"stroke:#000000;stroke-width:0.8;\" x=\"240.126566\" xlink:href=\"#m1053ea5ff4\" y=\"674.638125\"/>\r\n      </g>\r\n     </g>\r\n     <g id=\"text_2\">\r\n      <!-- 0.05 -->\r\n      <g transform=\"translate(228.993754 689.236562)scale(0.1 -0.1)\">\r\n       <defs>\r\n        <path d=\"M 691 4666 \r\nL 3169 4666 \r\nL 3169 4134 \r\nL 1269 4134 \r\nL 1269 2991 \r\nQ 1406 3038 1543 3061 \r\nQ 1681 3084 1819 3084 \r\nQ 2600 3084 3056 2656 \r\nQ 3513 2228 3513 1497 \r\nQ 3513 744 3044 326 \r\nQ 2575 -91 1722 -91 \r\nQ 1428 -91 1123 -41 \r\nQ 819 9 494 109 \r\nL 494 744 \r\nQ 775 591 1075 516 \r\nQ 1375 441 1709 441 \r\nQ 2250 441 2565 725 \r\nQ 2881 1009 2881 1497 \r\nQ 2881 1984 2565 2268 \r\nQ 2250 2553 1709 2553 \r\nQ 1456 2553 1204 2497 \r\nQ 953 2441 691 2322 \r\nL 691 4666 \r\nz\r\n\" id=\"DejaVuSans-35\" transform=\"scale(0.015625)\"/>\r\n       </defs>\r\n       <use xlink:href=\"#DejaVuSans-30\"/>\r\n       <use x=\"63.623047\" xlink:href=\"#DejaVuSans-2e\"/>\r\n       <use x=\"95.410156\" xlink:href=\"#DejaVuSans-30\"/>\r\n       <use x=\"159.033203\" xlink:href=\"#DejaVuSans-35\"/>\r\n      </g>\r\n     </g>\r\n    </g>\r\n    <g id=\"xtick_3\">\r\n     <g id=\"line2d_3\">\r\n      <g>\r\n       <use style=\"stroke:#000000;stroke-width:0.8;\" x=\"344.784382\" xlink:href=\"#m1053ea5ff4\" y=\"674.638125\"/>\r\n      </g>\r\n     </g>\r\n     <g id=\"text_3\">\r\n      <!-- 0.10 -->\r\n      <g transform=\"translate(333.65157 689.236562)scale(0.1 -0.1)\">\r\n       <defs>\r\n        <path d=\"M 794 531 \r\nL 1825 531 \r\nL 1825 4091 \r\nL 703 3866 \r\nL 703 4441 \r\nL 1819 4666 \r\nL 2450 4666 \r\nL 2450 531 \r\nL 3481 531 \r\nL 3481 0 \r\nL 794 0 \r\nL 794 531 \r\nz\r\n\" id=\"DejaVuSans-31\" transform=\"scale(0.015625)\"/>\r\n       </defs>\r\n       <use xlink:href=\"#DejaVuSans-30\"/>\r\n       <use x=\"63.623047\" xlink:href=\"#DejaVuSans-2e\"/>\r\n       <use x=\"95.410156\" xlink:href=\"#DejaVuSans-31\"/>\r\n       <use x=\"159.033203\" xlink:href=\"#DejaVuSans-30\"/>\r\n      </g>\r\n     </g>\r\n    </g>\r\n    <g id=\"xtick_4\">\r\n     <g id=\"line2d_4\">\r\n      <g>\r\n       <use style=\"stroke:#000000;stroke-width:0.8;\" x=\"449.442198\" xlink:href=\"#m1053ea5ff4\" y=\"674.638125\"/>\r\n      </g>\r\n     </g>\r\n     <g id=\"text_4\">\r\n      <!-- 0.15 -->\r\n      <g transform=\"translate(438.309386 689.236562)scale(0.1 -0.1)\">\r\n       <use xlink:href=\"#DejaVuSans-30\"/>\r\n       <use x=\"63.623047\" xlink:href=\"#DejaVuSans-2e\"/>\r\n       <use x=\"95.410156\" xlink:href=\"#DejaVuSans-31\"/>\r\n       <use x=\"159.033203\" xlink:href=\"#DejaVuSans-35\"/>\r\n      </g>\r\n     </g>\r\n    </g>\r\n    <g id=\"xtick_5\">\r\n     <g id=\"line2d_5\">\r\n      <g>\r\n       <use style=\"stroke:#000000;stroke-width:0.8;\" x=\"554.100014\" xlink:href=\"#m1053ea5ff4\" y=\"674.638125\"/>\r\n      </g>\r\n     </g>\r\n     <g id=\"text_5\">\r\n      <!-- 0.20 -->\r\n      <g transform=\"translate(542.967202 689.236562)scale(0.1 -0.1)\">\r\n       <defs>\r\n        <path d=\"M 1228 531 \r\nL 3431 531 \r\nL 3431 0 \r\nL 469 0 \r\nL 469 531 \r\nQ 828 903 1448 1529 \r\nQ 2069 2156 2228 2338 \r\nQ 2531 2678 2651 2914 \r\nQ 2772 3150 2772 3378 \r\nQ 2772 3750 2511 3984 \r\nQ 2250 4219 1831 4219 \r\nQ 1534 4219 1204 4116 \r\nQ 875 4013 500 3803 \r\nL 500 4441 \r\nQ 881 4594 1212 4672 \r\nQ 1544 4750 1819 4750 \r\nQ 2544 4750 2975 4387 \r\nQ 3406 4025 3406 3419 \r\nQ 3406 3131 3298 2873 \r\nQ 3191 2616 2906 2266 \r\nQ 2828 2175 2409 1742 \r\nQ 1991 1309 1228 531 \r\nz\r\n\" id=\"DejaVuSans-32\" transform=\"scale(0.015625)\"/>\r\n       </defs>\r\n       <use xlink:href=\"#DejaVuSans-30\"/>\r\n       <use x=\"63.623047\" xlink:href=\"#DejaVuSans-2e\"/>\r\n       <use x=\"95.410156\" xlink:href=\"#DejaVuSans-32\"/>\r\n       <use x=\"159.033203\" xlink:href=\"#DejaVuSans-30\"/>\r\n      </g>\r\n     </g>\r\n    </g>\r\n    <g id=\"xtick_6\">\r\n     <g id=\"line2d_6\">\r\n      <g>\r\n       <use style=\"stroke:#000000;stroke-width:0.8;\" x=\"658.75783\" xlink:href=\"#m1053ea5ff4\" y=\"674.638125\"/>\r\n      </g>\r\n     </g>\r\n     <g id=\"text_6\">\r\n      <!-- 0.25 -->\r\n      <g transform=\"translate(647.625018 689.236562)scale(0.1 -0.1)\">\r\n       <use xlink:href=\"#DejaVuSans-30\"/>\r\n       <use x=\"63.623047\" xlink:href=\"#DejaVuSans-2e\"/>\r\n       <use x=\"95.410156\" xlink:href=\"#DejaVuSans-32\"/>\r\n       <use x=\"159.033203\" xlink:href=\"#DejaVuSans-35\"/>\r\n      </g>\r\n     </g>\r\n    </g>\r\n    <g id=\"xtick_7\">\r\n     <g id=\"line2d_7\">\r\n      <g>\r\n       <use style=\"stroke:#000000;stroke-width:0.8;\" x=\"763.415646\" xlink:href=\"#m1053ea5ff4\" y=\"674.638125\"/>\r\n      </g>\r\n     </g>\r\n     <g id=\"text_7\">\r\n      <!-- 0.30 -->\r\n      <g transform=\"translate(752.282834 689.236562)scale(0.1 -0.1)\">\r\n       <defs>\r\n        <path d=\"M 2597 2516 \r\nQ 3050 2419 3304 2112 \r\nQ 3559 1806 3559 1356 \r\nQ 3559 666 3084 287 \r\nQ 2609 -91 1734 -91 \r\nQ 1441 -91 1130 -33 \r\nQ 819 25 488 141 \r\nL 488 750 \r\nQ 750 597 1062 519 \r\nQ 1375 441 1716 441 \r\nQ 2309 441 2620 675 \r\nQ 2931 909 2931 1356 \r\nQ 2931 1769 2642 2001 \r\nQ 2353 2234 1838 2234 \r\nL 1294 2234 \r\nL 1294 2753 \r\nL 1863 2753 \r\nQ 2328 2753 2575 2939 \r\nQ 2822 3125 2822 3475 \r\nQ 2822 3834 2567 4026 \r\nQ 2313 4219 1838 4219 \r\nQ 1578 4219 1281 4162 \r\nQ 984 4106 628 3988 \r\nL 628 4550 \r\nQ 988 4650 1302 4700 \r\nQ 1616 4750 1894 4750 \r\nQ 2613 4750 3031 4423 \r\nQ 3450 4097 3450 3541 \r\nQ 3450 3153 3228 2886 \r\nQ 3006 2619 2597 2516 \r\nz\r\n\" id=\"DejaVuSans-33\" transform=\"scale(0.015625)\"/>\r\n       </defs>\r\n       <use xlink:href=\"#DejaVuSans-30\"/>\r\n       <use x=\"63.623047\" xlink:href=\"#DejaVuSans-2e\"/>\r\n       <use x=\"95.410156\" xlink:href=\"#DejaVuSans-33\"/>\r\n       <use x=\"159.033203\" xlink:href=\"#DejaVuSans-30\"/>\r\n      </g>\r\n     </g>\r\n    </g>\r\n    <g id=\"text_8\">\r\n     <!-- Feature Importance -->\r\n     <g transform=\"translate(421.136719 702.914687)scale(0.1 -0.1)\">\r\n      <defs>\r\n       <path d=\"M 628 4666 \r\nL 3309 4666 \r\nL 3309 4134 \r\nL 1259 4134 \r\nL 1259 2759 \r\nL 3109 2759 \r\nL 3109 2228 \r\nL 1259 2228 \r\nL 1259 0 \r\nL 628 0 \r\nL 628 4666 \r\nz\r\n\" id=\"DejaVuSans-46\" transform=\"scale(0.015625)\"/>\r\n       <path d=\"M 3597 1894 \r\nL 3597 1613 \r\nL 953 1613 \r\nQ 991 1019 1311 708 \r\nQ 1631 397 2203 397 \r\nQ 2534 397 2845 478 \r\nQ 3156 559 3463 722 \r\nL 3463 178 \r\nQ 3153 47 2828 -22 \r\nQ 2503 -91 2169 -91 \r\nQ 1331 -91 842 396 \r\nQ 353 884 353 1716 \r\nQ 353 2575 817 3079 \r\nQ 1281 3584 2069 3584 \r\nQ 2775 3584 3186 3129 \r\nQ 3597 2675 3597 1894 \r\nz\r\nM 3022 2063 \r\nQ 3016 2534 2758 2815 \r\nQ 2500 3097 2075 3097 \r\nQ 1594 3097 1305 2825 \r\nQ 1016 2553 972 2059 \r\nL 3022 2063 \r\nz\r\n\" id=\"DejaVuSans-65\" transform=\"scale(0.015625)\"/>\r\n       <path d=\"M 2194 1759 \r\nQ 1497 1759 1228 1600 \r\nQ 959 1441 959 1056 \r\nQ 959 750 1161 570 \r\nQ 1363 391 1709 391 \r\nQ 2188 391 2477 730 \r\nQ 2766 1069 2766 1631 \r\nL 2766 1759 \r\nL 2194 1759 \r\nz\r\nM 3341 1997 \r\nL 3341 0 \r\nL 2766 0 \r\nL 2766 531 \r\nQ 2569 213 2275 61 \r\nQ 1981 -91 1556 -91 \r\nQ 1019 -91 701 211 \r\nQ 384 513 384 1019 \r\nQ 384 1609 779 1909 \r\nQ 1175 2209 1959 2209 \r\nL 2766 2209 \r\nL 2766 2266 \r\nQ 2766 2663 2505 2880 \r\nQ 2244 3097 1772 3097 \r\nQ 1472 3097 1187 3025 \r\nQ 903 2953 641 2809 \r\nL 641 3341 \r\nQ 956 3463 1253 3523 \r\nQ 1550 3584 1831 3584 \r\nQ 2591 3584 2966 3190 \r\nQ 3341 2797 3341 1997 \r\nz\r\n\" id=\"DejaVuSans-61\" transform=\"scale(0.015625)\"/>\r\n       <path d=\"M 1172 4494 \r\nL 1172 3500 \r\nL 2356 3500 \r\nL 2356 3053 \r\nL 1172 3053 \r\nL 1172 1153 \r\nQ 1172 725 1289 603 \r\nQ 1406 481 1766 481 \r\nL 2356 481 \r\nL 2356 0 \r\nL 1766 0 \r\nQ 1100 0 847 248 \r\nQ 594 497 594 1153 \r\nL 594 3053 \r\nL 172 3053 \r\nL 172 3500 \r\nL 594 3500 \r\nL 594 4494 \r\nL 1172 4494 \r\nz\r\n\" id=\"DejaVuSans-74\" transform=\"scale(0.015625)\"/>\r\n       <path d=\"M 544 1381 \r\nL 544 3500 \r\nL 1119 3500 \r\nL 1119 1403 \r\nQ 1119 906 1312 657 \r\nQ 1506 409 1894 409 \r\nQ 2359 409 2629 706 \r\nQ 2900 1003 2900 1516 \r\nL 2900 3500 \r\nL 3475 3500 \r\nL 3475 0 \r\nL 2900 0 \r\nL 2900 538 \r\nQ 2691 219 2414 64 \r\nQ 2138 -91 1772 -91 \r\nQ 1169 -91 856 284 \r\nQ 544 659 544 1381 \r\nz\r\nM 1991 3584 \r\nL 1991 3584 \r\nz\r\n\" id=\"DejaVuSans-75\" transform=\"scale(0.015625)\"/>\r\n       <path d=\"M 2631 2963 \r\nQ 2534 3019 2420 3045 \r\nQ 2306 3072 2169 3072 \r\nQ 1681 3072 1420 2755 \r\nQ 1159 2438 1159 1844 \r\nL 1159 0 \r\nL 581 0 \r\nL 581 3500 \r\nL 1159 3500 \r\nL 1159 2956 \r\nQ 1341 3275 1631 3429 \r\nQ 1922 3584 2338 3584 \r\nQ 2397 3584 2469 3576 \r\nQ 2541 3569 2628 3553 \r\nL 2631 2963 \r\nz\r\n\" id=\"DejaVuSans-72\" transform=\"scale(0.015625)\"/>\r\n       <path id=\"DejaVuSans-20\" transform=\"scale(0.015625)\"/>\r\n       <path d=\"M 628 4666 \r\nL 1259 4666 \r\nL 1259 0 \r\nL 628 0 \r\nL 628 4666 \r\nz\r\n\" id=\"DejaVuSans-49\" transform=\"scale(0.015625)\"/>\r\n       <path d=\"M 3328 2828 \r\nQ 3544 3216 3844 3400 \r\nQ 4144 3584 4550 3584 \r\nQ 5097 3584 5394 3201 \r\nQ 5691 2819 5691 2113 \r\nL 5691 0 \r\nL 5113 0 \r\nL 5113 2094 \r\nQ 5113 2597 4934 2840 \r\nQ 4756 3084 4391 3084 \r\nQ 3944 3084 3684 2787 \r\nQ 3425 2491 3425 1978 \r\nL 3425 0 \r\nL 2847 0 \r\nL 2847 2094 \r\nQ 2847 2600 2669 2842 \r\nQ 2491 3084 2119 3084 \r\nQ 1678 3084 1418 2786 \r\nQ 1159 2488 1159 1978 \r\nL 1159 0 \r\nL 581 0 \r\nL 581 3500 \r\nL 1159 3500 \r\nL 1159 2956 \r\nQ 1356 3278 1631 3431 \r\nQ 1906 3584 2284 3584 \r\nQ 2666 3584 2933 3390 \r\nQ 3200 3197 3328 2828 \r\nz\r\n\" id=\"DejaVuSans-6d\" transform=\"scale(0.015625)\"/>\r\n       <path d=\"M 1159 525 \r\nL 1159 -1331 \r\nL 581 -1331 \r\nL 581 3500 \r\nL 1159 3500 \r\nL 1159 2969 \r\nQ 1341 3281 1617 3432 \r\nQ 1894 3584 2278 3584 \r\nQ 2916 3584 3314 3078 \r\nQ 3713 2572 3713 1747 \r\nQ 3713 922 3314 415 \r\nQ 2916 -91 2278 -91 \r\nQ 1894 -91 1617 61 \r\nQ 1341 213 1159 525 \r\nz\r\nM 3116 1747 \r\nQ 3116 2381 2855 2742 \r\nQ 2594 3103 2138 3103 \r\nQ 1681 3103 1420 2742 \r\nQ 1159 2381 1159 1747 \r\nQ 1159 1113 1420 752 \r\nQ 1681 391 2138 391 \r\nQ 2594 391 2855 752 \r\nQ 3116 1113 3116 1747 \r\nz\r\n\" id=\"DejaVuSans-70\" transform=\"scale(0.015625)\"/>\r\n       <path d=\"M 1959 3097 \r\nQ 1497 3097 1228 2736 \r\nQ 959 2375 959 1747 \r\nQ 959 1119 1226 758 \r\nQ 1494 397 1959 397 \r\nQ 2419 397 2687 759 \r\nQ 2956 1122 2956 1747 \r\nQ 2956 2369 2687 2733 \r\nQ 2419 3097 1959 3097 \r\nz\r\nM 1959 3584 \r\nQ 2709 3584 3137 3096 \r\nQ 3566 2609 3566 1747 \r\nQ 3566 888 3137 398 \r\nQ 2709 -91 1959 -91 \r\nQ 1206 -91 779 398 \r\nQ 353 888 353 1747 \r\nQ 353 2609 779 3096 \r\nQ 1206 3584 1959 3584 \r\nz\r\n\" id=\"DejaVuSans-6f\" transform=\"scale(0.015625)\"/>\r\n       <path d=\"M 3513 2113 \r\nL 3513 0 \r\nL 2938 0 \r\nL 2938 2094 \r\nQ 2938 2591 2744 2837 \r\nQ 2550 3084 2163 3084 \r\nQ 1697 3084 1428 2787 \r\nQ 1159 2491 1159 1978 \r\nL 1159 0 \r\nL 581 0 \r\nL 581 3500 \r\nL 1159 3500 \r\nL 1159 2956 \r\nQ 1366 3272 1645 3428 \r\nQ 1925 3584 2291 3584 \r\nQ 2894 3584 3203 3211 \r\nQ 3513 2838 3513 2113 \r\nz\r\n\" id=\"DejaVuSans-6e\" transform=\"scale(0.015625)\"/>\r\n       <path d=\"M 3122 3366 \r\nL 3122 2828 \r\nQ 2878 2963 2633 3030 \r\nQ 2388 3097 2138 3097 \r\nQ 1578 3097 1268 2742 \r\nQ 959 2388 959 1747 \r\nQ 959 1106 1268 751 \r\nQ 1578 397 2138 397 \r\nQ 2388 397 2633 464 \r\nQ 2878 531 3122 666 \r\nL 3122 134 \r\nQ 2881 22 2623 -34 \r\nQ 2366 -91 2075 -91 \r\nQ 1284 -91 818 406 \r\nQ 353 903 353 1747 \r\nQ 353 2603 823 3093 \r\nQ 1294 3584 2113 3584 \r\nQ 2378 3584 2631 3529 \r\nQ 2884 3475 3122 3366 \r\nz\r\n\" id=\"DejaVuSans-63\" transform=\"scale(0.015625)\"/>\r\n      </defs>\r\n      <use xlink:href=\"#DejaVuSans-46\"/>\r\n      <use x=\"52.019531\" xlink:href=\"#DejaVuSans-65\"/>\r\n      <use x=\"113.542969\" xlink:href=\"#DejaVuSans-61\"/>\r\n      <use x=\"174.822266\" xlink:href=\"#DejaVuSans-74\"/>\r\n      <use x=\"214.03125\" xlink:href=\"#DejaVuSans-75\"/>\r\n      <use x=\"277.410156\" xlink:href=\"#DejaVuSans-72\"/>\r\n      <use x=\"316.273438\" xlink:href=\"#DejaVuSans-65\"/>\r\n      <use x=\"377.796875\" xlink:href=\"#DejaVuSans-20\"/>\r\n      <use x=\"409.583984\" xlink:href=\"#DejaVuSans-49\"/>\r\n      <use x=\"439.076172\" xlink:href=\"#DejaVuSans-6d\"/>\r\n      <use x=\"536.488281\" xlink:href=\"#DejaVuSans-70\"/>\r\n      <use x=\"599.964844\" xlink:href=\"#DejaVuSans-6f\"/>\r\n      <use x=\"661.146484\" xlink:href=\"#DejaVuSans-72\"/>\r\n      <use x=\"702.259766\" xlink:href=\"#DejaVuSans-74\"/>\r\n      <use x=\"741.46875\" xlink:href=\"#DejaVuSans-61\"/>\r\n      <use x=\"802.748047\" xlink:href=\"#DejaVuSans-6e\"/>\r\n      <use x=\"866.126953\" xlink:href=\"#DejaVuSans-63\"/>\r\n      <use x=\"921.107422\" xlink:href=\"#DejaVuSans-65\"/>\r\n     </g>\r\n    </g>\r\n   </g>\r\n   <g id=\"matplotlib.axis_2\">\r\n    <g id=\"ytick_1\">\r\n     <g id=\"line2d_8\">\r\n      <defs>\r\n       <path d=\"M 0 0 \r\nL -3.5 0 \r\n\" id=\"m5585f9703f\" style=\"stroke:#000000;stroke-width:0.8;\"/>\r\n      </defs>\r\n      <g>\r\n       <use style=\"stroke:#000000;stroke-width:0.8;\" x=\"135.46875\" xlink:href=\"#m5585f9703f\" y=\"639.44499\"/>\r\n      </g>\r\n     </g>\r\n     <g id=\"text_9\">\r\n      <!-- YV -->\r\n      <g transform=\"translate(115.520313 643.244209)scale(0.1 -0.1)\">\r\n       <defs>\r\n        <path d=\"M -13 4666 \r\nL 666 4666 \r\nL 1959 2747 \r\nL 3244 4666 \r\nL 3922 4666 \r\nL 2272 2222 \r\nL 2272 0 \r\nL 1638 0 \r\nL 1638 2222 \r\nL -13 4666 \r\nz\r\n\" id=\"DejaVuSans-59\" transform=\"scale(0.015625)\"/>\r\n        <path d=\"M 1831 0 \r\nL 50 4666 \r\nL 709 4666 \r\nL 2188 738 \r\nL 3669 4666 \r\nL 4325 4666 \r\nL 2547 0 \r\nL 1831 0 \r\nz\r\n\" id=\"DejaVuSans-56\" transform=\"scale(0.015625)\"/>\r\n       </defs>\r\n       <use xlink:href=\"#DejaVuSans-59\"/>\r\n       <use x=\"61.083984\" xlink:href=\"#DejaVuSans-56\"/>\r\n      </g>\r\n     </g>\r\n    </g>\r\n    <g id=\"ytick_2\">\r\n     <g id=\"line2d_9\">\r\n      <g>\r\n       <use style=\"stroke:#000000;stroke-width:0.8;\" x=\"135.46875\" xlink:href=\"#m5585f9703f\" y=\"625.589425\"/>\r\n      </g>\r\n     </g>\r\n     <g id=\"text_10\">\r\n      <!-- F9 -->\r\n      <g transform=\"translate(116.354687 629.388644)scale(0.1 -0.1)\">\r\n       <defs>\r\n        <path d=\"M 703 97 \r\nL 703 672 \r\nQ 941 559 1184 500 \r\nQ 1428 441 1663 441 \r\nQ 2288 441 2617 861 \r\nQ 2947 1281 2994 2138 \r\nQ 2813 1869 2534 1725 \r\nQ 2256 1581 1919 1581 \r\nQ 1219 1581 811 2004 \r\nQ 403 2428 403 3163 \r\nQ 403 3881 828 4315 \r\nQ 1253 4750 1959 4750 \r\nQ 2769 4750 3195 4129 \r\nQ 3622 3509 3622 2328 \r\nQ 3622 1225 3098 567 \r\nQ 2575 -91 1691 -91 \r\nQ 1453 -91 1209 -44 \r\nQ 966 3 703 97 \r\nz\r\nM 1959 2075 \r\nQ 2384 2075 2632 2365 \r\nQ 2881 2656 2881 3163 \r\nQ 2881 3666 2632 3958 \r\nQ 2384 4250 1959 4250 \r\nQ 1534 4250 1286 3958 \r\nQ 1038 3666 1038 3163 \r\nQ 1038 2656 1286 2365 \r\nQ 1534 2075 1959 2075 \r\nz\r\n\" id=\"DejaVuSans-39\" transform=\"scale(0.015625)\"/>\r\n       </defs>\r\n       <use xlink:href=\"#DejaVuSans-46\"/>\r\n       <use x=\"57.519531\" xlink:href=\"#DejaVuSans-39\"/>\r\n      </g>\r\n     </g>\r\n    </g>\r\n    <g id=\"ytick_3\">\r\n     <g id=\"line2d_10\">\r\n      <g>\r\n       <use style=\"stroke:#000000;stroke-width:0.8;\" x=\"135.46875\" xlink:href=\"#m5585f9703f\" y=\"611.73386\"/>\r\n      </g>\r\n     </g>\r\n     <g id=\"text_11\">\r\n      <!-- G4 -->\r\n      <g transform=\"translate(114.357812 615.533079)scale(0.1 -0.1)\">\r\n       <defs>\r\n        <path d=\"M 3809 666 \r\nL 3809 1919 \r\nL 2778 1919 \r\nL 2778 2438 \r\nL 4434 2438 \r\nL 4434 434 \r\nQ 4069 175 3628 42 \r\nQ 3188 -91 2688 -91 \r\nQ 1594 -91 976 548 \r\nQ 359 1188 359 2328 \r\nQ 359 3472 976 4111 \r\nQ 1594 4750 2688 4750 \r\nQ 3144 4750 3555 4637 \r\nQ 3966 4525 4313 4306 \r\nL 4313 3634 \r\nQ 3963 3931 3569 4081 \r\nQ 3175 4231 2741 4231 \r\nQ 1884 4231 1454 3753 \r\nQ 1025 3275 1025 2328 \r\nQ 1025 1384 1454 906 \r\nQ 1884 428 2741 428 \r\nQ 3075 428 3337 486 \r\nQ 3600 544 3809 666 \r\nz\r\n\" id=\"DejaVuSans-47\" transform=\"scale(0.015625)\"/>\r\n        <path d=\"M 2419 4116 \r\nL 825 1625 \r\nL 2419 1625 \r\nL 2419 4116 \r\nz\r\nM 2253 4666 \r\nL 3047 4666 \r\nL 3047 1625 \r\nL 3713 1625 \r\nL 3713 1100 \r\nL 3047 1100 \r\nL 3047 0 \r\nL 2419 0 \r\nL 2419 1100 \r\nL 313 1100 \r\nL 313 1709 \r\nL 2253 4666 \r\nz\r\n\" id=\"DejaVuSans-34\" transform=\"scale(0.015625)\"/>\r\n       </defs>\r\n       <use xlink:href=\"#DejaVuSans-47\"/>\r\n       <use x=\"77.490234\" xlink:href=\"#DejaVuSans-34\"/>\r\n      </g>\r\n     </g>\r\n    </g>\r\n    <g id=\"ytick_4\">\r\n     <g id=\"line2d_11\">\r\n      <g>\r\n       <use style=\"stroke:#000000;stroke-width:0.8;\" x=\"135.46875\" xlink:href=\"#m5585f9703f\" y=\"597.878295\"/>\r\n      </g>\r\n     </g>\r\n     <g id=\"text_12\">\r\n      <!-- PVU -->\r\n      <g transform=\"translate(108.279687 601.677514)scale(0.1 -0.1)\">\r\n       <defs>\r\n        <path d=\"M 1259 4147 \r\nL 1259 2394 \r\nL 2053 2394 \r\nQ 2494 2394 2734 2622 \r\nQ 2975 2850 2975 3272 \r\nQ 2975 3691 2734 3919 \r\nQ 2494 4147 2053 4147 \r\nL 1259 4147 \r\nz\r\nM 628 4666 \r\nL 2053 4666 \r\nQ 2838 4666 3239 4311 \r\nQ 3641 3956 3641 3272 \r\nQ 3641 2581 3239 2228 \r\nQ 2838 1875 2053 1875 \r\nL 1259 1875 \r\nL 1259 0 \r\nL 628 0 \r\nL 628 4666 \r\nz\r\n\" id=\"DejaVuSans-50\" transform=\"scale(0.015625)\"/>\r\n        <path d=\"M 556 4666 \r\nL 1191 4666 \r\nL 1191 1831 \r\nQ 1191 1081 1462 751 \r\nQ 1734 422 2344 422 \r\nQ 2950 422 3222 751 \r\nQ 3494 1081 3494 1831 \r\nL 3494 4666 \r\nL 4128 4666 \r\nL 4128 1753 \r\nQ 4128 841 3676 375 \r\nQ 3225 -91 2344 -91 \r\nQ 1459 -91 1007 375 \r\nQ 556 841 556 1753 \r\nL 556 4666 \r\nz\r\n\" id=\"DejaVuSans-55\" transform=\"scale(0.015625)\"/>\r\n       </defs>\r\n       <use xlink:href=\"#DejaVuSans-50\"/>\r\n       <use x=\"60.302734\" xlink:href=\"#DejaVuSans-56\"/>\r\n       <use x=\"128.710938\" xlink:href=\"#DejaVuSans-55\"/>\r\n      </g>\r\n     </g>\r\n    </g>\r\n    <g id=\"ytick_5\">\r\n     <g id=\"line2d_12\">\r\n      <g>\r\n       <use style=\"stroke:#000000;stroke-width:0.8;\" x=\"135.46875\" xlink:href=\"#m5585f9703f\" y=\"584.02273\"/>\r\n      </g>\r\n     </g>\r\n     <g id=\"text_13\">\r\n      <!-- CLT -->\r\n      <g transform=\"translate(111.18125 587.821949)scale(0.1 -0.1)\">\r\n       <defs>\r\n        <path d=\"M 4122 4306 \r\nL 4122 3641 \r\nQ 3803 3938 3442 4084 \r\nQ 3081 4231 2675 4231 \r\nQ 1875 4231 1450 3742 \r\nQ 1025 3253 1025 2328 \r\nQ 1025 1406 1450 917 \r\nQ 1875 428 2675 428 \r\nQ 3081 428 3442 575 \r\nQ 3803 722 4122 1019 \r\nL 4122 359 \r\nQ 3791 134 3420 21 \r\nQ 3050 -91 2638 -91 \r\nQ 1578 -91 968 557 \r\nQ 359 1206 359 2328 \r\nQ 359 3453 968 4101 \r\nQ 1578 4750 2638 4750 \r\nQ 3056 4750 3426 4639 \r\nQ 3797 4528 4122 4306 \r\nz\r\n\" id=\"DejaVuSans-43\" transform=\"scale(0.015625)\"/>\r\n        <path d=\"M 628 4666 \r\nL 1259 4666 \r\nL 1259 531 \r\nL 3531 531 \r\nL 3531 0 \r\nL 628 0 \r\nL 628 4666 \r\nz\r\n\" id=\"DejaVuSans-4c\" transform=\"scale(0.015625)\"/>\r\n        <path d=\"M -19 4666 \r\nL 3928 4666 \r\nL 3928 4134 \r\nL 2272 4134 \r\nL 2272 0 \r\nL 1638 0 \r\nL 1638 4134 \r\nL -19 4134 \r\nL -19 4666 \r\nz\r\n\" id=\"DejaVuSans-54\" transform=\"scale(0.015625)\"/>\r\n       </defs>\r\n       <use xlink:href=\"#DejaVuSans-43\"/>\r\n       <use x=\"69.824219\" xlink:href=\"#DejaVuSans-4c\"/>\r\n       <use x=\"111.787109\" xlink:href=\"#DejaVuSans-54\"/>\r\n      </g>\r\n     </g>\r\n    </g>\r\n    <g id=\"ytick_6\">\r\n     <g id=\"line2d_13\">\r\n      <g>\r\n       <use style=\"stroke:#000000;stroke-width:0.8;\" x=\"135.46875\" xlink:href=\"#m5585f9703f\" y=\"570.167165\"/>\r\n      </g>\r\n     </g>\r\n     <g id=\"text_14\">\r\n      <!-- BLI -->\r\n      <g transform=\"translate(113.085938 573.966384)scale(0.1 -0.1)\">\r\n       <defs>\r\n        <path d=\"M 1259 2228 \r\nL 1259 519 \r\nL 2272 519 \r\nQ 2781 519 3026 730 \r\nQ 3272 941 3272 1375 \r\nQ 3272 1813 3026 2020 \r\nQ 2781 2228 2272 2228 \r\nL 1259 2228 \r\nz\r\nM 1259 4147 \r\nL 1259 2741 \r\nL 2194 2741 \r\nQ 2656 2741 2882 2914 \r\nQ 3109 3088 3109 3444 \r\nQ 3109 3797 2882 3972 \r\nQ 2656 4147 2194 4147 \r\nL 1259 4147 \r\nz\r\nM 628 4666 \r\nL 2241 4666 \r\nQ 2963 4666 3353 4366 \r\nQ 3744 4066 3744 3513 \r\nQ 3744 3084 3544 2831 \r\nQ 3344 2578 2956 2516 \r\nQ 3422 2416 3680 2098 \r\nQ 3938 1781 3938 1306 \r\nQ 3938 681 3513 340 \r\nQ 3088 0 2303 0 \r\nL 628 0 \r\nL 628 4666 \r\nz\r\n\" id=\"DejaVuSans-42\" transform=\"scale(0.015625)\"/>\r\n       </defs>\r\n       <use xlink:href=\"#DejaVuSans-42\"/>\r\n       <use x=\"68.603516\" xlink:href=\"#DejaVuSans-4c\"/>\r\n       <use x=\"124.316406\" xlink:href=\"#DejaVuSans-49\"/>\r\n      </g>\r\n     </g>\r\n    </g>\r\n    <g id=\"ytick_7\">\r\n     <g id=\"line2d_14\">\r\n      <g>\r\n       <use style=\"stroke:#000000;stroke-width:0.8;\" x=\"135.46875\" xlink:href=\"#m5585f9703f\" y=\"556.3116\"/>\r\n      </g>\r\n     </g>\r\n     <g id=\"text_15\">\r\n      <!-- HOU -->\r\n      <g transform=\"translate(105.757812 560.110819)scale(0.1 -0.1)\">\r\n       <defs>\r\n        <path d=\"M 628 4666 \r\nL 1259 4666 \r\nL 1259 2753 \r\nL 3553 2753 \r\nL 3553 4666 \r\nL 4184 4666 \r\nL 4184 0 \r\nL 3553 0 \r\nL 3553 2222 \r\nL 1259 2222 \r\nL 1259 0 \r\nL 628 0 \r\nL 628 4666 \r\nz\r\n\" id=\"DejaVuSans-48\" transform=\"scale(0.015625)\"/>\r\n        <path d=\"M 2522 4238 \r\nQ 1834 4238 1429 3725 \r\nQ 1025 3213 1025 2328 \r\nQ 1025 1447 1429 934 \r\nQ 1834 422 2522 422 \r\nQ 3209 422 3611 934 \r\nQ 4013 1447 4013 2328 \r\nQ 4013 3213 3611 3725 \r\nQ 3209 4238 2522 4238 \r\nz\r\nM 2522 4750 \r\nQ 3503 4750 4090 4092 \r\nQ 4678 3434 4678 2328 \r\nQ 4678 1225 4090 567 \r\nQ 3503 -91 2522 -91 \r\nQ 1538 -91 948 565 \r\nQ 359 1222 359 2328 \r\nQ 359 3434 948 4092 \r\nQ 1538 4750 2522 4750 \r\nz\r\n\" id=\"DejaVuSans-4f\" transform=\"scale(0.015625)\"/>\r\n       </defs>\r\n       <use xlink:href=\"#DejaVuSans-48\"/>\r\n       <use x=\"75.195312\" xlink:href=\"#DejaVuSans-4f\"/>\r\n       <use x=\"153.90625\" xlink:href=\"#DejaVuSans-55\"/>\r\n      </g>\r\n     </g>\r\n    </g>\r\n    <g id=\"ytick_8\">\r\n     <g id=\"line2d_15\">\r\n      <g>\r\n       <use style=\"stroke:#000000;stroke-width:0.8;\" x=\"135.46875\" xlink:href=\"#m5585f9703f\" y=\"542.456035\"/>\r\n      </g>\r\n     </g>\r\n     <g id=\"text_16\">\r\n      <!-- OAK -->\r\n      <g transform=\"translate(107.373437 546.255254)scale(0.1 -0.1)\">\r\n       <defs>\r\n        <path d=\"M 2188 4044 \r\nL 1331 1722 \r\nL 3047 1722 \r\nL 2188 4044 \r\nz\r\nM 1831 4666 \r\nL 2547 4666 \r\nL 4325 0 \r\nL 3669 0 \r\nL 3244 1197 \r\nL 1141 1197 \r\nL 716 0 \r\nL 50 0 \r\nL 1831 4666 \r\nz\r\n\" id=\"DejaVuSans-41\" transform=\"scale(0.015625)\"/>\r\n        <path d=\"M 628 4666 \r\nL 1259 4666 \r\nL 1259 2694 \r\nL 3353 4666 \r\nL 4166 4666 \r\nL 1850 2491 \r\nL 4331 0 \r\nL 3500 0 \r\nL 1259 2247 \r\nL 1259 0 \r\nL 628 0 \r\nL 628 4666 \r\nz\r\n\" id=\"DejaVuSans-4b\" transform=\"scale(0.015625)\"/>\r\n       </defs>\r\n       <use xlink:href=\"#DejaVuSans-4f\"/>\r\n       <use x=\"76.960938\" xlink:href=\"#DejaVuSans-41\"/>\r\n       <use x=\"145.369141\" xlink:href=\"#DejaVuSans-4b\"/>\r\n      </g>\r\n     </g>\r\n    </g>\r\n    <g id=\"ytick_9\">\r\n     <g id=\"line2d_16\">\r\n      <g>\r\n       <use style=\"stroke:#000000;stroke-width:0.8;\" x=\"135.46875\" xlink:href=\"#m5585f9703f\" y=\"528.60047\"/>\r\n      </g>\r\n     </g>\r\n     <g id=\"text_17\">\r\n      <!-- MSP -->\r\n      <g transform=\"translate(107.4625 532.399689)scale(0.1 -0.1)\">\r\n       <defs>\r\n        <path d=\"M 628 4666 \r\nL 1569 4666 \r\nL 2759 1491 \r\nL 3956 4666 \r\nL 4897 4666 \r\nL 4897 0 \r\nL 4281 0 \r\nL 4281 4097 \r\nL 3078 897 \r\nL 2444 897 \r\nL 1241 4097 \r\nL 1241 0 \r\nL 628 0 \r\nL 628 4666 \r\nz\r\n\" id=\"DejaVuSans-4d\" transform=\"scale(0.015625)\"/>\r\n        <path d=\"M 3425 4513 \r\nL 3425 3897 \r\nQ 3066 4069 2747 4153 \r\nQ 2428 4238 2131 4238 \r\nQ 1616 4238 1336 4038 \r\nQ 1056 3838 1056 3469 \r\nQ 1056 3159 1242 3001 \r\nQ 1428 2844 1947 2747 \r\nL 2328 2669 \r\nQ 3034 2534 3370 2195 \r\nQ 3706 1856 3706 1288 \r\nQ 3706 609 3251 259 \r\nQ 2797 -91 1919 -91 \r\nQ 1588 -91 1214 -16 \r\nQ 841 59 441 206 \r\nL 441 856 \r\nQ 825 641 1194 531 \r\nQ 1563 422 1919 422 \r\nQ 2459 422 2753 634 \r\nQ 3047 847 3047 1241 \r\nQ 3047 1584 2836 1778 \r\nQ 2625 1972 2144 2069 \r\nL 1759 2144 \r\nQ 1053 2284 737 2584 \r\nQ 422 2884 422 3419 \r\nQ 422 4038 858 4394 \r\nQ 1294 4750 2059 4750 \r\nQ 2388 4750 2728 4690 \r\nQ 3069 4631 3425 4513 \r\nz\r\n\" id=\"DejaVuSans-53\" transform=\"scale(0.015625)\"/>\r\n       </defs>\r\n       <use xlink:href=\"#DejaVuSans-4d\"/>\r\n       <use x=\"86.279297\" xlink:href=\"#DejaVuSans-53\"/>\r\n       <use x=\"149.755859\" xlink:href=\"#DejaVuSans-50\"/>\r\n      </g>\r\n     </g>\r\n    </g>\r\n    <g id=\"ytick_10\">\r\n     <g id=\"line2d_17\">\r\n      <g>\r\n       <use style=\"stroke:#000000;stroke-width:0.8;\" x=\"135.46875\" xlink:href=\"#m5585f9703f\" y=\"514.744905\"/>\r\n      </g>\r\n     </g>\r\n     <g id=\"text_18\">\r\n      <!-- AS -->\r\n      <g transform=\"translate(115.279687 518.544124)scale(0.1 -0.1)\">\r\n       <use xlink:href=\"#DejaVuSans-41\"/>\r\n       <use x=\"68.408203\" xlink:href=\"#DejaVuSans-53\"/>\r\n      </g>\r\n     </g>\r\n    </g>\r\n    <g id=\"ytick_11\">\r\n     <g id=\"line2d_18\">\r\n      <g>\r\n       <use style=\"stroke:#000000;stroke-width:0.8;\" x=\"135.46875\" xlink:href=\"#m5585f9703f\" y=\"500.88934\"/>\r\n      </g>\r\n     </g>\r\n     <g id=\"text_19\">\r\n      <!-- SJC -->\r\n      <g transform=\"translate(112.1875 504.688559)scale(0.1 -0.1)\">\r\n       <defs>\r\n        <path d=\"M 628 4666 \r\nL 1259 4666 \r\nL 1259 325 \r\nQ 1259 -519 939 -900 \r\nQ 619 -1281 -91 -1281 \r\nL -331 -1281 \r\nL -331 -750 \r\nL -134 -750 \r\nQ 284 -750 456 -515 \r\nQ 628 -281 628 325 \r\nL 628 4666 \r\nz\r\n\" id=\"DejaVuSans-4a\" transform=\"scale(0.015625)\"/>\r\n       </defs>\r\n       <use xlink:href=\"#DejaVuSans-53\"/>\r\n       <use x=\"63.476562\" xlink:href=\"#DejaVuSans-4a\"/>\r\n       <use x=\"92.96875\" xlink:href=\"#DejaVuSans-43\"/>\r\n      </g>\r\n     </g>\r\n    </g>\r\n    <g id=\"ytick_12\">\r\n     <g id=\"line2d_19\">\r\n      <g>\r\n       <use style=\"stroke:#000000;stroke-width:0.8;\" x=\"135.46875\" xlink:href=\"#m5585f9703f\" y=\"487.033775\"/>\r\n      </g>\r\n     </g>\r\n     <g id=\"text_20\">\r\n      <!-- PDX -->\r\n      <g transform=\"translate(107.889062 490.832994)scale(0.1 -0.1)\">\r\n       <defs>\r\n        <path d=\"M 1259 4147 \r\nL 1259 519 \r\nL 2022 519 \r\nQ 2988 519 3436 956 \r\nQ 3884 1394 3884 2338 \r\nQ 3884 3275 3436 3711 \r\nQ 2988 4147 2022 4147 \r\nL 1259 4147 \r\nz\r\nM 628 4666 \r\nL 1925 4666 \r\nQ 3281 4666 3915 4102 \r\nQ 4550 3538 4550 2338 \r\nQ 4550 1131 3912 565 \r\nQ 3275 0 1925 0 \r\nL 628 0 \r\nL 628 4666 \r\nz\r\n\" id=\"DejaVuSans-44\" transform=\"scale(0.015625)\"/>\r\n        <path d=\"M 403 4666 \r\nL 1081 4666 \r\nL 2241 2931 \r\nL 3406 4666 \r\nL 4084 4666 \r\nL 2584 2425 \r\nL 4184 0 \r\nL 3506 0 \r\nL 2194 1984 \r\nL 872 0 \r\nL 191 0 \r\nL 1856 2491 \r\nL 403 4666 \r\nz\r\n\" id=\"DejaVuSans-58\" transform=\"scale(0.015625)\"/>\r\n       </defs>\r\n       <use xlink:href=\"#DejaVuSans-50\"/>\r\n       <use x=\"60.302734\" xlink:href=\"#DejaVuSans-44\"/>\r\n       <use x=\"137.304688\" xlink:href=\"#DejaVuSans-58\"/>\r\n      </g>\r\n     </g>\r\n    </g>\r\n    <g id=\"ytick_13\">\r\n     <g id=\"line2d_20\">\r\n      <g>\r\n       <use style=\"stroke:#000000;stroke-width:0.8;\" x=\"135.46875\" xlink:href=\"#m5585f9703f\" y=\"473.17821\"/>\r\n      </g>\r\n     </g>\r\n     <g id=\"text_21\">\r\n      <!-- ATL -->\r\n      <g transform=\"translate(110.723438 476.977429)scale(0.1 -0.1)\">\r\n       <use xlink:href=\"#DejaVuSans-41\"/>\r\n       <use x=\"60.658203\" xlink:href=\"#DejaVuSans-54\"/>\r\n       <use x=\"121.742188\" xlink:href=\"#DejaVuSans-4c\"/>\r\n      </g>\r\n     </g>\r\n    </g>\r\n    <g id=\"ytick_14\">\r\n     <g id=\"line2d_21\">\r\n      <g>\r\n       <use style=\"stroke:#000000;stroke-width:0.8;\" x=\"135.46875\" xlink:href=\"#m5585f9703f\" y=\"459.322645\"/>\r\n      </g>\r\n     </g>\r\n     <g id=\"text_22\">\r\n      <!-- EV -->\r\n      <g transform=\"translate(115.309375 463.121864)scale(0.1 -0.1)\">\r\n       <defs>\r\n        <path d=\"M 628 4666 \r\nL 3578 4666 \r\nL 3578 4134 \r\nL 1259 4134 \r\nL 1259 2753 \r\nL 3481 2753 \r\nL 3481 2222 \r\nL 1259 2222 \r\nL 1259 531 \r\nL 3634 531 \r\nL 3634 0 \r\nL 628 0 \r\nL 628 4666 \r\nz\r\n\" id=\"DejaVuSans-45\" transform=\"scale(0.015625)\"/>\r\n       </defs>\r\n       <use xlink:href=\"#DejaVuSans-45\"/>\r\n       <use x=\"63.183594\" xlink:href=\"#DejaVuSans-56\"/>\r\n      </g>\r\n     </g>\r\n    </g>\r\n    <g id=\"ytick_15\">\r\n     <g id=\"line2d_22\">\r\n      <g>\r\n       <use style=\"stroke:#000000;stroke-width:0.8;\" x=\"135.46875\" xlink:href=\"#m5585f9703f\" y=\"445.46708\"/>\r\n      </g>\r\n     </g>\r\n     <g id=\"text_23\">\r\n      <!-- DL -->\r\n      <g transform=\"translate(115.196875 449.266299)scale(0.1 -0.1)\">\r\n       <use xlink:href=\"#DejaVuSans-44\"/>\r\n       <use x=\"77.001953\" xlink:href=\"#DejaVuSans-4c\"/>\r\n      </g>\r\n     </g>\r\n    </g>\r\n    <g id=\"ytick_16\">\r\n     <g id=\"line2d_23\">\r\n      <g>\r\n       <use style=\"stroke:#000000;stroke-width:0.8;\" x=\"135.46875\" xlink:href=\"#m5585f9703f\" y=\"431.611515\"/>\r\n      </g>\r\n     </g>\r\n     <g id=\"text_24\">\r\n      <!-- SEA -->\r\n      <g transform=\"translate(108.960938 435.410734)scale(0.1 -0.1)\">\r\n       <use xlink:href=\"#DejaVuSans-53\"/>\r\n       <use x=\"63.476562\" xlink:href=\"#DejaVuSans-45\"/>\r\n       <use x=\"126.660156\" xlink:href=\"#DejaVuSans-41\"/>\r\n      </g>\r\n     </g>\r\n    </g>\r\n    <g id=\"ytick_17\">\r\n     <g id=\"line2d_24\">\r\n      <g>\r\n       <use style=\"stroke:#000000;stroke-width:0.8;\" x=\"135.46875\" xlink:href=\"#m5585f9703f\" y=\"417.75595\"/>\r\n      </g>\r\n     </g>\r\n     <g id=\"text_25\">\r\n      <!-- UA -->\r\n      <g transform=\"translate(114.309375 421.555169)scale(0.1 -0.1)\">\r\n       <use xlink:href=\"#DejaVuSans-55\"/>\r\n       <use x=\"73.193359\" xlink:href=\"#DejaVuSans-41\"/>\r\n      </g>\r\n     </g>\r\n    </g>\r\n    <g id=\"ytick_18\">\r\n     <g id=\"line2d_25\">\r\n      <g>\r\n       <use style=\"stroke:#000000;stroke-width:0.8;\" x=\"135.46875\" xlink:href=\"#m5585f9703f\" y=\"403.900385\"/>\r\n      </g>\r\n     </g>\r\n     <g id=\"text_26\">\r\n      <!-- DFW -->\r\n      <g transform=\"translate(105.129688 407.699604)scale(0.1 -0.1)\">\r\n       <defs>\r\n        <path d=\"M 213 4666 \r\nL 850 4666 \r\nL 1831 722 \r\nL 2809 4666 \r\nL 3519 4666 \r\nL 4500 722 \r\nL 5478 4666 \r\nL 6119 4666 \r\nL 4947 0 \r\nL 4153 0 \r\nL 3169 4050 \r\nL 2175 0 \r\nL 1381 0 \r\nL 213 4666 \r\nz\r\n\" id=\"DejaVuSans-57\" transform=\"scale(0.015625)\"/>\r\n       </defs>\r\n       <use xlink:href=\"#DejaVuSans-44\"/>\r\n       <use x=\"77.001953\" xlink:href=\"#DejaVuSans-46\"/>\r\n       <use x=\"134.521484\" xlink:href=\"#DejaVuSans-57\"/>\r\n      </g>\r\n     </g>\r\n    </g>\r\n    <g id=\"ytick_19\">\r\n     <g id=\"line2d_26\">\r\n      <g>\r\n       <use style=\"stroke:#000000;stroke-width:0.8;\" x=\"135.46875\" xlink:href=\"#m5585f9703f\" y=\"390.04482\"/>\r\n      </g>\r\n     </g>\r\n     <g id=\"text_27\">\r\n      <!-- MDW -->\r\n      <g transform=\"translate(102.253125 393.844039)scale(0.1 -0.1)\">\r\n       <use xlink:href=\"#DejaVuSans-4d\"/>\r\n       <use x=\"86.279297\" xlink:href=\"#DejaVuSans-44\"/>\r\n       <use x=\"163.28125\" xlink:href=\"#DejaVuSans-57\"/>\r\n      </g>\r\n     </g>\r\n    </g>\r\n    <g id=\"ytick_20\">\r\n     <g id=\"line2d_27\">\r\n      <g>\r\n       <use style=\"stroke:#000000;stroke-width:0.8;\" x=\"135.46875\" xlink:href=\"#m5585f9703f\" y=\"376.189255\"/>\r\n      </g>\r\n     </g>\r\n     <g id=\"text_28\">\r\n      <!-- JFK -->\r\n      <g transform=\"translate(113.209375 379.988474)scale(0.1 -0.1)\">\r\n       <use xlink:href=\"#DejaVuSans-4a\"/>\r\n       <use x=\"29.492188\" xlink:href=\"#DejaVuSans-46\"/>\r\n       <use x=\"87.011719\" xlink:href=\"#DejaVuSans-4b\"/>\r\n      </g>\r\n     </g>\r\n    </g>\r\n    <g id=\"ytick_21\">\r\n     <g id=\"line2d_28\">\r\n      <g>\r\n       <use style=\"stroke:#000000;stroke-width:0.8;\" x=\"135.46875\" xlink:href=\"#m5585f9703f\" y=\"362.33369\"/>\r\n      </g>\r\n     </g>\r\n     <g id=\"text_29\">\r\n      <!-- PHX -->\r\n      <g transform=\"translate(108.06875 366.132909)scale(0.1 -0.1)\">\r\n       <use xlink:href=\"#DejaVuSans-50\"/>\r\n       <use x=\"60.302734\" xlink:href=\"#DejaVuSans-48\"/>\r\n       <use x=\"135.498047\" xlink:href=\"#DejaVuSans-58\"/>\r\n      </g>\r\n     </g>\r\n    </g>\r\n    <g id=\"ytick_22\">\r\n     <g id=\"line2d_29\">\r\n      <g>\r\n       <use style=\"stroke:#000000;stroke-width:0.8;\" x=\"135.46875\" xlink:href=\"#m5585f9703f\" y=\"348.478125\"/>\r\n      </g>\r\n     </g>\r\n     <g id=\"text_30\">\r\n      <!-- AA -->\r\n      <g transform=\"translate(114.5125 352.277344)scale(0.1 -0.1)\">\r\n       <use xlink:href=\"#DejaVuSans-41\"/>\r\n       <use x=\"71.158203\" xlink:href=\"#DejaVuSans-41\"/>\r\n      </g>\r\n     </g>\r\n    </g>\r\n    <g id=\"ytick_23\">\r\n     <g id=\"line2d_30\">\r\n      <g>\r\n       <use style=\"stroke:#000000;stroke-width:0.8;\" x=\"135.46875\" xlink:href=\"#m5585f9703f\" y=\"334.62256\"/>\r\n      </g>\r\n     </g>\r\n     <g id=\"text_31\">\r\n      <!-- SLC -->\r\n      <g transform=\"translate(109.565625 338.421779)scale(0.1 -0.1)\">\r\n       <use xlink:href=\"#DejaVuSans-53\"/>\r\n       <use x=\"63.476562\" xlink:href=\"#DejaVuSans-4c\"/>\r\n       <use x=\"119.189453\" xlink:href=\"#DejaVuSans-43\"/>\r\n      </g>\r\n     </g>\r\n    </g>\r\n    <g id=\"ytick_24\">\r\n     <g id=\"line2d_31\">\r\n      <g>\r\n       <use style=\"stroke:#000000;stroke-width:0.8;\" x=\"135.46875\" xlink:href=\"#m5585f9703f\" y=\"320.766995\"/>\r\n      </g>\r\n     </g>\r\n     <g id=\"text_32\">\r\n      <!-- IAH -->\r\n      <g transform=\"translate(111.157813 324.566214)scale(0.1 -0.1)\">\r\n       <use xlink:href=\"#DejaVuSans-49\"/>\r\n       <use x=\"29.492188\" xlink:href=\"#DejaVuSans-41\"/>\r\n       <use x=\"97.900391\" xlink:href=\"#DejaVuSans-48\"/>\r\n      </g>\r\n     </g>\r\n    </g>\r\n    <g id=\"ytick_25\">\r\n     <g id=\"line2d_32\">\r\n      <g>\r\n       <use style=\"stroke:#000000;stroke-width:0.8;\" x=\"135.46875\" xlink:href=\"#m5585f9703f\" y=\"306.91143\"/>\r\n      </g>\r\n     </g>\r\n     <g id=\"text_33\">\r\n      <!-- LAS -->\r\n      <g transform=\"translate(109.482812 310.710649)scale(0.1 -0.1)\">\r\n       <use xlink:href=\"#DejaVuSans-4c\"/>\r\n       <use x=\"57.962891\" xlink:href=\"#DejaVuSans-41\"/>\r\n       <use x=\"126.371094\" xlink:href=\"#DejaVuSans-53\"/>\r\n      </g>\r\n     </g>\r\n    </g>\r\n    <g id=\"ytick_26\">\r\n     <g id=\"line2d_33\">\r\n      <g>\r\n       <use style=\"stroke:#000000;stroke-width:0.8;\" x=\"135.46875\" xlink:href=\"#m5585f9703f\" y=\"293.055865\"/>\r\n      </g>\r\n     </g>\r\n     <g id=\"text_34\">\r\n      <!-- SAN -->\r\n      <g transform=\"translate(107.610938 296.855084)scale(0.1 -0.1)\">\r\n       <defs>\r\n        <path d=\"M 628 4666 \r\nL 1478 4666 \r\nL 3547 763 \r\nL 3547 4666 \r\nL 4159 4666 \r\nL 4159 0 \r\nL 3309 0 \r\nL 1241 3903 \r\nL 1241 0 \r\nL 628 0 \r\nL 628 4666 \r\nz\r\n\" id=\"DejaVuSans-4e\" transform=\"scale(0.015625)\"/>\r\n       </defs>\r\n       <use xlink:href=\"#DejaVuSans-53\"/>\r\n       <use x=\"65.351562\" xlink:href=\"#DejaVuSans-41\"/>\r\n       <use x=\"133.759766\" xlink:href=\"#DejaVuSans-4e\"/>\r\n      </g>\r\n     </g>\r\n    </g>\r\n    <g id=\"ytick_27\">\r\n     <g id=\"line2d_34\">\r\n      <g>\r\n       <use style=\"stroke:#000000;stroke-width:0.8;\" x=\"135.46875\" xlink:href=\"#m5585f9703f\" y=\"279.2003\"/>\r\n      </g>\r\n     </g>\r\n     <g id=\"text_35\">\r\n      <!-- ORD -->\r\n      <g transform=\"translate(105.948437 282.999519)scale(0.1 -0.1)\">\r\n       <defs>\r\n        <path d=\"M 2841 2188 \r\nQ 3044 2119 3236 1894 \r\nQ 3428 1669 3622 1275 \r\nL 4263 0 \r\nL 3584 0 \r\nL 2988 1197 \r\nQ 2756 1666 2539 1819 \r\nQ 2322 1972 1947 1972 \r\nL 1259 1972 \r\nL 1259 0 \r\nL 628 0 \r\nL 628 4666 \r\nL 2053 4666 \r\nQ 2853 4666 3247 4331 \r\nQ 3641 3997 3641 3322 \r\nQ 3641 2881 3436 2590 \r\nQ 3231 2300 2841 2188 \r\nz\r\nM 1259 4147 \r\nL 1259 2491 \r\nL 2053 2491 \r\nQ 2509 2491 2742 2702 \r\nQ 2975 2913 2975 3322 \r\nQ 2975 3731 2742 3939 \r\nQ 2509 4147 2053 4147 \r\nL 1259 4147 \r\nz\r\n\" id=\"DejaVuSans-52\" transform=\"scale(0.015625)\"/>\r\n       </defs>\r\n       <use xlink:href=\"#DejaVuSans-4f\"/>\r\n       <use x=\"78.710938\" xlink:href=\"#DejaVuSans-52\"/>\r\n       <use x=\"148.193359\" xlink:href=\"#DejaVuSans-44\"/>\r\n      </g>\r\n     </g>\r\n    </g>\r\n    <g id=\"ytick_28\">\r\n     <g id=\"line2d_35\">\r\n      <g>\r\n       <use style=\"stroke:#000000;stroke-width:0.8;\" x=\"135.46875\" xlink:href=\"#m5585f9703f\" y=\"265.344735\"/>\r\n      </g>\r\n     </g>\r\n     <g id=\"text_36\">\r\n      <!-- DEN -->\r\n      <g transform=\"translate(106.96875 269.143954)scale(0.1 -0.1)\">\r\n       <use xlink:href=\"#DejaVuSans-44\"/>\r\n       <use x=\"77.001953\" xlink:href=\"#DejaVuSans-45\"/>\r\n       <use x=\"140.185547\" xlink:href=\"#DejaVuSans-4e\"/>\r\n      </g>\r\n     </g>\r\n    </g>\r\n    <g id=\"ytick_29\">\r\n     <g id=\"line2d_36\">\r\n      <g>\r\n       <use style=\"stroke:#000000;stroke-width:0.8;\" x=\"135.46875\" xlink:href=\"#m5585f9703f\" y=\"251.48917\"/>\r\n      </g>\r\n     </g>\r\n     <g id=\"text_37\">\r\n      <!-- WN -->\r\n      <g transform=\"translate(111.1 255.288389)scale(0.1 -0.1)\">\r\n       <use xlink:href=\"#DejaVuSans-57\"/>\r\n       <use x=\"98.876953\" xlink:href=\"#DejaVuSans-4e\"/>\r\n      </g>\r\n     </g>\r\n    </g>\r\n    <g id=\"ytick_30\">\r\n     <g id=\"line2d_37\">\r\n      <g>\r\n       <use style=\"stroke:#000000;stroke-width:0.8;\" x=\"135.46875\" xlink:href=\"#m5585f9703f\" y=\"237.633605\"/>\r\n      </g>\r\n     </g>\r\n     <g id=\"text_38\">\r\n      <!-- OO -->\r\n      <g transform=\"translate(112.725 241.432824)scale(0.1 -0.1)\">\r\n       <use xlink:href=\"#DejaVuSans-4f\"/>\r\n       <use x=\"78.710938\" xlink:href=\"#DejaVuSans-4f\"/>\r\n      </g>\r\n     </g>\r\n    </g>\r\n    <g id=\"ytick_31\">\r\n     <g id=\"line2d_38\">\r\n      <g>\r\n       <use style=\"stroke:#000000;stroke-width:0.8;\" x=\"135.46875\" xlink:href=\"#m5585f9703f\" y=\"223.77804\"/>\r\n      </g>\r\n     </g>\r\n     <g id=\"text_39\">\r\n      <!-- LAX -->\r\n      <g transform=\"translate(108.98125 227.577259)scale(0.1 -0.1)\">\r\n       <use xlink:href=\"#DejaVuSans-4c\"/>\r\n       <use x=\"57.962891\" xlink:href=\"#DejaVuSans-41\"/>\r\n       <use x=\"126.371094\" xlink:href=\"#DejaVuSans-58\"/>\r\n      </g>\r\n     </g>\r\n    </g>\r\n    <g id=\"ytick_32\">\r\n     <g id=\"line2d_39\">\r\n      <g>\r\n       <use style=\"stroke:#000000;stroke-width:0.8;\" x=\"135.46875\" xlink:href=\"#m5585f9703f\" y=\"209.922475\"/>\r\n      </g>\r\n     </g>\r\n     <g id=\"text_40\">\r\n      <!-- Saturday -->\r\n      <g transform=\"translate(83.403125 213.721694)scale(0.1 -0.1)\">\r\n       <defs>\r\n        <path d=\"M 2906 2969 \r\nL 2906 4863 \r\nL 3481 4863 \r\nL 3481 0 \r\nL 2906 0 \r\nL 2906 525 \r\nQ 2725 213 2448 61 \r\nQ 2172 -91 1784 -91 \r\nQ 1150 -91 751 415 \r\nQ 353 922 353 1747 \r\nQ 353 2572 751 3078 \r\nQ 1150 3584 1784 3584 \r\nQ 2172 3584 2448 3432 \r\nQ 2725 3281 2906 2969 \r\nz\r\nM 947 1747 \r\nQ 947 1113 1208 752 \r\nQ 1469 391 1925 391 \r\nQ 2381 391 2643 752 \r\nQ 2906 1113 2906 1747 \r\nQ 2906 2381 2643 2742 \r\nQ 2381 3103 1925 3103 \r\nQ 1469 3103 1208 2742 \r\nQ 947 2381 947 1747 \r\nz\r\n\" id=\"DejaVuSans-64\" transform=\"scale(0.015625)\"/>\r\n        <path d=\"M 2059 -325 \r\nQ 1816 -950 1584 -1140 \r\nQ 1353 -1331 966 -1331 \r\nL 506 -1331 \r\nL 506 -850 \r\nL 844 -850 \r\nQ 1081 -850 1212 -737 \r\nQ 1344 -625 1503 -206 \r\nL 1606 56 \r\nL 191 3500 \r\nL 800 3500 \r\nL 1894 763 \r\nL 2988 3500 \r\nL 3597 3500 \r\nL 2059 -325 \r\nz\r\n\" id=\"DejaVuSans-79\" transform=\"scale(0.015625)\"/>\r\n       </defs>\r\n       <use xlink:href=\"#DejaVuSans-53\"/>\r\n       <use x=\"63.476562\" xlink:href=\"#DejaVuSans-61\"/>\r\n       <use x=\"124.755859\" xlink:href=\"#DejaVuSans-74\"/>\r\n       <use x=\"163.964844\" xlink:href=\"#DejaVuSans-75\"/>\r\n       <use x=\"227.34375\" xlink:href=\"#DejaVuSans-72\"/>\r\n       <use x=\"266.707031\" xlink:href=\"#DejaVuSans-64\"/>\r\n       <use x=\"330.183594\" xlink:href=\"#DejaVuSans-61\"/>\r\n       <use x=\"391.462891\" xlink:href=\"#DejaVuSans-79\"/>\r\n      </g>\r\n     </g>\r\n    </g>\r\n    <g id=\"ytick_33\">\r\n     <g id=\"line2d_40\">\r\n      <g>\r\n       <use style=\"stroke:#000000;stroke-width:0.8;\" x=\"135.46875\" xlink:href=\"#m5585f9703f\" y=\"196.06691\"/>\r\n      </g>\r\n     </g>\r\n     <g id=\"text_41\">\r\n      <!-- Wednesday -->\r\n      <g transform=\"translate(70.571875 199.866129)scale(0.1 -0.1)\">\r\n       <defs>\r\n        <path d=\"M 2834 3397 \r\nL 2834 2853 \r\nQ 2591 2978 2328 3040 \r\nQ 2066 3103 1784 3103 \r\nQ 1356 3103 1142 2972 \r\nQ 928 2841 928 2578 \r\nQ 928 2378 1081 2264 \r\nQ 1234 2150 1697 2047 \r\nL 1894 2003 \r\nQ 2506 1872 2764 1633 \r\nQ 3022 1394 3022 966 \r\nQ 3022 478 2636 193 \r\nQ 2250 -91 1575 -91 \r\nQ 1294 -91 989 -36 \r\nQ 684 19 347 128 \r\nL 347 722 \r\nQ 666 556 975 473 \r\nQ 1284 391 1588 391 \r\nQ 1994 391 2212 530 \r\nQ 2431 669 2431 922 \r\nQ 2431 1156 2273 1281 \r\nQ 2116 1406 1581 1522 \r\nL 1381 1569 \r\nQ 847 1681 609 1914 \r\nQ 372 2147 372 2553 \r\nQ 372 3047 722 3315 \r\nQ 1072 3584 1716 3584 \r\nQ 2034 3584 2315 3537 \r\nQ 2597 3491 2834 3397 \r\nz\r\n\" id=\"DejaVuSans-73\" transform=\"scale(0.015625)\"/>\r\n       </defs>\r\n       <use xlink:href=\"#DejaVuSans-57\"/>\r\n       <use x=\"93.001953\" xlink:href=\"#DejaVuSans-65\"/>\r\n       <use x=\"154.525391\" xlink:href=\"#DejaVuSans-64\"/>\r\n       <use x=\"218.001953\" xlink:href=\"#DejaVuSans-6e\"/>\r\n       <use x=\"281.380859\" xlink:href=\"#DejaVuSans-65\"/>\r\n       <use x=\"342.904297\" xlink:href=\"#DejaVuSans-73\"/>\r\n       <use x=\"395.003906\" xlink:href=\"#DejaVuSans-64\"/>\r\n       <use x=\"458.480469\" xlink:href=\"#DejaVuSans-61\"/>\r\n       <use x=\"519.759766\" xlink:href=\"#DejaVuSans-79\"/>\r\n      </g>\r\n     </g>\r\n    </g>\r\n    <g id=\"ytick_34\">\r\n     <g id=\"line2d_41\">\r\n      <g>\r\n       <use style=\"stroke:#000000;stroke-width:0.8;\" x=\"135.46875\" xlink:href=\"#m5585f9703f\" y=\"182.211345\"/>\r\n      </g>\r\n     </g>\r\n     <g id=\"text_42\">\r\n      <!-- Sunday -->\r\n      <g transform=\"translate(91.05 186.010564)scale(0.1 -0.1)\">\r\n       <use xlink:href=\"#DejaVuSans-53\"/>\r\n       <use x=\"63.476562\" xlink:href=\"#DejaVuSans-75\"/>\r\n       <use x=\"126.855469\" xlink:href=\"#DejaVuSans-6e\"/>\r\n       <use x=\"190.234375\" xlink:href=\"#DejaVuSans-64\"/>\r\n       <use x=\"253.710938\" xlink:href=\"#DejaVuSans-61\"/>\r\n       <use x=\"314.990234\" xlink:href=\"#DejaVuSans-79\"/>\r\n      </g>\r\n     </g>\r\n    </g>\r\n    <g id=\"ytick_35\">\r\n     <g id=\"line2d_42\">\r\n      <g>\r\n       <use style=\"stroke:#000000;stroke-width:0.8;\" x=\"135.46875\" xlink:href=\"#m5585f9703f\" y=\"168.35578\"/>\r\n      </g>\r\n     </g>\r\n     <g id=\"text_43\">\r\n      <!-- DISTANCE -->\r\n      <g transform=\"translate(78.514062 172.154999)scale(0.1 -0.1)\">\r\n       <use xlink:href=\"#DejaVuSans-44\"/>\r\n       <use x=\"77.001953\" xlink:href=\"#DejaVuSans-49\"/>\r\n       <use x=\"106.494141\" xlink:href=\"#DejaVuSans-53\"/>\r\n       <use x=\"169.970703\" xlink:href=\"#DejaVuSans-54\"/>\r\n       <use x=\"223.304688\" xlink:href=\"#DejaVuSans-41\"/>\r\n       <use x=\"291.712891\" xlink:href=\"#DejaVuSans-4e\"/>\r\n       <use x=\"366.517578\" xlink:href=\"#DejaVuSans-43\"/>\r\n       <use x=\"436.341797\" xlink:href=\"#DejaVuSans-45\"/>\r\n      </g>\r\n     </g>\r\n    </g>\r\n    <g id=\"ytick_36\">\r\n     <g id=\"line2d_43\">\r\n      <g>\r\n       <use style=\"stroke:#000000;stroke-width:0.8;\" x=\"135.46875\" xlink:href=\"#m5585f9703f\" y=\"154.500215\"/>\r\n      </g>\r\n     </g>\r\n     <g id=\"text_44\">\r\n      <!-- Tuesday -->\r\n      <g transform=\"translate(87.778125 158.299434)scale(0.1 -0.1)\">\r\n       <use xlink:href=\"#DejaVuSans-54\"/>\r\n       <use x=\"45.958984\" xlink:href=\"#DejaVuSans-75\"/>\r\n       <use x=\"109.337891\" xlink:href=\"#DejaVuSans-65\"/>\r\n       <use x=\"170.861328\" xlink:href=\"#DejaVuSans-73\"/>\r\n       <use x=\"222.960938\" xlink:href=\"#DejaVuSans-64\"/>\r\n       <use x=\"286.4375\" xlink:href=\"#DejaVuSans-61\"/>\r\n       <use x=\"347.716797\" xlink:href=\"#DejaVuSans-79\"/>\r\n      </g>\r\n     </g>\r\n    </g>\r\n    <g id=\"ytick_37\">\r\n     <g id=\"line2d_44\">\r\n      <g>\r\n       <use style=\"stroke:#000000;stroke-width:0.8;\" x=\"135.46875\" xlink:href=\"#m5585f9703f\" y=\"140.64465\"/>\r\n      </g>\r\n     </g>\r\n     <g id=\"text_45\">\r\n      <!-- Friday -->\r\n      <g transform=\"translate(98.157813 144.443869)scale(0.1 -0.1)\">\r\n       <defs>\r\n        <path d=\"M 603 3500 \r\nL 1178 3500 \r\nL 1178 0 \r\nL 603 0 \r\nL 603 3500 \r\nz\r\nM 603 4863 \r\nL 1178 4863 \r\nL 1178 4134 \r\nL 603 4134 \r\nL 603 4863 \r\nz\r\n\" id=\"DejaVuSans-69\" transform=\"scale(0.015625)\"/>\r\n       </defs>\r\n       <use xlink:href=\"#DejaVuSans-46\"/>\r\n       <use x=\"50.269531\" xlink:href=\"#DejaVuSans-72\"/>\r\n       <use x=\"91.382812\" xlink:href=\"#DejaVuSans-69\"/>\r\n       <use x=\"119.166016\" xlink:href=\"#DejaVuSans-64\"/>\r\n       <use x=\"182.642578\" xlink:href=\"#DejaVuSans-61\"/>\r\n       <use x=\"243.921875\" xlink:href=\"#DejaVuSans-79\"/>\r\n      </g>\r\n     </g>\r\n    </g>\r\n    <g id=\"ytick_38\">\r\n     <g id=\"line2d_45\">\r\n      <g>\r\n       <use style=\"stroke:#000000;stroke-width:0.8;\" x=\"135.46875\" xlink:href=\"#m5585f9703f\" y=\"126.789085\"/>\r\n      </g>\r\n     </g>\r\n     <g id=\"text_46\">\r\n      <!-- Thursday -->\r\n      <g transform=\"translate(81.970313 130.588304)scale(0.1 -0.1)\">\r\n       <defs>\r\n        <path d=\"M 3513 2113 \r\nL 3513 0 \r\nL 2938 0 \r\nL 2938 2094 \r\nQ 2938 2591 2744 2837 \r\nQ 2550 3084 2163 3084 \r\nQ 1697 3084 1428 2787 \r\nQ 1159 2491 1159 1978 \r\nL 1159 0 \r\nL 581 0 \r\nL 581 4863 \r\nL 1159 4863 \r\nL 1159 2956 \r\nQ 1366 3272 1645 3428 \r\nQ 1925 3584 2291 3584 \r\nQ 2894 3584 3203 3211 \r\nQ 3513 2838 3513 2113 \r\nz\r\n\" id=\"DejaVuSans-68\" transform=\"scale(0.015625)\"/>\r\n       </defs>\r\n       <use xlink:href=\"#DejaVuSans-54\"/>\r\n       <use x=\"61.083984\" xlink:href=\"#DejaVuSans-68\"/>\r\n       <use x=\"124.462891\" xlink:href=\"#DejaVuSans-75\"/>\r\n       <use x=\"187.841797\" xlink:href=\"#DejaVuSans-72\"/>\r\n       <use x=\"228.955078\" xlink:href=\"#DejaVuSans-73\"/>\r\n       <use x=\"281.054688\" xlink:href=\"#DejaVuSans-64\"/>\r\n       <use x=\"344.53125\" xlink:href=\"#DejaVuSans-61\"/>\r\n       <use x=\"405.810547\" xlink:href=\"#DejaVuSans-79\"/>\r\n      </g>\r\n     </g>\r\n    </g>\r\n    <g id=\"ytick_39\">\r\n     <g id=\"line2d_46\">\r\n      <g>\r\n       <use style=\"stroke:#000000;stroke-width:0.8;\" x=\"135.46875\" xlink:href=\"#m5585f9703f\" y=\"112.93352\"/>\r\n      </g>\r\n     </g>\r\n     <g id=\"text_47\">\r\n      <!-- Monday -->\r\n      <g transform=\"translate(88.989062 116.732739)scale(0.1 -0.1)\">\r\n       <use xlink:href=\"#DejaVuSans-4d\"/>\r\n       <use x=\"86.279297\" xlink:href=\"#DejaVuSans-6f\"/>\r\n       <use x=\"147.460938\" xlink:href=\"#DejaVuSans-6e\"/>\r\n       <use x=\"210.839844\" xlink:href=\"#DejaVuSans-64\"/>\r\n       <use x=\"274.316406\" xlink:href=\"#DejaVuSans-61\"/>\r\n       <use x=\"335.595703\" xlink:href=\"#DejaVuSans-79\"/>\r\n      </g>\r\n     </g>\r\n    </g>\r\n    <g id=\"ytick_40\">\r\n     <g id=\"line2d_47\">\r\n      <g>\r\n       <use style=\"stroke:#000000;stroke-width:0.8;\" x=\"135.46875\" xlink:href=\"#m5585f9703f\" y=\"99.077955\"/>\r\n      </g>\r\n     </g>\r\n     <g id=\"text_48\">\r\n      <!-- SFO -->\r\n      <g transform=\"translate(108.496875 102.877174)scale(0.1 -0.1)\">\r\n       <use xlink:href=\"#DejaVuSans-53\"/>\r\n       <use x=\"63.476562\" xlink:href=\"#DejaVuSans-46\"/>\r\n       <use x=\"120.996094\" xlink:href=\"#DejaVuSans-4f\"/>\r\n      </g>\r\n     </g>\r\n    </g>\r\n    <g id=\"ytick_41\">\r\n     <g id=\"line2d_48\">\r\n      <g>\r\n       <use style=\"stroke:#000000;stroke-width:0.8;\" x=\"135.46875\" xlink:href=\"#m5585f9703f\" y=\"85.22239\"/>\r\n      </g>\r\n     </g>\r\n     <g id=\"text_49\">\r\n      <!-- OP_CARRIER_FL_NUM -->\r\n      <g transform=\"translate(20.878125 88.933328)scale(0.1 -0.1)\">\r\n       <defs>\r\n        <path d=\"M 3263 -1063 \r\nL 3263 -1509 \r\nL -63 -1509 \r\nL -63 -1063 \r\nL 3263 -1063 \r\nz\r\n\" id=\"DejaVuSans-5f\" transform=\"scale(0.015625)\"/>\r\n       </defs>\r\n       <use xlink:href=\"#DejaVuSans-4f\"/>\r\n       <use x=\"78.710938\" xlink:href=\"#DejaVuSans-50\"/>\r\n       <use x=\"139.013672\" xlink:href=\"#DejaVuSans-5f\"/>\r\n       <use x=\"189.013672\" xlink:href=\"#DejaVuSans-43\"/>\r\n       <use x=\"258.837891\" xlink:href=\"#DejaVuSans-41\"/>\r\n       <use x=\"327.246094\" xlink:href=\"#DejaVuSans-52\"/>\r\n       <use x=\"396.728516\" xlink:href=\"#DejaVuSans-52\"/>\r\n       <use x=\"466.210938\" xlink:href=\"#DejaVuSans-49\"/>\r\n       <use x=\"495.703125\" xlink:href=\"#DejaVuSans-45\"/>\r\n       <use x=\"558.886719\" xlink:href=\"#DejaVuSans-52\"/>\r\n       <use x=\"628.369141\" xlink:href=\"#DejaVuSans-5f\"/>\r\n       <use x=\"678.369141\" xlink:href=\"#DejaVuSans-46\"/>\r\n       <use x=\"735.888672\" xlink:href=\"#DejaVuSans-4c\"/>\r\n       <use x=\"791.601562\" xlink:href=\"#DejaVuSans-5f\"/>\r\n       <use x=\"841.601562\" xlink:href=\"#DejaVuSans-4e\"/>\r\n       <use x=\"916.40625\" xlink:href=\"#DejaVuSans-55\"/>\r\n       <use x=\"989.599609\" xlink:href=\"#DejaVuSans-4d\"/>\r\n      </g>\r\n     </g>\r\n    </g>\r\n    <g id=\"ytick_42\">\r\n     <g id=\"line2d_49\">\r\n      <g>\r\n       <use style=\"stroke:#000000;stroke-width:0.8;\" x=\"135.46875\" xlink:href=\"#m5585f9703f\" y=\"71.366825\"/>\r\n      </g>\r\n     </g>\r\n     <g id=\"text_50\">\r\n      <!-- CRS_DEP_hours -->\r\n      <g transform=\"translate(50.026562 75.166044)scale(0.1 -0.1)\">\r\n       <use xlink:href=\"#DejaVuSans-43\"/>\r\n       <use x=\"69.824219\" xlink:href=\"#DejaVuSans-52\"/>\r\n       <use x=\"139.306641\" xlink:href=\"#DejaVuSans-53\"/>\r\n       <use x=\"202.783203\" xlink:href=\"#DejaVuSans-5f\"/>\r\n       <use x=\"252.783203\" xlink:href=\"#DejaVuSans-44\"/>\r\n       <use x=\"329.785156\" xlink:href=\"#DejaVuSans-45\"/>\r\n       <use x=\"392.96875\" xlink:href=\"#DejaVuSans-50\"/>\r\n       <use x=\"453.271484\" xlink:href=\"#DejaVuSans-5f\"/>\r\n       <use x=\"503.271484\" xlink:href=\"#DejaVuSans-68\"/>\r\n       <use x=\"566.650391\" xlink:href=\"#DejaVuSans-6f\"/>\r\n       <use x=\"627.832031\" xlink:href=\"#DejaVuSans-75\"/>\r\n       <use x=\"691.210938\" xlink:href=\"#DejaVuSans-72\"/>\r\n       <use x=\"732.324219\" xlink:href=\"#DejaVuSans-73\"/>\r\n      </g>\r\n     </g>\r\n    </g>\r\n    <g id=\"ytick_43\">\r\n     <g id=\"line2d_50\">\r\n      <g>\r\n       <use style=\"stroke:#000000;stroke-width:0.8;\" x=\"135.46875\" xlink:href=\"#m5585f9703f\" y=\"57.51126\"/>\r\n      </g>\r\n     </g>\r\n     <g id=\"text_51\">\r\n      <!-- CRS_ARR_hours -->\r\n      <g transform=\"translate(49.3375 61.310479)scale(0.1 -0.1)\">\r\n       <use xlink:href=\"#DejaVuSans-43\"/>\r\n       <use x=\"69.824219\" xlink:href=\"#DejaVuSans-52\"/>\r\n       <use x=\"139.306641\" xlink:href=\"#DejaVuSans-53\"/>\r\n       <use x=\"202.783203\" xlink:href=\"#DejaVuSans-5f\"/>\r\n       <use x=\"252.783203\" xlink:href=\"#DejaVuSans-41\"/>\r\n       <use x=\"321.191406\" xlink:href=\"#DejaVuSans-52\"/>\r\n       <use x=\"390.673828\" xlink:href=\"#DejaVuSans-52\"/>\r\n       <use x=\"460.15625\" xlink:href=\"#DejaVuSans-5f\"/>\r\n       <use x=\"510.15625\" xlink:href=\"#DejaVuSans-68\"/>\r\n       <use x=\"573.535156\" xlink:href=\"#DejaVuSans-6f\"/>\r\n       <use x=\"634.716797\" xlink:href=\"#DejaVuSans-75\"/>\r\n       <use x=\"698.095703\" xlink:href=\"#DejaVuSans-72\"/>\r\n       <use x=\"739.208984\" xlink:href=\"#DejaVuSans-73\"/>\r\n      </g>\r\n     </g>\r\n    </g>\r\n    <g id=\"text_52\">\r\n     <!-- Feature Name -->\r\n     <g transform=\"translate(14.798437 383.708594)rotate(-90)scale(0.1 -0.1)\">\r\n      <use xlink:href=\"#DejaVuSans-46\"/>\r\n      <use x=\"52.019531\" xlink:href=\"#DejaVuSans-65\"/>\r\n      <use x=\"113.542969\" xlink:href=\"#DejaVuSans-61\"/>\r\n      <use x=\"174.822266\" xlink:href=\"#DejaVuSans-74\"/>\r\n      <use x=\"214.03125\" xlink:href=\"#DejaVuSans-75\"/>\r\n      <use x=\"277.410156\" xlink:href=\"#DejaVuSans-72\"/>\r\n      <use x=\"316.273438\" xlink:href=\"#DejaVuSans-65\"/>\r\n      <use x=\"377.796875\" xlink:href=\"#DejaVuSans-20\"/>\r\n      <use x=\"409.583984\" xlink:href=\"#DejaVuSans-4e\"/>\r\n      <use x=\"484.388672\" xlink:href=\"#DejaVuSans-61\"/>\r\n      <use x=\"545.667969\" xlink:href=\"#DejaVuSans-6d\"/>\r\n      <use x=\"643.080078\" xlink:href=\"#DejaVuSans-65\"/>\r\n     </g>\r\n    </g>\r\n   </g>\r\n   <g id=\"patch_46\">\r\n    <path d=\"M 135.46875 674.638125 \r\nL 135.46875 22.318125 \r\n\" style=\"fill:none;stroke:#000000;stroke-linecap:square;stroke-linejoin:miter;stroke-width:0.8;\"/>\r\n   </g>\r\n   <g id=\"patch_47\">\r\n    <path d=\"M 805.06875 674.638125 \r\nL 805.06875 22.318125 \r\n\" style=\"fill:none;stroke:#000000;stroke-linecap:square;stroke-linejoin:miter;stroke-width:0.8;\"/>\r\n   </g>\r\n   <g id=\"patch_48\">\r\n    <path d=\"M 135.46875 674.638125 \r\nL 805.06875 674.638125 \r\n\" style=\"fill:none;stroke:#000000;stroke-linecap:square;stroke-linejoin:miter;stroke-width:0.8;\"/>\r\n   </g>\r\n   <g id=\"patch_49\">\r\n    <path d=\"M 135.46875 22.318125 \r\nL 805.06875 22.318125 \r\n\" style=\"fill:none;stroke:#000000;stroke-linecap:square;stroke-linejoin:miter;stroke-width:0.8;\"/>\r\n   </g>\r\n   <g id=\"text_53\">\r\n    <!-- Random Forest Features -->\r\n    <g transform=\"translate(397.4175 16.318125)scale(0.12 -0.12)\">\r\n     <use xlink:href=\"#DejaVuSans-52\"/>\r\n     <use x=\"67.232422\" xlink:href=\"#DejaVuSans-61\"/>\r\n     <use x=\"128.511719\" xlink:href=\"#DejaVuSans-6e\"/>\r\n     <use x=\"191.890625\" xlink:href=\"#DejaVuSans-64\"/>\r\n     <use x=\"255.367188\" xlink:href=\"#DejaVuSans-6f\"/>\r\n     <use x=\"316.548828\" xlink:href=\"#DejaVuSans-6d\"/>\r\n     <use x=\"413.960938\" xlink:href=\"#DejaVuSans-20\"/>\r\n     <use x=\"445.748047\" xlink:href=\"#DejaVuSans-46\"/>\r\n     <use x=\"499.642578\" xlink:href=\"#DejaVuSans-6f\"/>\r\n     <use x=\"560.824219\" xlink:href=\"#DejaVuSans-72\"/>\r\n     <use x=\"599.6875\" xlink:href=\"#DejaVuSans-65\"/>\r\n     <use x=\"661.210938\" xlink:href=\"#DejaVuSans-73\"/>\r\n     <use x=\"713.310547\" xlink:href=\"#DejaVuSans-74\"/>\r\n     <use x=\"752.519531\" xlink:href=\"#DejaVuSans-20\"/>\r\n     <use x=\"784.306641\" xlink:href=\"#DejaVuSans-46\"/>\r\n     <use x=\"836.326172\" xlink:href=\"#DejaVuSans-65\"/>\r\n     <use x=\"897.849609\" xlink:href=\"#DejaVuSans-61\"/>\r\n     <use x=\"959.128906\" xlink:href=\"#DejaVuSans-74\"/>\r\n     <use x=\"998.337891\" xlink:href=\"#DejaVuSans-75\"/>\r\n     <use x=\"1061.716797\" xlink:href=\"#DejaVuSans-72\"/>\r\n     <use x=\"1100.580078\" xlink:href=\"#DejaVuSans-65\"/>\r\n     <use x=\"1162.103516\" xlink:href=\"#DejaVuSans-73\"/>\r\n    </g>\r\n   </g>\r\n  </g>\r\n </g>\r\n <defs>\r\n  <clipPath id=\"p96a32419c2\">\r\n   <rect height=\"652.32\" width=\"669.6\" x=\"135.46875\" y=\"22.318125\"/>\r\n  </clipPath>\r\n </defs>\r\n</svg>\r\n",
            "image/png": "[encoded data removed]"
          },
          "metadata": {
            "needs_background": "light"
          }
        }
      ],
      "metadata": {
        "colab": {
          "base_uri": "https://localhost:8080/",
          "height": 719
        },
        "id": "HzpKjz24esd1",
        "outputId": "6b93164b-2114-4afe-a45f-c59de962e8e3"
      }
    },
    {
      "cell_type": "markdown",
      "source": [
        "# Format 2018 data for prediction"
      ],
      "metadata": {
        "id": "PwIPsvwQesd1"
      }
    },
    {
      "cell_type": "code",
      "execution_count": 57,
      "source": [
        "# Import data\r\n",
        "# Read the CSV file from Github to Pandas Dataframe\r\n",
        "df_2018 = pd.read_csv('https://raw.githubusercontent.com/NicoleLund/flight_delay_prediction/main/data_manipulation_modeling/data_clean/2018_TUS.csv')\r\n",
        "df_2018.head(3)"
      ],
      "outputs": [
        {
          "output_type": "execute_result",
          "data": {
            "text/plain": [
              "                      origin_city_name                       dest_city_name  \\\n",
              "0  TUCSON, ARIZONA, USA                 ATLANTA, GEORGIA, USA                 \n",
              "1  TUCSON, ARIZONA, USA                 ATLANTA, GEORGIA, USA                 \n",
              "2  TUCSON, ARIZONA, USA                 ATLANTA, GEORGIA, USA                 \n",
              "\n",
              "      FL_DATE OP_CARRIER  OP_CARRIER_FL_NUM ORIGIN DEST  CRS_DEP_TIME  \\\n",
              "0  2018-01-01         DL               1240    TUS  ATL          1453   \n",
              "1  2018-01-01         DL               1345    TUS  ATL           710   \n",
              "2  2018-01-02         DL               1240    TUS  ATL          1453   \n",
              "\n",
              "   DEP_TIME  DEP_DELAY  ...  SECURITY_DELAY  LATE_AIRCRAFT_DELAY  CRS_DEP_HM  \\\n",
              "0    1600.0       67.0  ...             0.0                 55.0       14:53   \n",
              "1     705.0       -5.0  ...             NaN                  NaN       07:10   \n",
              "2    1446.0       -7.0  ...             NaN                  NaN       14:53   \n",
              "\n",
              "   DEP_TIME_HM  WHEELS_OFF_HM  WHEELS_ON_HM  CRS_ARR_TIME_HM  ARR_TIME_HM  \\\n",
              "0        16:00          16:27         21:18            20:29        21:24   \n",
              "1        07:05          07:15         12:10            12:39        12:14   \n",
              "2        14:46          15:03         19:54            20:29        20:04   \n",
              "\n",
              "  day_of_week  DELAY  \n",
              "0      Monday      1  \n",
              "1      Monday      0  \n",
              "2     Tuesday      0  \n",
              "\n",
              "[3 rows x 37 columns]"
            ],
            "text/html": [
              "<div>\n",
              "<style scoped>\n",
              "    .dataframe tbody tr th:only-of-type {\n",
              "        vertical-align: middle;\n",
              "    }\n",
              "\n",
              "    .dataframe tbody tr th {\n",
              "        vertical-align: top;\n",
              "    }\n",
              "\n",
              "    .dataframe thead th {\n",
              "        text-align: right;\n",
              "    }\n",
              "</style>\n",
              "<table border=\"1\" class=\"dataframe\">\n",
              "  <thead>\n",
              "    <tr style=\"text-align: right;\">\n",
              "      <th></th>\n",
              "      <th>origin_city_name</th>\n",
              "      <th>dest_city_name</th>\n",
              "      <th>FL_DATE</th>\n",
              "      <th>OP_CARRIER</th>\n",
              "      <th>OP_CARRIER_FL_NUM</th>\n",
              "      <th>ORIGIN</th>\n",
              "      <th>DEST</th>\n",
              "      <th>CRS_DEP_TIME</th>\n",
              "      <th>DEP_TIME</th>\n",
              "      <th>DEP_DELAY</th>\n",
              "      <th>...</th>\n",
              "      <th>SECURITY_DELAY</th>\n",
              "      <th>LATE_AIRCRAFT_DELAY</th>\n",
              "      <th>CRS_DEP_HM</th>\n",
              "      <th>DEP_TIME_HM</th>\n",
              "      <th>WHEELS_OFF_HM</th>\n",
              "      <th>WHEELS_ON_HM</th>\n",
              "      <th>CRS_ARR_TIME_HM</th>\n",
              "      <th>ARR_TIME_HM</th>\n",
              "      <th>day_of_week</th>\n",
              "      <th>DELAY</th>\n",
              "    </tr>\n",
              "  </thead>\n",
              "  <tbody>\n",
              "    <tr>\n",
              "      <th>0</th>\n",
              "      <td>TUCSON, ARIZONA, USA</td>\n",
              "      <td>ATLANTA, GEORGIA, USA</td>\n",
              "      <td>2018-01-01</td>\n",
              "      <td>DL</td>\n",
              "      <td>1240</td>\n",
              "      <td>TUS</td>\n",
              "      <td>ATL</td>\n",
              "      <td>1453</td>\n",
              "      <td>1600.0</td>\n",
              "      <td>67.0</td>\n",
              "      <td>...</td>\n",
              "      <td>0.0</td>\n",
              "      <td>55.0</td>\n",
              "      <td>14:53</td>\n",
              "      <td>16:00</td>\n",
              "      <td>16:27</td>\n",
              "      <td>21:18</td>\n",
              "      <td>20:29</td>\n",
              "      <td>21:24</td>\n",
              "      <td>Monday</td>\n",
              "      <td>1</td>\n",
              "    </tr>\n",
              "    <tr>\n",
              "      <th>1</th>\n",
              "      <td>TUCSON, ARIZONA, USA</td>\n",
              "      <td>ATLANTA, GEORGIA, USA</td>\n",
              "      <td>2018-01-01</td>\n",
              "      <td>DL</td>\n",
              "      <td>1345</td>\n",
              "      <td>TUS</td>\n",
              "      <td>ATL</td>\n",
              "      <td>710</td>\n",
              "      <td>705.0</td>\n",
              "      <td>-5.0</td>\n",
              "      <td>...</td>\n",
              "      <td>NaN</td>\n",
              "      <td>NaN</td>\n",
              "      <td>07:10</td>\n",
              "      <td>07:05</td>\n",
              "      <td>07:15</td>\n",
              "      <td>12:10</td>\n",
              "      <td>12:39</td>\n",
              "      <td>12:14</td>\n",
              "      <td>Monday</td>\n",
              "      <td>0</td>\n",
              "    </tr>\n",
              "    <tr>\n",
              "      <th>2</th>\n",
              "      <td>TUCSON, ARIZONA, USA</td>\n",
              "      <td>ATLANTA, GEORGIA, USA</td>\n",
              "      <td>2018-01-02</td>\n",
              "      <td>DL</td>\n",
              "      <td>1240</td>\n",
              "      <td>TUS</td>\n",
              "      <td>ATL</td>\n",
              "      <td>1453</td>\n",
              "      <td>1446.0</td>\n",
              "      <td>-7.0</td>\n",
              "      <td>...</td>\n",
              "      <td>NaN</td>\n",
              "      <td>NaN</td>\n",
              "      <td>14:53</td>\n",
              "      <td>14:46</td>\n",
              "      <td>15:03</td>\n",
              "      <td>19:54</td>\n",
              "      <td>20:29</td>\n",
              "      <td>20:04</td>\n",
              "      <td>Tuesday</td>\n",
              "      <td>0</td>\n",
              "    </tr>\n",
              "  </tbody>\n",
              "</table>\n",
              "<p>3 rows × 37 columns</p>\n",
              "</div>"
            ]
          },
          "metadata": {},
          "execution_count": 57
        }
      ],
      "metadata": {
        "colab": {
          "base_uri": "https://localhost:8080/",
          "height": 213
        },
        "id": "PepgmmVKesd1",
        "outputId": "d559446c-5887-4cd4-e7f4-4d9abd95f511"
      }
    },
    {
      "cell_type": "code",
      "execution_count": 58,
      "source": [
        "# Convert the time fields into decimal hour for 2018 Prediction\r\n",
        "df_2018['CRS_DEP_hours'] = time_conv(df_2018['CRS_DEP_TIME'])\r\n",
        "df_2018['CRS_ARR_hours'] = time_conv(df_2018['CRS_ARR_TIME'])"
      ],
      "outputs": [],
      "metadata": {
        "id": "WGQAc_Lxesd1"
      }
    },
    {
      "cell_type": "code",
      "execution_count": 59,
      "source": [
        "# Define Model input for 2018 Prediction\r\n",
        "X_categorical_2018_df = df_2018[['OP_CARRIER', 'day_of_week', 'DEST']]\r\n",
        "X_numeric_2018_df = df_2018[['OP_CARRIER_FL_NUM', 'CRS_DEP_hours', 'CRS_ARR_hours', 'DISTANCE']]\r\n",
        "X_numeric_2018_df.DISTANCE = X_numeric_2018_df.DISTANCE.astype(int)"
      ],
      "outputs": [
        {
          "output_type": "stream",
          "name": "stderr",
          "text": [
            "C:\\Users\\nlund\\anaconda3\\envs\\PythonDataV2\\lib\\site-packages\\pandas\\core\\generic.py:5507: SettingWithCopyWarning: \n",
            "A value is trying to be set on a copy of a slice from a DataFrame.\n",
            "Try using .loc[row_indexer,col_indexer] = value instead\n",
            "\n",
            "See the caveats in the documentation: https://pandas.pydata.org/pandas-docs/stable/user_guide/indexing.html#returning-a-view-versus-a-copy\n",
            "  self[name] = value\n"
          ]
        }
      ],
      "metadata": {
        "colab": {
          "base_uri": "https://localhost:8080/"
        },
        "id": "CLxjyyuiesd1",
        "outputId": "1ab53e17-3e29-4ef9-92d6-d35b84835d3c"
      }
    },
    {
      "cell_type": "code",
      "execution_count": 60,
      "source": [
        "# One-hot-encode categorical fields for 2018 Prediction\r\n",
        "X_encoded_2018 = encoder.transform(X_categorical_2018_df)\r\n",
        "X_encoded_2018.toarray()"
      ],
      "outputs": [
        {
          "output_type": "execute_result",
          "data": {
            "text/plain": [
              "array([[1., 0., 0., ..., 0., 0., 0.],\n",
              "       [1., 0., 0., ..., 0., 0., 0.],\n",
              "       [1., 0., 0., ..., 0., 0., 0.],\n",
              "       ...,\n",
              "       [0., 1., 0., ..., 0., 0., 0.],\n",
              "       [0., 1., 0., ..., 0., 0., 0.],\n",
              "       [0., 1., 0., ..., 0., 0., 0.]])"
            ]
          },
          "metadata": {},
          "execution_count": 60
        }
      ],
      "metadata": {
        "colab": {
          "base_uri": "https://localhost:8080/"
        },
        "id": "YzZH51IJesd2",
        "outputId": "81792bc3-dd18-4e86-a18d-9ef8a5dae5ba"
      }
    },
    {
      "cell_type": "code",
      "execution_count": 61,
      "source": [
        "# Create encoded DataFrame of Categorical Fields\r\n",
        "X_encoded_2018_df = pd.DataFrame(X_encoded_2018.toarray(), columns=column_names).astype(int)\r\n",
        "X_encoded_2018_df.tail(5)"
      ],
      "outputs": [
        {
          "output_type": "execute_result",
          "data": {
            "text/plain": [
              "       DL  OO  UA  WN  AA  EV  AS  YV  F9  G4  ...  PDX  PHX  SAN  SEA  SFO  \\\n",
              "18218   0   1   0   0   0   0   0   0   0   0  ...    0    0    0    0    0   \n",
              "18219   0   1   0   0   0   0   0   0   0   0  ...    0    0    0    0    0   \n",
              "18220   0   1   0   0   0   0   0   0   0   0  ...    0    0    0    0    0   \n",
              "18221   0   1   0   0   0   0   0   0   0   0  ...    0    0    0    0    0   \n",
              "18222   0   1   0   0   0   0   0   0   0   0  ...    0    0    0    0    0   \n",
              "\n",
              "       SJC  SLC  PVU  CLT  BLI  \n",
              "18218    0    1    0    0    0  \n",
              "18219    0    1    0    0    0  \n",
              "18220    0    1    0    0    0  \n",
              "18221    0    1    0    0    0  \n",
              "18222    0    1    0    0    0  \n",
              "\n",
              "[5 rows x 39 columns]"
            ],
            "text/html": [
              "<div>\n",
              "<style scoped>\n",
              "    .dataframe tbody tr th:only-of-type {\n",
              "        vertical-align: middle;\n",
              "    }\n",
              "\n",
              "    .dataframe tbody tr th {\n",
              "        vertical-align: top;\n",
              "    }\n",
              "\n",
              "    .dataframe thead th {\n",
              "        text-align: right;\n",
              "    }\n",
              "</style>\n",
              "<table border=\"1\" class=\"dataframe\">\n",
              "  <thead>\n",
              "    <tr style=\"text-align: right;\">\n",
              "      <th></th>\n",
              "      <th>DL</th>\n",
              "      <th>OO</th>\n",
              "      <th>UA</th>\n",
              "      <th>WN</th>\n",
              "      <th>AA</th>\n",
              "      <th>EV</th>\n",
              "      <th>AS</th>\n",
              "      <th>YV</th>\n",
              "      <th>F9</th>\n",
              "      <th>G4</th>\n",
              "      <th>...</th>\n",
              "      <th>PDX</th>\n",
              "      <th>PHX</th>\n",
              "      <th>SAN</th>\n",
              "      <th>SEA</th>\n",
              "      <th>SFO</th>\n",
              "      <th>SJC</th>\n",
              "      <th>SLC</th>\n",
              "      <th>PVU</th>\n",
              "      <th>CLT</th>\n",
              "      <th>BLI</th>\n",
              "    </tr>\n",
              "  </thead>\n",
              "  <tbody>\n",
              "    <tr>\n",
              "      <th>18218</th>\n",
              "      <td>0</td>\n",
              "      <td>1</td>\n",
              "      <td>0</td>\n",
              "      <td>0</td>\n",
              "      <td>0</td>\n",
              "      <td>0</td>\n",
              "      <td>0</td>\n",
              "      <td>0</td>\n",
              "      <td>0</td>\n",
              "      <td>0</td>\n",
              "      <td>...</td>\n",
              "      <td>0</td>\n",
              "      <td>0</td>\n",
              "      <td>0</td>\n",
              "      <td>0</td>\n",
              "      <td>0</td>\n",
              "      <td>0</td>\n",
              "      <td>1</td>\n",
              "      <td>0</td>\n",
              "      <td>0</td>\n",
              "      <td>0</td>\n",
              "    </tr>\n",
              "    <tr>\n",
              "      <th>18219</th>\n",
              "      <td>0</td>\n",
              "      <td>1</td>\n",
              "      <td>0</td>\n",
              "      <td>0</td>\n",
              "      <td>0</td>\n",
              "      <td>0</td>\n",
              "      <td>0</td>\n",
              "      <td>0</td>\n",
              "      <td>0</td>\n",
              "      <td>0</td>\n",
              "      <td>...</td>\n",
              "      <td>0</td>\n",
              "      <td>0</td>\n",
              "      <td>0</td>\n",
              "      <td>0</td>\n",
              "      <td>0</td>\n",
              "      <td>0</td>\n",
              "      <td>1</td>\n",
              "      <td>0</td>\n",
              "      <td>0</td>\n",
              "      <td>0</td>\n",
              "    </tr>\n",
              "    <tr>\n",
              "      <th>18220</th>\n",
              "      <td>0</td>\n",
              "      <td>1</td>\n",
              "      <td>0</td>\n",
              "      <td>0</td>\n",
              "      <td>0</td>\n",
              "      <td>0</td>\n",
              "      <td>0</td>\n",
              "      <td>0</td>\n",
              "      <td>0</td>\n",
              "      <td>0</td>\n",
              "      <td>...</td>\n",
              "      <td>0</td>\n",
              "      <td>0</td>\n",
              "      <td>0</td>\n",
              "      <td>0</td>\n",
              "      <td>0</td>\n",
              "      <td>0</td>\n",
              "      <td>1</td>\n",
              "      <td>0</td>\n",
              "      <td>0</td>\n",
              "      <td>0</td>\n",
              "    </tr>\n",
              "    <tr>\n",
              "      <th>18221</th>\n",
              "      <td>0</td>\n",
              "      <td>1</td>\n",
              "      <td>0</td>\n",
              "      <td>0</td>\n",
              "      <td>0</td>\n",
              "      <td>0</td>\n",
              "      <td>0</td>\n",
              "      <td>0</td>\n",
              "      <td>0</td>\n",
              "      <td>0</td>\n",
              "      <td>...</td>\n",
              "      <td>0</td>\n",
              "      <td>0</td>\n",
              "      <td>0</td>\n",
              "      <td>0</td>\n",
              "      <td>0</td>\n",
              "      <td>0</td>\n",
              "      <td>1</td>\n",
              "      <td>0</td>\n",
              "      <td>0</td>\n",
              "      <td>0</td>\n",
              "    </tr>\n",
              "    <tr>\n",
              "      <th>18222</th>\n",
              "      <td>0</td>\n",
              "      <td>1</td>\n",
              "      <td>0</td>\n",
              "      <td>0</td>\n",
              "      <td>0</td>\n",
              "      <td>0</td>\n",
              "      <td>0</td>\n",
              "      <td>0</td>\n",
              "      <td>0</td>\n",
              "      <td>0</td>\n",
              "      <td>...</td>\n",
              "      <td>0</td>\n",
              "      <td>0</td>\n",
              "      <td>0</td>\n",
              "      <td>0</td>\n",
              "      <td>0</td>\n",
              "      <td>0</td>\n",
              "      <td>1</td>\n",
              "      <td>0</td>\n",
              "      <td>0</td>\n",
              "      <td>0</td>\n",
              "    </tr>\n",
              "  </tbody>\n",
              "</table>\n",
              "<p>5 rows × 39 columns</p>\n",
              "</div>"
            ]
          },
          "metadata": {},
          "execution_count": 61
        }
      ],
      "metadata": {
        "colab": {
          "base_uri": "https://localhost:8080/",
          "height": 224
        },
        "id": "jdJp2chc9_fS",
        "outputId": "c1d659b2-aa1c-4ecd-9854-5751167181a8"
      }
    },
    {
      "cell_type": "code",
      "execution_count": 62,
      "source": [
        "# Join encoded data to X predicted\r\n",
        "X_2018_df = X_numeric_2018_df\r\n",
        "X_2018_df = X_2018_df.join(X_encoded_2018_df)\r\n",
        "X_2018_df.head(3)"
      ],
      "outputs": [
        {
          "output_type": "execute_result",
          "data": {
            "text/plain": [
              "   OP_CARRIER_FL_NUM  CRS_DEP_hours  CRS_ARR_hours  DISTANCE  DL  OO  UA  WN  \\\n",
              "0               1240      14.883333      20.483333      1541   1   0   0   0   \n",
              "1               1345       7.166667      12.650000      1541   1   0   0   0   \n",
              "2               1240      14.883333      20.483333      1541   1   0   0   0   \n",
              "\n",
              "   AA  EV  ...  PDX  PHX  SAN  SEA  SFO  SJC  SLC  PVU  CLT  BLI  \n",
              "0   0   0  ...    0    0    0    0    0    0    0    0    0    0  \n",
              "1   0   0  ...    0    0    0    0    0    0    0    0    0    0  \n",
              "2   0   0  ...    0    0    0    0    0    0    0    0    0    0  \n",
              "\n",
              "[3 rows x 43 columns]"
            ],
            "text/html": [
              "<div>\n",
              "<style scoped>\n",
              "    .dataframe tbody tr th:only-of-type {\n",
              "        vertical-align: middle;\n",
              "    }\n",
              "\n",
              "    .dataframe tbody tr th {\n",
              "        vertical-align: top;\n",
              "    }\n",
              "\n",
              "    .dataframe thead th {\n",
              "        text-align: right;\n",
              "    }\n",
              "</style>\n",
              "<table border=\"1\" class=\"dataframe\">\n",
              "  <thead>\n",
              "    <tr style=\"text-align: right;\">\n",
              "      <th></th>\n",
              "      <th>OP_CARRIER_FL_NUM</th>\n",
              "      <th>CRS_DEP_hours</th>\n",
              "      <th>CRS_ARR_hours</th>\n",
              "      <th>DISTANCE</th>\n",
              "      <th>DL</th>\n",
              "      <th>OO</th>\n",
              "      <th>UA</th>\n",
              "      <th>WN</th>\n",
              "      <th>AA</th>\n",
              "      <th>EV</th>\n",
              "      <th>...</th>\n",
              "      <th>PDX</th>\n",
              "      <th>PHX</th>\n",
              "      <th>SAN</th>\n",
              "      <th>SEA</th>\n",
              "      <th>SFO</th>\n",
              "      <th>SJC</th>\n",
              "      <th>SLC</th>\n",
              "      <th>PVU</th>\n",
              "      <th>CLT</th>\n",
              "      <th>BLI</th>\n",
              "    </tr>\n",
              "  </thead>\n",
              "  <tbody>\n",
              "    <tr>\n",
              "      <th>0</th>\n",
              "      <td>1240</td>\n",
              "      <td>14.883333</td>\n",
              "      <td>20.483333</td>\n",
              "      <td>1541</td>\n",
              "      <td>1</td>\n",
              "      <td>0</td>\n",
              "      <td>0</td>\n",
              "      <td>0</td>\n",
              "      <td>0</td>\n",
              "      <td>0</td>\n",
              "      <td>...</td>\n",
              "      <td>0</td>\n",
              "      <td>0</td>\n",
              "      <td>0</td>\n",
              "      <td>0</td>\n",
              "      <td>0</td>\n",
              "      <td>0</td>\n",
              "      <td>0</td>\n",
              "      <td>0</td>\n",
              "      <td>0</td>\n",
              "      <td>0</td>\n",
              "    </tr>\n",
              "    <tr>\n",
              "      <th>1</th>\n",
              "      <td>1345</td>\n",
              "      <td>7.166667</td>\n",
              "      <td>12.650000</td>\n",
              "      <td>1541</td>\n",
              "      <td>1</td>\n",
              "      <td>0</td>\n",
              "      <td>0</td>\n",
              "      <td>0</td>\n",
              "      <td>0</td>\n",
              "      <td>0</td>\n",
              "      <td>...</td>\n",
              "      <td>0</td>\n",
              "      <td>0</td>\n",
              "      <td>0</td>\n",
              "      <td>0</td>\n",
              "      <td>0</td>\n",
              "      <td>0</td>\n",
              "      <td>0</td>\n",
              "      <td>0</td>\n",
              "      <td>0</td>\n",
              "      <td>0</td>\n",
              "    </tr>\n",
              "    <tr>\n",
              "      <th>2</th>\n",
              "      <td>1240</td>\n",
              "      <td>14.883333</td>\n",
              "      <td>20.483333</td>\n",
              "      <td>1541</td>\n",
              "      <td>1</td>\n",
              "      <td>0</td>\n",
              "      <td>0</td>\n",
              "      <td>0</td>\n",
              "      <td>0</td>\n",
              "      <td>0</td>\n",
              "      <td>...</td>\n",
              "      <td>0</td>\n",
              "      <td>0</td>\n",
              "      <td>0</td>\n",
              "      <td>0</td>\n",
              "      <td>0</td>\n",
              "      <td>0</td>\n",
              "      <td>0</td>\n",
              "      <td>0</td>\n",
              "      <td>0</td>\n",
              "      <td>0</td>\n",
              "    </tr>\n",
              "  </tbody>\n",
              "</table>\n",
              "<p>3 rows × 43 columns</p>\n",
              "</div>"
            ]
          },
          "metadata": {},
          "execution_count": 62
        }
      ],
      "metadata": {
        "colab": {
          "base_uri": "https://localhost:8080/",
          "height": 162
        },
        "id": "EY9YqpeH-Eod",
        "outputId": "6aa3ca2e-0319-449b-bfb2-ab07fed63dcc"
      }
    },
    {
      "cell_type": "code",
      "execution_count": 63,
      "source": [
        "X_2018_df[X_2018_df.isna().any(axis=1)]"
      ],
      "outputs": [
        {
          "output_type": "execute_result",
          "data": {
            "text/plain": [
              "Empty DataFrame\n",
              "Columns: [OP_CARRIER_FL_NUM, CRS_DEP_hours, CRS_ARR_hours, DISTANCE, DL, OO, UA, WN, AA, EV, AS, YV, F9, G4, Sunday, Monday, Tuesday, Wednesday, Thursday, Friday, Saturday, ATL, DEN, DFW, HOU, IAH, JFK, LAS, LAX, MDW, MSP, OAK, ORD, PDX, PHX, SAN, SEA, SFO, SJC, SLC, PVU, CLT, BLI]\n",
              "Index: []\n",
              "\n",
              "[0 rows x 43 columns]"
            ],
            "text/html": [
              "<div>\n",
              "<style scoped>\n",
              "    .dataframe tbody tr th:only-of-type {\n",
              "        vertical-align: middle;\n",
              "    }\n",
              "\n",
              "    .dataframe tbody tr th {\n",
              "        vertical-align: top;\n",
              "    }\n",
              "\n",
              "    .dataframe thead th {\n",
              "        text-align: right;\n",
              "    }\n",
              "</style>\n",
              "<table border=\"1\" class=\"dataframe\">\n",
              "  <thead>\n",
              "    <tr style=\"text-align: right;\">\n",
              "      <th></th>\n",
              "      <th>OP_CARRIER_FL_NUM</th>\n",
              "      <th>CRS_DEP_hours</th>\n",
              "      <th>CRS_ARR_hours</th>\n",
              "      <th>DISTANCE</th>\n",
              "      <th>DL</th>\n",
              "      <th>OO</th>\n",
              "      <th>UA</th>\n",
              "      <th>WN</th>\n",
              "      <th>AA</th>\n",
              "      <th>EV</th>\n",
              "      <th>...</th>\n",
              "      <th>PDX</th>\n",
              "      <th>PHX</th>\n",
              "      <th>SAN</th>\n",
              "      <th>SEA</th>\n",
              "      <th>SFO</th>\n",
              "      <th>SJC</th>\n",
              "      <th>SLC</th>\n",
              "      <th>PVU</th>\n",
              "      <th>CLT</th>\n",
              "      <th>BLI</th>\n",
              "    </tr>\n",
              "  </thead>\n",
              "  <tbody>\n",
              "  </tbody>\n",
              "</table>\n",
              "<p>0 rows × 43 columns</p>\n",
              "</div>"
            ]
          },
          "metadata": {},
          "execution_count": 63
        }
      ],
      "metadata": {
        "colab": {
          "base_uri": "https://localhost:8080/",
          "height": 69
        },
        "id": "Yytz_BTK-S3V",
        "outputId": "a90b07e6-1f67-4b3e-9c23-0203b69a0635"
      }
    },
    {
      "cell_type": "code",
      "execution_count": 64,
      "source": [
        "# Verify resulting dataframe shapes\r\n",
        "print(X_numeric_2018_df.shape)\r\n",
        "print(X_encoded_2018_df.shape)\r\n",
        "print(X_2018_df.shape)"
      ],
      "outputs": [
        {
          "output_type": "stream",
          "name": "stdout",
          "text": [
            "(18223, 4)\n",
            "(18223, 39)\n",
            "(18223, 43)\n"
          ]
        }
      ],
      "metadata": {
        "colab": {
          "base_uri": "https://localhost:8080/"
        },
        "id": "XdcQNErQ-XNp",
        "outputId": "25af6dda-72ff-4af2-c7b2-fe00229d153d"
      }
    },
    {
      "cell_type": "code",
      "execution_count": 65,
      "source": [
        "# Scale the prediction data with MinMaxScaler\r\n",
        "X_2018_scaled = X_scaler.transform(X_2018_df)"
      ],
      "outputs": [],
      "metadata": {
        "id": "uCvNzWFb-hm8"
      }
    },
    {
      "cell_type": "markdown",
      "source": [
        "# Make Predictions"
      ],
      "metadata": {
        "id": "WPJ2Oykc-y0D"
      }
    },
    {
      "cell_type": "code",
      "execution_count": 66,
      "source": [
        "# Predictions\r\n",
        "predictions_2018 = best_model.predict(X_2018_scaled)\r\n",
        "predictions_2018"
      ],
      "outputs": [
        {
          "output_type": "execute_result",
          "data": {
            "text/plain": [
              "array([[0, 0, 0],\n",
              "       [0, 0, 0],\n",
              "       [0, 0, 0],\n",
              "       ...,\n",
              "       [0, 0, 0],\n",
              "       [0, 0, 0],\n",
              "       [0, 0, 0]], dtype=int64)"
            ]
          },
          "metadata": {},
          "execution_count": 66
        }
      ],
      "metadata": {
        "colab": {
          "base_uri": "https://localhost:8080/"
        },
        "id": "oMhtIX3b-1k9",
        "outputId": "7a3a7959-0bcc-45c7-ff79-8c6748d5b35a"
      }
    },
    {
      "cell_type": "code",
      "execution_count": 67,
      "source": [
        "# Verify array shapes\r\n",
        "print(predictions_2018.shape)\r\n",
        "print(df_2018.shape)"
      ],
      "outputs": [
        {
          "output_type": "stream",
          "name": "stdout",
          "text": [
            "(18223, 3)\n",
            "(18223, 39)\n"
          ]
        }
      ],
      "metadata": {
        "colab": {
          "base_uri": "https://localhost:8080/"
        },
        "id": "1LiOng-y_Beb",
        "outputId": "620b6c2f-8cf2-4bca-d31f-d17fb7b85f14"
      }
    },
    {
      "cell_type": "code",
      "execution_count": 68,
      "source": [
        "# Create DataFrame of predictions\r\n",
        "predictions_2018_df = pd.DataFrame({ \\\r\n",
        "            \"CANCELLED_PREDICT\": predictions_2018[:,0], \\\r\n",
        "            \"DIVERTED_PREDICT\": predictions_2018[:,1], \\\r\n",
        "            \"DELAY_PREDICT\": predictions_2018[:,2]})\r\n",
        "predictions_2018_df.head()"
      ],
      "outputs": [
        {
          "output_type": "execute_result",
          "data": {
            "text/plain": [
              "   CANCELLED_PREDICT  DIVERTED_PREDICT  DELAY_PREDICT\n",
              "0                  0                 0              0\n",
              "1                  0                 0              0\n",
              "2                  0                 0              0\n",
              "3                  0                 0              0\n",
              "4                  0                 0              0"
            ],
            "text/html": [
              "<div>\n",
              "<style scoped>\n",
              "    .dataframe tbody tr th:only-of-type {\n",
              "        vertical-align: middle;\n",
              "    }\n",
              "\n",
              "    .dataframe tbody tr th {\n",
              "        vertical-align: top;\n",
              "    }\n",
              "\n",
              "    .dataframe thead th {\n",
              "        text-align: right;\n",
              "    }\n",
              "</style>\n",
              "<table border=\"1\" class=\"dataframe\">\n",
              "  <thead>\n",
              "    <tr style=\"text-align: right;\">\n",
              "      <th></th>\n",
              "      <th>CANCELLED_PREDICT</th>\n",
              "      <th>DIVERTED_PREDICT</th>\n",
              "      <th>DELAY_PREDICT</th>\n",
              "    </tr>\n",
              "  </thead>\n",
              "  <tbody>\n",
              "    <tr>\n",
              "      <th>0</th>\n",
              "      <td>0</td>\n",
              "      <td>0</td>\n",
              "      <td>0</td>\n",
              "    </tr>\n",
              "    <tr>\n",
              "      <th>1</th>\n",
              "      <td>0</td>\n",
              "      <td>0</td>\n",
              "      <td>0</td>\n",
              "    </tr>\n",
              "    <tr>\n",
              "      <th>2</th>\n",
              "      <td>0</td>\n",
              "      <td>0</td>\n",
              "      <td>0</td>\n",
              "    </tr>\n",
              "    <tr>\n",
              "      <th>3</th>\n",
              "      <td>0</td>\n",
              "      <td>0</td>\n",
              "      <td>0</td>\n",
              "    </tr>\n",
              "    <tr>\n",
              "      <th>4</th>\n",
              "      <td>0</td>\n",
              "      <td>0</td>\n",
              "      <td>0</td>\n",
              "    </tr>\n",
              "  </tbody>\n",
              "</table>\n",
              "</div>"
            ]
          },
          "metadata": {},
          "execution_count": 68
        }
      ],
      "metadata": {
        "colab": {
          "base_uri": "https://localhost:8080/",
          "height": 204
        },
        "id": "ad-s-tldAKDh",
        "outputId": "8bafa462-04e5-4233-f764-c1895087899f"
      }
    },
    {
      "cell_type": "code",
      "execution_count": 69,
      "source": [
        "# Join predicted data to full file\r\n",
        "df_2018_predictions = df_2018\r\n",
        "df_2018_predictions = df_2018_predictions.join(predictions_2018_df)\r\n",
        "df_2018_predictions.head(3)"
      ],
      "outputs": [
        {
          "output_type": "execute_result",
          "data": {
            "text/plain": [
              "                      origin_city_name                       dest_city_name  \\\n",
              "0  TUCSON, ARIZONA, USA                 ATLANTA, GEORGIA, USA                 \n",
              "1  TUCSON, ARIZONA, USA                 ATLANTA, GEORGIA, USA                 \n",
              "2  TUCSON, ARIZONA, USA                 ATLANTA, GEORGIA, USA                 \n",
              "\n",
              "      FL_DATE OP_CARRIER  OP_CARRIER_FL_NUM ORIGIN DEST  CRS_DEP_TIME  \\\n",
              "0  2018-01-01         DL               1240    TUS  ATL          1453   \n",
              "1  2018-01-01         DL               1345    TUS  ATL           710   \n",
              "2  2018-01-02         DL               1240    TUS  ATL          1453   \n",
              "\n",
              "   DEP_TIME  DEP_DELAY  ...  WHEELS_ON_HM  CRS_ARR_TIME_HM  ARR_TIME_HM  \\\n",
              "0    1600.0       67.0  ...         21:18            20:29        21:24   \n",
              "1     705.0       -5.0  ...         12:10            12:39        12:14   \n",
              "2    1446.0       -7.0  ...         19:54            20:29        20:04   \n",
              "\n",
              "   day_of_week  DELAY  CRS_DEP_hours  CRS_ARR_hours  CANCELLED_PREDICT  \\\n",
              "0       Monday      1      14.883333      20.483333                  0   \n",
              "1       Monday      0       7.166667      12.650000                  0   \n",
              "2      Tuesday      0      14.883333      20.483333                  0   \n",
              "\n",
              "  DIVERTED_PREDICT  DELAY_PREDICT  \n",
              "0                0              0  \n",
              "1                0              0  \n",
              "2                0              0  \n",
              "\n",
              "[3 rows x 42 columns]"
            ],
            "text/html": [
              "<div>\n",
              "<style scoped>\n",
              "    .dataframe tbody tr th:only-of-type {\n",
              "        vertical-align: middle;\n",
              "    }\n",
              "\n",
              "    .dataframe tbody tr th {\n",
              "        vertical-align: top;\n",
              "    }\n",
              "\n",
              "    .dataframe thead th {\n",
              "        text-align: right;\n",
              "    }\n",
              "</style>\n",
              "<table border=\"1\" class=\"dataframe\">\n",
              "  <thead>\n",
              "    <tr style=\"text-align: right;\">\n",
              "      <th></th>\n",
              "      <th>origin_city_name</th>\n",
              "      <th>dest_city_name</th>\n",
              "      <th>FL_DATE</th>\n",
              "      <th>OP_CARRIER</th>\n",
              "      <th>OP_CARRIER_FL_NUM</th>\n",
              "      <th>ORIGIN</th>\n",
              "      <th>DEST</th>\n",
              "      <th>CRS_DEP_TIME</th>\n",
              "      <th>DEP_TIME</th>\n",
              "      <th>DEP_DELAY</th>\n",
              "      <th>...</th>\n",
              "      <th>WHEELS_ON_HM</th>\n",
              "      <th>CRS_ARR_TIME_HM</th>\n",
              "      <th>ARR_TIME_HM</th>\n",
              "      <th>day_of_week</th>\n",
              "      <th>DELAY</th>\n",
              "      <th>CRS_DEP_hours</th>\n",
              "      <th>CRS_ARR_hours</th>\n",
              "      <th>CANCELLED_PREDICT</th>\n",
              "      <th>DIVERTED_PREDICT</th>\n",
              "      <th>DELAY_PREDICT</th>\n",
              "    </tr>\n",
              "  </thead>\n",
              "  <tbody>\n",
              "    <tr>\n",
              "      <th>0</th>\n",
              "      <td>TUCSON, ARIZONA, USA</td>\n",
              "      <td>ATLANTA, GEORGIA, USA</td>\n",
              "      <td>2018-01-01</td>\n",
              "      <td>DL</td>\n",
              "      <td>1240</td>\n",
              "      <td>TUS</td>\n",
              "      <td>ATL</td>\n",
              "      <td>1453</td>\n",
              "      <td>1600.0</td>\n",
              "      <td>67.0</td>\n",
              "      <td>...</td>\n",
              "      <td>21:18</td>\n",
              "      <td>20:29</td>\n",
              "      <td>21:24</td>\n",
              "      <td>Monday</td>\n",
              "      <td>1</td>\n",
              "      <td>14.883333</td>\n",
              "      <td>20.483333</td>\n",
              "      <td>0</td>\n",
              "      <td>0</td>\n",
              "      <td>0</td>\n",
              "    </tr>\n",
              "    <tr>\n",
              "      <th>1</th>\n",
              "      <td>TUCSON, ARIZONA, USA</td>\n",
              "      <td>ATLANTA, GEORGIA, USA</td>\n",
              "      <td>2018-01-01</td>\n",
              "      <td>DL</td>\n",
              "      <td>1345</td>\n",
              "      <td>TUS</td>\n",
              "      <td>ATL</td>\n",
              "      <td>710</td>\n",
              "      <td>705.0</td>\n",
              "      <td>-5.0</td>\n",
              "      <td>...</td>\n",
              "      <td>12:10</td>\n",
              "      <td>12:39</td>\n",
              "      <td>12:14</td>\n",
              "      <td>Monday</td>\n",
              "      <td>0</td>\n",
              "      <td>7.166667</td>\n",
              "      <td>12.650000</td>\n",
              "      <td>0</td>\n",
              "      <td>0</td>\n",
              "      <td>0</td>\n",
              "    </tr>\n",
              "    <tr>\n",
              "      <th>2</th>\n",
              "      <td>TUCSON, ARIZONA, USA</td>\n",
              "      <td>ATLANTA, GEORGIA, USA</td>\n",
              "      <td>2018-01-02</td>\n",
              "      <td>DL</td>\n",
              "      <td>1240</td>\n",
              "      <td>TUS</td>\n",
              "      <td>ATL</td>\n",
              "      <td>1453</td>\n",
              "      <td>1446.0</td>\n",
              "      <td>-7.0</td>\n",
              "      <td>...</td>\n",
              "      <td>19:54</td>\n",
              "      <td>20:29</td>\n",
              "      <td>20:04</td>\n",
              "      <td>Tuesday</td>\n",
              "      <td>0</td>\n",
              "      <td>14.883333</td>\n",
              "      <td>20.483333</td>\n",
              "      <td>0</td>\n",
              "      <td>0</td>\n",
              "      <td>0</td>\n",
              "    </tr>\n",
              "  </tbody>\n",
              "</table>\n",
              "<p>3 rows × 42 columns</p>\n",
              "</div>"
            ]
          },
          "metadata": {},
          "execution_count": 69
        }
      ],
      "metadata": {
        "colab": {
          "base_uri": "https://localhost:8080/",
          "height": 213
        },
        "id": "n7fESjz9_aaq",
        "outputId": "e0e08f2b-fd2a-41bd-87bb-3103eade06b9"
      }
    },
    {
      "cell_type": "code",
      "execution_count": 70,
      "source": [
        "print(df_2018_predictions.shape)"
      ],
      "outputs": [
        {
          "output_type": "stream",
          "name": "stdout",
          "text": [
            "(18223, 42)\n"
          ]
        }
      ],
      "metadata": {
        "colab": {
          "base_uri": "https://localhost:8080/"
        },
        "id": "QtkAPYCHAtoD",
        "outputId": "3c23136f-0777-41c6-96e5-0bb2e61a174c"
      }
    },
    {
      "cell_type": "code",
      "execution_count": 71,
      "source": [
        "# Save output to csv\r\n",
        "df_2018_predictions.to_csv('2018_TUS_wPredictions_v1.csv', index = False)\r\n",
        "# files.download('2018_TUS_wPredictions_v1.csv')"
      ],
      "outputs": [],
      "metadata": {
        "colab": {
          "base_uri": "https://localhost:8080/",
          "height": 17
        },
        "id": "gCDp9aLVAw2k",
        "outputId": "3a416e87-5ba5-4021-9134-9ac3f5a6dfa0"
      }
    }
  ]
}