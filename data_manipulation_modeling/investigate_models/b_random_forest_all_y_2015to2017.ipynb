{
  "nbformat": 4,
  "nbformat_minor": 0,
  "metadata": {
    "kernel_info": {
      "name": "dev"
    },
    "kernelspec": {
      "name": "python3",
      "display_name": "Python 3.7.9 64-bit ('PythonDataV2': conda)"
    },
    "language_info": {
      "codemirror_mode": {
        "name": "ipython",
        "version": 3
      },
      "file_extension": ".py",
      "mimetype": "text/x-python",
      "name": "python",
      "nbconvert_exporter": "python",
      "pygments_lexer": "ipython3",
      "version": "3.7.9"
    },
    "nteract": {
      "version": "0.12.3"
    },
    "interpreter": {
      "hash": "7145387fd502c2a792381ef9ef58718f99f5f6cce2c67dc36e296264320f59ee"
    },
    "colab": {
      "name": "b_random_forest_all_y_2015to2017.ipynb",
      "provenance": [],
      "include_colab_link": true
    }
  },
  "cells": [
    {
      "cell_type": "markdown",
      "metadata": {
        "id": "view-in-github",
        "colab_type": "text"
      },
      "source": [
        "<a href=\"https://colab.research.google.com/github/NicoleLund/flight_delay_prediction/blob/model_prep_210819/data_manipulation_modeling/investigate_models/b_random_forest_all_y_2015to2017.ipynb\" target=\"_parent\"><img src=\"https://colab.research.google.com/assets/colab-badge.svg\" alt=\"Open In Colab\"/></a>"
      ]
    },
    {
      "cell_type": "markdown",
      "metadata": {
        "id": "VrN_jQ-Y-ZoN"
      },
      "source": [
        "# b_random_forest_all_y_2015to2017\n",
        "----\n",
        "\n",
        "Written in Google Colab\n",
        "\n",
        "By Nicole Lund \n",
        "\n",
        "This workbook builds a random forest model for 2017 flight performance."
      ]
    },
    {
      "cell_type": "code",
      "metadata": {
        "id": "qEuSZXoP-ZoQ"
      },
      "source": [
        "# Import Dependencies\n",
        "\n",
        "# Plotting\n",
        "%matplotlib inline\n",
        "import matplotlib.pyplot as plt\n",
        "\n",
        "# Data manipulation\n",
        "import numpy as np\n",
        "import pandas as pd\n",
        "from statistics import mean\n",
        "from operator import itemgetter\n",
        "from sklearn.model_selection import train_test_split\n",
        "from sklearn.preprocessing import LabelEncoder, MinMaxScaler\n",
        "from tensorflow.keras.utils import to_categorical\n",
        "\n",
        "# Parameter Selection\n",
        "from sklearn import tree\n",
        "from sklearn.ensemble import RandomForestClassifier\n",
        "from sklearn.model_selection import GridSearchCV\n",
        "\n",
        "# Model Development\n",
        "from sklearn.linear_model import LinearRegression\n",
        "from sklearn.linear_model import LogisticRegression\n",
        "from sklearn.svm import SVC \n",
        "from tensorflow import keras\n",
        "from tensorflow.keras.models import Sequential\n",
        "from tensorflow.keras.layers import Dense\n",
        "from tensorflow.keras.layers import Dropout\n",
        "from tensorflow.keras.wrappers.scikit_learn import KerasClassifier\n",
        "\n",
        "# Model Metrics\n",
        "from sklearn.metrics import classification_report\n",
        "\n",
        "# Save/load files\n",
        "from tensorflow.keras.models import load_model\n",
        "import joblib\n",
        "\n",
        "# # Ignore deprecation warnings\n",
        "# import warnings\n",
        "# warnings.simplefilter('ignore', FutureWarning)"
      ],
      "execution_count": 1,
      "outputs": []
    },
    {
      "cell_type": "code",
      "metadata": {
        "id": "6y1Qt9KM-ZoR"
      },
      "source": [
        "# Set the seed value for the notebook, so the results are reproducible\n",
        "from numpy.random import seed\n",
        "seed(1)"
      ],
      "execution_count": 2,
      "outputs": []
    },
    {
      "cell_type": "markdown",
      "metadata": {
        "id": "QJMIpNeT-ZoR"
      },
      "source": [
        "# Read in the csv model files"
      ]
    },
    {
      "cell_type": "code",
      "metadata": {
        "id": "uI4uJfPS-ZoS"
      },
      "source": [
        "# Read the CSV files from AWS to Pandas Dataframe\n",
        "X_train = pd.read_csv(\"https://flight-delay-prediction.s3.us-west-1.amazonaws.com/2015to2017_TUS_X_train.csv\")\n",
        "X_test = pd.read_csv(\"https://flight-delay-prediction.s3.us-west-1.amazonaws.com/2015to2017_TUS_X_test.csv\")\n",
        "y_train = pd.read_csv(\"https://flight-delay-prediction.s3.us-west-1.amazonaws.com/2015to2017_TUS_y_train.csv\")\n",
        "y_test = pd.read_csv(\"https://flight-delay-prediction.s3.us-west-1.amazonaws.com/2015to2017_TUS_y_test.csv\")"
      ],
      "execution_count": 3,
      "outputs": []
    },
    {
      "cell_type": "code",
      "metadata": {
        "colab": {
          "base_uri": "https://localhost:8080/",
          "height": 162
        },
        "id": "TwZMc8kO_R3N",
        "outputId": "be5f173e-feeb-4e33-c3f2-9f8894076d61"
      },
      "source": [
        "X_train.head(3)"
      ],
      "execution_count": 4,
      "outputs": [
        {
          "output_type": "execute_result",
          "data": {
            "text/html": [
              "<div>\n",
              "<style scoped>\n",
              "    .dataframe tbody tr th:only-of-type {\n",
              "        vertical-align: middle;\n",
              "    }\n",
              "\n",
              "    .dataframe tbody tr th {\n",
              "        vertical-align: top;\n",
              "    }\n",
              "\n",
              "    .dataframe thead th {\n",
              "        text-align: right;\n",
              "    }\n",
              "</style>\n",
              "<table border=\"1\" class=\"dataframe\">\n",
              "  <thead>\n",
              "    <tr style=\"text-align: right;\">\n",
              "      <th></th>\n",
              "      <th>OP_CARRIER_FL_NUM</th>\n",
              "      <th>CRS_DEP_TIME</th>\n",
              "      <th>CRS_ARR_TIME</th>\n",
              "      <th>DISTANCE</th>\n",
              "      <th>DL</th>\n",
              "      <th>OO</th>\n",
              "      <th>WN</th>\n",
              "      <th>EV</th>\n",
              "      <th>UA</th>\n",
              "      <th>AA</th>\n",
              "      <th>US</th>\n",
              "      <th>AS</th>\n",
              "      <th>Thursday</th>\n",
              "      <th>Friday</th>\n",
              "      <th>Saturday</th>\n",
              "      <th>Sunday</th>\n",
              "      <th>Monday</th>\n",
              "      <th>Tuesday</th>\n",
              "      <th>Wednesday</th>\n",
              "      <th>ATL</th>\n",
              "      <th>DEN</th>\n",
              "      <th>DFW</th>\n",
              "      <th>HOU</th>\n",
              "      <th>IAH</th>\n",
              "      <th>LAS</th>\n",
              "      <th>LAX</th>\n",
              "      <th>MDW</th>\n",
              "      <th>MSP</th>\n",
              "      <th>ORD</th>\n",
              "      <th>PDX</th>\n",
              "      <th>PHX</th>\n",
              "      <th>SAN</th>\n",
              "      <th>SEA</th>\n",
              "      <th>SFO</th>\n",
              "      <th>SLC</th>\n",
              "      <th>JFK</th>\n",
              "      <th>OAK</th>\n",
              "      <th>SJC</th>\n",
              "    </tr>\n",
              "  </thead>\n",
              "  <tbody>\n",
              "    <tr>\n",
              "      <th>0</th>\n",
              "      <td>4769</td>\n",
              "      <td>1114</td>\n",
              "      <td>1405</td>\n",
              "      <td>601</td>\n",
              "      <td>0.0</td>\n",
              "      <td>1.0</td>\n",
              "      <td>0.0</td>\n",
              "      <td>0.0</td>\n",
              "      <td>0.0</td>\n",
              "      <td>0.0</td>\n",
              "      <td>0.0</td>\n",
              "      <td>0.0</td>\n",
              "      <td>1.0</td>\n",
              "      <td>0.0</td>\n",
              "      <td>0.0</td>\n",
              "      <td>0.0</td>\n",
              "      <td>0.0</td>\n",
              "      <td>0.0</td>\n",
              "      <td>0.0</td>\n",
              "      <td>0.0</td>\n",
              "      <td>0.0</td>\n",
              "      <td>0.0</td>\n",
              "      <td>0.0</td>\n",
              "      <td>0.0</td>\n",
              "      <td>0.0</td>\n",
              "      <td>0.0</td>\n",
              "      <td>0.0</td>\n",
              "      <td>0.0</td>\n",
              "      <td>0.0</td>\n",
              "      <td>0.0</td>\n",
              "      <td>0.0</td>\n",
              "      <td>0.0</td>\n",
              "      <td>0.0</td>\n",
              "      <td>1.0</td>\n",
              "      <td>0.0</td>\n",
              "      <td>0.0</td>\n",
              "      <td>0.0</td>\n",
              "      <td>0.0</td>\n",
              "    </tr>\n",
              "    <tr>\n",
              "      <th>1</th>\n",
              "      <td>1973</td>\n",
              "      <td>1840</td>\n",
              "      <td>1955</td>\n",
              "      <td>365</td>\n",
              "      <td>0.0</td>\n",
              "      <td>0.0</td>\n",
              "      <td>1.0</td>\n",
              "      <td>0.0</td>\n",
              "      <td>0.0</td>\n",
              "      <td>0.0</td>\n",
              "      <td>0.0</td>\n",
              "      <td>0.0</td>\n",
              "      <td>1.0</td>\n",
              "      <td>0.0</td>\n",
              "      <td>0.0</td>\n",
              "      <td>0.0</td>\n",
              "      <td>0.0</td>\n",
              "      <td>0.0</td>\n",
              "      <td>0.0</td>\n",
              "      <td>0.0</td>\n",
              "      <td>0.0</td>\n",
              "      <td>0.0</td>\n",
              "      <td>0.0</td>\n",
              "      <td>0.0</td>\n",
              "      <td>1.0</td>\n",
              "      <td>0.0</td>\n",
              "      <td>0.0</td>\n",
              "      <td>0.0</td>\n",
              "      <td>0.0</td>\n",
              "      <td>0.0</td>\n",
              "      <td>0.0</td>\n",
              "      <td>0.0</td>\n",
              "      <td>0.0</td>\n",
              "      <td>0.0</td>\n",
              "      <td>0.0</td>\n",
              "      <td>0.0</td>\n",
              "      <td>0.0</td>\n",
              "      <td>0.0</td>\n",
              "    </tr>\n",
              "    <tr>\n",
              "      <th>2</th>\n",
              "      <td>1334</td>\n",
              "      <td>630</td>\n",
              "      <td>705</td>\n",
              "      <td>451</td>\n",
              "      <td>0.0</td>\n",
              "      <td>0.0</td>\n",
              "      <td>1.0</td>\n",
              "      <td>0.0</td>\n",
              "      <td>0.0</td>\n",
              "      <td>0.0</td>\n",
              "      <td>0.0</td>\n",
              "      <td>0.0</td>\n",
              "      <td>0.0</td>\n",
              "      <td>1.0</td>\n",
              "      <td>0.0</td>\n",
              "      <td>0.0</td>\n",
              "      <td>0.0</td>\n",
              "      <td>0.0</td>\n",
              "      <td>0.0</td>\n",
              "      <td>0.0</td>\n",
              "      <td>0.0</td>\n",
              "      <td>0.0</td>\n",
              "      <td>0.0</td>\n",
              "      <td>0.0</td>\n",
              "      <td>1.0</td>\n",
              "      <td>0.0</td>\n",
              "      <td>0.0</td>\n",
              "      <td>0.0</td>\n",
              "      <td>0.0</td>\n",
              "      <td>0.0</td>\n",
              "      <td>0.0</td>\n",
              "      <td>0.0</td>\n",
              "      <td>0.0</td>\n",
              "      <td>0.0</td>\n",
              "      <td>0.0</td>\n",
              "      <td>0.0</td>\n",
              "      <td>0.0</td>\n",
              "      <td>0.0</td>\n",
              "    </tr>\n",
              "  </tbody>\n",
              "</table>\n",
              "</div>"
            ],
            "text/plain": [
              "   OP_CARRIER_FL_NUM  CRS_DEP_TIME  CRS_ARR_TIME  DISTANCE  ...  SLC  JFK  OAK  SJC\n",
              "0               4769          1114          1405       601  ...  0.0  0.0  0.0  0.0\n",
              "1               1973          1840          1955       365  ...  0.0  0.0  0.0  0.0\n",
              "2               1334           630           705       451  ...  0.0  0.0  0.0  0.0\n",
              "\n",
              "[3 rows x 38 columns]"
            ]
          },
          "metadata": {},
          "execution_count": 4
        }
      ]
    },
    {
      "cell_type": "code",
      "metadata": {
        "colab": {
          "base_uri": "https://localhost:8080/",
          "height": 142
        },
        "id": "bQdjDWzE_UOf",
        "outputId": "3d35a0c4-946c-444b-ab76-423d303d029c"
      },
      "source": [
        "y_train.head(3)"
      ],
      "execution_count": 5,
      "outputs": [
        {
          "output_type": "execute_result",
          "data": {
            "text/html": [
              "<div>\n",
              "<style scoped>\n",
              "    .dataframe tbody tr th:only-of-type {\n",
              "        vertical-align: middle;\n",
              "    }\n",
              "\n",
              "    .dataframe tbody tr th {\n",
              "        vertical-align: top;\n",
              "    }\n",
              "\n",
              "    .dataframe thead th {\n",
              "        text-align: right;\n",
              "    }\n",
              "</style>\n",
              "<table border=\"1\" class=\"dataframe\">\n",
              "  <thead>\n",
              "    <tr style=\"text-align: right;\">\n",
              "      <th></th>\n",
              "      <th>CANCELLED</th>\n",
              "      <th>DIVERTED</th>\n",
              "      <th>DELAY</th>\n",
              "    </tr>\n",
              "  </thead>\n",
              "  <tbody>\n",
              "    <tr>\n",
              "      <th>0</th>\n",
              "      <td>0</td>\n",
              "      <td>0</td>\n",
              "      <td>0</td>\n",
              "    </tr>\n",
              "    <tr>\n",
              "      <th>1</th>\n",
              "      <td>0</td>\n",
              "      <td>0</td>\n",
              "      <td>0</td>\n",
              "    </tr>\n",
              "    <tr>\n",
              "      <th>2</th>\n",
              "      <td>0</td>\n",
              "      <td>0</td>\n",
              "      <td>0</td>\n",
              "    </tr>\n",
              "  </tbody>\n",
              "</table>\n",
              "</div>"
            ],
            "text/plain": [
              "   CANCELLED  DIVERTED  DELAY\n",
              "0          0         0      0\n",
              "1          0         0      0\n",
              "2          0         0      0"
            ]
          },
          "metadata": {},
          "execution_count": 5
        }
      ]
    },
    {
      "cell_type": "markdown",
      "metadata": {
        "id": "E3Sdva3S-ZoU"
      },
      "source": [
        "## Random Forest Classifier Method"
      ]
    },
    {
      "cell_type": "code",
      "metadata": {
        "id": "FtsgLo0P-ZoV"
      },
      "source": [
        "# Create model\n",
        "model = RandomForestClassifier(n_estimators=1000)\n",
        "model = model.fit(X_train, y_train)"
      ],
      "execution_count": 6,
      "outputs": []
    },
    {
      "cell_type": "code",
      "metadata": {
        "id": "bPEaK7j_-ZoV"
      },
      "source": [
        "# Sort the features by their importance\n",
        "tree_feature_sort = sorted(zip(X_train.columns,model.feature_importances_),key=itemgetter(1), reverse=True)\n",
        "# tree_feature_sort"
      ],
      "execution_count": 7,
      "outputs": []
    },
    {
      "cell_type": "code",
      "metadata": {
        "colab": {
          "base_uri": "https://localhost:8080/",
          "height": 730
        },
        "id": "YPwSrCru-ZoV",
        "outputId": "5c7b7a29-d4d3-44d6-9ebe-efc3c8e6c97e"
      },
      "source": [
        "# Plot Decision Tree Feature Importance\n",
        "fig = plt.figure(figsize=[12,12])\n",
        "plt.barh(*zip(* (tree_feature_sort)))\n",
        "plt.xlabel('Feature Importance')\n",
        "plt.ylabel('Feature Name')\n",
        "plt.title('Random Forest Assessment')\n",
        "plt.show()"
      ],
      "execution_count": 8,
      "outputs": [
        {
          "output_type": "display_data",
          "data": {
            "image/png": "[encoded data removed]",
            "text/plain": [
              "<Figure size 864x864 with 1 Axes>"
            ]
          },
          "metadata": {
            "needs_background": "light"
          }
        }
      ]
    },
    {
      "cell_type": "markdown",
      "metadata": {
        "id": "1QjsDsQ6_zkw"
      },
      "source": [
        "# Score Model"
      ]
    },
    {
      "cell_type": "code",
      "metadata": {
        "colab": {
          "base_uri": "https://localhost:8080/"
        },
        "id": "B9VseAiy_1Yn",
        "outputId": "4568811e-57cc-42e4-c2b0-522a58a4df85"
      },
      "source": [
        "print('Random Forest Score:')\n",
        "model.score(X_test, y_test)"
      ],
      "execution_count": 9,
      "outputs": [
        {
          "output_type": "stream",
          "text": [
            "Random Forest Score:\n"
          ],
          "name": "stdout"
        },
        {
          "output_type": "execute_result",
          "data": {
            "text/plain": [
              "0.8712437395659433"
            ]
          },
          "metadata": {},
          "execution_count": 9
        }
      ]
    },
    {
      "cell_type": "markdown",
      "metadata": {
        "id": "EEancxnY-ZoV"
      },
      "source": [
        "# Make **Predictions**"
      ]
    },
    {
      "cell_type": "code",
      "metadata": {
        "id": "QKvGmeVB-ZoV"
      },
      "source": [
        "predictions = model.predict(X_test)"
      ],
      "execution_count": 10,
      "outputs": []
    },
    {
      "cell_type": "code",
      "metadata": {
        "id": "TzqHn7l7Kv_e"
      },
      "source": [
        "results_cancelled = pd.DataFrame({ \\\n",
        "            \"CANCELLED\": y_test.CANCELLED,\"CANCELLED_PREDICT\": predictions[:,0]})\n",
        "results_diverted = pd.DataFrame({ \\\n",
        "            \"DIVERTED\": y_test.DIVERTED,\"DIVERTED_PREDICT\": predictions[:,1]})\n",
        "results_delayed = pd.DataFrame({ \\\n",
        "            \"DELAY\": y_test.DELAY, \"DELAY_PREDICT\": predictions[:,2]})"
      ],
      "execution_count": 11,
      "outputs": []
    },
    {
      "cell_type": "code",
      "metadata": {
        "colab": {
          "base_uri": "https://localhost:8080/",
          "height": 110
        },
        "id": "_8g85xYeKxzI",
        "outputId": "3be392de-8c5f-477a-c30c-8b5b588a0db8"
      },
      "source": [
        "cancel_summary = results_cancelled.apply(pd.value_counts)\n",
        "cancel_summary"
      ],
      "execution_count": 12,
      "outputs": [
        {
          "output_type": "execute_result",
          "data": {
            "text/html": [
              "<div>\n",
              "<style scoped>\n",
              "    .dataframe tbody tr th:only-of-type {\n",
              "        vertical-align: middle;\n",
              "    }\n",
              "\n",
              "    .dataframe tbody tr th {\n",
              "        vertical-align: top;\n",
              "    }\n",
              "\n",
              "    .dataframe thead th {\n",
              "        text-align: right;\n",
              "    }\n",
              "</style>\n",
              "<table border=\"1\" class=\"dataframe\">\n",
              "  <thead>\n",
              "    <tr style=\"text-align: right;\">\n",
              "      <th></th>\n",
              "      <th>CANCELLED</th>\n",
              "      <th>CANCELLED_PREDICT</th>\n",
              "    </tr>\n",
              "  </thead>\n",
              "  <tbody>\n",
              "    <tr>\n",
              "      <th>0</th>\n",
              "      <td>14245</td>\n",
              "      <td>14359</td>\n",
              "    </tr>\n",
              "    <tr>\n",
              "      <th>1</th>\n",
              "      <td>131</td>\n",
              "      <td>17</td>\n",
              "    </tr>\n",
              "  </tbody>\n",
              "</table>\n",
              "</div>"
            ],
            "text/plain": [
              "   CANCELLED  CANCELLED_PREDICT\n",
              "0      14245              14359\n",
              "1        131                 17"
            ]
          },
          "metadata": {},
          "execution_count": 12
        }
      ]
    },
    {
      "cell_type": "code",
      "metadata": {
        "colab": {
          "base_uri": "https://localhost:8080/"
        },
        "id": "ScemJHx1WkTC",
        "outputId": "6f37ae3a-c596-46fb-c7bd-4c5966de15a1"
      },
      "source": [
        "print(classification_report(y_test.CANCELLED, predictions[:,0]))"
      ],
      "execution_count": 13,
      "outputs": [
        {
          "output_type": "stream",
          "text": [
            "              precision    recall  f1-score   support\n",
            "\n",
            "           0       0.99      1.00      0.99     14245\n",
            "           1       0.06      0.01      0.01       131\n",
            "\n",
            "    accuracy                           0.99     14376\n",
            "   macro avg       0.52      0.50      0.50     14376\n",
            "weighted avg       0.98      0.99      0.99     14376\n",
            "\n"
          ],
          "name": "stdout"
        }
      ]
    },
    {
      "cell_type": "code",
      "metadata": {
        "colab": {
          "base_uri": "https://localhost:8080/",
          "height": 110
        },
        "id": "esRIVDTFK7i7",
        "outputId": "6ae5b702-1b16-4a77-8564-910a745cd7d1"
      },
      "source": [
        "diverted_summary = results_diverted.apply(pd.value_counts)\n",
        "diverted_summary"
      ],
      "execution_count": 14,
      "outputs": [
        {
          "output_type": "execute_result",
          "data": {
            "text/html": [
              "<div>\n",
              "<style scoped>\n",
              "    .dataframe tbody tr th:only-of-type {\n",
              "        vertical-align: middle;\n",
              "    }\n",
              "\n",
              "    .dataframe tbody tr th {\n",
              "        vertical-align: top;\n",
              "    }\n",
              "\n",
              "    .dataframe thead th {\n",
              "        text-align: right;\n",
              "    }\n",
              "</style>\n",
              "<table border=\"1\" class=\"dataframe\">\n",
              "  <thead>\n",
              "    <tr style=\"text-align: right;\">\n",
              "      <th></th>\n",
              "      <th>DIVERTED</th>\n",
              "      <th>DIVERTED_PREDICT</th>\n",
              "    </tr>\n",
              "  </thead>\n",
              "  <tbody>\n",
              "    <tr>\n",
              "      <th>0</th>\n",
              "      <td>14342</td>\n",
              "      <td>14354</td>\n",
              "    </tr>\n",
              "    <tr>\n",
              "      <th>1</th>\n",
              "      <td>34</td>\n",
              "      <td>22</td>\n",
              "    </tr>\n",
              "  </tbody>\n",
              "</table>\n",
              "</div>"
            ],
            "text/plain": [
              "   DIVERTED  DIVERTED_PREDICT\n",
              "0     14342             14354\n",
              "1        34                22"
            ]
          },
          "metadata": {},
          "execution_count": 14
        }
      ]
    },
    {
      "cell_type": "code",
      "metadata": {
        "colab": {
          "base_uri": "https://localhost:8080/"
        },
        "id": "mBLuLYUWWvmv",
        "outputId": "6d5d7a92-cbbd-4f45-c2bc-d16286e41e4a"
      },
      "source": [
        "print(classification_report(y_test.DIVERTED, predictions[:,1]))"
      ],
      "execution_count": 15,
      "outputs": [
        {
          "output_type": "stream",
          "text": [
            "              precision    recall  f1-score   support\n",
            "\n",
            "           0       1.00      1.00      1.00     14342\n",
            "           1       0.00      0.00      0.00        34\n",
            "\n",
            "    accuracy                           1.00     14376\n",
            "   macro avg       0.50      0.50      0.50     14376\n",
            "weighted avg       1.00      1.00      1.00     14376\n",
            "\n"
          ],
          "name": "stdout"
        }
      ]
    },
    {
      "cell_type": "code",
      "metadata": {
        "colab": {
          "base_uri": "https://localhost:8080/",
          "height": 110
        },
        "id": "vykCQImCK_pj",
        "outputId": "4f063100-6cee-448b-e52f-49eeb54699a5"
      },
      "source": [
        "delay_summary = results_delayed.apply(pd.value_counts)\n",
        "delay_summary"
      ],
      "execution_count": 16,
      "outputs": [
        {
          "output_type": "execute_result",
          "data": {
            "text/html": [
              "<div>\n",
              "<style scoped>\n",
              "    .dataframe tbody tr th:only-of-type {\n",
              "        vertical-align: middle;\n",
              "    }\n",
              "\n",
              "    .dataframe tbody tr th {\n",
              "        vertical-align: top;\n",
              "    }\n",
              "\n",
              "    .dataframe thead th {\n",
              "        text-align: right;\n",
              "    }\n",
              "</style>\n",
              "<table border=\"1\" class=\"dataframe\">\n",
              "  <thead>\n",
              "    <tr style=\"text-align: right;\">\n",
              "      <th></th>\n",
              "      <th>DELAY</th>\n",
              "      <th>DELAY_PREDICT</th>\n",
              "    </tr>\n",
              "  </thead>\n",
              "  <tbody>\n",
              "    <tr>\n",
              "      <th>0</th>\n",
              "      <td>12870</td>\n",
              "      <td>13902</td>\n",
              "    </tr>\n",
              "    <tr>\n",
              "      <th>1</th>\n",
              "      <td>1506</td>\n",
              "      <td>474</td>\n",
              "    </tr>\n",
              "  </tbody>\n",
              "</table>\n",
              "</div>"
            ],
            "text/plain": [
              "   DELAY  DELAY_PREDICT\n",
              "0  12870          13902\n",
              "1   1506            474"
            ]
          },
          "metadata": {},
          "execution_count": 16
        }
      ]
    },
    {
      "cell_type": "code",
      "metadata": {
        "colab": {
          "base_uri": "https://localhost:8080/"
        },
        "id": "6MWRY_GbWHqj",
        "outputId": "da6b6d4d-23d9-4ce4-b2fd-11b11298f4d2"
      },
      "source": [
        "print(classification_report(y_test.DELAY, predictions[:,2]))"
      ],
      "execution_count": 17,
      "outputs": [
        {
          "output_type": "stream",
          "text": [
            "              precision    recall  f1-score   support\n",
            "\n",
            "           0       0.90      0.97      0.93     12870\n",
            "           1       0.16      0.05      0.07      1506\n",
            "\n",
            "    accuracy                           0.87     14376\n",
            "   macro avg       0.53      0.51      0.50     14376\n",
            "weighted avg       0.82      0.87      0.84     14376\n",
            "\n"
          ],
          "name": "stdout"
        }
      ]
    }
  ]
}