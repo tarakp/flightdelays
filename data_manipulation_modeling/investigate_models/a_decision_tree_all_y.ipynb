{
  "nbformat": 4,
  "nbformat_minor": 0,
  "metadata": {
    "kernel_info": {
      "name": "dev"
    },
    "kernelspec": {
      "name": "python3",
      "display_name": "Python 3.7.9 64-bit ('PythonDataV2': conda)"
    },
    "language_info": {
      "codemirror_mode": {
        "name": "ipython",
        "version": 3
      },
      "file_extension": ".py",
      "mimetype": "text/x-python",
      "name": "python",
      "nbconvert_exporter": "python",
      "pygments_lexer": "ipython3",
      "version": "3.7.9"
    },
    "nteract": {
      "version": "0.12.3"
    },
    "interpreter": {
      "hash": "7145387fd502c2a792381ef9ef58718f99f5f6cce2c67dc36e296264320f59ee"
    },
    "colab": {
      "name": "a_decision_tree_all_y.ipynb",
      "provenance": [],
      "include_colab_link": true
    }
  },
  "cells": [
    {
      "cell_type": "markdown",
      "metadata": {
        "id": "view-in-github",
        "colab_type": "text"
      },
      "source": [
        "<a href=\"https://colab.research.google.com/github/NicoleLund/flight_delay_prediction/blob/model_prep_210819/data_manipulation_modeling/investigate_models/a_decision_tree_all_y.ipynb\" target=\"_parent\"><img src=\"https://colab.research.google.com/assets/colab-badge.svg\" alt=\"Open In Colab\"/></a>"
      ]
    },
    {
      "cell_type": "markdown",
      "metadata": {
        "id": "VrN_jQ-Y-ZoN"
      },
      "source": [
        "# a_decision_tree_all_y\n",
        "----\n",
        "\n",
        "Written in Google Colab\n",
        "\n",
        "By Nicole Lund \n",
        "\n",
        "This workbook builds a decision tree model for 2017 flight performance."
      ]
    },
    {
      "cell_type": "code",
      "metadata": {
        "id": "qEuSZXoP-ZoQ"
      },
      "source": [
        "# Import Dependencies\n",
        "\n",
        "# Plotting\n",
        "%matplotlib inline\n",
        "import matplotlib.pyplot as plt\n",
        "\n",
        "# Data manipulation\n",
        "import numpy as np\n",
        "import pandas as pd\n",
        "from statistics import mean\n",
        "from operator import itemgetter\n",
        "from sklearn.model_selection import train_test_split\n",
        "from sklearn.preprocessing import LabelEncoder, MinMaxScaler\n",
        "from tensorflow.keras.utils import to_categorical\n",
        "\n",
        "# Parameter Selection\n",
        "from sklearn import tree\n",
        "from sklearn.ensemble import RandomForestClassifier\n",
        "from sklearn.model_selection import GridSearchCV\n",
        "\n",
        "# Model Development\n",
        "from sklearn.linear_model import LinearRegression\n",
        "from sklearn.linear_model import LogisticRegression\n",
        "from sklearn.svm import SVC \n",
        "from tensorflow import keras\n",
        "from tensorflow.keras.models import Sequential\n",
        "from tensorflow.keras.layers import Dense\n",
        "from tensorflow.keras.layers import Dropout\n",
        "from tensorflow.keras.wrappers.scikit_learn import KerasClassifier\n",
        "\n",
        "# Model Metrics\n",
        "from sklearn.metrics import classification_report\n",
        "\n",
        "# Save/load files\n",
        "from tensorflow.keras.models import load_model\n",
        "import joblib\n",
        "\n",
        "# # Ignore deprecation warnings\n",
        "# import warnings\n",
        "# warnings.simplefilter('ignore', FutureWarning)"
      ],
      "execution_count": 1,
      "outputs": []
    },
    {
      "cell_type": "code",
      "metadata": {
        "id": "6y1Qt9KM-ZoR"
      },
      "source": [
        "# Set the seed value for the notebook, so the results are reproducible\n",
        "from numpy.random import seed\n",
        "seed(1)"
      ],
      "execution_count": 2,
      "outputs": []
    },
    {
      "cell_type": "markdown",
      "metadata": {
        "id": "QJMIpNeT-ZoR"
      },
      "source": [
        "# Read in the csv model files"
      ]
    },
    {
      "cell_type": "code",
      "metadata": {
        "id": "uI4uJfPS-ZoS"
      },
      "source": [
        "# Read the CSV files from AWS to Pandas Dataframe\n",
        "X_train = pd.read_csv(\"https://flight-delay-prediction.s3.us-west-1.amazonaws.com/2017_TUS_X_train.csv\")\n",
        "X_test = pd.read_csv(\"https://flight-delay-prediction.s3.us-west-1.amazonaws.com/2017_TUS_X_test.csv\")\n",
        "y_train = pd.read_csv(\"https://flight-delay-prediction.s3.us-west-1.amazonaws.com/2017_TUS_y_train.csv\")\n",
        "y_test = pd.read_csv(\"https://flight-delay-prediction.s3.us-west-1.amazonaws.com/2017_TUS_y_test.csv\")"
      ],
      "execution_count": 3,
      "outputs": []
    },
    {
      "cell_type": "code",
      "metadata": {
        "colab": {
          "base_uri": "https://localhost:8080/"
        },
        "id": "W7gbTwEoRFF0",
        "outputId": "1731b13d-6ddd-4edb-da95-5d55f8d2c27c"
      },
      "source": [
        "X_train.columns"
      ],
      "execution_count": 47,
      "outputs": [
        {
          "output_type": "execute_result",
          "data": {
            "text/plain": [
              "Index(['OP_CARRIER_FL_NUM', 'CRS_DEP_TIME', 'CRS_ARR_TIME', 'DISTANCE', 'DL',\n",
              "       'OO', 'UA', 'WN', 'AA', 'EV', 'AS', 'Sunday', 'Monday', 'Tuesday',\n",
              "       'Wednesday', 'Thursday', 'Friday', 'Saturday', 'ATL', 'DEN', 'DFW',\n",
              "       'HOU', 'IAH', 'JFK', 'LAS', 'LAX', 'MDW', 'MSP', 'OAK', 'ORD', 'PDX',\n",
              "       'PHX', 'SAN', 'SEA', 'SFO', 'SJC', 'SLC'],\n",
              "      dtype='object')"
            ]
          },
          "metadata": {},
          "execution_count": 47
        }
      ]
    },
    {
      "cell_type": "code",
      "metadata": {
        "id": "usWFL-q1Q86A"
      },
      "source": [
        "X_train = X_train[['OP_CARRIER_FL_NUM', 'CRS_DEP_TIME', 'CRS_ARR_TIME', 'DISTANCE', 'DL',\n",
        "       'OO', 'UA', 'WN', 'AA', 'EV', 'AS', 'Sunday', 'Monday', 'Tuesday',\n",
        "       'Wednesday', 'Thursday', 'Friday', 'Saturday']]"
      ],
      "execution_count": 48,
      "outputs": []
    },
    {
      "cell_type": "code",
      "metadata": {
        "id": "3CIDpS0uRPYj"
      },
      "source": [
        "X_test = X_test[['OP_CARRIER_FL_NUM', 'CRS_DEP_TIME', 'CRS_ARR_TIME', 'DISTANCE', 'DL',\n",
        "       'OO', 'UA', 'WN', 'AA', 'EV', 'AS', 'Sunday', 'Monday', 'Tuesday',\n",
        "       'Wednesday', 'Thursday', 'Friday', 'Saturday']]"
      ],
      "execution_count": null,
      "outputs": []
    },
    {
      "cell_type": "code",
      "metadata": {
        "colab": {
          "base_uri": "https://localhost:8080/",
          "height": 142
        },
        "id": "TwZMc8kO_R3N",
        "outputId": "05fd93db-1fc3-4e60-ff8d-4017f7bc1d9f"
      },
      "source": [
        "X_train.head(3)"
      ],
      "execution_count": 49,
      "outputs": [
        {
          "output_type": "execute_result",
          "data": {
            "text/html": [
              "<div>\n",
              "<style scoped>\n",
              "    .dataframe tbody tr th:only-of-type {\n",
              "        vertical-align: middle;\n",
              "    }\n",
              "\n",
              "    .dataframe tbody tr th {\n",
              "        vertical-align: top;\n",
              "    }\n",
              "\n",
              "    .dataframe thead th {\n",
              "        text-align: right;\n",
              "    }\n",
              "</style>\n",
              "<table border=\"1\" class=\"dataframe\">\n",
              "  <thead>\n",
              "    <tr style=\"text-align: right;\">\n",
              "      <th></th>\n",
              "      <th>OP_CARRIER_FL_NUM</th>\n",
              "      <th>CRS_DEP_TIME</th>\n",
              "      <th>CRS_ARR_TIME</th>\n",
              "      <th>DISTANCE</th>\n",
              "      <th>DL</th>\n",
              "      <th>OO</th>\n",
              "      <th>UA</th>\n",
              "      <th>WN</th>\n",
              "      <th>AA</th>\n",
              "      <th>EV</th>\n",
              "      <th>AS</th>\n",
              "      <th>Sunday</th>\n",
              "      <th>Monday</th>\n",
              "      <th>Tuesday</th>\n",
              "      <th>Wednesday</th>\n",
              "      <th>Thursday</th>\n",
              "      <th>Friday</th>\n",
              "      <th>Saturday</th>\n",
              "    </tr>\n",
              "  </thead>\n",
              "  <tbody>\n",
              "    <tr>\n",
              "      <th>0</th>\n",
              "      <td>5538</td>\n",
              "      <td>1120</td>\n",
              "      <td>1647</td>\n",
              "      <td>1437</td>\n",
              "      <td>0.0</td>\n",
              "      <td>1.0</td>\n",
              "      <td>0.0</td>\n",
              "      <td>0.0</td>\n",
              "      <td>0.0</td>\n",
              "      <td>0.0</td>\n",
              "      <td>0.0</td>\n",
              "      <td>0.0</td>\n",
              "      <td>1.0</td>\n",
              "      <td>0.0</td>\n",
              "      <td>0.0</td>\n",
              "      <td>0.0</td>\n",
              "      <td>0.0</td>\n",
              "      <td>0.0</td>\n",
              "    </tr>\n",
              "    <tr>\n",
              "      <th>1</th>\n",
              "      <td>5538</td>\n",
              "      <td>1219</td>\n",
              "      <td>1650</td>\n",
              "      <td>1437</td>\n",
              "      <td>0.0</td>\n",
              "      <td>1.0</td>\n",
              "      <td>0.0</td>\n",
              "      <td>0.0</td>\n",
              "      <td>0.0</td>\n",
              "      <td>0.0</td>\n",
              "      <td>0.0</td>\n",
              "      <td>0.0</td>\n",
              "      <td>0.0</td>\n",
              "      <td>0.0</td>\n",
              "      <td>0.0</td>\n",
              "      <td>1.0</td>\n",
              "      <td>0.0</td>\n",
              "      <td>0.0</td>\n",
              "    </tr>\n",
              "    <tr>\n",
              "      <th>2</th>\n",
              "      <td>2068</td>\n",
              "      <td>1625</td>\n",
              "      <td>2040</td>\n",
              "      <td>1440</td>\n",
              "      <td>0.0</td>\n",
              "      <td>0.0</td>\n",
              "      <td>0.0</td>\n",
              "      <td>1.0</td>\n",
              "      <td>0.0</td>\n",
              "      <td>0.0</td>\n",
              "      <td>0.0</td>\n",
              "      <td>0.0</td>\n",
              "      <td>0.0</td>\n",
              "      <td>0.0</td>\n",
              "      <td>0.0</td>\n",
              "      <td>0.0</td>\n",
              "      <td>1.0</td>\n",
              "      <td>0.0</td>\n",
              "    </tr>\n",
              "  </tbody>\n",
              "</table>\n",
              "</div>"
            ],
            "text/plain": [
              "   OP_CARRIER_FL_NUM  CRS_DEP_TIME  CRS_ARR_TIME  ...  Thursday  Friday  Saturday\n",
              "0               5538          1120          1647  ...       0.0     0.0       0.0\n",
              "1               5538          1219          1650  ...       1.0     0.0       0.0\n",
              "2               2068          1625          2040  ...       0.0     1.0       0.0\n",
              "\n",
              "[3 rows x 18 columns]"
            ]
          },
          "metadata": {},
          "execution_count": 49
        }
      ]
    },
    {
      "cell_type": "code",
      "metadata": {
        "colab": {
          "base_uri": "https://localhost:8080/",
          "height": 142
        },
        "id": "bQdjDWzE_UOf",
        "outputId": "c47a7bdb-58a3-4bd5-be1e-ee9977d88140"
      },
      "source": [
        "y_train.head(3)"
      ],
      "execution_count": 5,
      "outputs": [
        {
          "output_type": "execute_result",
          "data": {
            "text/html": [
              "<div>\n",
              "<style scoped>\n",
              "    .dataframe tbody tr th:only-of-type {\n",
              "        vertical-align: middle;\n",
              "    }\n",
              "\n",
              "    .dataframe tbody tr th {\n",
              "        vertical-align: top;\n",
              "    }\n",
              "\n",
              "    .dataframe thead th {\n",
              "        text-align: right;\n",
              "    }\n",
              "</style>\n",
              "<table border=\"1\" class=\"dataframe\">\n",
              "  <thead>\n",
              "    <tr style=\"text-align: right;\">\n",
              "      <th></th>\n",
              "      <th>CANCELLED</th>\n",
              "      <th>DIVERTED</th>\n",
              "      <th>DELAY</th>\n",
              "    </tr>\n",
              "  </thead>\n",
              "  <tbody>\n",
              "    <tr>\n",
              "      <th>0</th>\n",
              "      <td>0</td>\n",
              "      <td>0</td>\n",
              "      <td>0</td>\n",
              "    </tr>\n",
              "    <tr>\n",
              "      <th>1</th>\n",
              "      <td>0</td>\n",
              "      <td>0</td>\n",
              "      <td>0</td>\n",
              "    </tr>\n",
              "    <tr>\n",
              "      <th>2</th>\n",
              "      <td>0</td>\n",
              "      <td>0</td>\n",
              "      <td>0</td>\n",
              "    </tr>\n",
              "  </tbody>\n",
              "</table>\n",
              "</div>"
            ],
            "text/plain": [
              "   CANCELLED  DIVERTED  DELAY\n",
              "0          0         0      0\n",
              "1          0         0      0\n",
              "2          0         0      0"
            ]
          },
          "metadata": {},
          "execution_count": 5
        }
      ]
    },
    {
      "cell_type": "markdown",
      "metadata": {
        "id": "E3Sdva3S-ZoU"
      },
      "source": [
        "## Decision Tree Classifier Method"
      ]
    },
    {
      "cell_type": "code",
      "metadata": {
        "id": "FtsgLo0P-ZoV"
      },
      "source": [
        "# Create and score a decision tree classifier\n",
        "model = tree.DecisionTreeClassifier()\n",
        "model = model.fit(X_train, y_train)"
      ],
      "execution_count": 6,
      "outputs": []
    },
    {
      "cell_type": "code",
      "metadata": {
        "id": "bPEaK7j_-ZoV"
      },
      "source": [
        "# Sort the features by their importance\n",
        "tree_feature_sort = sorted(zip(X_train.columns,model.feature_importances_),key=itemgetter(1), reverse=True)\n",
        "# tree_feature_sort"
      ],
      "execution_count": 7,
      "outputs": []
    },
    {
      "cell_type": "code",
      "metadata": {
        "colab": {
          "base_uri": "https://localhost:8080/",
          "height": 730
        },
        "id": "YPwSrCru-ZoV",
        "outputId": "f9865f9c-e70c-4c52-96ee-09eb129e71b2"
      },
      "source": [
        "# Plot Decision Tree Feature Importance\n",
        "fig = plt.figure(figsize=[12,12])\n",
        "plt.barh(*zip(* (tree_feature_sort)))\n",
        "plt.xlabel('Feature Importance')\n",
        "plt.ylabel('Feature Name')\n",
        "plt.title('Decision Tree Assessment')\n",
        "plt.show()"
      ],
      "execution_count": 8,
      "outputs": [
        {
          "output_type": "display_data",
          "data": {
            "image/png": "[encoded data removed]",
            "text/plain": [
              "<Figure size 864x864 with 1 Axes>"
            ]
          },
          "metadata": {
            "needs_background": "light"
          }
        }
      ]
    },
    {
      "cell_type": "markdown",
      "metadata": {
        "id": "1QjsDsQ6_zkw"
      },
      "source": [
        "# Score Model"
      ]
    },
    {
      "cell_type": "code",
      "metadata": {
        "colab": {
          "base_uri": "https://localhost:8080/"
        },
        "id": "B9VseAiy_1Yn",
        "outputId": "31b75827-624b-4bfd-ad50-0cf59d49df55"
      },
      "source": [
        "print('Decision Tree Score:')\n",
        "print(model.score(X_test, y_test))"
      ],
      "execution_count": 9,
      "outputs": [
        {
          "output_type": "stream",
          "text": [
            "Decision Tree Score:\n",
            "0.8688879273041973\n"
          ],
          "name": "stdout"
        }
      ]
    },
    {
      "cell_type": "markdown",
      "metadata": {
        "id": "EEancxnY-ZoV"
      },
      "source": [
        "# Make **Predictions**"
      ]
    },
    {
      "cell_type": "code",
      "metadata": {
        "id": "JEXLws2RR41B"
      },
      "source": [
        "predictions = model.predict(X_test)"
      ],
      "execution_count": 10,
      "outputs": []
    },
    {
      "cell_type": "code",
      "metadata": {
        "id": "jzbpn7pbGJCw"
      },
      "source": [
        "results_cancelled = pd.DataFrame({ \\\n",
        "            \"CANCELLED\": y_test.CANCELLED,\"CANCELLED_PREDICT\": predictions[:,0]})\n",
        "results_diverted = pd.DataFrame({ \\\n",
        "            \"DIVERTED\": y_test.DIVERTED,\"DIVERTED_PREDICT\": predictions[:,1]})\n",
        "results_delayed = pd.DataFrame({ \\\n",
        "            \"DELAY\": y_test.DELAY, \"DELAY_PREDICT\": predictions[:,2]})"
      ],
      "execution_count": 32,
      "outputs": []
    },
    {
      "cell_type": "code",
      "metadata": {
        "colab": {
          "base_uri": "https://localhost:8080/",
          "height": 110
        },
        "id": "wFSFCWJ_JFm7",
        "outputId": "d68b007f-5294-4b9b-8f6b-81f2852ced44"
      },
      "source": [
        "cancel_summary = results_cancelled.apply(pd.value_counts)\n",
        "cancel_summary"
      ],
      "execution_count": 50,
      "outputs": [
        {
          "output_type": "execute_result",
          "data": {
            "text/html": [
              "<div>\n",
              "<style scoped>\n",
              "    .dataframe tbody tr th:only-of-type {\n",
              "        vertical-align: middle;\n",
              "    }\n",
              "\n",
              "    .dataframe tbody tr th {\n",
              "        vertical-align: top;\n",
              "    }\n",
              "\n",
              "    .dataframe thead th {\n",
              "        text-align: right;\n",
              "    }\n",
              "</style>\n",
              "<table border=\"1\" class=\"dataframe\">\n",
              "  <thead>\n",
              "    <tr style=\"text-align: right;\">\n",
              "      <th></th>\n",
              "      <th>CANCELLED</th>\n",
              "      <th>CANCELLED_PREDICT</th>\n",
              "    </tr>\n",
              "  </thead>\n",
              "  <tbody>\n",
              "    <tr>\n",
              "      <th>0</th>\n",
              "      <td>4590</td>\n",
              "      <td>4621</td>\n",
              "    </tr>\n",
              "    <tr>\n",
              "      <th>1</th>\n",
              "      <td>32</td>\n",
              "      <td>1</td>\n",
              "    </tr>\n",
              "  </tbody>\n",
              "</table>\n",
              "</div>"
            ],
            "text/plain": [
              "   CANCELLED  CANCELLED_PREDICT\n",
              "0       4590               4621\n",
              "1         32                  1"
            ]
          },
          "metadata": {},
          "execution_count": 50
        }
      ]
    },
    {
      "cell_type": "code",
      "metadata": {
        "id": "JuzfAHkQXc5f",
        "outputId": "41601167-cb62-474b-a86f-c769fe4b25e4",
        "colab": {
          "base_uri": "https://localhost:8080/"
        }
      },
      "source": [
        "print(classification_report(y_test.CANCELLED, predictions[:,0]))"
      ],
      "execution_count": 51,
      "outputs": [
        {
          "output_type": "stream",
          "text": [
            "              precision    recall  f1-score   support\n",
            "\n",
            "           0       0.99      1.00      1.00      4590\n",
            "           1       0.00      0.00      0.00        32\n",
            "\n",
            "    accuracy                           0.99      4622\n",
            "   macro avg       0.50      0.50      0.50      4622\n",
            "weighted avg       0.99      0.99      0.99      4622\n",
            "\n"
          ],
          "name": "stdout"
        }
      ]
    },
    {
      "cell_type": "code",
      "metadata": {
        "colab": {
          "base_uri": "https://localhost:8080/",
          "height": 110
        },
        "id": "ayYpL2jsKctw",
        "outputId": "210523e4-370f-4a39-aa74-491acd13014f"
      },
      "source": [
        "diverted_summary = results_diverted.apply(pd.value_counts)\n",
        "diverted_summary"
      ],
      "execution_count": 52,
      "outputs": [
        {
          "output_type": "execute_result",
          "data": {
            "text/html": [
              "<div>\n",
              "<style scoped>\n",
              "    .dataframe tbody tr th:only-of-type {\n",
              "        vertical-align: middle;\n",
              "    }\n",
              "\n",
              "    .dataframe tbody tr th {\n",
              "        vertical-align: top;\n",
              "    }\n",
              "\n",
              "    .dataframe thead th {\n",
              "        text-align: right;\n",
              "    }\n",
              "</style>\n",
              "<table border=\"1\" class=\"dataframe\">\n",
              "  <thead>\n",
              "    <tr style=\"text-align: right;\">\n",
              "      <th></th>\n",
              "      <th>DIVERTED</th>\n",
              "      <th>DIVERTED_PREDICT</th>\n",
              "    </tr>\n",
              "  </thead>\n",
              "  <tbody>\n",
              "    <tr>\n",
              "      <th>0</th>\n",
              "      <td>4613</td>\n",
              "      <td>4621</td>\n",
              "    </tr>\n",
              "    <tr>\n",
              "      <th>1</th>\n",
              "      <td>9</td>\n",
              "      <td>1</td>\n",
              "    </tr>\n",
              "  </tbody>\n",
              "</table>\n",
              "</div>"
            ],
            "text/plain": [
              "   DIVERTED  DIVERTED_PREDICT\n",
              "0      4613              4621\n",
              "1         9                 1"
            ]
          },
          "metadata": {},
          "execution_count": 52
        }
      ]
    },
    {
      "cell_type": "code",
      "metadata": {
        "id": "HEYOcR0_Xgs3",
        "outputId": "2b37eaed-b587-4d60-e11a-2141408f26d3",
        "colab": {
          "base_uri": "https://localhost:8080/"
        }
      },
      "source": [
        "print(classification_report(y_test.DIVERTED, predictions[:,1]))"
      ],
      "execution_count": 53,
      "outputs": [
        {
          "output_type": "stream",
          "text": [
            "              precision    recall  f1-score   support\n",
            "\n",
            "           0       1.00      1.00      1.00      4613\n",
            "           1       0.00      0.00      0.00         9\n",
            "\n",
            "    accuracy                           1.00      4622\n",
            "   macro avg       0.50      0.50      0.50      4622\n",
            "weighted avg       1.00      1.00      1.00      4622\n",
            "\n"
          ],
          "name": "stdout"
        }
      ]
    },
    {
      "cell_type": "code",
      "metadata": {
        "colab": {
          "base_uri": "https://localhost:8080/",
          "height": 110
        },
        "id": "_oyMfuRrHjJh",
        "outputId": "41d0aaf5-41ab-4b80-b015-0a7392c5ca93"
      },
      "source": [
        "delay_summary = results_delayed.apply(pd.value_counts)\n",
        "delay_summary"
      ],
      "execution_count": 54,
      "outputs": [
        {
          "output_type": "execute_result",
          "data": {
            "text/html": [
              "<div>\n",
              "<style scoped>\n",
              "    .dataframe tbody tr th:only-of-type {\n",
              "        vertical-align: middle;\n",
              "    }\n",
              "\n",
              "    .dataframe tbody tr th {\n",
              "        vertical-align: top;\n",
              "    }\n",
              "\n",
              "    .dataframe thead th {\n",
              "        text-align: right;\n",
              "    }\n",
              "</style>\n",
              "<table border=\"1\" class=\"dataframe\">\n",
              "  <thead>\n",
              "    <tr style=\"text-align: right;\">\n",
              "      <th></th>\n",
              "      <th>DELAY</th>\n",
              "      <th>DELAY_PREDICT</th>\n",
              "    </tr>\n",
              "  </thead>\n",
              "  <tbody>\n",
              "    <tr>\n",
              "      <th>0</th>\n",
              "      <td>4087</td>\n",
              "      <td>4448</td>\n",
              "    </tr>\n",
              "    <tr>\n",
              "      <th>1</th>\n",
              "      <td>535</td>\n",
              "      <td>174</td>\n",
              "    </tr>\n",
              "  </tbody>\n",
              "</table>\n",
              "</div>"
            ],
            "text/plain": [
              "   DELAY  DELAY_PREDICT\n",
              "0   4087           4448\n",
              "1    535            174"
            ]
          },
          "metadata": {},
          "execution_count": 54
        }
      ]
    },
    {
      "cell_type": "code",
      "metadata": {
        "id": "WKh2YJ1fXkLq",
        "outputId": "80346f96-419d-433e-9131-72b97a232e40",
        "colab": {
          "base_uri": "https://localhost:8080/"
        }
      },
      "source": [
        "print(classification_report(y_test.DELAY, predictions[:,2]))"
      ],
      "execution_count": 55,
      "outputs": [
        {
          "output_type": "stream",
          "text": [
            "              precision    recall  f1-score   support\n",
            "\n",
            "           0       0.89      0.97      0.93      4087\n",
            "           1       0.30      0.10      0.15       535\n",
            "\n",
            "    accuracy                           0.87      4622\n",
            "   macro avg       0.60      0.53      0.54      4622\n",
            "weighted avg       0.82      0.87      0.84      4622\n",
            "\n"
          ],
          "name": "stdout"
        }
      ]
    }
  ]
}