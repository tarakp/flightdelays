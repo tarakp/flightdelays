{
  "nbformat": 4,
  "nbformat_minor": 0,
  "metadata": {
    "kernel_info": {
      "name": "dev"
    },
    "kernelspec": {
      "name": "python3",
      "display_name": "Python 3.7.9 64-bit ('PythonDataV2': conda)"
    },
    "language_info": {
      "codemirror_mode": {
        "name": "ipython",
        "version": 3
      },
      "file_extension": ".py",
      "mimetype": "text/x-python",
      "name": "python",
      "nbconvert_exporter": "python",
      "pygments_lexer": "ipython3",
      "version": "3.7.9"
    },
    "nteract": {
      "version": "0.12.3"
    },
    "interpreter": {
      "hash": "7145387fd502c2a792381ef9ef58718f99f5f6cce2c67dc36e296264320f59ee"
    },
    "colab": {
      "name": "e_nn_all_y.ipynb",
      "provenance": [],
      "include_colab_link": true
    }
  },
  "cells": [
    {
      "cell_type": "markdown",
      "metadata": {
        "id": "view-in-github",
        "colab_type": "text"
      },
      "source": [
        "<a href=\"https://colab.research.google.com/github/NicoleLund/flight_delay_prediction/blob/model_prep_210819/data_manipulation_modeling/investigate_models/e_nn_all_y.ipynb\" target=\"_parent\"><img src=\"https://colab.research.google.com/assets/colab-badge.svg\" alt=\"Open In Colab\"/></a>"
      ]
    },
    {
      "cell_type": "markdown",
      "metadata": {
        "id": "VrN_jQ-Y-ZoN"
      },
      "source": [
        "# e_nn_all_y\n",
        "----\n",
        "\n",
        "Written in Google Colab\n",
        "\n",
        "By Nicole Lund \n",
        "\n",
        "This workbook builds a neural net model for 2017 flight performance."
      ]
    },
    {
      "cell_type": "code",
      "metadata": {
        "id": "qEuSZXoP-ZoQ"
      },
      "source": [
        "# Import Dependencies\n",
        "\n",
        "# Plotting\n",
        "%matplotlib inline\n",
        "import matplotlib.pyplot as plt\n",
        "\n",
        "# Data manipulation\n",
        "import numpy as np\n",
        "import pandas as pd\n",
        "from statistics import mean\n",
        "from operator import itemgetter\n",
        "from sklearn.model_selection import train_test_split\n",
        "from sklearn.preprocessing import LabelEncoder, MinMaxScaler\n",
        "from tensorflow.keras.utils import to_categorical\n",
        "\n",
        "# Parameter Selection\n",
        "from sklearn import tree\n",
        "from sklearn.ensemble import RandomForestClassifier\n",
        "from sklearn.model_selection import GridSearchCV\n",
        "\n",
        "# Model Development\n",
        "from sklearn.linear_model import LinearRegression\n",
        "from sklearn.linear_model import LogisticRegression\n",
        "from sklearn.svm import SVC \n",
        "from tensorflow import keras\n",
        "from tensorflow.keras.models import Sequential\n",
        "from tensorflow.keras.layers import Dense\n",
        "from tensorflow.keras.layers import Dropout\n",
        "from tensorflow.keras.wrappers.scikit_learn import KerasClassifier\n",
        "\n",
        "# Model Metrics\n",
        "from sklearn.metrics import classification_report\n",
        "\n",
        "# Save/load files\n",
        "from tensorflow.keras.models import load_model\n",
        "import joblib\n",
        "\n",
        "# # Ignore deprecation warnings\n",
        "# import warnings\n",
        "# warnings.simplefilter('ignore', FutureWarning)"
      ],
      "execution_count": 2,
      "outputs": []
    },
    {
      "cell_type": "code",
      "metadata": {
        "id": "6y1Qt9KM-ZoR"
      },
      "source": [
        "# Set the seed value for the notebook, so the results are reproducible\n",
        "from numpy.random import seed\n",
        "seed(1)"
      ],
      "execution_count": 3,
      "outputs": []
    },
    {
      "cell_type": "markdown",
      "metadata": {
        "id": "QJMIpNeT-ZoR"
      },
      "source": [
        "# Read in the csv model files"
      ]
    },
    {
      "cell_type": "code",
      "metadata": {
        "id": "uI4uJfPS-ZoS"
      },
      "source": [
        "# Read the CSV files from AWS to Pandas Dataframe\n",
        "X_train = pd.read_csv(\"https://flight-delay-prediction.s3.us-west-1.amazonaws.com/2017_TUS_X_train.csv\")\n",
        "X_test = pd.read_csv(\"https://flight-delay-prediction.s3.us-west-1.amazonaws.com/2017_TUS_X_test.csv\")\n",
        "y_train = pd.read_csv(\"https://flight-delay-prediction.s3.us-west-1.amazonaws.com/2017_TUS_y_train.csv\")\n",
        "y_test = pd.read_csv(\"https://flight-delay-prediction.s3.us-west-1.amazonaws.com/2017_TUS_y_test.csv\")"
      ],
      "execution_count": 4,
      "outputs": []
    },
    {
      "cell_type": "code",
      "metadata": {
        "colab": {
          "base_uri": "https://localhost:8080/",
          "height": 162
        },
        "id": "TwZMc8kO_R3N",
        "outputId": "060f7b59-fc6c-4fcf-8a77-945d17539b67"
      },
      "source": [
        "X_train.head(3)"
      ],
      "execution_count": 5,
      "outputs": [
        {
          "output_type": "execute_result",
          "data": {
            "text/html": [
              "<div>\n",
              "<style scoped>\n",
              "    .dataframe tbody tr th:only-of-type {\n",
              "        vertical-align: middle;\n",
              "    }\n",
              "\n",
              "    .dataframe tbody tr th {\n",
              "        vertical-align: top;\n",
              "    }\n",
              "\n",
              "    .dataframe thead th {\n",
              "        text-align: right;\n",
              "    }\n",
              "</style>\n",
              "<table border=\"1\" class=\"dataframe\">\n",
              "  <thead>\n",
              "    <tr style=\"text-align: right;\">\n",
              "      <th></th>\n",
              "      <th>OP_CARRIER_FL_NUM</th>\n",
              "      <th>CRS_DEP_TIME</th>\n",
              "      <th>CRS_ARR_TIME</th>\n",
              "      <th>DISTANCE</th>\n",
              "      <th>DL</th>\n",
              "      <th>OO</th>\n",
              "      <th>UA</th>\n",
              "      <th>WN</th>\n",
              "      <th>AA</th>\n",
              "      <th>EV</th>\n",
              "      <th>AS</th>\n",
              "      <th>Sunday</th>\n",
              "      <th>Monday</th>\n",
              "      <th>Tuesday</th>\n",
              "      <th>Wednesday</th>\n",
              "      <th>Thursday</th>\n",
              "      <th>Friday</th>\n",
              "      <th>Saturday</th>\n",
              "      <th>ATL</th>\n",
              "      <th>DEN</th>\n",
              "      <th>DFW</th>\n",
              "      <th>HOU</th>\n",
              "      <th>IAH</th>\n",
              "      <th>JFK</th>\n",
              "      <th>LAS</th>\n",
              "      <th>LAX</th>\n",
              "      <th>MDW</th>\n",
              "      <th>MSP</th>\n",
              "      <th>OAK</th>\n",
              "      <th>ORD</th>\n",
              "      <th>PDX</th>\n",
              "      <th>PHX</th>\n",
              "      <th>SAN</th>\n",
              "      <th>SEA</th>\n",
              "      <th>SFO</th>\n",
              "      <th>SJC</th>\n",
              "      <th>SLC</th>\n",
              "    </tr>\n",
              "  </thead>\n",
              "  <tbody>\n",
              "    <tr>\n",
              "      <th>0</th>\n",
              "      <td>5538</td>\n",
              "      <td>1120</td>\n",
              "      <td>1647</td>\n",
              "      <td>1437</td>\n",
              "      <td>0.0</td>\n",
              "      <td>1.0</td>\n",
              "      <td>0.0</td>\n",
              "      <td>0.0</td>\n",
              "      <td>0.0</td>\n",
              "      <td>0.0</td>\n",
              "      <td>0.0</td>\n",
              "      <td>0.0</td>\n",
              "      <td>1.0</td>\n",
              "      <td>0.0</td>\n",
              "      <td>0.0</td>\n",
              "      <td>0.0</td>\n",
              "      <td>0.0</td>\n",
              "      <td>0.0</td>\n",
              "      <td>0.0</td>\n",
              "      <td>0.0</td>\n",
              "      <td>0.0</td>\n",
              "      <td>0.0</td>\n",
              "      <td>0.0</td>\n",
              "      <td>0.0</td>\n",
              "      <td>0.0</td>\n",
              "      <td>0.0</td>\n",
              "      <td>0.0</td>\n",
              "      <td>0.0</td>\n",
              "      <td>0.0</td>\n",
              "      <td>1.0</td>\n",
              "      <td>0.0</td>\n",
              "      <td>0.0</td>\n",
              "      <td>0.0</td>\n",
              "      <td>0.0</td>\n",
              "      <td>0.0</td>\n",
              "      <td>0.0</td>\n",
              "      <td>0.0</td>\n",
              "    </tr>\n",
              "    <tr>\n",
              "      <th>1</th>\n",
              "      <td>5538</td>\n",
              "      <td>1219</td>\n",
              "      <td>1650</td>\n",
              "      <td>1437</td>\n",
              "      <td>0.0</td>\n",
              "      <td>1.0</td>\n",
              "      <td>0.0</td>\n",
              "      <td>0.0</td>\n",
              "      <td>0.0</td>\n",
              "      <td>0.0</td>\n",
              "      <td>0.0</td>\n",
              "      <td>0.0</td>\n",
              "      <td>0.0</td>\n",
              "      <td>0.0</td>\n",
              "      <td>0.0</td>\n",
              "      <td>1.0</td>\n",
              "      <td>0.0</td>\n",
              "      <td>0.0</td>\n",
              "      <td>0.0</td>\n",
              "      <td>0.0</td>\n",
              "      <td>0.0</td>\n",
              "      <td>0.0</td>\n",
              "      <td>0.0</td>\n",
              "      <td>0.0</td>\n",
              "      <td>0.0</td>\n",
              "      <td>0.0</td>\n",
              "      <td>0.0</td>\n",
              "      <td>0.0</td>\n",
              "      <td>0.0</td>\n",
              "      <td>1.0</td>\n",
              "      <td>0.0</td>\n",
              "      <td>0.0</td>\n",
              "      <td>0.0</td>\n",
              "      <td>0.0</td>\n",
              "      <td>0.0</td>\n",
              "      <td>0.0</td>\n",
              "      <td>0.0</td>\n",
              "    </tr>\n",
              "    <tr>\n",
              "      <th>2</th>\n",
              "      <td>2068</td>\n",
              "      <td>1625</td>\n",
              "      <td>2040</td>\n",
              "      <td>1440</td>\n",
              "      <td>0.0</td>\n",
              "      <td>0.0</td>\n",
              "      <td>0.0</td>\n",
              "      <td>1.0</td>\n",
              "      <td>0.0</td>\n",
              "      <td>0.0</td>\n",
              "      <td>0.0</td>\n",
              "      <td>0.0</td>\n",
              "      <td>0.0</td>\n",
              "      <td>0.0</td>\n",
              "      <td>0.0</td>\n",
              "      <td>0.0</td>\n",
              "      <td>1.0</td>\n",
              "      <td>0.0</td>\n",
              "      <td>0.0</td>\n",
              "      <td>0.0</td>\n",
              "      <td>0.0</td>\n",
              "      <td>0.0</td>\n",
              "      <td>0.0</td>\n",
              "      <td>0.0</td>\n",
              "      <td>0.0</td>\n",
              "      <td>0.0</td>\n",
              "      <td>1.0</td>\n",
              "      <td>0.0</td>\n",
              "      <td>0.0</td>\n",
              "      <td>0.0</td>\n",
              "      <td>0.0</td>\n",
              "      <td>0.0</td>\n",
              "      <td>0.0</td>\n",
              "      <td>0.0</td>\n",
              "      <td>0.0</td>\n",
              "      <td>0.0</td>\n",
              "      <td>0.0</td>\n",
              "    </tr>\n",
              "  </tbody>\n",
              "</table>\n",
              "</div>"
            ],
            "text/plain": [
              "   OP_CARRIER_FL_NUM  CRS_DEP_TIME  CRS_ARR_TIME  DISTANCE  ...  SEA  SFO  SJC  SLC\n",
              "0               5538          1120          1647      1437  ...  0.0  0.0  0.0  0.0\n",
              "1               5538          1219          1650      1437  ...  0.0  0.0  0.0  0.0\n",
              "2               2068          1625          2040      1440  ...  0.0  0.0  0.0  0.0\n",
              "\n",
              "[3 rows x 37 columns]"
            ]
          },
          "metadata": {},
          "execution_count": 5
        }
      ]
    },
    {
      "cell_type": "code",
      "metadata": {
        "colab": {
          "base_uri": "https://localhost:8080/",
          "height": 142
        },
        "id": "bQdjDWzE_UOf",
        "outputId": "e00542ad-fd1f-4579-d82c-c444f63946ac"
      },
      "source": [
        "y_train.head(3)"
      ],
      "execution_count": 6,
      "outputs": [
        {
          "output_type": "execute_result",
          "data": {
            "text/html": [
              "<div>\n",
              "<style scoped>\n",
              "    .dataframe tbody tr th:only-of-type {\n",
              "        vertical-align: middle;\n",
              "    }\n",
              "\n",
              "    .dataframe tbody tr th {\n",
              "        vertical-align: top;\n",
              "    }\n",
              "\n",
              "    .dataframe thead th {\n",
              "        text-align: right;\n",
              "    }\n",
              "</style>\n",
              "<table border=\"1\" class=\"dataframe\">\n",
              "  <thead>\n",
              "    <tr style=\"text-align: right;\">\n",
              "      <th></th>\n",
              "      <th>CANCELLED</th>\n",
              "      <th>DIVERTED</th>\n",
              "      <th>DELAY</th>\n",
              "    </tr>\n",
              "  </thead>\n",
              "  <tbody>\n",
              "    <tr>\n",
              "      <th>0</th>\n",
              "      <td>0</td>\n",
              "      <td>0</td>\n",
              "      <td>0</td>\n",
              "    </tr>\n",
              "    <tr>\n",
              "      <th>1</th>\n",
              "      <td>0</td>\n",
              "      <td>0</td>\n",
              "      <td>0</td>\n",
              "    </tr>\n",
              "    <tr>\n",
              "      <th>2</th>\n",
              "      <td>0</td>\n",
              "      <td>0</td>\n",
              "      <td>0</td>\n",
              "    </tr>\n",
              "  </tbody>\n",
              "</table>\n",
              "</div>"
            ],
            "text/plain": [
              "   CANCELLED  DIVERTED  DELAY\n",
              "0          0         0      0\n",
              "1          0         0      0\n",
              "2          0         0      0"
            ]
          },
          "metadata": {},
          "execution_count": 6
        }
      ]
    },
    {
      "cell_type": "code",
      "metadata": {
        "colab": {
          "base_uri": "https://localhost:8080/"
        },
        "id": "BHpfIghsPD6L",
        "outputId": "30be3446-3c00-4cfc-89a5-9aef8abece63"
      },
      "source": [
        "print(X_train.info())"
      ],
      "execution_count": 7,
      "outputs": [
        {
          "output_type": "stream",
          "text": [
            "<class 'pandas.core.frame.DataFrame'>\n",
            "RangeIndex: 10784 entries, 0 to 10783\n",
            "Data columns (total 37 columns):\n",
            " #   Column             Non-Null Count  Dtype  \n",
            "---  ------             --------------  -----  \n",
            " 0   OP_CARRIER_FL_NUM  10784 non-null  int64  \n",
            " 1   CRS_DEP_TIME       10784 non-null  int64  \n",
            " 2   CRS_ARR_TIME       10784 non-null  int64  \n",
            " 3   DISTANCE           10784 non-null  int64  \n",
            " 4   DL                 10784 non-null  float64\n",
            " 5   OO                 10784 non-null  float64\n",
            " 6   UA                 10784 non-null  float64\n",
            " 7   WN                 10784 non-null  float64\n",
            " 8   AA                 10784 non-null  float64\n",
            " 9   EV                 10784 non-null  float64\n",
            " 10  AS                 10784 non-null  float64\n",
            " 11  Sunday             10784 non-null  float64\n",
            " 12  Monday             10784 non-null  float64\n",
            " 13  Tuesday            10784 non-null  float64\n",
            " 14  Wednesday          10784 non-null  float64\n",
            " 15  Thursday           10784 non-null  float64\n",
            " 16  Friday             10784 non-null  float64\n",
            " 17  Saturday           10784 non-null  float64\n",
            " 18  ATL                10784 non-null  float64\n",
            " 19  DEN                10784 non-null  float64\n",
            " 20  DFW                10784 non-null  float64\n",
            " 21  HOU                10784 non-null  float64\n",
            " 22  IAH                10784 non-null  float64\n",
            " 23  JFK                10784 non-null  float64\n",
            " 24  LAS                10784 non-null  float64\n",
            " 25  LAX                10784 non-null  float64\n",
            " 26  MDW                10784 non-null  float64\n",
            " 27  MSP                10784 non-null  float64\n",
            " 28  OAK                10784 non-null  float64\n",
            " 29  ORD                10784 non-null  float64\n",
            " 30  PDX                10784 non-null  float64\n",
            " 31  PHX                10784 non-null  float64\n",
            " 32  SAN                10784 non-null  float64\n",
            " 33  SEA                10784 non-null  float64\n",
            " 34  SFO                10784 non-null  float64\n",
            " 35  SJC                10784 non-null  float64\n",
            " 36  SLC                10784 non-null  float64\n",
            "dtypes: float64(33), int64(4)\n",
            "memory usage: 3.0 MB\n",
            "None\n"
          ],
          "name": "stdout"
        }
      ]
    },
    {
      "cell_type": "markdown",
      "metadata": {
        "id": "XkO0c1MyOzUQ"
      },
      "source": [
        "# Hyperparameter Tuning"
      ]
    },
    {
      "cell_type": "code",
      "metadata": {
        "id": "-e90uKNAO2Ld"
      },
      "source": [
        "# Code was modified from sample code presented on\n",
        "# https://machinelearningmastery.com/grid-search-hyperparameters-deep-learning-models-python-keras/\n",
        "\n",
        "# Function to create model, required for KerasClassifier\n",
        "def create_model(neurons=40):\n",
        "\t# create model\n",
        "\tmodel = Sequential()\n",
        "\tmodel.add(Dense(neurons, input_dim=X_train.shape[1], activation='relu'))\n",
        "\tmodel.add(Dropout(0.2))\n",
        "\tmodel.add(Dense(units=y_train.shape[1], activation='softmax'))\n",
        "\t# Compile model\n",
        "\tmodel.compile(loss='categorical_crossentropy', optimizer='adam', metrics=['accuracy'])\n",
        "\treturn model"
      ],
      "execution_count": 8,
      "outputs": []
    },
    {
      "cell_type": "code",
      "metadata": {
        "colab": {
          "base_uri": "https://localhost:8080/"
        },
        "id": "2LU5tCyTO7IA",
        "outputId": "2518b5de-8ed5-4668-f9b3-96940b1e99fe"
      },
      "source": [
        "# Code was modified from sample code presented on\n",
        "# https://machinelearningmastery.com/grid-search-hyperparameters-deep-learning-models-python-keras/\n",
        "\n",
        "# Use scikit-learn to grid search the batch size and epochs\n",
        "\n",
        "# create model\n",
        "grid_model = KerasClassifier(build_fn=create_model, verbose=0)\n",
        "\n",
        "# define the grid search parameters\n",
        "batch_size = [100, 1000]\n",
        "epochs = [100, 500]\n",
        "neurons = [2500, 5000, 10000]\n",
        "param_grid = dict(batch_size=batch_size, epochs=epochs, neurons=neurons)\n",
        "\n",
        "# Apply GridSearchCV\n",
        "grid = GridSearchCV(estimator=grid_model, param_grid=param_grid, n_jobs=-1, cv=3)\n",
        "grid_result = grid.fit(X_train, y_train)\n",
        "\n",
        "# summarize results\n",
        "print(\"--------------------------\")\n",
        "print(\"Best: %f using %s\" % (grid_result.best_score_, grid_result.best_params_))\n",
        "means = grid_result.cv_results_['mean_test_score']\n",
        "stds = grid_result.cv_results_['std_test_score']\n",
        "params = grid_result.cv_results_['params']\n",
        "for mean, stdev, param in zip(means, stds, params):\n",
        "    print(\"%f (%f) with: %r\" % (mean, stdev, param))"
      ],
      "execution_count": 13,
      "outputs": [
        {
          "output_type": "stream",
          "text": [
            "/usr/local/lib/python3.7/dist-packages/joblib/externals/loky/process_executor.py:691: UserWarning: A worker stopped while some jobs were given to the executor. This can be caused by a too short worker timeout or by a memory leak.\n",
            "  \"timeout or by a memory leak.\", UserWarning\n"
          ],
          "name": "stderr"
        },
        {
          "output_type": "stream",
          "text": [
            "--------------------------\n",
            "Best: 0.897904 using {'batch_size': 100, 'epochs': 500, 'neurons': 10000}\n",
            "0.099685 (0.004806) with: {'batch_size': 100, 'epochs': 100, 'neurons': 2500}\n",
            "0.032731 (0.042558) with: {'batch_size': 100, 'epochs': 100, 'neurons': 5000}\n",
            "0.601484 (0.422773) with: {'batch_size': 100, 'epochs': 100, 'neurons': 10000}\n",
            "0.066389 (0.044564) with: {'batch_size': 100, 'epochs': 500, 'neurons': 2500}\n",
            "0.330737 (0.401140) with: {'batch_size': 100, 'epochs': 500, 'neurons': 5000}\n",
            "0.897904 (0.005248) with: {'batch_size': 100, 'epochs': 500, 'neurons': 10000}\n",
            "0.099685 (0.004806) with: {'batch_size': 1000, 'epochs': 100, 'neurons': 2500}\n",
            "0.099685 (0.004806) with: {'batch_size': 1000, 'epochs': 100, 'neurons': 5000}\n",
            "0.332489 (0.398381) with: {'batch_size': 1000, 'epochs': 100, 'neurons': 10000}\n",
            "0.099685 (0.004806) with: {'batch_size': 1000, 'epochs': 500, 'neurons': 2500}\n",
            "0.069365 (0.047673) with: {'batch_size': 1000, 'epochs': 500, 'neurons': 5000}\n",
            "0.099685 (0.004806) with: {'batch_size': 1000, 'epochs': 500, 'neurons': 10000}\n"
          ],
          "name": "stdout"
        }
      ]
    },
    {
      "cell_type": "markdown",
      "metadata": {
        "id": "E3Sdva3S-ZoU"
      },
      "source": [
        "## Neural Network Model"
      ]
    },
    {
      "cell_type": "code",
      "metadata": {
        "id": "FtsgLo0P-ZoV",
        "colab": {
          "base_uri": "https://localhost:8080/"
        },
        "outputId": "d5aeb2bd-d65b-449d-a006-b74dae97aee2"
      },
      "source": [
        "# Best: 0.897904 using {'batch_size': 100, 'epochs': 500, 'neurons': 10000}\n",
        "\n",
        "# Create model\n",
        "nn_model = Sequential()\n",
        "\n",
        "# Define first layer\n",
        "nn_model.add(Dense(units=10000,\n",
        "                activation='relu', input_dim=X_train.shape[1]))\n",
        "\n",
        "# Define output layer\n",
        "nn_model.add(Dense(units=y_train.shape[1], activation='softmax'))    \n",
        "\n",
        "# Review Model\n",
        "print(nn_model.summary())\n",
        "\n",
        "# Compile Model\n",
        "nn_model.compile(optimizer='adam',\n",
        "              loss='categorical_crossentropy',\n",
        "              metrics=['accuracy'])\n",
        "\n",
        "# Train model\n",
        "nn_model.fit(\n",
        "    X_train,\n",
        "    y_train,\n",
        "    epochs=500,\n",
        "    batch_size=100,\n",
        "    shuffle=True,\n",
        "    verbose=0\n",
        ")"
      ],
      "execution_count": 10,
      "outputs": [
        {
          "output_type": "stream",
          "text": [
            "Model: \"sequential_1\"\n",
            "_________________________________________________________________\n",
            "Layer (type)                 Output Shape              Param #   \n",
            "=================================================================\n",
            "dense_2 (Dense)              (None, 10000)             380000    \n",
            "_________________________________________________________________\n",
            "dense_3 (Dense)              (None, 3)                 30003     \n",
            "=================================================================\n",
            "Total params: 410,003\n",
            "Trainable params: 410,003\n",
            "Non-trainable params: 0\n",
            "_________________________________________________________________\n",
            "None\n"
          ],
          "name": "stdout"
        },
        {
          "output_type": "execute_result",
          "data": {
            "text/plain": [
              "<keras.callbacks.History at 0x7f9d91d83b90>"
            ]
          },
          "metadata": {},
          "execution_count": 10
        }
      ]
    },
    {
      "cell_type": "markdown",
      "metadata": {
        "id": "1QjsDsQ6_zkw"
      },
      "source": [
        "# Score Model"
      ]
    },
    {
      "cell_type": "code",
      "metadata": {
        "colab": {
          "base_uri": "https://localhost:8080/"
        },
        "id": "B9VseAiy_1Yn",
        "outputId": "80ea4a47-a914-4c47-a87f-dbc51e26ec2b"
      },
      "source": [
        "# Evaluate the model using the testing data\n",
        "model_loss, model_accuracy = nn_model.evaluate(\n",
        "    X_test, y_test, verbose=2)\n",
        "print(f\"Loss: {model_loss}, Accuracy: {model_accuracy}\")"
      ],
      "execution_count": 11,
      "outputs": [
        {
          "output_type": "stream",
          "text": [
            "145/145 - 0s - loss: 33130.4531 - accuracy: 0.8912\n",
            "Loss: 33130.453125, Accuracy: 0.8911726474761963\n"
          ],
          "name": "stdout"
        }
      ]
    },
    {
      "cell_type": "markdown",
      "metadata": {
        "id": "EEancxnY-ZoV"
      },
      "source": [
        "# Make **Predictions**"
      ]
    },
    {
      "cell_type": "code",
      "metadata": {
        "id": "QKvGmeVB-ZoV"
      },
      "source": [
        "predictions = nn_model.predict(X_test)"
      ],
      "execution_count": 14,
      "outputs": []
    },
    {
      "cell_type": "code",
      "metadata": {
        "colab": {
          "base_uri": "https://localhost:8080/",
          "height": 417
        },
        "id": "ulRDNNU8aXG5",
        "outputId": "2b23b3ea-3578-4e11-ce84-f8247bdfbdcd"
      },
      "source": [
        "pd.DataFrame({\"Prediction\": predictions[:,0], \"Actual\": y_test.CANCELLED})"
      ],
      "execution_count": 16,
      "outputs": [
        {
          "output_type": "execute_result",
          "data": {
            "text/html": [
              "<div>\n",
              "<style scoped>\n",
              "    .dataframe tbody tr th:only-of-type {\n",
              "        vertical-align: middle;\n",
              "    }\n",
              "\n",
              "    .dataframe tbody tr th {\n",
              "        vertical-align: top;\n",
              "    }\n",
              "\n",
              "    .dataframe thead th {\n",
              "        text-align: right;\n",
              "    }\n",
              "</style>\n",
              "<table border=\"1\" class=\"dataframe\">\n",
              "  <thead>\n",
              "    <tr style=\"text-align: right;\">\n",
              "      <th></th>\n",
              "      <th>Prediction</th>\n",
              "      <th>Actual</th>\n",
              "    </tr>\n",
              "  </thead>\n",
              "  <tbody>\n",
              "    <tr>\n",
              "      <th>0</th>\n",
              "      <td>1.0</td>\n",
              "      <td>0</td>\n",
              "    </tr>\n",
              "    <tr>\n",
              "      <th>1</th>\n",
              "      <td>1.0</td>\n",
              "      <td>0</td>\n",
              "    </tr>\n",
              "    <tr>\n",
              "      <th>2</th>\n",
              "      <td>1.0</td>\n",
              "      <td>0</td>\n",
              "    </tr>\n",
              "    <tr>\n",
              "      <th>3</th>\n",
              "      <td>1.0</td>\n",
              "      <td>0</td>\n",
              "    </tr>\n",
              "    <tr>\n",
              "      <th>4</th>\n",
              "      <td>1.0</td>\n",
              "      <td>0</td>\n",
              "    </tr>\n",
              "    <tr>\n",
              "      <th>...</th>\n",
              "      <td>...</td>\n",
              "      <td>...</td>\n",
              "    </tr>\n",
              "    <tr>\n",
              "      <th>4617</th>\n",
              "      <td>1.0</td>\n",
              "      <td>0</td>\n",
              "    </tr>\n",
              "    <tr>\n",
              "      <th>4618</th>\n",
              "      <td>1.0</td>\n",
              "      <td>0</td>\n",
              "    </tr>\n",
              "    <tr>\n",
              "      <th>4619</th>\n",
              "      <td>1.0</td>\n",
              "      <td>0</td>\n",
              "    </tr>\n",
              "    <tr>\n",
              "      <th>4620</th>\n",
              "      <td>1.0</td>\n",
              "      <td>0</td>\n",
              "    </tr>\n",
              "    <tr>\n",
              "      <th>4621</th>\n",
              "      <td>1.0</td>\n",
              "      <td>0</td>\n",
              "    </tr>\n",
              "  </tbody>\n",
              "</table>\n",
              "<p>4622 rows × 2 columns</p>\n",
              "</div>"
            ],
            "text/plain": [
              "      Prediction  Actual\n",
              "0            1.0       0\n",
              "1            1.0       0\n",
              "2            1.0       0\n",
              "3            1.0       0\n",
              "4            1.0       0\n",
              "...          ...     ...\n",
              "4617         1.0       0\n",
              "4618         1.0       0\n",
              "4619         1.0       0\n",
              "4620         1.0       0\n",
              "4621         1.0       0\n",
              "\n",
              "[4622 rows x 2 columns]"
            ]
          },
          "metadata": {},
          "execution_count": 16
        }
      ]
    },
    {
      "cell_type": "code",
      "metadata": {
        "colab": {
          "base_uri": "https://localhost:8080/",
          "height": 417
        },
        "id": "593lYaXAabCu",
        "outputId": "1743f0e4-8166-4341-ef0e-2511e577270e"
      },
      "source": [
        "pd.DataFrame({\"Prediction\": predictions[:,1], \"Actual\": y_test.DIVERTED})"
      ],
      "execution_count": 17,
      "outputs": [
        {
          "output_type": "execute_result",
          "data": {
            "text/html": [
              "<div>\n",
              "<style scoped>\n",
              "    .dataframe tbody tr th:only-of-type {\n",
              "        vertical-align: middle;\n",
              "    }\n",
              "\n",
              "    .dataframe tbody tr th {\n",
              "        vertical-align: top;\n",
              "    }\n",
              "\n",
              "    .dataframe thead th {\n",
              "        text-align: right;\n",
              "    }\n",
              "</style>\n",
              "<table border=\"1\" class=\"dataframe\">\n",
              "  <thead>\n",
              "    <tr style=\"text-align: right;\">\n",
              "      <th></th>\n",
              "      <th>Prediction</th>\n",
              "      <th>Actual</th>\n",
              "    </tr>\n",
              "  </thead>\n",
              "  <tbody>\n",
              "    <tr>\n",
              "      <th>0</th>\n",
              "      <td>0.0</td>\n",
              "      <td>0</td>\n",
              "    </tr>\n",
              "    <tr>\n",
              "      <th>1</th>\n",
              "      <td>0.0</td>\n",
              "      <td>0</td>\n",
              "    </tr>\n",
              "    <tr>\n",
              "      <th>2</th>\n",
              "      <td>0.0</td>\n",
              "      <td>0</td>\n",
              "    </tr>\n",
              "    <tr>\n",
              "      <th>3</th>\n",
              "      <td>0.0</td>\n",
              "      <td>0</td>\n",
              "    </tr>\n",
              "    <tr>\n",
              "      <th>4</th>\n",
              "      <td>0.0</td>\n",
              "      <td>0</td>\n",
              "    </tr>\n",
              "    <tr>\n",
              "      <th>...</th>\n",
              "      <td>...</td>\n",
              "      <td>...</td>\n",
              "    </tr>\n",
              "    <tr>\n",
              "      <th>4617</th>\n",
              "      <td>0.0</td>\n",
              "      <td>0</td>\n",
              "    </tr>\n",
              "    <tr>\n",
              "      <th>4618</th>\n",
              "      <td>0.0</td>\n",
              "      <td>0</td>\n",
              "    </tr>\n",
              "    <tr>\n",
              "      <th>4619</th>\n",
              "      <td>0.0</td>\n",
              "      <td>0</td>\n",
              "    </tr>\n",
              "    <tr>\n",
              "      <th>4620</th>\n",
              "      <td>0.0</td>\n",
              "      <td>0</td>\n",
              "    </tr>\n",
              "    <tr>\n",
              "      <th>4621</th>\n",
              "      <td>0.0</td>\n",
              "      <td>0</td>\n",
              "    </tr>\n",
              "  </tbody>\n",
              "</table>\n",
              "<p>4622 rows × 2 columns</p>\n",
              "</div>"
            ],
            "text/plain": [
              "      Prediction  Actual\n",
              "0            0.0       0\n",
              "1            0.0       0\n",
              "2            0.0       0\n",
              "3            0.0       0\n",
              "4            0.0       0\n",
              "...          ...     ...\n",
              "4617         0.0       0\n",
              "4618         0.0       0\n",
              "4619         0.0       0\n",
              "4620         0.0       0\n",
              "4621         0.0       0\n",
              "\n",
              "[4622 rows x 2 columns]"
            ]
          },
          "metadata": {},
          "execution_count": 17
        }
      ]
    },
    {
      "cell_type": "code",
      "metadata": {
        "colab": {
          "base_uri": "https://localhost:8080/",
          "height": 417
        },
        "id": "MNnVaTOSaUz8",
        "outputId": "fd18e522-00c8-4fc2-ba42-2512359306e0"
      },
      "source": [
        "pd.DataFrame({\"Prediction\": predictions[:,2], \"Actual\": y_test.DELAY})"
      ],
      "execution_count": 15,
      "outputs": [
        {
          "output_type": "execute_result",
          "data": {
            "text/html": [
              "<div>\n",
              "<style scoped>\n",
              "    .dataframe tbody tr th:only-of-type {\n",
              "        vertical-align: middle;\n",
              "    }\n",
              "\n",
              "    .dataframe tbody tr th {\n",
              "        vertical-align: top;\n",
              "    }\n",
              "\n",
              "    .dataframe thead th {\n",
              "        text-align: right;\n",
              "    }\n",
              "</style>\n",
              "<table border=\"1\" class=\"dataframe\">\n",
              "  <thead>\n",
              "    <tr style=\"text-align: right;\">\n",
              "      <th></th>\n",
              "      <th>Prediction</th>\n",
              "      <th>Actual</th>\n",
              "    </tr>\n",
              "  </thead>\n",
              "  <tbody>\n",
              "    <tr>\n",
              "      <th>0</th>\n",
              "      <td>0.0</td>\n",
              "      <td>0</td>\n",
              "    </tr>\n",
              "    <tr>\n",
              "      <th>1</th>\n",
              "      <td>0.0</td>\n",
              "      <td>0</td>\n",
              "    </tr>\n",
              "    <tr>\n",
              "      <th>2</th>\n",
              "      <td>0.0</td>\n",
              "      <td>0</td>\n",
              "    </tr>\n",
              "    <tr>\n",
              "      <th>3</th>\n",
              "      <td>0.0</td>\n",
              "      <td>0</td>\n",
              "    </tr>\n",
              "    <tr>\n",
              "      <th>4</th>\n",
              "      <td>0.0</td>\n",
              "      <td>1</td>\n",
              "    </tr>\n",
              "    <tr>\n",
              "      <th>...</th>\n",
              "      <td>...</td>\n",
              "      <td>...</td>\n",
              "    </tr>\n",
              "    <tr>\n",
              "      <th>4617</th>\n",
              "      <td>0.0</td>\n",
              "      <td>0</td>\n",
              "    </tr>\n",
              "    <tr>\n",
              "      <th>4618</th>\n",
              "      <td>0.0</td>\n",
              "      <td>0</td>\n",
              "    </tr>\n",
              "    <tr>\n",
              "      <th>4619</th>\n",
              "      <td>0.0</td>\n",
              "      <td>0</td>\n",
              "    </tr>\n",
              "    <tr>\n",
              "      <th>4620</th>\n",
              "      <td>0.0</td>\n",
              "      <td>1</td>\n",
              "    </tr>\n",
              "    <tr>\n",
              "      <th>4621</th>\n",
              "      <td>0.0</td>\n",
              "      <td>0</td>\n",
              "    </tr>\n",
              "  </tbody>\n",
              "</table>\n",
              "<p>4622 rows × 2 columns</p>\n",
              "</div>"
            ],
            "text/plain": [
              "      Prediction  Actual\n",
              "0            0.0       0\n",
              "1            0.0       0\n",
              "2            0.0       0\n",
              "3            0.0       0\n",
              "4            0.0       1\n",
              "...          ...     ...\n",
              "4617         0.0       0\n",
              "4618         0.0       0\n",
              "4619         0.0       0\n",
              "4620         0.0       1\n",
              "4621         0.0       0\n",
              "\n",
              "[4622 rows x 2 columns]"
            ]
          },
          "metadata": {},
          "execution_count": 15
        }
      ]
    },
    {
      "cell_type": "code",
      "metadata": {
        "colab": {
          "base_uri": "https://localhost:8080/",
          "height": 17
        },
        "id": "Cmhtj3cUWf8v",
        "outputId": "8003e734-d757-4f5b-ce59-1142069b4291"
      },
      "source": [
        "from google.colab import files\n",
        "nn_model.save(\"neuralNetwork_allY_model.h5\")\n",
        "files.download('neuralNetwork_allY_model.h5')"
      ],
      "execution_count": 18,
      "outputs": [
        {
          "output_type": "display_data",
          "data": {
            "application/javascript": [
              "\n",
              "    async function download(id, filename, size) {\n",
              "      if (!google.colab.kernel.accessAllowed) {\n",
              "        return;\n",
              "      }\n",
              "      const div = document.createElement('div');\n",
              "      const label = document.createElement('label');\n",
              "      label.textContent = `Downloading \"${filename}\": `;\n",
              "      div.appendChild(label);\n",
              "      const progress = document.createElement('progress');\n",
              "      progress.max = size;\n",
              "      div.appendChild(progress);\n",
              "      document.body.appendChild(div);\n",
              "\n",
              "      const buffers = [];\n",
              "      let downloaded = 0;\n",
              "\n",
              "      const channel = await google.colab.kernel.comms.open(id);\n",
              "      // Send a message to notify the kernel that we're ready.\n",
              "      channel.send({})\n",
              "\n",
              "      for await (const message of channel.messages) {\n",
              "        // Send a message to notify the kernel that we're ready.\n",
              "        channel.send({})\n",
              "        if (message.buffers) {\n",
              "          for (const buffer of message.buffers) {\n",
              "            buffers.push(buffer);\n",
              "            downloaded += buffer.byteLength;\n",
              "            progress.value = downloaded;\n",
              "          }\n",
              "        }\n",
              "      }\n",
              "      const blob = new Blob(buffers, {type: 'application/binary'});\n",
              "      const a = document.createElement('a');\n",
              "      a.href = window.URL.createObjectURL(blob);\n",
              "      a.download = filename;\n",
              "      div.appendChild(a);\n",
              "      a.click();\n",
              "      div.remove();\n",
              "    }\n",
              "  "
            ],
            "text/plain": [
              "<IPython.core.display.Javascript object>"
            ]
          },
          "metadata": {}
        },
        {
          "output_type": "display_data",
          "data": {
            "application/javascript": [
              "download(\"download_7c2903cf-24b2-4162-954e-6c82027f068c\", \"neuralNetwork_allY_model.h5\", 4945688)"
            ],
            "text/plain": [
              "<IPython.core.display.Javascript object>"
            ]
          },
          "metadata": {}
        }
      ]
    },
    {
      "cell_type": "markdown",
      "metadata": {
        "id": "VqMrJn-OBJmv"
      },
      "source": [
        "# This model is not suitable. Visual inspection of the predictions shows that it does not perform well despite having reasonable accuracy."
      ]
    }
  ]
}